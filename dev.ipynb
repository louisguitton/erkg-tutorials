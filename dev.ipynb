{
 "cells": [
  {
   "cell_type": "code",
   "execution_count": 74,
   "id": "19a62e59-d459-4caf-b566-e4060c297986",
   "metadata": {
    "execution": {
     "iopub.execute_input": "2024-09-01T11:24:55.029844Z",
     "iopub.status.busy": "2024-09-01T11:24:55.029053Z",
     "iopub.status.idle": "2024-09-01T11:24:55.042816Z",
     "shell.execute_reply": "2024-09-01T11:24:55.039457Z",
     "shell.execute_reply.started": "2024-09-01T11:24:55.029797Z"
    }
   },
   "outputs": [],
   "source": [
    "import requests\n",
    "import spacy\n",
    "from bs4 import BeautifulSoup, SoupStrainer\n",
    "from spacy.tokens import DocBin\n",
    "from spacy import displacy"
   ]
  },
  {
   "cell_type": "code",
   "execution_count": 69,
   "id": "a5c381f0-b1b1-4386-a03a-d816310214a6",
   "metadata": {
    "execution": {
     "iopub.execute_input": "2024-09-01T11:24:05.201216Z",
     "iopub.status.busy": "2024-09-01T11:24:05.199380Z",
     "iopub.status.idle": "2024-09-01T11:24:05.216933Z",
     "shell.execute_reply": "2024-09-01T11:24:05.212477Z",
     "shell.execute_reply.started": "2024-09-01T11:24:05.201117Z"
    }
   },
   "outputs": [],
   "source": [
    "from src.scraper import IcijScraper, SPACY_MODEL"
   ]
  },
  {
   "cell_type": "markdown",
   "id": "abd15595-e1e5-42b4-89e3-66f9054a6774",
   "metadata": {},
   "source": [
    "## load docBin with default NER entities"
   ]
  },
  {
   "cell_type": "code",
   "execution_count": 70,
   "id": "f4d6b761-455f-42b7-9c0c-49f99a98c3b3",
   "metadata": {
    "execution": {
     "iopub.execute_input": "2024-09-01T11:24:07.798152Z",
     "iopub.status.busy": "2024-09-01T11:24:07.797382Z",
     "iopub.status.idle": "2024-09-01T11:24:07.848082Z",
     "shell.execute_reply": "2024-09-01T11:24:07.847636Z",
     "shell.execute_reply.started": "2024-09-01T11:24:07.798109Z"
    }
   },
   "outputs": [],
   "source": [
    "doc_bin = DocBin().from_disk(path=\"data/dataset.spacy\") "
   ]
  },
  {
   "cell_type": "code",
   "execution_count": 71,
   "id": "ac2bf51f-d12f-422b-9455-d741e2329dc8",
   "metadata": {
    "execution": {
     "iopub.execute_input": "2024-09-01T11:24:08.646342Z",
     "iopub.status.busy": "2024-09-01T11:24:08.642450Z",
     "iopub.status.idle": "2024-09-01T11:24:08.681562Z",
     "shell.execute_reply": "2024-09-01T11:24:08.670816Z",
     "shell.execute_reply.started": "2024-09-01T11:24:08.646264Z"
    }
   },
   "outputs": [
    {
     "data": {
      "text/plain": [
       "2"
      ]
     },
     "execution_count": 71,
     "metadata": {},
     "output_type": "execute_result"
    }
   ],
   "source": [
    "len(doc_bin)"
   ]
  },
  {
   "cell_type": "code",
   "execution_count": 80,
   "id": "76623c98-28b4-4c69-a356-17e9148ddb42",
   "metadata": {
    "execution": {
     "iopub.execute_input": "2024-09-01T11:33:51.029465Z",
     "iopub.status.busy": "2024-09-01T11:33:51.029054Z",
     "iopub.status.idle": "2024-09-01T11:33:51.915134Z",
     "shell.execute_reply": "2024-09-01T11:33:51.914729Z",
     "shell.execute_reply.started": "2024-09-01T11:33:51.029433Z"
    }
   },
   "outputs": [],
   "source": [
    "scrape_nlp: spacy.Language = spacy.load(SPACY_MODEL)"
   ]
  },
  {
   "cell_type": "code",
   "execution_count": 81,
   "id": "3f71a1a1-67c6-4345-b025-469c0877bee7",
   "metadata": {
    "execution": {
     "iopub.execute_input": "2024-09-01T11:33:54.625210Z",
     "iopub.status.busy": "2024-09-01T11:33:54.624322Z",
     "iopub.status.idle": "2024-09-01T11:33:54.667658Z",
     "shell.execute_reply": "2024-09-01T11:33:54.667054Z",
     "shell.execute_reply.started": "2024-09-01T11:33:54.625165Z"
    }
   },
   "outputs": [],
   "source": [
    "docs = list(doc_bin.get_docs(scrape_nlp.vocab))"
   ]
  },
  {
   "cell_type": "code",
   "execution_count": 82,
   "id": "cfd9b3b8-53c8-4d1c-a28e-77d1fa46be64",
   "metadata": {
    "execution": {
     "iopub.execute_input": "2024-09-01T11:33:55.663603Z",
     "iopub.status.busy": "2024-09-01T11:33:55.660561Z",
     "iopub.status.idle": "2024-09-01T11:33:55.679677Z",
     "shell.execute_reply": "2024-09-01T11:33:55.679209Z",
     "shell.execute_reply.started": "2024-09-01T11:33:55.663544Z"
    },
    "scrolled": true
   },
   "outputs": [
    {
     "data": {
      "text/html": [
       "<span class=\"tex2jax_ignore\"><div class=\"entities\" style=\"line-height: 2.5; direction: ltr\">Secret real estate purchases are a driving force behind the offshore economy.<br>No longer content with \n",
       "<mark class=\"entity\" style=\"background: #feca74; padding: 0.45em 0.6em; margin: 0 0.25em; line-height: 1; border-radius: 0.35em;\">\n",
       "    Miami\n",
       "    <span style=\"font-size: 0.8em; font-weight: bold; line-height: 1; border-radius: 0.35em; vertical-align: middle; margin-left: 0.5rem\">GPE</span>\n",
       "</mark>\n",
       " condos and \n",
       "<mark class=\"entity\" style=\"background: #feca74; padding: 0.45em 0.6em; margin: 0 0.25em; line-height: 1; border-radius: 0.35em;\">\n",
       "    London\n",
       "    <span style=\"font-size: 0.8em; font-weight: bold; line-height: 1; border-radius: 0.35em; vertical-align: middle; margin-left: 0.5rem\">GPE</span>\n",
       "</mark>\n",
       " townhouses, investors are pouring money into properties in all corners of the world, fueling inequality and driving up prices, \n",
       "<mark class=\"entity\" style=\"background: #7aecec; padding: 0.45em 0.6em; margin: 0 0.25em; line-height: 1; border-radius: 0.35em;\">\n",
       "    Pandora Papers\n",
       "    <span style=\"font-size: 0.8em; font-weight: bold; line-height: 1; border-radius: 0.35em; vertical-align: middle; margin-left: 0.5rem\">ORG</span>\n",
       "</mark>\n",
       " investigation reveals.<br>\n",
       "<mark class=\"entity\" style=\"background: #7aecec; padding: 0.45em 0.6em; margin: 0 0.25em; line-height: 1; border-radius: 0.35em;\">\n",
       "    Leaked\n",
       "    <span style=\"font-size: 0.8em; font-weight: bold; line-height: 1; border-radius: 0.35em; vertical-align: middle; margin-left: 0.5rem\">ORG</span>\n",
       "</mark>\n",
       " documents show that \n",
       "<mark class=\"entity\" style=\"background: #c887fb; padding: 0.45em 0.6em; margin: 0 0.25em; line-height: 1; border-radius: 0.35em;\">\n",
       "    Spanish\n",
       "    <span style=\"font-size: 0.8em; font-weight: bold; line-height: 1; border-radius: 0.35em; vertical-align: middle; margin-left: 0.5rem\">NORP</span>\n",
       "</mark>\n",
       " singer \n",
       "<mark class=\"entity\" style=\"background: #aa9cfc; padding: 0.45em 0.6em; margin: 0 0.25em; line-height: 1; border-radius: 0.35em;\">\n",
       "    Julio Iglesias\n",
       "    <span style=\"font-size: 0.8em; font-weight: bold; line-height: 1; border-radius: 0.35em; vertical-align: middle; margin-left: 0.5rem\">PERSON</span>\n",
       "</mark>\n",
       " owned properties in greater \n",
       "<mark class=\"entity\" style=\"background: #feca74; padding: 0.45em 0.6em; margin: 0 0.25em; line-height: 1; border-radius: 0.35em;\">\n",
       "    Miami\n",
       "    <span style=\"font-size: 0.8em; font-weight: bold; line-height: 1; border-radius: 0.35em; vertical-align: middle; margin-left: 0.5rem\">GPE</span>\n",
       "</mark>\n",
       "’s \n",
       "<mark class=\"entity\" style=\"background: #ff9561; padding: 0.45em 0.6em; margin: 0 0.25em; line-height: 1; border-radius: 0.35em;\">\n",
       "    Indian Creek Village\n",
       "    <span style=\"font-size: 0.8em; font-weight: bold; line-height: 1; border-radius: 0.35em; vertical-align: middle; margin-left: 0.5rem\">LOC</span>\n",
       "</mark>\n",
       ", which has become known as \n",
       "<mark class=\"entity\" style=\"background: #bfeeb7; padding: 0.45em 0.6em; margin: 0 0.25em; line-height: 1; border-radius: 0.35em;\">\n",
       "    Billionaire’s Bunker\n",
       "    <span style=\"font-size: 0.8em; font-weight: bold; line-height: 1; border-radius: 0.35em; vertical-align: middle; margin-left: 0.5rem\">PRODUCT</span>\n",
       "</mark>\n",
       " or Billionaire’s \n",
       "<mark class=\"entity\" style=\"background: #ff9561; padding: 0.45em 0.6em; margin: 0 0.25em; line-height: 1; border-radius: 0.35em;\">\n",
       "    Island\n",
       "    <span style=\"font-size: 0.8em; font-weight: bold; line-height: 1; border-radius: 0.35em; vertical-align: middle; margin-left: 0.5rem\">LOC</span>\n",
       "</mark>\n",
       ".<br>What do a \n",
       "<mark class=\"entity\" style=\"background: #aa9cfc; padding: 0.45em 0.6em; margin: 0 0.25em; line-height: 1; border-radius: 0.35em;\">\n",
       "    Beatle\n",
       "    <span style=\"font-size: 0.8em; font-weight: bold; line-height: 1; border-radius: 0.35em; vertical-align: middle; margin-left: 0.5rem\">PERSON</span>\n",
       "</mark>\n",
       ", an autocrat’s daughter and a scandal-plagued \n",
       "<mark class=\"entity\" style=\"background: #c887fb; padding: 0.45em 0.6em; margin: 0 0.25em; line-height: 1; border-radius: 0.35em;\">\n",
       "    Catholic\n",
       "    <span style=\"font-size: 0.8em; font-weight: bold; line-height: 1; border-radius: 0.35em; vertical-align: middle; margin-left: 0.5rem\">NORP</span>\n",
       "</mark>\n",
       " order have in common? Each made \n",
       "<mark class=\"entity\" style=\"background: #e4e7d2; padding: 0.45em 0.6em; margin: 0 0.25em; line-height: 1; border-radius: 0.35em;\">\n",
       "    multimillion-dollar\n",
       "    <span style=\"font-size: 0.8em; font-weight: bold; line-height: 1; border-radius: 0.35em; vertical-align: middle; margin-left: 0.5rem\">MONEY</span>\n",
       "</mark>\n",
       " investments in real estate through offshore companies or trusts that disguised the property’s ownership.<br>For \n",
       "<mark class=\"entity\" style=\"background: #aa9cfc; padding: 0.45em 0.6em; margin: 0 0.25em; line-height: 1; border-radius: 0.35em;\">\n",
       "    Beatles\n",
       "    <span style=\"font-size: 0.8em; font-weight: bold; line-height: 1; border-radius: 0.35em; vertical-align: middle; margin-left: 0.5rem\">PERSON</span>\n",
       "</mark>\n",
       " drummer \n",
       "<mark class=\"entity\" style=\"background: #aa9cfc; padding: 0.45em 0.6em; margin: 0 0.25em; line-height: 1; border-radius: 0.35em;\">\n",
       "    Ringo Starr\n",
       "    <span style=\"font-size: 0.8em; font-weight: bold; line-height: 1; border-radius: 0.35em; vertical-align: middle; margin-left: 0.5rem\">PERSON</span>\n",
       "</mark>\n",
       ", the property in question was a \n",
       "<mark class=\"entity\" style=\"background: #feca74; padding: 0.45em 0.6em; margin: 0 0.25em; line-height: 1; border-radius: 0.35em;\">\n",
       "    Los Angeles\n",
       "    <span style=\"font-size: 0.8em; font-weight: bold; line-height: 1; border-radius: 0.35em; vertical-align: middle; margin-left: 0.5rem\">GPE</span>\n",
       "</mark>\n",
       " mansion. \n",
       "<mark class=\"entity\" style=\"background: #aa9cfc; padding: 0.45em 0.6em; margin: 0 0.25em; line-height: 1; border-radius: 0.35em;\">\n",
       "    Arzu Aliyeva\n",
       "    <span style=\"font-size: 0.8em; font-weight: bold; line-height: 1; border-radius: 0.35em; vertical-align: middle; margin-left: 0.5rem\">PERSON</span>\n",
       "</mark>\n",
       ", daughter of \n",
       "<mark class=\"entity\" style=\"background: #feca74; padding: 0.45em 0.6em; margin: 0 0.25em; line-height: 1; border-radius: 0.35em;\">\n",
       "    Azerbaijan\n",
       "    <span style=\"font-size: 0.8em; font-weight: bold; line-height: 1; border-radius: 0.35em; vertical-align: middle; margin-left: 0.5rem\">GPE</span>\n",
       "</mark>\n",
       "’s president, purchased a \n",
       "<mark class=\"entity\" style=\"background: #feca74; padding: 0.45em 0.6em; margin: 0 0.25em; line-height: 1; border-radius: 0.35em;\">\n",
       "    London\n",
       "    <span style=\"font-size: 0.8em; font-weight: bold; line-height: 1; border-radius: 0.35em; vertical-align: middle; margin-left: 0.5rem\">GPE</span>\n",
       "</mark>\n",
       " office building. \n",
       "<mark class=\"entity\" style=\"background: #7aecec; padding: 0.45em 0.6em; margin: 0 0.25em; line-height: 1; border-radius: 0.35em;\">\n",
       "    The Legion of Christ\n",
       "    <span style=\"font-size: 0.8em; font-weight: bold; line-height: 1; border-radius: 0.35em; vertical-align: middle; margin-left: 0.5rem\">ORG</span>\n",
       "</mark>\n",
       ", a wealthy religious order disgraced by a sexual abuse scandal, poured \n",
       "<mark class=\"entity\" style=\"background: #e4e7d2; padding: 0.45em 0.6em; margin: 0 0.25em; line-height: 1; border-radius: 0.35em;\">\n",
       "    millions of dollars\n",
       "    <span style=\"font-size: 0.8em; font-weight: bold; line-height: 1; border-radius: 0.35em; vertical-align: middle; margin-left: 0.5rem\">MONEY</span>\n",
       "</mark>\n",
       " into rental properties across \n",
       "<mark class=\"entity\" style=\"background: #feca74; padding: 0.45em 0.6em; margin: 0 0.25em; line-height: 1; border-radius: 0.35em;\">\n",
       "    the United States\n",
       "    <span style=\"font-size: 0.8em; font-weight: bold; line-height: 1; border-radius: 0.35em; vertical-align: middle; margin-left: 0.5rem\">GPE</span>\n",
       "</mark>\n",
       ".<br>\n",
       "<mark class=\"entity\" style=\"background: #aa9cfc; padding: 0.45em 0.6em; margin: 0 0.25em; line-height: 1; border-radius: 0.35em;\">\n",
       "    Starr\n",
       "    <span style=\"font-size: 0.8em; font-weight: bold; line-height: 1; border-radius: 0.35em; vertical-align: middle; margin-left: 0.5rem\">PERSON</span>\n",
       "</mark>\n",
       ", \n",
       "<mark class=\"entity\" style=\"background: #aa9cfc; padding: 0.45em 0.6em; margin: 0 0.25em; line-height: 1; border-radius: 0.35em;\">\n",
       "    Aliyeva\n",
       "    <span style=\"font-size: 0.8em; font-weight: bold; line-height: 1; border-radius: 0.35em; vertical-align: middle; margin-left: 0.5rem\">PERSON</span>\n",
       "</mark>\n",
       " and the Legion are among \n",
       "<mark class=\"entity\" style=\"background: #e4e7d2; padding: 0.45em 0.6em; margin: 0 0.25em; line-height: 1; border-radius: 0.35em;\">\n",
       "    hundreds\n",
       "    <span style=\"font-size: 0.8em; font-weight: bold; line-height: 1; border-radius: 0.35em; vertical-align: middle; margin-left: 0.5rem\">CARDINAL</span>\n",
       "</mark>\n",
       " of real estate owners or investors whose identities are revealed in \n",
       "<mark class=\"entity\" style=\"background: #ffeb80; padding: 0.45em 0.6em; margin: 0 0.25em; line-height: 1; border-radius: 0.35em;\">\n",
       "    the Pandora Papers\n",
       "    <span style=\"font-size: 0.8em; font-weight: bold; line-height: 1; border-radius: 0.35em; vertical-align: middle; margin-left: 0.5rem\">EVENT</span>\n",
       "</mark>\n",
       ", a massive cache of records that gave rise to a global investigation led by \n",
       "<mark class=\"entity\" style=\"background: #7aecec; padding: 0.45em 0.6em; margin: 0 0.25em; line-height: 1; border-radius: 0.35em;\">\n",
       "    the International Consortium of Investigative Journalists\n",
       "    <span style=\"font-size: 0.8em; font-weight: bold; line-height: 1; border-radius: 0.35em; vertical-align: middle; margin-left: 0.5rem\">ORG</span>\n",
       "</mark>\n",
       ".<br>\n",
       "<mark class=\"entity\" style=\"background: #aa9cfc; padding: 0.45em 0.6em; margin: 0 0.25em; line-height: 1; border-radius: 0.35em;\">\n",
       "    Starr\n",
       "    <span style=\"font-size: 0.8em; font-weight: bold; line-height: 1; border-radius: 0.35em; vertical-align: middle; margin-left: 0.5rem\">PERSON</span>\n",
       "</mark>\n",
       " and \n",
       "<mark class=\"entity\" style=\"background: #aa9cfc; padding: 0.45em 0.6em; margin: 0 0.25em; line-height: 1; border-radius: 0.35em;\">\n",
       "    Aliyeva\n",
       "    <span style=\"font-size: 0.8em; font-weight: bold; line-height: 1; border-radius: 0.35em; vertical-align: middle; margin-left: 0.5rem\">PERSON</span>\n",
       "</mark>\n",
       " did not comment on these findings. In statements to \n",
       "<mark class=\"entity\" style=\"background: #7aecec; padding: 0.45em 0.6em; margin: 0 0.25em; line-height: 1; border-radius: 0.35em;\">\n",
       "    ICIJ\n",
       "    <span style=\"font-size: 0.8em; font-weight: bold; line-height: 1; border-radius: 0.35em; vertical-align: middle; margin-left: 0.5rem\">ORG</span>\n",
       "</mark>\n",
       ", the \n",
       "<mark class=\"entity\" style=\"background: #7aecec; padding: 0.45em 0.6em; margin: 0 0.25em; line-height: 1; border-radius: 0.35em;\">\n",
       "    Legion\n",
       "    <span style=\"font-size: 0.8em; font-weight: bold; line-height: 1; border-radius: 0.35em; vertical-align: middle; margin-left: 0.5rem\">ORG</span>\n",
       "</mark>\n",
       " acknowledged that it had set up \n",
       "<mark class=\"entity\" style=\"background: #e4e7d2; padding: 0.45em 0.6em; margin: 0 0.25em; line-height: 1; border-radius: 0.35em;\">\n",
       "    one\n",
       "    <span style=\"font-size: 0.8em; font-weight: bold; line-height: 1; border-radius: 0.35em; vertical-align: middle; margin-left: 0.5rem\">CARDINAL</span>\n",
       "</mark>\n",
       " offshore trust identified in the leaked files but said it had no knowledge of \n",
       "<mark class=\"entity\" style=\"background: #e4e7d2; padding: 0.45em 0.6em; margin: 0 0.25em; line-height: 1; border-radius: 0.35em;\">\n",
       "    two\n",
       "    <span style=\"font-size: 0.8em; font-weight: bold; line-height: 1; border-radius: 0.35em; vertical-align: middle; margin-left: 0.5rem\">CARDINAL</span>\n",
       "</mark>\n",
       " others.<br>The leaked records expose \n",
       "<mark class=\"entity\" style=\"background: #e4e7d2; padding: 0.45em 0.6em; margin: 0 0.25em; line-height: 1; border-radius: 0.35em;\">\n",
       "    billions of dollars\n",
       "    <span style=\"font-size: 0.8em; font-weight: bold; line-height: 1; border-radius: 0.35em; vertical-align: middle; margin-left: 0.5rem\">MONEY</span>\n",
       "</mark>\n",
       " of spending by the rich and famous — celebrities and politicians, oligarchs and other members of the uber-rich. And they’re buying not only luxury real estate but also properties not typically associated with offshore purchases. Dairy farms in \n",
       "<mark class=\"entity\" style=\"background: #feca74; padding: 0.45em 0.6em; margin: 0 0.25em; line-height: 1; border-radius: 0.35em;\">\n",
       "    Tasmania\n",
       "    <span style=\"font-size: 0.8em; font-weight: bold; line-height: 1; border-radius: 0.35em; vertical-align: middle; margin-left: 0.5rem\">GPE</span>\n",
       "</mark>\n",
       ", a shopping mall in \n",
       "<mark class=\"entity\" style=\"background: #feca74; padding: 0.45em 0.6em; margin: 0 0.25em; line-height: 1; border-radius: 0.35em;\">\n",
       "    Uganda\n",
       "    <span style=\"font-size: 0.8em; font-weight: bold; line-height: 1; border-radius: 0.35em; vertical-align: middle; margin-left: 0.5rem\">GPE</span>\n",
       "</mark>\n",
       " and rental homes in \n",
       "<mark class=\"entity\" style=\"background: #c887fb; padding: 0.45em 0.6em; margin: 0 0.25em; line-height: 1; border-radius: 0.35em;\">\n",
       "    American\n",
       "    <span style=\"font-size: 0.8em; font-weight: bold; line-height: 1; border-radius: 0.35em; vertical-align: middle; margin-left: 0.5rem\">NORP</span>\n",
       "</mark>\n",
       " suburbs have all been bought directly or indirectly through offshore companies or trusts, the records show.<br>\n",
       "<mark class=\"entity\" style=\"background: #e4e7d2; padding: 0.45em 0.6em; margin: 0 0.25em; line-height: 1; border-radius: 0.35em;\">\n",
       "    Hundreds\n",
       "    <span style=\"font-size: 0.8em; font-weight: bold; line-height: 1; border-radius: 0.35em; vertical-align: middle; margin-left: 0.5rem\">CARDINAL</span>\n",
       "</mark>\n",
       " of companies in the Pandora Papers files listed owning real estate as a purpose. \n",
       "<mark class=\"entity\" style=\"background: #7aecec; padding: 0.45em 0.6em; margin: 0 0.25em; line-height: 1; border-radius: 0.35em;\">\n",
       "    ICIJ\n",
       "    <span style=\"font-size: 0.8em; font-weight: bold; line-height: 1; border-radius: 0.35em; vertical-align: middle; margin-left: 0.5rem\">ORG</span>\n",
       "</mark>\n",
       " analysis found politicians who used offshore companies to own properties in \n",
       "<mark class=\"entity\" style=\"background: #e4e7d2; padding: 0.45em 0.6em; margin: 0 0.25em; line-height: 1; border-radius: 0.35em;\">\n",
       "    more than 10\n",
       "    <span style=\"font-size: 0.8em; font-weight: bold; line-height: 1; border-radius: 0.35em; vertical-align: middle; margin-left: 0.5rem\">CARDINAL</span>\n",
       "</mark>\n",
       " countries, including \n",
       "<mark class=\"entity\" style=\"background: #feca74; padding: 0.45em 0.6em; margin: 0 0.25em; line-height: 1; border-radius: 0.35em;\">\n",
       "    the United Kingdom\n",
       "    <span style=\"font-size: 0.8em; font-weight: bold; line-height: 1; border-radius: 0.35em; vertical-align: middle; margin-left: 0.5rem\">GPE</span>\n",
       "</mark>\n",
       ", \n",
       "<mark class=\"entity\" style=\"background: #feca74; padding: 0.45em 0.6em; margin: 0 0.25em; line-height: 1; border-radius: 0.35em;\">\n",
       "    the United States\n",
       "    <span style=\"font-size: 0.8em; font-weight: bold; line-height: 1; border-radius: 0.35em; vertical-align: middle; margin-left: 0.5rem\">GPE</span>\n",
       "</mark>\n",
       ", \n",
       "<mark class=\"entity\" style=\"background: #feca74; padding: 0.45em 0.6em; margin: 0 0.25em; line-height: 1; border-radius: 0.35em;\">\n",
       "    France\n",
       "    <span style=\"font-size: 0.8em; font-weight: bold; line-height: 1; border-radius: 0.35em; vertical-align: middle; margin-left: 0.5rem\">GPE</span>\n",
       "</mark>\n",
       ", \n",
       "<mark class=\"entity\" style=\"background: #feca74; padding: 0.45em 0.6em; margin: 0 0.25em; line-height: 1; border-radius: 0.35em;\">\n",
       "    Monaco\n",
       "    <span style=\"font-size: 0.8em; font-weight: bold; line-height: 1; border-radius: 0.35em; vertical-align: middle; margin-left: 0.5rem\">GPE</span>\n",
       "</mark>\n",
       ", \n",
       "<mark class=\"entity\" style=\"background: #feca74; padding: 0.45em 0.6em; margin: 0 0.25em; line-height: 1; border-radius: 0.35em;\">\n",
       "    Barbados\n",
       "    <span style=\"font-size: 0.8em; font-weight: bold; line-height: 1; border-radius: 0.35em; vertical-align: middle; margin-left: 0.5rem\">GPE</span>\n",
       "</mark>\n",
       ", and \n",
       "<mark class=\"entity\" style=\"background: #feca74; padding: 0.45em 0.6em; margin: 0 0.25em; line-height: 1; border-radius: 0.35em;\">\n",
       "    Italy\n",
       "    <span style=\"font-size: 0.8em; font-weight: bold; line-height: 1; border-radius: 0.35em; vertical-align: middle; margin-left: 0.5rem\">GPE</span>\n",
       "</mark>\n",
       ". The owners included \n",
       "<mark class=\"entity\" style=\"background: #aa9cfc; padding: 0.45em 0.6em; margin: 0 0.25em; line-height: 1; border-radius: 0.35em;\">\n",
       "    King Abdullah\n",
       "    <span style=\"font-size: 0.8em; font-weight: bold; line-height: 1; border-radius: 0.35em; vertical-align: middle; margin-left: 0.5rem\">PERSON</span>\n",
       "</mark>\n",
       " of \n",
       "<mark class=\"entity\" style=\"background: #feca74; padding: 0.45em 0.6em; margin: 0 0.25em; line-height: 1; border-radius: 0.35em;\">\n",
       "    Jordan\n",
       "    <span style=\"font-size: 0.8em; font-weight: bold; line-height: 1; border-radius: 0.35em; vertical-align: middle; margin-left: 0.5rem\">GPE</span>\n",
       "</mark>\n",
       " and the prime ministers of \n",
       "<mark class=\"entity\" style=\"background: #feca74; padding: 0.45em 0.6em; margin: 0 0.25em; line-height: 1; border-radius: 0.35em;\">\n",
       "    the Czech Republic\n",
       "    <span style=\"font-size: 0.8em; font-weight: bold; line-height: 1; border-radius: 0.35em; vertical-align: middle; margin-left: 0.5rem\">GPE</span>\n",
       "</mark>\n",
       " and \n",
       "<mark class=\"entity\" style=\"background: #feca74; padding: 0.45em 0.6em; margin: 0 0.25em; line-height: 1; border-radius: 0.35em;\">\n",
       "    Lebanon\n",
       "    <span style=\"font-size: 0.8em; font-weight: bold; line-height: 1; border-radius: 0.35em; vertical-align: middle; margin-left: 0.5rem\">GPE</span>\n",
       "</mark>\n",
       ". \n",
       "<mark class=\"entity\" style=\"background: #aa9cfc; padding: 0.45em 0.6em; margin: 0 0.25em; line-height: 1; border-radius: 0.35em;\">\n",
       "    King Abdullah\n",
       "    <span style=\"font-size: 0.8em; font-weight: bold; line-height: 1; border-radius: 0.35em; vertical-align: middle; margin-left: 0.5rem\">PERSON</span>\n",
       "</mark>\n",
       " and the \n",
       "<mark class=\"entity\" style=\"background: #c887fb; padding: 0.45em 0.6em; margin: 0 0.25em; line-height: 1; border-radius: 0.35em;\">\n",
       "    Czech\n",
       "    <span style=\"font-size: 0.8em; font-weight: bold; line-height: 1; border-radius: 0.35em; vertical-align: middle; margin-left: 0.5rem\">NORP</span>\n",
       "</mark>\n",
       " prime minister have denied wrongdoing.<br>Real estate is a stable investment that often appreciates in value. By purchasing property through a shell company, buyers can secure tax breaks and shield their identities from law enforcement authorities and creditors.<br>\n",
       "<mark class=\"entity\" style=\"background: #7aecec; padding: 0.45em 0.6em; margin: 0 0.25em; line-height: 1; border-radius: 0.35em;\">\n",
       "    Secrecy\n",
       "    <span style=\"font-size: 0.8em; font-weight: bold; line-height: 1; border-radius: 0.35em; vertical-align: middle; margin-left: 0.5rem\">ORG</span>\n",
       "</mark>\n",
       " also empowers criminals, including money launderers and drug cartels.Their trade in real estate through offshore companies moves \n",
       "<mark class=\"entity\" style=\"background: #e4e7d2; padding: 0.45em 0.6em; margin: 0 0.25em; line-height: 1; border-radius: 0.35em;\">\n",
       "    millions of dollars\n",
       "    <span style=\"font-size: 0.8em; font-weight: bold; line-height: 1; border-radius: 0.35em; vertical-align: middle; margin-left: 0.5rem\">MONEY</span>\n",
       "</mark>\n",
       " while avoiding scrutiny. In \n",
       "<mark class=\"entity\" style=\"background: #feca74; padding: 0.45em 0.6em; margin: 0 0.25em; line-height: 1; border-radius: 0.35em;\">\n",
       "    the United Kingdom\n",
       "    <span style=\"font-size: 0.8em; font-weight: bold; line-height: 1; border-radius: 0.35em; vertical-align: middle; margin-left: 0.5rem\">GPE</span>\n",
       "</mark>\n",
       ", a director of \n",
       "<mark class=\"entity\" style=\"background: #7aecec; padding: 0.45em 0.6em; margin: 0 0.25em; line-height: 1; border-radius: 0.35em;\">\n",
       "    the National Crime Agency\n",
       "    <span style=\"font-size: 0.8em; font-weight: bold; line-height: 1; border-radius: 0.35em; vertical-align: middle; margin-left: 0.5rem\">ORG</span>\n",
       "</mark>\n",
       " said he believed that dirty money had “skewed” \n",
       "<mark class=\"entity\" style=\"background: #feca74; padding: 0.45em 0.6em; margin: 0 0.25em; line-height: 1; border-radius: 0.35em;\">\n",
       "    London\n",
       "    <span style=\"font-size: 0.8em; font-weight: bold; line-height: 1; border-radius: 0.35em; vertical-align: middle; margin-left: 0.5rem\">GPE</span>\n",
       "</mark>\n",
       "’s property market.<br>The combination of asset security and secrecy has also made offshore holdings a haven for money and other assets from less stable economies. A growing body of evidence suggests that offshore purchases at the high end of the real estate market have a ripple effect, pricing out people lower down the property ladder.<br>In the \n",
       "<mark class=\"entity\" style=\"background: #feca74; padding: 0.45em 0.6em; margin: 0 0.25em; line-height: 1; border-radius: 0.35em;\">\n",
       "    U.K.\n",
       "    <span style=\"font-size: 0.8em; font-weight: bold; line-height: 1; border-radius: 0.35em; vertical-align: middle; margin-left: 0.5rem\">GPE</span>\n",
       "</mark>\n",
       " alone, \n",
       "<mark class=\"entity\" style=\"background: #7aecec; padding: 0.45em 0.6em; margin: 0 0.25em; line-height: 1; border-radius: 0.35em;\">\n",
       "    the Pandora Papers\n",
       "    <span style=\"font-size: 0.8em; font-weight: bold; line-height: 1; border-radius: 0.35em; vertical-align: middle; margin-left: 0.5rem\">ORG</span>\n",
       "</mark>\n",
       " reveal the beneficial owners of \n",
       "<mark class=\"entity\" style=\"background: #e4e7d2; padding: 0.45em 0.6em; margin: 0 0.25em; line-height: 1; border-radius: 0.35em;\">\n",
       "    an estimated $5 billion\n",
       "    <span style=\"font-size: 0.8em; font-weight: bold; line-height: 1; border-radius: 0.35em; vertical-align: middle; margin-left: 0.5rem\">MONEY</span>\n",
       "</mark>\n",
       " of property, much of it in \n",
       "<mark class=\"entity\" style=\"background: #feca74; padding: 0.45em 0.6em; margin: 0 0.25em; line-height: 1; border-radius: 0.35em;\">\n",
       "    London\n",
       "    <span style=\"font-size: 0.8em; font-weight: bold; line-height: 1; border-radius: 0.35em; vertical-align: middle; margin-left: 0.5rem\">GPE</span>\n",
       "</mark>\n",
       ", where \n",
       "<mark class=\"entity\" style=\"background: #e4e7d2; padding: 0.45em 0.6em; margin: 0 0.25em; line-height: 1; border-radius: 0.35em;\">\n",
       "    more than 36,000\n",
       "    <span style=\"font-size: 0.8em; font-weight: bold; line-height: 1; border-radius: 0.35em; vertical-align: middle; margin-left: 0.5rem\">CARDINAL</span>\n",
       "</mark>\n",
       " properties are owned through offshore companies.<br>The leaked records reveal a small fraction of the homes, hotels, factories and other properties owned worldwide through companies and trusts set up in tax havens. \n",
       "<mark class=\"entity\" style=\"background: #e4e7d2; padding: 0.45em 0.6em; margin: 0 0.25em; line-height: 1; border-radius: 0.35em;\">\n",
       "    One\n",
       "    <span style=\"font-size: 0.8em; font-weight: bold; line-height: 1; border-radius: 0.35em; vertical-align: middle; margin-left: 0.5rem\">CARDINAL</span>\n",
       "</mark>\n",
       " recent study estimated that real estate worth \n",
       "<mark class=\"entity\" style=\"background: #e4e7d2; padding: 0.45em 0.6em; margin: 0 0.25em; line-height: 1; border-radius: 0.35em;\">\n",
       "    between $5 trillion and $10 trillion\n",
       "    <span style=\"font-size: 0.8em; font-weight: bold; line-height: 1; border-radius: 0.35em; vertical-align: middle; margin-left: 0.5rem\">MONEY</span>\n",
       "</mark>\n",
       " — or about as much as the total wealth of \n",
       "<mark class=\"entity\" style=\"background: #feca74; padding: 0.45em 0.6em; margin: 0 0.25em; line-height: 1; border-radius: 0.35em;\">\n",
       "    Spain\n",
       "    <span style=\"font-size: 0.8em; font-weight: bold; line-height: 1; border-radius: 0.35em; vertical-align: middle; margin-left: 0.5rem\">GPE</span>\n",
       "</mark>\n",
       " — could be owned through offshore vehicles.<br>“Whether people are hiding from the tax authorities or law enforcement, or from the scrutiny of a trusting public, these transactions are about obtaining impunity,” said \n",
       "<mark class=\"entity\" style=\"background: #aa9cfc; padding: 0.45em 0.6em; margin: 0 0.25em; line-height: 1; border-radius: 0.35em;\">\n",
       "    Alex Cobham\n",
       "    <span style=\"font-size: 0.8em; font-weight: bold; line-height: 1; border-radius: 0.35em; vertical-align: middle; margin-left: 0.5rem\">PERSON</span>\n",
       "</mark>\n",
       ", head of \n",
       "<mark class=\"entity\" style=\"background: #7aecec; padding: 0.45em 0.6em; margin: 0 0.25em; line-height: 1; border-radius: 0.35em;\">\n",
       "    the Tax Justice Network\n",
       "    <span style=\"font-size: 0.8em; font-weight: bold; line-height: 1; border-radius: 0.35em; vertical-align: middle; margin-left: 0.5rem\">ORG</span>\n",
       "</mark>\n",
       ", a tax fairness advocacy group.<br>The Pandora Papers are based on a leak of \n",
       "<mark class=\"entity\" style=\"background: #e4e7d2; padding: 0.45em 0.6em; margin: 0 0.25em; line-height: 1; border-radius: 0.35em;\">\n",
       "    nearly 12 million\n",
       "    <span style=\"font-size: 0.8em; font-weight: bold; line-height: 1; border-radius: 0.35em; vertical-align: middle; margin-left: 0.5rem\">CARDINAL</span>\n",
       "</mark>\n",
       " records from \n",
       "<mark class=\"entity\" style=\"background: #e4e7d2; padding: 0.45em 0.6em; margin: 0 0.25em; line-height: 1; border-radius: 0.35em;\">\n",
       "    14\n",
       "    <span style=\"font-size: 0.8em; font-weight: bold; line-height: 1; border-radius: 0.35em; vertical-align: middle; margin-left: 0.5rem\">CARDINAL</span>\n",
       "</mark>\n",
       " offshore service providers. Some of those providers explicitly pitch the use of offshore companies to buy real estate as a tax-avoidance technique.<br>According to \n",
       "<mark class=\"entity\" style=\"background: #feca74; padding: 0.45em 0.6em; margin: 0 0.25em; line-height: 1; border-radius: 0.35em;\">\n",
       "    Geneva\n",
       "    <span style=\"font-size: 0.8em; font-weight: bold; line-height: 1; border-radius: 0.35em; vertical-align: middle; margin-left: 0.5rem\">GPE</span>\n",
       "</mark>\n",
       "-based SFM, which specializes in offshore company formation, owning property through an offshore shell company “enables the beneficial owner(s) to enjoy an improved tax-regime and reduce many of the costs associated with investing in property abroad.” Inheritance taxes, withholding taxes, taxes on land sales and capital gains taxes can all be reduced or eliminated, SFM says on its website.<br>\n",
       "<mark class=\"entity\" style=\"background: #7aecec; padding: 0.45em 0.6em; margin: 0 0.25em; line-height: 1; border-radius: 0.35em;\">\n",
       "    Leaked\n",
       "    <span style=\"font-size: 0.8em; font-weight: bold; line-height: 1; border-radius: 0.35em; vertical-align: middle; margin-left: 0.5rem\">ORG</span>\n",
       "</mark>\n",
       " documents show that music superstar \n",
       "<mark class=\"entity\" style=\"background: #aa9cfc; padding: 0.45em 0.6em; margin: 0 0.25em; line-height: 1; border-radius: 0.35em;\">\n",
       "    Julio Iglesias\n",
       "    <span style=\"font-size: 0.8em; font-weight: bold; line-height: 1; border-radius: 0.35em; vertical-align: middle; margin-left: 0.5rem\">PERSON</span>\n",
       "</mark>\n",
       " owns \n",
       "<mark class=\"entity\" style=\"background: #e4e7d2; padding: 0.45em 0.6em; margin: 0 0.25em; line-height: 1; border-radius: 0.35em;\">\n",
       "    several multimillion-dollar\n",
       "    <span style=\"font-size: 0.8em; font-weight: bold; line-height: 1; border-radius: 0.35em; vertical-align: middle; margin-left: 0.5rem\">MONEY</span>\n",
       "</mark>\n",
       " properties in \n",
       "<mark class=\"entity\" style=\"background: #feca74; padding: 0.45em 0.6em; margin: 0 0.25em; line-height: 1; border-radius: 0.35em;\">\n",
       "    Miami\n",
       "    <span style=\"font-size: 0.8em; font-weight: bold; line-height: 1; border-radius: 0.35em; vertical-align: middle; margin-left: 0.5rem\">GPE</span>\n",
       "</mark>\n",
       " through offshore companies. The \n",
       "<mark class=\"entity\" style=\"background: #feca74; padding: 0.45em 0.6em; margin: 0 0.25em; line-height: 1; border-radius: 0.35em;\">\n",
       "    Florida\n",
       "    <span style=\"font-size: 0.8em; font-weight: bold; line-height: 1; border-radius: 0.35em; vertical-align: middle; margin-left: 0.5rem\">GPE</span>\n",
       "</mark>\n",
       " attorney listed as the contact for those firms was unequivocal about tax advantages of such structures for clients who are neither \n",
       "<mark class=\"entity\" style=\"background: #feca74; padding: 0.45em 0.6em; margin: 0 0.25em; line-height: 1; border-radius: 0.35em;\">\n",
       "    U.S.\n",
       "    <span style=\"font-size: 0.8em; font-weight: bold; line-height: 1; border-radius: 0.35em; vertical-align: middle; margin-left: 0.5rem\">GPE</span>\n",
       "</mark>\n",
       " citizens nor permanent residents. He told \n",
       "<mark class=\"entity\" style=\"background: #7aecec; padding: 0.45em 0.6em; margin: 0 0.25em; line-height: 1; border-radius: 0.35em;\">\n",
       "    ICIJ\n",
       "    <span style=\"font-size: 0.8em; font-weight: bold; line-height: 1; border-radius: 0.35em; vertical-align: middle; margin-left: 0.5rem\">ORG</span>\n",
       "</mark>\n",
       " partners: “I have never advised clients to buy a property directly because that would be a terrible structure.”<br>The Pandora Papers revealed that former \n",
       "<mark class=\"entity\" style=\"background: #c887fb; padding: 0.45em 0.6em; margin: 0 0.25em; line-height: 1; border-radius: 0.35em;\">\n",
       "    British\n",
       "    <span style=\"font-size: 0.8em; font-weight: bold; line-height: 1; border-radius: 0.35em; vertical-align: middle; margin-left: 0.5rem\">NORP</span>\n",
       "</mark>\n",
       " Prime Minister \n",
       "<mark class=\"entity\" style=\"background: #aa9cfc; padding: 0.45em 0.6em; margin: 0 0.25em; line-height: 1; border-radius: 0.35em;\">\n",
       "    Tony Blair\n",
       "    <span style=\"font-size: 0.8em; font-weight: bold; line-height: 1; border-radius: 0.35em; vertical-align: middle; margin-left: 0.5rem\">PERSON</span>\n",
       "</mark>\n",
       " — whose government had tried to curtail tax avoidance by offshore property buyers — and his barrister wife, \n",
       "<mark class=\"entity\" style=\"background: #aa9cfc; padding: 0.45em 0.6em; margin: 0 0.25em; line-height: 1; border-radius: 0.35em;\">\n",
       "    Cherie Blair\n",
       "    <span style=\"font-size: 0.8em; font-weight: bold; line-height: 1; border-radius: 0.35em; vertical-align: middle; margin-left: 0.5rem\">PERSON</span>\n",
       "</mark>\n",
       ", saved \n",
       "<mark class=\"entity\" style=\"background: #e4e7d2; padding: 0.45em 0.6em; margin: 0 0.25em; line-height: 1; border-radius: 0.35em;\">\n",
       "    close to half a million dollars\n",
       "    <span style=\"font-size: 0.8em; font-weight: bold; line-height: 1; border-radius: 0.35em; vertical-align: middle; margin-left: 0.5rem\">CARDINAL</span>\n",
       "</mark>\n",
       " in taxes by buying a \n",
       "<mark class=\"entity\" style=\"background: #feca74; padding: 0.45em 0.6em; margin: 0 0.25em; line-height: 1; border-radius: 0.35em;\">\n",
       "    London\n",
       "    <span style=\"font-size: 0.8em; font-weight: bold; line-height: 1; border-radius: 0.35em; vertical-align: middle; margin-left: 0.5rem\">GPE</span>\n",
       "</mark>\n",
       " townhouse through an offshore company.<br>\n",
       "<mark class=\"entity\" style=\"background: #aa9cfc; padding: 0.45em 0.6em; margin: 0 0.25em; line-height: 1; border-radius: 0.35em;\">\n",
       "    Stephen\n",
       "    <span style=\"font-size: 0.8em; font-weight: bold; line-height: 1; border-radius: 0.35em; vertical-align: middle; margin-left: 0.5rem\">PERSON</span>\n",
       "</mark>\n",
       " and \n",
       "<mark class=\"entity\" style=\"background: #aa9cfc; padding: 0.45em 0.6em; margin: 0 0.25em; line-height: 1; border-radius: 0.35em;\">\n",
       "    Anthony de Heinrich\n",
       "    <span style=\"font-size: 0.8em; font-weight: bold; line-height: 1; border-radius: 0.35em; vertical-align: middle; margin-left: 0.5rem\">PERSON</span>\n",
       "</mark>\n",
       ", heirs to a \n",
       "<mark class=\"entity\" style=\"background: #e4e7d2; padding: 0.45em 0.6em; margin: 0 0.25em; line-height: 1; border-radius: 0.35em;\">\n",
       "    multimillion-dollar\n",
       "    <span style=\"font-size: 0.8em; font-weight: bold; line-height: 1; border-radius: 0.35em; vertical-align: middle; margin-left: 0.5rem\">MONEY</span>\n",
       "</mark>\n",
       " oil fortune, invested in \n",
       "<mark class=\"entity\" style=\"background: #c887fb; padding: 0.45em 0.6em; margin: 0 0.25em; line-height: 1; border-radius: 0.35em;\">\n",
       "    Tasmanian\n",
       "    <span style=\"font-size: 0.8em; font-weight: bold; line-height: 1; border-radius: 0.35em; vertical-align: middle; margin-left: 0.5rem\">NORP</span>\n",
       "</mark>\n",
       " dairy farms through an offshore company intended to reduce their tax burden.<br>And the development arm of \n",
       "<mark class=\"entity\" style=\"background: #7aecec; padding: 0.45em 0.6em; margin: 0 0.25em; line-height: 1; border-radius: 0.35em;\">\n",
       "    the World Bank\n",
       "    <span style=\"font-size: 0.8em; font-weight: bold; line-height: 1; border-radius: 0.35em; vertical-align: middle; margin-left: 0.5rem\">ORG</span>\n",
       "</mark>\n",
       " committed \n",
       "<mark class=\"entity\" style=\"background: #e4e7d2; padding: 0.45em 0.6em; margin: 0 0.25em; line-height: 1; border-radius: 0.35em;\">\n",
       "    up to $7.5 million\n",
       "    <span style=\"font-size: 0.8em; font-weight: bold; line-height: 1; border-radius: 0.35em; vertical-align: middle; margin-left: 0.5rem\">MONEY</span>\n",
       "</mark>\n",
       " to a fund whose \n",
       "<mark class=\"entity\" style=\"background: #c887fb; padding: 0.45em 0.6em; margin: 0 0.25em; line-height: 1; border-radius: 0.35em;\">\n",
       "    Cambodian\n",
       "    <span style=\"font-size: 0.8em; font-weight: bold; line-height: 1; border-radius: 0.35em; vertical-align: middle; margin-left: 0.5rem\">NORP</span>\n",
       "</mark>\n",
       " hotel investment was routed through a \n",
       "<mark class=\"entity\" style=\"background: #feca74; padding: 0.45em 0.6em; margin: 0 0.25em; line-height: 1; border-radius: 0.35em;\">\n",
       "    Singapore\n",
       "    <span style=\"font-size: 0.8em; font-weight: bold; line-height: 1; border-radius: 0.35em; vertical-align: middle; margin-left: 0.5rem\">GPE</span>\n",
       "</mark>\n",
       " structure designed to reduce the fund’s tax bills.<br>\n",
       "<mark class=\"entity\" style=\"background: #aa9cfc; padding: 0.45em 0.6em; margin: 0 0.25em; line-height: 1; border-radius: 0.35em;\">\n",
       "    Cherie Blair\n",
       "    <span style=\"font-size: 0.8em; font-weight: bold; line-height: 1; border-radius: 0.35em; vertical-align: middle; margin-left: 0.5rem\">PERSON</span>\n",
       "</mark>\n",
       " told \n",
       "<mark class=\"entity\" style=\"background: #7aecec; padding: 0.45em 0.6em; margin: 0 0.25em; line-height: 1; border-radius: 0.35em;\">\n",
       "    ICIJ\n",
       "    <span style=\"font-size: 0.8em; font-weight: bold; line-height: 1; border-radius: 0.35em; vertical-align: middle; margin-left: 0.5rem\">ORG</span>\n",
       "</mark>\n",
       " partners that there was “nothing unusual or underhand” about the couple’s property purchase, and she said that she had made sure the property was held through a \n",
       "<mark class=\"entity\" style=\"background: #7aecec; padding: 0.45em 0.6em; margin: 0 0.25em; line-height: 1; border-radius: 0.35em;\">\n",
       "    U.K\n",
       "    <span style=\"font-size: 0.8em; font-weight: bold; line-height: 1; border-radius: 0.35em; vertical-align: middle; margin-left: 0.5rem\">ORG</span>\n",
       "</mark>\n",
       " company after the transaction.<br>A spokesman for \n",
       "<mark class=\"entity\" style=\"background: #7aecec; padding: 0.45em 0.6em; margin: 0 0.25em; line-height: 1; border-radius: 0.35em;\">\n",
       "    the World Bank’s\n",
       "    <span style=\"font-size: 0.8em; font-weight: bold; line-height: 1; border-radius: 0.35em; vertical-align: middle; margin-left: 0.5rem\">ORG</span>\n",
       "</mark>\n",
       " development fund told \n",
       "<mark class=\"entity\" style=\"background: #7aecec; padding: 0.45em 0.6em; margin: 0 0.25em; line-height: 1; border-radius: 0.35em;\">\n",
       "    ICIJ\n",
       "    <span style=\"font-size: 0.8em; font-weight: bold; line-height: 1; border-radius: 0.35em; vertical-align: middle; margin-left: 0.5rem\">ORG</span>\n",
       "</mark>\n",
       " that its indirect investment in the \n",
       "<mark class=\"entity\" style=\"background: #c887fb; padding: 0.45em 0.6em; margin: 0 0.25em; line-height: 1; border-radius: 0.35em;\">\n",
       "    Cambodian\n",
       "    <span style=\"font-size: 0.8em; font-weight: bold; line-height: 1; border-radius: 0.35em; vertical-align: middle; margin-left: 0.5rem\">NORP</span>\n",
       "</mark>\n",
       " hotel group was intended to “create significant numbers of jobs and supply essential goods and services to their local populations.”<br>Legislators in the \n",
       "<mark class=\"entity\" style=\"background: #feca74; padding: 0.45em 0.6em; margin: 0 0.25em; line-height: 1; border-radius: 0.35em;\">\n",
       "    U.S.\n",
       "    <span style=\"font-size: 0.8em; font-weight: bold; line-height: 1; border-radius: 0.35em; vertical-align: middle; margin-left: 0.5rem\">GPE</span>\n",
       "</mark>\n",
       ", responding to the Pandora Papers investigation, have proposed requiring lawyers and real estate agents to perform more rigorous background checks on their clients and their clients’ wealth. A division of \n",
       "<mark class=\"entity\" style=\"background: #7aecec; padding: 0.45em 0.6em; margin: 0 0.25em; line-height: 1; border-radius: 0.35em;\">\n",
       "    the Treasury Department\n",
       "    <span style=\"font-size: 0.8em; font-weight: bold; line-height: 1; border-radius: 0.35em; vertical-align: middle; margin-left: 0.5rem\">ORG</span>\n",
       "</mark>\n",
       " that investigates money laundering has said it will require more information about the true owners of homes owned through shell companies.<br>But to date, authorities have done little to try to prevent the common — and legal — use of offshore vehicles to lower tax bills on property purchases.<br>\n",
       "<mark class=\"entity\" style=\"background: #7aecec; padding: 0.45em 0.6em; margin: 0 0.25em; line-height: 1; border-radius: 0.35em;\">\n",
       "    Cobham\n",
       "    <span style=\"font-size: 0.8em; font-weight: bold; line-height: 1; border-radius: 0.35em; vertical-align: middle; margin-left: 0.5rem\">ORG</span>\n",
       "</mark>\n",
       ", of \n",
       "<mark class=\"entity\" style=\"background: #7aecec; padding: 0.45em 0.6em; margin: 0 0.25em; line-height: 1; border-radius: 0.35em;\">\n",
       "    the Tax Justice Network\n",
       "    <span style=\"font-size: 0.8em; font-weight: bold; line-height: 1; border-radius: 0.35em; vertical-align: middle; margin-left: 0.5rem\">ORG</span>\n",
       "</mark>\n",
       ", said that the ability of the wealthy and well-connected to avoid taxes by using offshore companies and trusts was a way of “locking in” inequality.<br>“We need to eliminate, definitively, any kind of tax advantage that can be obtained simply by dressing up a transaction with an offshore company,” he said.<br>Contributors: \n",
       "<mark class=\"entity\" style=\"background: #aa9cfc; padding: 0.45em 0.6em; margin: 0 0.25em; line-height: 1; border-radius: 0.35em;\">\n",
       "    Jelena Cosic\n",
       "    <span style=\"font-size: 0.8em; font-weight: bold; line-height: 1; border-radius: 0.35em; vertical-align: middle; margin-left: 0.5rem\">PERSON</span>\n",
       "</mark>\n",
       "<br>Explore \n",
       "<mark class=\"entity\" style=\"background: #e4e7d2; padding: 0.45em 0.6em; margin: 0 0.25em; line-height: 1; border-radius: 0.35em;\">\n",
       "    nine\n",
       "    <span style=\"font-size: 0.8em; font-weight: bold; line-height: 1; border-radius: 0.35em; vertical-align: middle; margin-left: 0.5rem\">CARDINAL</span>\n",
       "</mark>\n",
       " case studies that show how investors are not only putting money into luxury real estate, a traditional store of wealth, but also a diverse range of properties from farms to suburban rental homes.<br>Reporters: \n",
       "<mark class=\"entity\" style=\"background: #aa9cfc; padding: 0.45em 0.6em; margin: 0 0.25em; line-height: 1; border-radius: 0.35em;\">\n",
       "    Scilla Alecci\n",
       "    <span style=\"font-size: 0.8em; font-weight: bold; line-height: 1; border-radius: 0.35em; vertical-align: middle; margin-left: 0.5rem\">PERSON</span>\n",
       "</mark>\n",
       ", \n",
       "<mark class=\"entity\" style=\"background: #aa9cfc; padding: 0.45em 0.6em; margin: 0 0.25em; line-height: 1; border-radius: 0.35em;\">\n",
       "    Will Fitzgibbon\n",
       "    <span style=\"font-size: 0.8em; font-weight: bold; line-height: 1; border-radius: 0.35em; vertical-align: middle; margin-left: 0.5rem\">PERSON</span>\n",
       "</mark>\n",
       ", \n",
       "<mark class=\"entity\" style=\"background: #aa9cfc; padding: 0.45em 0.6em; margin: 0 0.25em; line-height: 1; border-radius: 0.35em;\">\n",
       "    Margot Gibbs\n",
       "    <span style=\"font-size: 0.8em; font-weight: bold; line-height: 1; border-radius: 0.35em; vertical-align: middle; margin-left: 0.5rem\">PERSON</span>\n",
       "</mark>\n",
       ", \n",
       "<mark class=\"entity\" style=\"background: #aa9cfc; padding: 0.45em 0.6em; margin: 0 0.25em; line-height: 1; border-radius: 0.35em;\">\n",
       "    Sean McGoey\n",
       "    <span style=\"font-size: 0.8em; font-weight: bold; line-height: 1; border-radius: 0.35em; vertical-align: middle; margin-left: 0.5rem\">PERSON</span>\n",
       "</mark>\n",
       ", \n",
       "<mark class=\"entity\" style=\"background: #aa9cfc; padding: 0.45em 0.6em; margin: 0 0.25em; line-height: 1; border-radius: 0.35em;\">\n",
       "    Spencer Woodman\n",
       "    <span style=\"font-size: 0.8em; font-weight: bold; line-height: 1; border-radius: 0.35em; vertical-align: middle; margin-left: 0.5rem\">PERSON</span>\n",
       "</mark>\n",
       "<br>Contributed reporting: \n",
       "<mark class=\"entity\" style=\"background: #aa9cfc; padding: 0.45em 0.6em; margin: 0 0.25em; line-height: 1; border-radius: 0.35em;\">\n",
       "    Uri Blau\n",
       "    <span style=\"font-size: 0.8em; font-weight: bold; line-height: 1; border-radius: 0.35em; vertical-align: middle; margin-left: 0.5rem\">PERSON</span>\n",
       "</mark>\n",
       ", \n",
       "<mark class=\"entity\" style=\"background: #aa9cfc; padding: 0.45em 0.6em; margin: 0 0.25em; line-height: 1; border-radius: 0.35em;\">\n",
       "    Petra Blum\n",
       "    <span style=\"font-size: 0.8em; font-weight: bold; line-height: 1; border-radius: 0.35em; vertical-align: middle; margin-left: 0.5rem\">PERSON</span>\n",
       "</mark>\n",
       ", \n",
       "<mark class=\"entity\" style=\"background: #aa9cfc; padding: 0.45em 0.6em; margin: 0 0.25em; line-height: 1; border-radius: 0.35em;\">\n",
       "    Simon Goodley\n",
       "    <span style=\"font-size: 0.8em; font-weight: bold; line-height: 1; border-radius: 0.35em; vertical-align: middle; margin-left: 0.5rem\">PERSON</span>\n",
       "</mark>\n",
       ", \n",
       "<mark class=\"entity\" style=\"background: #aa9cfc; padding: 0.45em 0.6em; margin: 0 0.25em; line-height: 1; border-radius: 0.35em;\">\n",
       "    Luke Harding\n",
       "    <span style=\"font-size: 0.8em; font-weight: bold; line-height: 1; border-radius: 0.35em; vertical-align: middle; margin-left: 0.5rem\">PERSON</span>\n",
       "</mark>\n",
       ", \n",
       "<mark class=\"entity\" style=\"background: #aa9cfc; padding: 0.45em 0.6em; margin: 0 0.25em; line-height: 1; border-radius: 0.35em;\">\n",
       "    Echo Hui\n",
       "    <span style=\"font-size: 0.8em; font-weight: bold; line-height: 1; border-radius: 0.35em; vertical-align: middle; margin-left: 0.5rem\">PERSON</span>\n",
       "</mark>\n",
       ", \n",
       "<mark class=\"entity\" style=\"background: #aa9cfc; padding: 0.45em 0.6em; margin: 0 0.25em; line-height: 1; border-radius: 0.35em;\">\n",
       "    Anna Kluhspies\n",
       "    <span style=\"font-size: 0.8em; font-weight: bold; line-height: 1; border-radius: 0.35em; vertical-align: middle; margin-left: 0.5rem\">PERSON</span>\n",
       "</mark>\n",
       ", \n",
       "<mark class=\"entity\" style=\"background: #aa9cfc; padding: 0.45em 0.6em; margin: 0 0.25em; line-height: 1; border-radius: 0.35em;\">\n",
       "    Latashia Naidoo\n",
       "    <span style=\"font-size: 0.8em; font-weight: bold; line-height: 1; border-radius: 0.35em; vertical-align: middle; margin-left: 0.5rem\">PERSON</span>\n",
       "</mark>\n",
       ", \n",
       "<mark class=\"entity\" style=\"background: #aa9cfc; padding: 0.45em 0.6em; margin: 0 0.25em; line-height: 1; border-radius: 0.35em;\">\n",
       "    Miranda Patrucic\n",
       "    <span style=\"font-size: 0.8em; font-weight: bold; line-height: 1; border-radius: 0.35em; vertical-align: middle; margin-left: 0.5rem\">PERSON</span>\n",
       "</mark>\n",
       ", \n",
       "<mark class=\"entity\" style=\"background: #aa9cfc; padding: 0.45em 0.6em; margin: 0 0.25em; line-height: 1; border-radius: 0.35em;\">\n",
       "    Rory Tinman\n",
       "    <span style=\"font-size: 0.8em; font-weight: bold; line-height: 1; border-radius: 0.35em; vertical-align: middle; margin-left: 0.5rem\">PERSON</span>\n",
       "</mark>\n",
       "<br>Editors: \n",
       "<mark class=\"entity\" style=\"background: #aa9cfc; padding: 0.45em 0.6em; margin: 0 0.25em; line-height: 1; border-radius: 0.35em;\">\n",
       "    Asraa Mustufa\n",
       "    <span style=\"font-size: 0.8em; font-weight: bold; line-height: 1; border-radius: 0.35em; vertical-align: middle; margin-left: 0.5rem\">PERSON</span>\n",
       "</mark>\n",
       ", \n",
       "<mark class=\"entity\" style=\"background: #aa9cfc; padding: 0.45em 0.6em; margin: 0 0.25em; line-height: 1; border-radius: 0.35em;\">\n",
       "    Ben Hallman\n",
       "Data\n",
       "    <span style=\"font-size: 0.8em; font-weight: bold; line-height: 1; border-radius: 0.35em; vertical-align: middle; margin-left: 0.5rem\">PERSON</span>\n",
       "</mark>\n",
       " and research: \n",
       "<mark class=\"entity\" style=\"background: #aa9cfc; padding: 0.45em 0.6em; margin: 0 0.25em; line-height: 1; border-radius: 0.35em;\">\n",
       "    Agustin Armendariz\n",
       "    <span style=\"font-size: 0.8em; font-weight: bold; line-height: 1; border-radius: 0.35em; vertical-align: middle; margin-left: 0.5rem\">PERSON</span>\n",
       "</mark>\n",
       ", \n",
       "<mark class=\"entity\" style=\"background: #aa9cfc; padding: 0.45em 0.6em; margin: 0 0.25em; line-height: 1; border-radius: 0.35em;\">\n",
       "    Jelena Cosic\n",
       "    <span style=\"font-size: 0.8em; font-weight: bold; line-height: 1; border-radius: 0.35em; vertical-align: middle; margin-left: 0.5rem\">PERSON</span>\n",
       "</mark>\n",
       ", \n",
       "<mark class=\"entity\" style=\"background: #aa9cfc; padding: 0.45em 0.6em; margin: 0 0.25em; line-height: 1; border-radius: 0.35em;\">\n",
       "    Emilia Díaz-Struck\n",
       "Fact\n",
       "    <span style=\"font-size: 0.8em; font-weight: bold; line-height: 1; border-radius: 0.35em; vertical-align: middle; margin-left: 0.5rem\">PERSON</span>\n",
       "</mark>\n",
       " check: \n",
       "<mark class=\"entity\" style=\"background: #aa9cfc; padding: 0.45em 0.6em; margin: 0 0.25em; line-height: 1; border-radius: 0.35em;\">\n",
       "    Richard H.P. Sia\n",
       "    <span style=\"font-size: 0.8em; font-weight: bold; line-height: 1; border-radius: 0.35em; vertical-align: middle; margin-left: 0.5rem\">PERSON</span>\n",
       "</mark>\n",
       ", \n",
       "<mark class=\"entity\" style=\"background: #aa9cfc; padding: 0.45em 0.6em; margin: 0 0.25em; line-height: 1; border-radius: 0.35em;\">\n",
       "    Kathleen Cahill\n",
       "Design\n",
       "    <span style=\"font-size: 0.8em; font-weight: bold; line-height: 1; border-radius: 0.35em; vertical-align: middle; margin-left: 0.5rem\">PERSON</span>\n",
       "</mark>\n",
       " and development: \n",
       "<mark class=\"entity\" style=\"background: #aa9cfc; padding: 0.45em 0.6em; margin: 0 0.25em; line-height: 1; border-radius: 0.35em;\">\n",
       "    Antonio Cucho Gamboa\n",
       "Illustrations\n",
       "    <span style=\"font-size: 0.8em; font-weight: bold; line-height: 1; border-radius: 0.35em; vertical-align: middle; margin-left: 0.5rem\">PERSON</span>\n",
       "</mark>\n",
       ": \n",
       "<mark class=\"entity\" style=\"background: #aa9cfc; padding: 0.45em 0.6em; margin: 0 0.25em; line-height: 1; border-radius: 0.35em;\">\n",
       "    Rocco Fazzari\n",
       "    <span style=\"font-size: 0.8em; font-weight: bold; line-height: 1; border-radius: 0.35em; vertical-align: middle; margin-left: 0.5rem\">PERSON</span>\n",
       "</mark>\n",
       "</div></span>"
      ],
      "text/plain": [
       "<IPython.core.display.HTML object>"
      ]
     },
     "metadata": {},
     "output_type": "display_data"
    }
   ],
   "source": [
    "displacy.render(docs[0], style=\"ent\")"
   ]
  },
  {
   "cell_type": "markdown",
   "id": "732a09fa-62b5-41d9-b6ba-daff9abdc9fd",
   "metadata": {
    "jp-MarkdownHeadingCollapsed": true
   },
   "source": [
    "## apply a different NER model on DocBin"
   ]
  },
  {
   "cell_type": "code",
   "execution_count": 72,
   "id": "8bff2807-92d3-4eda-aca1-27e21e34bceb",
   "metadata": {
    "execution": {
     "iopub.execute_input": "2024-09-01T11:24:23.163009Z",
     "iopub.status.busy": "2024-09-01T11:24:23.161801Z",
     "iopub.status.idle": "2024-09-01T11:24:42.808907Z",
     "shell.execute_reply": "2024-09-01T11:24:42.808531Z",
     "shell.execute_reply.started": "2024-09-01T11:24:23.162947Z"
    }
   },
   "outputs": [
    {
     "name": "stderr",
     "output_type": "stream",
     "text": [
      "Fetching 4 files: 100%|██████████████████████████████████████████████████████████████████████████████████████████████████████████████████| 4/4 [00:00<00:00, 23109.11it/s]\n",
      "/Users/louis.guitton/workspace/senzing/erkg-tutorials-graphgeeks/venv/lib/python3.10/site-packages/transformers/tokenization_utils_base.py:1601: FutureWarning: `clean_up_tokenization_spaces` was not set. It will be set to `True` by default. This behavior will be depracted in transformers v4.45, and will be then set to `False` by default. For more details check this issue: https://github.com/huggingface/transformers/issues/31884\n",
      "  warnings.warn(\n",
      "/Users/louis.guitton/workspace/senzing/erkg-tutorials-graphgeeks/venv/lib/python3.10/site-packages/transformers/convert_slow_tokenizer.py:551: UserWarning: The sentencepiece tokenizer that you are converting to a fast tokenizer uses the byte fallback option which is not implemented in the fast tokenizers. In practice this means that the fast version of the tokenizer can produce unknown tokens whereas the sentencepiece version would have converted these unknown tokens into a sequence of byte tokens matching the original piece of text.\n",
      "  warnings.warn(\n",
      "/Users/louis.guitton/workspace/senzing/erkg-tutorials-graphgeeks/venv/lib/python3.10/site-packages/gliner/model.py:568: FutureWarning: You are using `torch.load` with `weights_only=False` (the current default value), which uses the default pickle module implicitly. It is possible to construct malicious pickle data which will execute arbitrary code during unpickling (See https://github.com/pytorch/pytorch/blob/main/SECURITY.md#untrusted-models for more details). In a future release, the default value for `weights_only` will be flipped to `True`. This limits the functions that could be executed during unpickling. Arbitrary objects will no longer be allowed to be loaded via this mode unless they are explicitly allowlisted by the user via `torch.serialization.add_safe_globals`. We recommend you start setting `weights_only=True` for any use case where you don't have full control of the loaded file. Please open an issue on GitHub for any issues related to this experimental feature.\n",
      "  state_dict = torch.load(model_file, map_location=torch.device(map_location))\n"
     ]
    },
    {
     "data": {
      "text/plain": [
       "<gliner_spacy.pipeline.GlinerSpacy at 0x7faf2f0a0>"
      ]
     },
     "execution_count": 72,
     "metadata": {},
     "output_type": "execute_result"
    }
   ],
   "source": [
    "import spacy\n",
    "from gliner_spacy.pipeline import (  # noqa: F401 because we need to register the factory with spacy\n",
    "    GlinerSpacy,\n",
    ")\n",
    "\n",
    "candidate_labels = [\n",
    "    \"persons\",\n",
    "    \"address\",\n",
    "    \"shell companies\",\n",
    "    \"banks or law firms\",\n",
    "]  # NuZero requires labels to be lower-cased\n",
    "\n",
    "model_name = \"numind/NuZero_token\"\n",
    "\n",
    "nlp = spacy.load(\"en_core_web_md\", disable=[\"ner\"])\n",
    "# nlp.add_pipe(\"span_marker\", config={\"model\": \"tomaarsen/span-marker-mbert-base-multinerd\"})\n",
    "nlp.add_pipe(\"gliner_spacy\")\n",
    "#     # config={\n",
    "#     #     \"gliner_model\": model_name,\n",
    "#     #     \"chunk_size\": 250,\n",
    "#     #     \"labels\": candidate_labels,\n",
    "#     #     \"style\": \"ent\",\n",
    "#     #     \"threshold\": 0.3,\n",
    "#     # },\n"
   ]
  },
  {
   "cell_type": "code",
   "execution_count": 75,
   "id": "e202e9a6-d2f8-41b2-9215-314a0015536e",
   "metadata": {
    "execution": {
     "iopub.execute_input": "2024-09-01T11:25:00.249971Z",
     "iopub.status.busy": "2024-09-01T11:25:00.249065Z",
     "iopub.status.idle": "2024-09-01T11:25:03.433175Z",
     "shell.execute_reply": "2024-09-01T11:25:03.432608Z",
     "shell.execute_reply.started": "2024-09-01T11:25:00.249921Z"
    },
    "scrolled": true
   },
   "outputs": [
    {
     "data": {
      "text/html": [
       "<span class=\"tex2jax_ignore\"><div class=\"entities\" style=\"line-height: 2.5; direction: ltr\">Secret real estate purchases are a driving force behind the \n",
       "<mark class=\"entity\" style=\"background: #ddd; padding: 0.45em 0.6em; margin: 0 0.25em; line-height: 1; border-radius: 0.35em;\">\n",
       "    offshore economy\n",
       "    <span style=\"font-size: 0.8em; font-weight: bold; line-height: 1; border-radius: 0.35em; vertical-align: middle; margin-left: 0.5rem\">organization</span>\n",
       "</mark>\n",
       ".<br>No longer content with Miami condos and London townhouses, \n",
       "<mark class=\"entity\" style=\"background: #aa9cfc; padding: 0.45em 0.6em; margin: 0 0.25em; line-height: 1; border-radius: 0.35em;\">\n",
       "    investors\n",
       "    <span style=\"font-size: 0.8em; font-weight: bold; line-height: 1; border-radius: 0.35em; vertical-align: middle; margin-left: 0.5rem\">person</span>\n",
       "</mark>\n",
       " are pouring money into properties in all corners of the world, fueling inequality and driving up prices, \n",
       "<mark class=\"entity\" style=\"background: #ddd; padding: 0.45em 0.6em; margin: 0 0.25em; line-height: 1; border-radius: 0.35em;\">\n",
       "    Pandora Papers\n",
       "    <span style=\"font-size: 0.8em; font-weight: bold; line-height: 1; border-radius: 0.35em; vertical-align: middle; margin-left: 0.5rem\">organization</span>\n",
       "</mark>\n",
       " investigation reveals.<br>Leaked documents show that Spanish singer \n",
       "<mark class=\"entity\" style=\"background: #aa9cfc; padding: 0.45em 0.6em; margin: 0 0.25em; line-height: 1; border-radius: 0.35em;\">\n",
       "    Julio Iglesias\n",
       "    <span style=\"font-size: 0.8em; font-weight: bold; line-height: 1; border-radius: 0.35em; vertical-align: middle; margin-left: 0.5rem\">person</span>\n",
       "</mark>\n",
       " owned properties in greater Miami’s Indian Creek Village, which has become known as Billionaire’s Bunker or Billionaire’s Island.<br>What do a \n",
       "<mark class=\"entity\" style=\"background: #aa9cfc; padding: 0.45em 0.6em; margin: 0 0.25em; line-height: 1; border-radius: 0.35em;\">\n",
       "    Beatle\n",
       "    <span style=\"font-size: 0.8em; font-weight: bold; line-height: 1; border-radius: 0.35em; vertical-align: middle; margin-left: 0.5rem\">person</span>\n",
       "</mark>\n",
       ", an autocrat’s \n",
       "<mark class=\"entity\" style=\"background: #aa9cfc; padding: 0.45em 0.6em; margin: 0 0.25em; line-height: 1; border-radius: 0.35em;\">\n",
       "    daughter\n",
       "    <span style=\"font-size: 0.8em; font-weight: bold; line-height: 1; border-radius: 0.35em; vertical-align: middle; margin-left: 0.5rem\">person</span>\n",
       "</mark>\n",
       " and a scandal-plagued \n",
       "<mark class=\"entity\" style=\"background: #ddd; padding: 0.45em 0.6em; margin: 0 0.25em; line-height: 1; border-radius: 0.35em;\">\n",
       "    Catholic order\n",
       "    <span style=\"font-size: 0.8em; font-weight: bold; line-height: 1; border-radius: 0.35em; vertical-align: middle; margin-left: 0.5rem\">organization</span>\n",
       "</mark>\n",
       " have in common? Each made multimillion-dollar investments in real estate through \n",
       "<mark class=\"entity\" style=\"background: #ddd; padding: 0.45em 0.6em; margin: 0 0.25em; line-height: 1; border-radius: 0.35em;\">\n",
       "    offshore companies\n",
       "    <span style=\"font-size: 0.8em; font-weight: bold; line-height: 1; border-radius: 0.35em; vertical-align: middle; margin-left: 0.5rem\">organization</span>\n",
       "</mark>\n",
       " or trusts that disguised the property’s ownership.<br>For \n",
       "<mark class=\"entity\" style=\"background: #ddd; padding: 0.45em 0.6em; margin: 0 0.25em; line-height: 1; border-radius: 0.35em;\">\n",
       "    Beatles\n",
       "    <span style=\"font-size: 0.8em; font-weight: bold; line-height: 1; border-radius: 0.35em; vertical-align: middle; margin-left: 0.5rem\">organization</span>\n",
       "</mark>\n",
       " drummer \n",
       "<mark class=\"entity\" style=\"background: #aa9cfc; padding: 0.45em 0.6em; margin: 0 0.25em; line-height: 1; border-radius: 0.35em;\">\n",
       "    Ringo Starr\n",
       "    <span style=\"font-size: 0.8em; font-weight: bold; line-height: 1; border-radius: 0.35em; vertical-align: middle; margin-left: 0.5rem\">person</span>\n",
       "</mark>\n",
       ", the property in question was a Los Angeles mansion. \n",
       "<mark class=\"entity\" style=\"background: #aa9cfc; padding: 0.45em 0.6em; margin: 0 0.25em; line-height: 1; border-radius: 0.35em;\">\n",
       "    Arzu Aliyeva\n",
       "    <span style=\"font-size: 0.8em; font-weight: bold; line-height: 1; border-radius: 0.35em; vertical-align: middle; margin-left: 0.5rem\">person</span>\n",
       "</mark>\n",
       ", daughter of Azerbaijan’s president, purchased a London office building. The \n",
       "<mark class=\"entity\" style=\"background: #ddd; padding: 0.45em 0.6em; margin: 0 0.25em; line-height: 1; border-radius: 0.35em;\">\n",
       "    Legion of Christ\n",
       "    <span style=\"font-size: 0.8em; font-weight: bold; line-height: 1; border-radius: 0.35em; vertical-align: middle; margin-left: 0.5rem\">organization</span>\n",
       "</mark>\n",
       ", a wealthy religious order disgraced by a sexual abuse scandal, poured millions of dollars into rental properties across the United States.<br>\n",
       "<mark class=\"entity\" style=\"background: #aa9cfc; padding: 0.45em 0.6em; margin: 0 0.25em; line-height: 1; border-radius: 0.35em;\">\n",
       "    Starr\n",
       "    <span style=\"font-size: 0.8em; font-weight: bold; line-height: 1; border-radius: 0.35em; vertical-align: middle; margin-left: 0.5rem\">person</span>\n",
       "</mark>\n",
       ", \n",
       "<mark class=\"entity\" style=\"background: #aa9cfc; padding: 0.45em 0.6em; margin: 0 0.25em; line-height: 1; border-radius: 0.35em;\">\n",
       "    Aliyeva\n",
       "    <span style=\"font-size: 0.8em; font-weight: bold; line-height: 1; border-radius: 0.35em; vertical-align: middle; margin-left: 0.5rem\">person</span>\n",
       "</mark>\n",
       " and the \n",
       "<mark class=\"entity\" style=\"background: #ddd; padding: 0.45em 0.6em; margin: 0 0.25em; line-height: 1; border-radius: 0.35em;\">\n",
       "    Legion\n",
       "    <span style=\"font-size: 0.8em; font-weight: bold; line-height: 1; border-radius: 0.35em; vertical-align: middle; margin-left: 0.5rem\">organization</span>\n",
       "</mark>\n",
       " are among hundreds of real estate owners or investors whose identities are revealed in the Pandora Papers, a massive cache of records that gave rise to a global investigation led by the \n",
       "<mark class=\"entity\" style=\"background: #ddd; padding: 0.45em 0.6em; margin: 0 0.25em; line-height: 1; border-radius: 0.35em;\">\n",
       "    International Consortium\n",
       "    <span style=\"font-size: 0.8em; font-weight: bold; line-height: 1; border-radius: 0.35em; vertical-align: middle; margin-left: 0.5rem\">organization</span>\n",
       "</mark>\n",
       " of \n",
       "<mark class=\"entity\" style=\"background: #ddd; padding: 0.45em 0.6em; margin: 0 0.25em; line-height: 1; border-radius: 0.35em;\">\n",
       "    Investigative Journalists\n",
       "    <span style=\"font-size: 0.8em; font-weight: bold; line-height: 1; border-radius: 0.35em; vertical-align: middle; margin-left: 0.5rem\">organization</span>\n",
       "</mark>\n",
       ".<br>\n",
       "<mark class=\"entity\" style=\"background: #aa9cfc; padding: 0.45em 0.6em; margin: 0 0.25em; line-height: 1; border-radius: 0.35em;\">\n",
       "    Starr\n",
       "    <span style=\"font-size: 0.8em; font-weight: bold; line-height: 1; border-radius: 0.35em; vertical-align: middle; margin-left: 0.5rem\">person</span>\n",
       "</mark>\n",
       " and \n",
       "<mark class=\"entity\" style=\"background: #aa9cfc; padding: 0.45em 0.6em; margin: 0 0.25em; line-height: 1; border-radius: 0.35em;\">\n",
       "    Aliyeva\n",
       "    <span style=\"font-size: 0.8em; font-weight: bold; line-height: 1; border-radius: 0.35em; vertical-align: middle; margin-left: 0.5rem\">person</span>\n",
       "</mark>\n",
       " did not comment on these findings. In statements to \n",
       "<mark class=\"entity\" style=\"background: #ddd; padding: 0.45em 0.6em; margin: 0 0.25em; line-height: 1; border-radius: 0.35em;\">\n",
       "    ICIJ\n",
       "    <span style=\"font-size: 0.8em; font-weight: bold; line-height: 1; border-radius: 0.35em; vertical-align: middle; margin-left: 0.5rem\">organization</span>\n",
       "</mark>\n",
       ", the \n",
       "<mark class=\"entity\" style=\"background: #ddd; padding: 0.45em 0.6em; margin: 0 0.25em; line-height: 1; border-radius: 0.35em;\">\n",
       "    Legion\n",
       "    <span style=\"font-size: 0.8em; font-weight: bold; line-height: 1; border-radius: 0.35em; vertical-align: middle; margin-left: 0.5rem\">organization</span>\n",
       "</mark>\n",
       " acknowledged that it had set up one offshore trust identified in the leaked files but said it had no knowledge of two others.<br>The leaked records expose billions of dollars of spending by the rich and famous — \n",
       "<mark class=\"entity\" style=\"background: #aa9cfc; padding: 0.45em 0.6em; margin: 0 0.25em; line-height: 1; border-radius: 0.35em;\">\n",
       "    celebrities\n",
       "    <span style=\"font-size: 0.8em; font-weight: bold; line-height: 1; border-radius: 0.35em; vertical-align: middle; margin-left: 0.5rem\">person</span>\n",
       "</mark>\n",
       " and \n",
       "<mark class=\"entity\" style=\"background: #aa9cfc; padding: 0.45em 0.6em; margin: 0 0.25em; line-height: 1; border-radius: 0.35em;\">\n",
       "    politicians\n",
       "    <span style=\"font-size: 0.8em; font-weight: bold; line-height: 1; border-radius: 0.35em; vertical-align: middle; margin-left: 0.5rem\">person</span>\n",
       "</mark>\n",
       ", \n",
       "<mark class=\"entity\" style=\"background: #aa9cfc; padding: 0.45em 0.6em; margin: 0 0.25em; line-height: 1; border-radius: 0.35em;\">\n",
       "    oligarchs\n",
       "    <span style=\"font-size: 0.8em; font-weight: bold; line-height: 1; border-radius: 0.35em; vertical-align: middle; margin-left: 0.5rem\">person</span>\n",
       "</mark>\n",
       " and other members of the uber-rich. And they’re buying not only luxury real estate but also properties not typically associated with offshore purchases. Dairy farms in Tasmania, a shopping mall in Uganda and rental homes in American suburbs have all been bought directly or indirectly through \n",
       "<mark class=\"entity\" style=\"background: #ddd; padding: 0.45em 0.6em; margin: 0 0.25em; line-height: 1; border-radius: 0.35em;\">\n",
       "    offshore companies\n",
       "    <span style=\"font-size: 0.8em; font-weight: bold; line-height: 1; border-radius: 0.35em; vertical-align: middle; margin-left: 0.5rem\">organization</span>\n",
       "</mark>\n",
       " or \n",
       "<mark class=\"entity\" style=\"background: #ddd; padding: 0.45em 0.6em; margin: 0 0.25em; line-height: 1; border-radius: 0.35em;\">\n",
       "    trusts\n",
       "    <span style=\"font-size: 0.8em; font-weight: bold; line-height: 1; border-radius: 0.35em; vertical-align: middle; margin-left: 0.5rem\">organization</span>\n",
       "</mark>\n",
       ", the records show.<br>Hundreds of companies in the \n",
       "<mark class=\"entity\" style=\"background: #ddd; padding: 0.45em 0.6em; margin: 0 0.25em; line-height: 1; border-radius: 0.35em;\">\n",
       "    Pandora Papers\n",
       "    <span style=\"font-size: 0.8em; font-weight: bold; line-height: 1; border-radius: 0.35em; vertical-align: middle; margin-left: 0.5rem\">organization</span>\n",
       "</mark>\n",
       " files listed owning real estate as a purpose. \n",
       "<mark class=\"entity\" style=\"background: #ddd; padding: 0.45em 0.6em; margin: 0 0.25em; line-height: 1; border-radius: 0.35em;\">\n",
       "    ICIJ\n",
       "    <span style=\"font-size: 0.8em; font-weight: bold; line-height: 1; border-radius: 0.35em; vertical-align: middle; margin-left: 0.5rem\">organization</span>\n",
       "</mark>\n",
       " analysis found \n",
       "<mark class=\"entity\" style=\"background: #aa9cfc; padding: 0.45em 0.6em; margin: 0 0.25em; line-height: 1; border-radius: 0.35em;\">\n",
       "    politicians\n",
       "    <span style=\"font-size: 0.8em; font-weight: bold; line-height: 1; border-radius: 0.35em; vertical-align: middle; margin-left: 0.5rem\">person</span>\n",
       "</mark>\n",
       " who used \n",
       "<mark class=\"entity\" style=\"background: #ddd; padding: 0.45em 0.6em; margin: 0 0.25em; line-height: 1; border-radius: 0.35em;\">\n",
       "    offshore companies\n",
       "    <span style=\"font-size: 0.8em; font-weight: bold; line-height: 1; border-radius: 0.35em; vertical-align: middle; margin-left: 0.5rem\">organization</span>\n",
       "</mark>\n",
       " to own properties in more than 10 countries, including the United Kingdom, the United States, France, Monaco, Barbados, and Italy. The owners included \n",
       "<mark class=\"entity\" style=\"background: #aa9cfc; padding: 0.45em 0.6em; margin: 0 0.25em; line-height: 1; border-radius: 0.35em;\">\n",
       "    King Abdullah\n",
       "    <span style=\"font-size: 0.8em; font-weight: bold; line-height: 1; border-radius: 0.35em; vertical-align: middle; margin-left: 0.5rem\">person</span>\n",
       "</mark>\n",
       " of Jordan and the prime ministers of the Czech Republic and Lebanon. \n",
       "<mark class=\"entity\" style=\"background: #aa9cfc; padding: 0.45em 0.6em; margin: 0 0.25em; line-height: 1; border-radius: 0.35em;\">\n",
       "    King Abdullah\n",
       "    <span style=\"font-size: 0.8em; font-weight: bold; line-height: 1; border-radius: 0.35em; vertical-align: middle; margin-left: 0.5rem\">person</span>\n",
       "</mark>\n",
       " and the Czech prime minister have denied wrongdoing.<br>Real estate is a stable investment that often appreciates in value. By purchasing property through a \n",
       "<mark class=\"entity\" style=\"background: #ddd; padding: 0.45em 0.6em; margin: 0 0.25em; line-height: 1; border-radius: 0.35em;\">\n",
       "    shell company\n",
       "    <span style=\"font-size: 0.8em; font-weight: bold; line-height: 1; border-radius: 0.35em; vertical-align: middle; margin-left: 0.5rem\">organization</span>\n",
       "</mark>\n",
       ", \n",
       "<mark class=\"entity\" style=\"background: #aa9cfc; padding: 0.45em 0.6em; margin: 0 0.25em; line-height: 1; border-radius: 0.35em;\">\n",
       "    buyers\n",
       "    <span style=\"font-size: 0.8em; font-weight: bold; line-height: 1; border-radius: 0.35em; vertical-align: middle; margin-left: 0.5rem\">person</span>\n",
       "</mark>\n",
       " can secure tax breaks and shield their identities from \n",
       "<mark class=\"entity\" style=\"background: #ddd; padding: 0.45em 0.6em; margin: 0 0.25em; line-height: 1; border-radius: 0.35em;\">\n",
       "    law enforcement authorities\n",
       "    <span style=\"font-size: 0.8em; font-weight: bold; line-height: 1; border-radius: 0.35em; vertical-align: middle; margin-left: 0.5rem\">organization</span>\n",
       "</mark>\n",
       " and \n",
       "<mark class=\"entity\" style=\"background: #ddd; padding: 0.45em 0.6em; margin: 0 0.25em; line-height: 1; border-radius: 0.35em;\">\n",
       "    creditors\n",
       "    <span style=\"font-size: 0.8em; font-weight: bold; line-height: 1; border-radius: 0.35em; vertical-align: middle; margin-left: 0.5rem\">organization</span>\n",
       "</mark>\n",
       ".<br>Secrecy also empowers \n",
       "<mark class=\"entity\" style=\"background: #aa9cfc; padding: 0.45em 0.6em; margin: 0 0.25em; line-height: 1; border-radius: 0.35em;\">\n",
       "    criminals\n",
       "    <span style=\"font-size: 0.8em; font-weight: bold; line-height: 1; border-radius: 0.35em; vertical-align: middle; margin-left: 0.5rem\">person</span>\n",
       "</mark>\n",
       ", including \n",
       "<mark class=\"entity\" style=\"background: #aa9cfc; padding: 0.45em 0.6em; margin: 0 0.25em; line-height: 1; border-radius: 0.35em;\">\n",
       "    money launderers\n",
       "    <span style=\"font-size: 0.8em; font-weight: bold; line-height: 1; border-radius: 0.35em; vertical-align: middle; margin-left: 0.5rem\">person</span>\n",
       "</mark>\n",
       " and \n",
       "<mark class=\"entity\" style=\"background: #ddd; padding: 0.45em 0.6em; margin: 0 0.25em; line-height: 1; border-radius: 0.35em;\">\n",
       "    drug cartels\n",
       "    <span style=\"font-size: 0.8em; font-weight: bold; line-height: 1; border-radius: 0.35em; vertical-align: middle; margin-left: 0.5rem\">organization</span>\n",
       "</mark>\n",
       ".Their trade in real estate through \n",
       "<mark class=\"entity\" style=\"background: #ddd; padding: 0.45em 0.6em; margin: 0 0.25em; line-height: 1; border-radius: 0.35em;\">\n",
       "    offshore companies\n",
       "    <span style=\"font-size: 0.8em; font-weight: bold; line-height: 1; border-radius: 0.35em; vertical-align: middle; margin-left: 0.5rem\">organization</span>\n",
       "</mark>\n",
       " moves millions of dollars while avoiding scrutiny. In the United Kingdom, a director of the \n",
       "<mark class=\"entity\" style=\"background: #ddd; padding: 0.45em 0.6em; margin: 0 0.25em; line-height: 1; border-radius: 0.35em;\">\n",
       "    National Crime Agency\n",
       "    <span style=\"font-size: 0.8em; font-weight: bold; line-height: 1; border-radius: 0.35em; vertical-align: middle; margin-left: 0.5rem\">organization</span>\n",
       "</mark>\n",
       " said he believed that dirty money had “skewed” London’s property market.<br>The combination of asset security and secrecy has also made offshore holdings a haven for money and other assets from less stable economies. A growing body of evidence suggests that offshore purchases at the high end of the real estate market have a ripple effect, pricing out \n",
       "<mark class=\"entity\" style=\"background: #aa9cfc; padding: 0.45em 0.6em; margin: 0 0.25em; line-height: 1; border-radius: 0.35em;\">\n",
       "    people\n",
       "    <span style=\"font-size: 0.8em; font-weight: bold; line-height: 1; border-radius: 0.35em; vertical-align: middle; margin-left: 0.5rem\">person</span>\n",
       "</mark>\n",
       " lower down the property ladder.<br>In the U.K. alone, the \n",
       "<mark class=\"entity\" style=\"background: #ddd; padding: 0.45em 0.6em; margin: 0 0.25em; line-height: 1; border-radius: 0.35em;\">\n",
       "    Pandora Papers\n",
       "    <span style=\"font-size: 0.8em; font-weight: bold; line-height: 1; border-radius: 0.35em; vertical-align: middle; margin-left: 0.5rem\">organization</span>\n",
       "</mark>\n",
       " reveal the \n",
       "<mark class=\"entity\" style=\"background: #aa9cfc; padding: 0.45em 0.6em; margin: 0 0.25em; line-height: 1; border-radius: 0.35em;\">\n",
       "    beneficial owners\n",
       "    <span style=\"font-size: 0.8em; font-weight: bold; line-height: 1; border-radius: 0.35em; vertical-align: middle; margin-left: 0.5rem\">person</span>\n",
       "</mark>\n",
       " of an estimated $5 billion of property, much of it in London, where more than 36,000 properties are owned through \n",
       "<mark class=\"entity\" style=\"background: #ddd; padding: 0.45em 0.6em; margin: 0 0.25em; line-height: 1; border-radius: 0.35em;\">\n",
       "    offshore companies\n",
       "    <span style=\"font-size: 0.8em; font-weight: bold; line-height: 1; border-radius: 0.35em; vertical-align: middle; margin-left: 0.5rem\">organization</span>\n",
       "</mark>\n",
       ".<br>The leaked records reveal a small fraction of the homes, hotels, factories and other properties owned worldwide through \n",
       "<mark class=\"entity\" style=\"background: #ddd; padding: 0.45em 0.6em; margin: 0 0.25em; line-height: 1; border-radius: 0.35em;\">\n",
       "    companies\n",
       "    <span style=\"font-size: 0.8em; font-weight: bold; line-height: 1; border-radius: 0.35em; vertical-align: middle; margin-left: 0.5rem\">organization</span>\n",
       "</mark>\n",
       " and \n",
       "<mark class=\"entity\" style=\"background: #ddd; padding: 0.45em 0.6em; margin: 0 0.25em; line-height: 1; border-radius: 0.35em;\">\n",
       "    trusts\n",
       "    <span style=\"font-size: 0.8em; font-weight: bold; line-height: 1; border-radius: 0.35em; vertical-align: middle; margin-left: 0.5rem\">organization</span>\n",
       "</mark>\n",
       " set up in tax havens. One recent study estimated that real estate worth between $5 trillion and $10 trillion — or about as much as the total wealth of Spain — could be owned through offshore vehicles.<br>“Whether people are hiding from the \n",
       "<mark class=\"entity\" style=\"background: #ddd; padding: 0.45em 0.6em; margin: 0 0.25em; line-height: 1; border-radius: 0.35em;\">\n",
       "    tax authorities\n",
       "    <span style=\"font-size: 0.8em; font-weight: bold; line-height: 1; border-radius: 0.35em; vertical-align: middle; margin-left: 0.5rem\">organization</span>\n",
       "</mark>\n",
       " or \n",
       "<mark class=\"entity\" style=\"background: #ddd; padding: 0.45em 0.6em; margin: 0 0.25em; line-height: 1; border-radius: 0.35em;\">\n",
       "    law enforcement\n",
       "    <span style=\"font-size: 0.8em; font-weight: bold; line-height: 1; border-radius: 0.35em; vertical-align: middle; margin-left: 0.5rem\">organization</span>\n",
       "</mark>\n",
       ", or from the scrutiny of a trusting public, these transactions are about obtaining impunity,” said \n",
       "<mark class=\"entity\" style=\"background: #aa9cfc; padding: 0.45em 0.6em; margin: 0 0.25em; line-height: 1; border-radius: 0.35em;\">\n",
       "    Alex Cobham\n",
       "    <span style=\"font-size: 0.8em; font-weight: bold; line-height: 1; border-radius: 0.35em; vertical-align: middle; margin-left: 0.5rem\">person</span>\n",
       "</mark>\n",
       ", head of the \n",
       "<mark class=\"entity\" style=\"background: #ddd; padding: 0.45em 0.6em; margin: 0 0.25em; line-height: 1; border-radius: 0.35em;\">\n",
       "    Tax Justice Network\n",
       "    <span style=\"font-size: 0.8em; font-weight: bold; line-height: 1; border-radius: 0.35em; vertical-align: middle; margin-left: 0.5rem\">organization</span>\n",
       "</mark>\n",
       ", a tax fairness advocacy group.<br>The \n",
       "<mark class=\"entity\" style=\"background: #ddd; padding: 0.45em 0.6em; margin: 0 0.25em; line-height: 1; border-radius: 0.35em;\">\n",
       "    Pandora Papers\n",
       "    <span style=\"font-size: 0.8em; font-weight: bold; line-height: 1; border-radius: 0.35em; vertical-align: middle; margin-left: 0.5rem\">organization</span>\n",
       "</mark>\n",
       " are based on a leak of nearly 12 million records from 14 \n",
       "<mark class=\"entity\" style=\"background: #ddd; padding: 0.45em 0.6em; margin: 0 0.25em; line-height: 1; border-radius: 0.35em;\">\n",
       "    offshore service providers\n",
       "    <span style=\"font-size: 0.8em; font-weight: bold; line-height: 1; border-radius: 0.35em; vertical-align: middle; margin-left: 0.5rem\">organization</span>\n",
       "</mark>\n",
       ". Some of those providers explicitly pitch the use of \n",
       "<mark class=\"entity\" style=\"background: #ddd; padding: 0.45em 0.6em; margin: 0 0.25em; line-height: 1; border-radius: 0.35em;\">\n",
       "    offshore companies\n",
       "    <span style=\"font-size: 0.8em; font-weight: bold; line-height: 1; border-radius: 0.35em; vertical-align: middle; margin-left: 0.5rem\">organization</span>\n",
       "</mark>\n",
       " to buy real estate as a tax-avoidance technique.<br>According to Geneva-based \n",
       "<mark class=\"entity\" style=\"background: #ddd; padding: 0.45em 0.6em; margin: 0 0.25em; line-height: 1; border-radius: 0.35em;\">\n",
       "    SFM\n",
       "    <span style=\"font-size: 0.8em; font-weight: bold; line-height: 1; border-radius: 0.35em; vertical-align: middle; margin-left: 0.5rem\">organization</span>\n",
       "</mark>\n",
       ", which specializes in offshore company formation, owning property through an offshore shell company “enables the beneficial owner(s) to enjoy an improved tax-regime and reduce many of the costs associated with investing in property abroad.” Inheritance taxes, withholding taxes, taxes on land sales and capital gains taxes can all be reduced or eliminated, \n",
       "<mark class=\"entity\" style=\"background: #ddd; padding: 0.45em 0.6em; margin: 0 0.25em; line-height: 1; border-radius: 0.35em;\">\n",
       "    SFM\n",
       "    <span style=\"font-size: 0.8em; font-weight: bold; line-height: 1; border-radius: 0.35em; vertical-align: middle; margin-left: 0.5rem\">organization</span>\n",
       "</mark>\n",
       " says on its website.<br>Leaked documents show that music superstar \n",
       "<mark class=\"entity\" style=\"background: #aa9cfc; padding: 0.45em 0.6em; margin: 0 0.25em; line-height: 1; border-radius: 0.35em;\">\n",
       "    Julio Iglesias\n",
       "    <span style=\"font-size: 0.8em; font-weight: bold; line-height: 1; border-radius: 0.35em; vertical-align: middle; margin-left: 0.5rem\">person</span>\n",
       "</mark>\n",
       " owns several multimillion-dollar properties in Miami through \n",
       "<mark class=\"entity\" style=\"background: #ddd; padding: 0.45em 0.6em; margin: 0 0.25em; line-height: 1; border-radius: 0.35em;\">\n",
       "    offshore companies\n",
       "    <span style=\"font-size: 0.8em; font-weight: bold; line-height: 1; border-radius: 0.35em; vertical-align: middle; margin-left: 0.5rem\">organization</span>\n",
       "</mark>\n",
       ". The \n",
       "<mark class=\"entity\" style=\"background: #aa9cfc; padding: 0.45em 0.6em; margin: 0 0.25em; line-height: 1; border-radius: 0.35em;\">\n",
       "    Florida attorney\n",
       "    <span style=\"font-size: 0.8em; font-weight: bold; line-height: 1; border-radius: 0.35em; vertical-align: middle; margin-left: 0.5rem\">person</span>\n",
       "</mark>\n",
       " listed as the contact for those firms was unequivocal about tax advantages of such structures for \n",
       "<mark class=\"entity\" style=\"background: #aa9cfc; padding: 0.45em 0.6em; margin: 0 0.25em; line-height: 1; border-radius: 0.35em;\">\n",
       "    clients\n",
       "    <span style=\"font-size: 0.8em; font-weight: bold; line-height: 1; border-radius: 0.35em; vertical-align: middle; margin-left: 0.5rem\">person</span>\n",
       "</mark>\n",
       " who are neither \n",
       "<mark class=\"entity\" style=\"background: #aa9cfc; padding: 0.45em 0.6em; margin: 0 0.25em; line-height: 1; border-radius: 0.35em;\">\n",
       "    U.S. citizens\n",
       "    <span style=\"font-size: 0.8em; font-weight: bold; line-height: 1; border-radius: 0.35em; vertical-align: middle; margin-left: 0.5rem\">person</span>\n",
       "</mark>\n",
       " nor permanent residents. He told \n",
       "<mark class=\"entity\" style=\"background: #ddd; padding: 0.45em 0.6em; margin: 0 0.25em; line-height: 1; border-radius: 0.35em;\">\n",
       "    ICIJ\n",
       "    <span style=\"font-size: 0.8em; font-weight: bold; line-height: 1; border-radius: 0.35em; vertical-align: middle; margin-left: 0.5rem\">organization</span>\n",
       "</mark>\n",
       " partners: “I have never advised \n",
       "<mark class=\"entity\" style=\"background: #aa9cfc; padding: 0.45em 0.6em; margin: 0 0.25em; line-height: 1; border-radius: 0.35em;\">\n",
       "    clients\n",
       "    <span style=\"font-size: 0.8em; font-weight: bold; line-height: 1; border-radius: 0.35em; vertical-align: middle; margin-left: 0.5rem\">person</span>\n",
       "</mark>\n",
       " to buy a property directly because that would be a terrible structure.”<br>The \n",
       "<mark class=\"entity\" style=\"background: #ddd; padding: 0.45em 0.6em; margin: 0 0.25em; line-height: 1; border-radius: 0.35em;\">\n",
       "    Pandora Papers\n",
       "    <span style=\"font-size: 0.8em; font-weight: bold; line-height: 1; border-radius: 0.35em; vertical-align: middle; margin-left: 0.5rem\">organization</span>\n",
       "</mark>\n",
       " revealed that former British Prime Minister \n",
       "<mark class=\"entity\" style=\"background: #aa9cfc; padding: 0.45em 0.6em; margin: 0 0.25em; line-height: 1; border-radius: 0.35em;\">\n",
       "    Tony Blair\n",
       "    <span style=\"font-size: 0.8em; font-weight: bold; line-height: 1; border-radius: 0.35em; vertical-align: middle; margin-left: 0.5rem\">person</span>\n",
       "</mark>\n",
       " — whose \n",
       "<mark class=\"entity\" style=\"background: #ddd; padding: 0.45em 0.6em; margin: 0 0.25em; line-height: 1; border-radius: 0.35em;\">\n",
       "    government\n",
       "    <span style=\"font-size: 0.8em; font-weight: bold; line-height: 1; border-radius: 0.35em; vertical-align: middle; margin-left: 0.5rem\">organization</span>\n",
       "</mark>\n",
       " had tried to curtail tax avoidance by offshore property buyers — and his barrister wife, \n",
       "<mark class=\"entity\" style=\"background: #aa9cfc; padding: 0.45em 0.6em; margin: 0 0.25em; line-height: 1; border-radius: 0.35em;\">\n",
       "    Cherie Blair\n",
       "    <span style=\"font-size: 0.8em; font-weight: bold; line-height: 1; border-radius: 0.35em; vertical-align: middle; margin-left: 0.5rem\">person</span>\n",
       "</mark>\n",
       ", saved close to half a million dollars in taxes by buying a London townhouse through an \n",
       "<mark class=\"entity\" style=\"background: #ddd; padding: 0.45em 0.6em; margin: 0 0.25em; line-height: 1; border-radius: 0.35em;\">\n",
       "    offshore company\n",
       "    <span style=\"font-size: 0.8em; font-weight: bold; line-height: 1; border-radius: 0.35em; vertical-align: middle; margin-left: 0.5rem\">organization</span>\n",
       "</mark>\n",
       ".<br>\n",
       "<mark class=\"entity\" style=\"background: #aa9cfc; padding: 0.45em 0.6em; margin: 0 0.25em; line-height: 1; border-radius: 0.35em;\">\n",
       "    Stephen\n",
       "    <span style=\"font-size: 0.8em; font-weight: bold; line-height: 1; border-radius: 0.35em; vertical-align: middle; margin-left: 0.5rem\">person</span>\n",
       "</mark>\n",
       " and \n",
       "<mark class=\"entity\" style=\"background: #aa9cfc; padding: 0.45em 0.6em; margin: 0 0.25em; line-height: 1; border-radius: 0.35em;\">\n",
       "    Anthony de Heinrich\n",
       "    <span style=\"font-size: 0.8em; font-weight: bold; line-height: 1; border-radius: 0.35em; vertical-align: middle; margin-left: 0.5rem\">person</span>\n",
       "</mark>\n",
       ", heirs to a multimillion-dollar oil fortune, invested in \n",
       "<mark class=\"entity\" style=\"background: #ddd; padding: 0.45em 0.6em; margin: 0 0.25em; line-height: 1; border-radius: 0.35em;\">\n",
       "    Tasmanian dairy\n",
       "    <span style=\"font-size: 0.8em; font-weight: bold; line-height: 1; border-radius: 0.35em; vertical-align: middle; margin-left: 0.5rem\">organization</span>\n",
       "</mark>\n",
       " farms through an \n",
       "<mark class=\"entity\" style=\"background: #ddd; padding: 0.45em 0.6em; margin: 0 0.25em; line-height: 1; border-radius: 0.35em;\">\n",
       "    offshore company\n",
       "    <span style=\"font-size: 0.8em; font-weight: bold; line-height: 1; border-radius: 0.35em; vertical-align: middle; margin-left: 0.5rem\">organization</span>\n",
       "</mark>\n",
       " intended to reduce their tax burden.<br>And the development arm of the \n",
       "<mark class=\"entity\" style=\"background: #ddd; padding: 0.45em 0.6em; margin: 0 0.25em; line-height: 1; border-radius: 0.35em;\">\n",
       "    World Bank\n",
       "    <span style=\"font-size: 0.8em; font-weight: bold; line-height: 1; border-radius: 0.35em; vertical-align: middle; margin-left: 0.5rem\">organization</span>\n",
       "</mark>\n",
       " committed up to $7.5 million to a \n",
       "<mark class=\"entity\" style=\"background: #ddd; padding: 0.45em 0.6em; margin: 0 0.25em; line-height: 1; border-radius: 0.35em;\">\n",
       "    fund\n",
       "    <span style=\"font-size: 0.8em; font-weight: bold; line-height: 1; border-radius: 0.35em; vertical-align: middle; margin-left: 0.5rem\">organization</span>\n",
       "</mark>\n",
       " whose Cambodian hotel investment was routed through a Singapore structure designed to reduce the \n",
       "<mark class=\"entity\" style=\"background: #ddd; padding: 0.45em 0.6em; margin: 0 0.25em; line-height: 1; border-radius: 0.35em;\">\n",
       "    fund\n",
       "    <span style=\"font-size: 0.8em; font-weight: bold; line-height: 1; border-radius: 0.35em; vertical-align: middle; margin-left: 0.5rem\">organization</span>\n",
       "</mark>\n",
       "’s tax bills.<br>\n",
       "<mark class=\"entity\" style=\"background: #aa9cfc; padding: 0.45em 0.6em; margin: 0 0.25em; line-height: 1; border-radius: 0.35em;\">\n",
       "    Cherie Blair\n",
       "    <span style=\"font-size: 0.8em; font-weight: bold; line-height: 1; border-radius: 0.35em; vertical-align: middle; margin-left: 0.5rem\">person</span>\n",
       "</mark>\n",
       " told \n",
       "<mark class=\"entity\" style=\"background: #ddd; padding: 0.45em 0.6em; margin: 0 0.25em; line-height: 1; border-radius: 0.35em;\">\n",
       "    ICIJ\n",
       "    <span style=\"font-size: 0.8em; font-weight: bold; line-height: 1; border-radius: 0.35em; vertical-align: middle; margin-left: 0.5rem\">organization</span>\n",
       "</mark>\n",
       " partners that there was “nothing unusual or underhand” about the couple’s property purchase, and she said that she had made sure the property was held through a \n",
       "<mark class=\"entity\" style=\"background: #ddd; padding: 0.45em 0.6em; margin: 0 0.25em; line-height: 1; border-radius: 0.35em;\">\n",
       "    U.K company\n",
       "    <span style=\"font-size: 0.8em; font-weight: bold; line-height: 1; border-radius: 0.35em; vertical-align: middle; margin-left: 0.5rem\">organization</span>\n",
       "</mark>\n",
       " after the transaction.<br>A spokesman for the \n",
       "<mark class=\"entity\" style=\"background: #ddd; padding: 0.45em 0.6em; margin: 0 0.25em; line-height: 1; border-radius: 0.35em;\">\n",
       "    World Bank\n",
       "    <span style=\"font-size: 0.8em; font-weight: bold; line-height: 1; border-radius: 0.35em; vertical-align: middle; margin-left: 0.5rem\">organization</span>\n",
       "</mark>\n",
       "’s development fund told \n",
       "<mark class=\"entity\" style=\"background: #ddd; padding: 0.45em 0.6em; margin: 0 0.25em; line-height: 1; border-radius: 0.35em;\">\n",
       "    ICIJ\n",
       "    <span style=\"font-size: 0.8em; font-weight: bold; line-height: 1; border-radius: 0.35em; vertical-align: middle; margin-left: 0.5rem\">organization</span>\n",
       "</mark>\n",
       " that its indirect investment in the \n",
       "<mark class=\"entity\" style=\"background: #ddd; padding: 0.45em 0.6em; margin: 0 0.25em; line-height: 1; border-radius: 0.35em;\">\n",
       "    Cambodian hotel group\n",
       "    <span style=\"font-size: 0.8em; font-weight: bold; line-height: 1; border-radius: 0.35em; vertical-align: middle; margin-left: 0.5rem\">organization</span>\n",
       "</mark>\n",
       " was intended to “create significant numbers of jobs and supply essential goods and services to their local populations.”<br>\n",
       "<mark class=\"entity\" style=\"background: #aa9cfc; padding: 0.45em 0.6em; margin: 0 0.25em; line-height: 1; border-radius: 0.35em;\">\n",
       "    Legislators\n",
       "    <span style=\"font-size: 0.8em; font-weight: bold; line-height: 1; border-radius: 0.35em; vertical-align: middle; margin-left: 0.5rem\">person</span>\n",
       "</mark>\n",
       " in the U.S., responding to the \n",
       "<mark class=\"entity\" style=\"background: #ddd; padding: 0.45em 0.6em; margin: 0 0.25em; line-height: 1; border-radius: 0.35em;\">\n",
       "    Pandora Papers\n",
       "    <span style=\"font-size: 0.8em; font-weight: bold; line-height: 1; border-radius: 0.35em; vertical-align: middle; margin-left: 0.5rem\">organization</span>\n",
       "</mark>\n",
       " investigation, have proposed requiring \n",
       "<mark class=\"entity\" style=\"background: #aa9cfc; padding: 0.45em 0.6em; margin: 0 0.25em; line-height: 1; border-radius: 0.35em;\">\n",
       "    lawyers\n",
       "    <span style=\"font-size: 0.8em; font-weight: bold; line-height: 1; border-radius: 0.35em; vertical-align: middle; margin-left: 0.5rem\">person</span>\n",
       "</mark>\n",
       " and real estate agents to perform more rigorous background checks on their \n",
       "<mark class=\"entity\" style=\"background: #aa9cfc; padding: 0.45em 0.6em; margin: 0 0.25em; line-height: 1; border-radius: 0.35em;\">\n",
       "    clients\n",
       "    <span style=\"font-size: 0.8em; font-weight: bold; line-height: 1; border-radius: 0.35em; vertical-align: middle; margin-left: 0.5rem\">person</span>\n",
       "</mark>\n",
       " and their \n",
       "<mark class=\"entity\" style=\"background: #aa9cfc; padding: 0.45em 0.6em; margin: 0 0.25em; line-height: 1; border-radius: 0.35em;\">\n",
       "    clients\n",
       "    <span style=\"font-size: 0.8em; font-weight: bold; line-height: 1; border-radius: 0.35em; vertical-align: middle; margin-left: 0.5rem\">person</span>\n",
       "</mark>\n",
       "’ wealth. A division of the \n",
       "<mark class=\"entity\" style=\"background: #ddd; padding: 0.45em 0.6em; margin: 0 0.25em; line-height: 1; border-radius: 0.35em;\">\n",
       "    Treasury Department\n",
       "    <span style=\"font-size: 0.8em; font-weight: bold; line-height: 1; border-radius: 0.35em; vertical-align: middle; margin-left: 0.5rem\">organization</span>\n",
       "</mark>\n",
       " that investigates money laundering has said it will require more information about the \n",
       "<mark class=\"entity\" style=\"background: #aa9cfc; padding: 0.45em 0.6em; margin: 0 0.25em; line-height: 1; border-radius: 0.35em;\">\n",
       "    true owners\n",
       "    <span style=\"font-size: 0.8em; font-weight: bold; line-height: 1; border-radius: 0.35em; vertical-align: middle; margin-left: 0.5rem\">person</span>\n",
       "</mark>\n",
       " of homes owned through \n",
       "<mark class=\"entity\" style=\"background: #ddd; padding: 0.45em 0.6em; margin: 0 0.25em; line-height: 1; border-radius: 0.35em;\">\n",
       "    shell companies\n",
       "    <span style=\"font-size: 0.8em; font-weight: bold; line-height: 1; border-radius: 0.35em; vertical-align: middle; margin-left: 0.5rem\">organization</span>\n",
       "</mark>\n",
       ".<br>But to date, \n",
       "<mark class=\"entity\" style=\"background: #ddd; padding: 0.45em 0.6em; margin: 0 0.25em; line-height: 1; border-radius: 0.35em;\">\n",
       "    authorities\n",
       "    <span style=\"font-size: 0.8em; font-weight: bold; line-height: 1; border-radius: 0.35em; vertical-align: middle; margin-left: 0.5rem\">organization</span>\n",
       "</mark>\n",
       " have done little to try to prevent the common — and legal — use of offshore vehicles to lower tax bills on property purchases.<br>\n",
       "<mark class=\"entity\" style=\"background: #aa9cfc; padding: 0.45em 0.6em; margin: 0 0.25em; line-height: 1; border-radius: 0.35em;\">\n",
       "    Cobham\n",
       "    <span style=\"font-size: 0.8em; font-weight: bold; line-height: 1; border-radius: 0.35em; vertical-align: middle; margin-left: 0.5rem\">person</span>\n",
       "</mark>\n",
       ", of the \n",
       "<mark class=\"entity\" style=\"background: #ddd; padding: 0.45em 0.6em; margin: 0 0.25em; line-height: 1; border-radius: 0.35em;\">\n",
       "    Tax Justice Network\n",
       "    <span style=\"font-size: 0.8em; font-weight: bold; line-height: 1; border-radius: 0.35em; vertical-align: middle; margin-left: 0.5rem\">organization</span>\n",
       "</mark>\n",
       ", said that the ability of the wealthy and well-connected to avoid taxes by using offshore companies and trusts was a way of “locking in” inequality.<br>“We need to eliminate, definitively, any kind of tax advantage that can be obtained simply by dressing up a transaction with an \n",
       "<mark class=\"entity\" style=\"background: #ddd; padding: 0.45em 0.6em; margin: 0 0.25em; line-height: 1; border-radius: 0.35em;\">\n",
       "    offshore company\n",
       "    <span style=\"font-size: 0.8em; font-weight: bold; line-height: 1; border-radius: 0.35em; vertical-align: middle; margin-left: 0.5rem\">organization</span>\n",
       "</mark>\n",
       ",” he said.<br>Contributors: \n",
       "<mark class=\"entity\" style=\"background: #aa9cfc; padding: 0.45em 0.6em; margin: 0 0.25em; line-height: 1; border-radius: 0.35em;\">\n",
       "    Jelena Cosic\n",
       "    <span style=\"font-size: 0.8em; font-weight: bold; line-height: 1; border-radius: 0.35em; vertical-align: middle; margin-left: 0.5rem\">person</span>\n",
       "</mark>\n",
       "<br>Explore nine case studies that show how investors are not only putting money into luxury real estate, a traditional store of wealth, but also a diverse range of properties from farms to suburban rental homes.<br>Reporters: \n",
       "<mark class=\"entity\" style=\"background: #aa9cfc; padding: 0.45em 0.6em; margin: 0 0.25em; line-height: 1; border-radius: 0.35em;\">\n",
       "    Scilla Alecci\n",
       "    <span style=\"font-size: 0.8em; font-weight: bold; line-height: 1; border-radius: 0.35em; vertical-align: middle; margin-left: 0.5rem\">person</span>\n",
       "</mark>\n",
       ", \n",
       "<mark class=\"entity\" style=\"background: #aa9cfc; padding: 0.45em 0.6em; margin: 0 0.25em; line-height: 1; border-radius: 0.35em;\">\n",
       "    Will Fitzgibbon\n",
       "    <span style=\"font-size: 0.8em; font-weight: bold; line-height: 1; border-radius: 0.35em; vertical-align: middle; margin-left: 0.5rem\">person</span>\n",
       "</mark>\n",
       ", \n",
       "<mark class=\"entity\" style=\"background: #aa9cfc; padding: 0.45em 0.6em; margin: 0 0.25em; line-height: 1; border-radius: 0.35em;\">\n",
       "    Margot Gibbs\n",
       "    <span style=\"font-size: 0.8em; font-weight: bold; line-height: 1; border-radius: 0.35em; vertical-align: middle; margin-left: 0.5rem\">person</span>\n",
       "</mark>\n",
       ", \n",
       "<mark class=\"entity\" style=\"background: #aa9cfc; padding: 0.45em 0.6em; margin: 0 0.25em; line-height: 1; border-radius: 0.35em;\">\n",
       "    Sean McGoey\n",
       "    <span style=\"font-size: 0.8em; font-weight: bold; line-height: 1; border-radius: 0.35em; vertical-align: middle; margin-left: 0.5rem\">person</span>\n",
       "</mark>\n",
       ", \n",
       "<mark class=\"entity\" style=\"background: #aa9cfc; padding: 0.45em 0.6em; margin: 0 0.25em; line-height: 1; border-radius: 0.35em;\">\n",
       "    Spencer Woodman\n",
       "    <span style=\"font-size: 0.8em; font-weight: bold; line-height: 1; border-radius: 0.35em; vertical-align: middle; margin-left: 0.5rem\">person</span>\n",
       "</mark>\n",
       "<br>Contributed reporting: \n",
       "<mark class=\"entity\" style=\"background: #aa9cfc; padding: 0.45em 0.6em; margin: 0 0.25em; line-height: 1; border-radius: 0.35em;\">\n",
       "    Uri Blau\n",
       "    <span style=\"font-size: 0.8em; font-weight: bold; line-height: 1; border-radius: 0.35em; vertical-align: middle; margin-left: 0.5rem\">person</span>\n",
       "</mark>\n",
       ", \n",
       "<mark class=\"entity\" style=\"background: #aa9cfc; padding: 0.45em 0.6em; margin: 0 0.25em; line-height: 1; border-radius: 0.35em;\">\n",
       "    Petra Blum\n",
       "    <span style=\"font-size: 0.8em; font-weight: bold; line-height: 1; border-radius: 0.35em; vertical-align: middle; margin-left: 0.5rem\">person</span>\n",
       "</mark>\n",
       ", \n",
       "<mark class=\"entity\" style=\"background: #aa9cfc; padding: 0.45em 0.6em; margin: 0 0.25em; line-height: 1; border-radius: 0.35em;\">\n",
       "    Simon Goodley\n",
       "    <span style=\"font-size: 0.8em; font-weight: bold; line-height: 1; border-radius: 0.35em; vertical-align: middle; margin-left: 0.5rem\">person</span>\n",
       "</mark>\n",
       ", \n",
       "<mark class=\"entity\" style=\"background: #aa9cfc; padding: 0.45em 0.6em; margin: 0 0.25em; line-height: 1; border-radius: 0.35em;\">\n",
       "    Luke Harding\n",
       "    <span style=\"font-size: 0.8em; font-weight: bold; line-height: 1; border-radius: 0.35em; vertical-align: middle; margin-left: 0.5rem\">person</span>\n",
       "</mark>\n",
       ", \n",
       "<mark class=\"entity\" style=\"background: #aa9cfc; padding: 0.45em 0.6em; margin: 0 0.25em; line-height: 1; border-radius: 0.35em;\">\n",
       "    Echo Hui\n",
       "    <span style=\"font-size: 0.8em; font-weight: bold; line-height: 1; border-radius: 0.35em; vertical-align: middle; margin-left: 0.5rem\">person</span>\n",
       "</mark>\n",
       ", \n",
       "<mark class=\"entity\" style=\"background: #aa9cfc; padding: 0.45em 0.6em; margin: 0 0.25em; line-height: 1; border-radius: 0.35em;\">\n",
       "    Anna Kluhspies\n",
       "    <span style=\"font-size: 0.8em; font-weight: bold; line-height: 1; border-radius: 0.35em; vertical-align: middle; margin-left: 0.5rem\">person</span>\n",
       "</mark>\n",
       ", \n",
       "<mark class=\"entity\" style=\"background: #aa9cfc; padding: 0.45em 0.6em; margin: 0 0.25em; line-height: 1; border-radius: 0.35em;\">\n",
       "    Latashia Naidoo\n",
       "    <span style=\"font-size: 0.8em; font-weight: bold; line-height: 1; border-radius: 0.35em; vertical-align: middle; margin-left: 0.5rem\">person</span>\n",
       "</mark>\n",
       ", \n",
       "<mark class=\"entity\" style=\"background: #aa9cfc; padding: 0.45em 0.6em; margin: 0 0.25em; line-height: 1; border-radius: 0.35em;\">\n",
       "    Miranda Patrucic\n",
       "    <span style=\"font-size: 0.8em; font-weight: bold; line-height: 1; border-radius: 0.35em; vertical-align: middle; margin-left: 0.5rem\">person</span>\n",
       "</mark>\n",
       ", \n",
       "<mark class=\"entity\" style=\"background: #aa9cfc; padding: 0.45em 0.6em; margin: 0 0.25em; line-height: 1; border-radius: 0.35em;\">\n",
       "    Rory Tinman\n",
       "    <span style=\"font-size: 0.8em; font-weight: bold; line-height: 1; border-radius: 0.35em; vertical-align: middle; margin-left: 0.5rem\">person</span>\n",
       "</mark>\n",
       "<br>Editors: \n",
       "<mark class=\"entity\" style=\"background: #aa9cfc; padding: 0.45em 0.6em; margin: 0 0.25em; line-height: 1; border-radius: 0.35em;\">\n",
       "    Asraa Mustufa\n",
       "    <span style=\"font-size: 0.8em; font-weight: bold; line-height: 1; border-radius: 0.35em; vertical-align: middle; margin-left: 0.5rem\">person</span>\n",
       "</mark>\n",
       ", \n",
       "<mark class=\"entity\" style=\"background: #aa9cfc; padding: 0.45em 0.6em; margin: 0 0.25em; line-height: 1; border-radius: 0.35em;\">\n",
       "    Ben Hallman\n",
       "    <span style=\"font-size: 0.8em; font-weight: bold; line-height: 1; border-radius: 0.35em; vertical-align: middle; margin-left: 0.5rem\">person</span>\n",
       "</mark>\n",
       "<br>Data and research: \n",
       "<mark class=\"entity\" style=\"background: #aa9cfc; padding: 0.45em 0.6em; margin: 0 0.25em; line-height: 1; border-radius: 0.35em;\">\n",
       "    Agustin Armendariz\n",
       "    <span style=\"font-size: 0.8em; font-weight: bold; line-height: 1; border-radius: 0.35em; vertical-align: middle; margin-left: 0.5rem\">person</span>\n",
       "</mark>\n",
       ", \n",
       "<mark class=\"entity\" style=\"background: #aa9cfc; padding: 0.45em 0.6em; margin: 0 0.25em; line-height: 1; border-radius: 0.35em;\">\n",
       "    Jelena Cosic\n",
       "    <span style=\"font-size: 0.8em; font-weight: bold; line-height: 1; border-radius: 0.35em; vertical-align: middle; margin-left: 0.5rem\">person</span>\n",
       "</mark>\n",
       ", \n",
       "<mark class=\"entity\" style=\"background: #aa9cfc; padding: 0.45em 0.6em; margin: 0 0.25em; line-height: 1; border-radius: 0.35em;\">\n",
       "    Emilia Díaz-Struck\n",
       "    <span style=\"font-size: 0.8em; font-weight: bold; line-height: 1; border-radius: 0.35em; vertical-align: middle; margin-left: 0.5rem\">person</span>\n",
       "</mark>\n",
       "<br>Fact check: \n",
       "<mark class=\"entity\" style=\"background: #aa9cfc; padding: 0.45em 0.6em; margin: 0 0.25em; line-height: 1; border-radius: 0.35em;\">\n",
       "    Richard H.P. Sia\n",
       "    <span style=\"font-size: 0.8em; font-weight: bold; line-height: 1; border-radius: 0.35em; vertical-align: middle; margin-left: 0.5rem\">person</span>\n",
       "</mark>\n",
       ", \n",
       "<mark class=\"entity\" style=\"background: #aa9cfc; padding: 0.45em 0.6em; margin: 0 0.25em; line-height: 1; border-radius: 0.35em;\">\n",
       "    Kathleen Cahill\n",
       "    <span style=\"font-size: 0.8em; font-weight: bold; line-height: 1; border-radius: 0.35em; vertical-align: middle; margin-left: 0.5rem\">person</span>\n",
       "</mark>\n",
       "<br>Design and development: \n",
       "<mark class=\"entity\" style=\"background: #aa9cfc; padding: 0.45em 0.6em; margin: 0 0.25em; line-height: 1; border-radius: 0.35em;\">\n",
       "    Antonio Cucho Gamboa\n",
       "    <span style=\"font-size: 0.8em; font-weight: bold; line-height: 1; border-radius: 0.35em; vertical-align: middle; margin-left: 0.5rem\">person</span>\n",
       "</mark>\n",
       "<br>Illustrations: \n",
       "<mark class=\"entity\" style=\"background: #aa9cfc; padding: 0.45em 0.6em; margin: 0 0.25em; line-height: 1; border-radius: 0.35em;\">\n",
       "    Rocco Fazzari\n",
       "    <span style=\"font-size: 0.8em; font-weight: bold; line-height: 1; border-radius: 0.35em; vertical-align: middle; margin-left: 0.5rem\">person</span>\n",
       "</mark>\n",
       "</div></span>"
      ],
      "text/plain": [
       "<IPython.core.display.HTML object>"
      ]
     },
     "metadata": {},
     "output_type": "display_data"
    }
   ],
   "source": [
    "doc = nlp(docs[0])\n",
    "displacy.render(doc, style=\"ent\")"
   ]
  },
  {
   "cell_type": "markdown",
   "id": "b86e2e37-409c-4e61-9752-8f4622a324d1",
   "metadata": {
    "jp-MarkdownHeadingCollapsed": true
   },
   "source": [
    "## using a dbpedia_trie as input for the zshot entity linker"
   ]
  },
  {
   "cell_type": "code",
   "execution_count": 13,
   "id": "d005c3ff-d253-41e1-ad94-8ec05d94f972",
   "metadata": {
    "execution": {
     "iopub.execute_input": "2024-08-17T20:26:47.057412Z",
     "iopub.status.busy": "2024-08-17T20:26:47.054184Z",
     "iopub.status.idle": "2024-08-17T20:27:56.446664Z",
     "shell.execute_reply": "2024-08-17T20:27:56.445638Z",
     "shell.execute_reply.started": "2024-08-17T20:26:47.057003Z"
    }
   },
   "outputs": [],
   "source": [
    "import spacy\n",
    "import zshot\n",
    "from zshot import PipelineConfig, displacy\n",
    "from zshot.linker import LinkerRegen\n",
    "from zshot.linker.linker_regen.utils import load_dbpedia_trie, load_wikipedia_trie\n",
    "from zshot.mentions_extractor import MentionsExtractorSpacy\n",
    "from zshot.utils.mappings import spans_to_dbpedia, spans_to_wikipedia\n",
    "\n",
    "dbpedia_trie = load_dbpedia_trie()"
   ]
  },
  {
   "cell_type": "code",
   "execution_count": null,
   "id": "bafc380a-8580-40c4-948a-5ffca506e027",
   "metadata": {},
   "outputs": [],
   "source": [
    "nlp_dbpedia = spacy.load(\"en_core_web_md\")\n",
    "nlp_config = PipelineConfig(\n",
    "    mentions_extractor=MentionsExtractorSpacy(), linker=LinkerRegen(trie=dbpedia_trie)\n",
    ")\n",
    "nlp_dbpedia.add_pipe(\"zshot\", config=nlp_config, last=True)"
   ]
  },
  {
   "cell_type": "code",
   "execution_count": 15,
   "id": "6ce491c9-b4ab-40b4-8dc8-bc74af98f05e",
   "metadata": {
    "execution": {
     "iopub.execute_input": "2024-08-17T20:37:10.749880Z",
     "iopub.status.busy": "2024-08-17T20:37:10.748233Z",
     "iopub.status.idle": "2024-08-17T20:39:13.249406Z",
     "shell.execute_reply": "2024-08-17T20:39:13.248324Z",
     "shell.execute_reply.started": "2024-08-17T20:37:10.749828Z"
    }
   },
   "outputs": [
    {
     "name": "stderr",
     "output_type": "stream",
     "text": [
      "/Users/louis.guitton/workspace/senzing/erkg-tutorials-graphgeeks/venv/lib/python3.10/site-packages/transformers/tokenization_utils_base.py:1601: FutureWarning: `clean_up_tokenization_spaces` was not set. It will be set to `True` by default. This behavior will be depracted in transformers v4.45, and will be then set to `False` by default. For more details check this issue: https://github.com/huggingface/transformers/issues/31884\n",
      "  warnings.warn(\n",
      "/Users/louis.guitton/workspace/senzing/erkg-tutorials-graphgeeks/venv/lib/python3.10/site-packages/torch/nn/modules/module.py:1553: UserWarning: Implicit dimension choice for softmax has been deprecated. Change the call to include dim=X as an argument.\n",
      "  return self._call_impl(*args, **kwargs)\n"
     ]
    },
    {
     "data": {
      "text/html": [
       "<span class=\"tex2jax_ignore\"><div class=\"entities\" style=\"line-height: 2.5; direction: ltr\">CH2O2 is a chemical compound similar to \n",
       "<mark class=\"entity\" style=\"background: #b19673; padding: 0.45em 0.6em; margin: 0 0.25em; line-height: 1; border-radius: 0.35em;\">\n",
       "    Acetamide\n",
       "    <span style=\"font-size: 0.8em; font-weight: bold; line-height: 1; border-radius: 0.35em; vertical-align: middle; margin-left: 0.5rem\">Acetamide</span>\n",
       "</mark>\n",
       " used in \n",
       "<mark class=\"entity\" style=\"background: #8ce36b; padding: 0.45em 0.6em; margin: 0 0.25em; line-height: 1; border-radius: 0.35em;\">\n",
       "    International Business Machines Corporation\n",
       "    <span style=\"font-size: 0.8em; font-weight: bold; line-height: 1; border-radius: 0.35em; vertical-align: middle; margin-left: 0.5rem\">IBM</span>\n",
       "</mark>\n",
       " (\n",
       "<mark class=\"entity\" style=\"background: #8ce36b; padding: 0.45em 0.6em; margin: 0 0.25em; line-height: 1; border-radius: 0.35em;\">\n",
       "    IBM\n",
       "    <span style=\"font-size: 0.8em; font-weight: bold; line-height: 1; border-radius: 0.35em; vertical-align: middle; margin-left: 0.5rem\">IBM</span>\n",
       "</mark>\n",
       ").</div></span>"
      ],
      "text/plain": [
       "<IPython.core.display.HTML object>"
      ]
     },
     "metadata": {},
     "output_type": "display_data"
    },
    {
     "name": "stdout",
     "output_type": "stream",
     "text": [
      "[(Acetamide, 'http://dbpedia.org/resource/Acetamide'), (International Business Machines Corporation, 'http://dbpedia.org/resource/IBM'), (IBM, 'http://dbpedia.org/resource/IBM')]\n"
     ]
    }
   ],
   "source": [
    "doc = nlp_dbpedia(\n",
    "    \"CH2O2 is a chemical compound similar to Acetamide used in International Business \"\n",
    "    \"Machines Corporation (IBM).\"\n",
    ")\n",
    "displacy.render(doc, style=\"ent\")\n",
    "print(list(zip(doc.ents, spans_to_dbpedia(doc._.spans))))"
   ]
  },
  {
   "cell_type": "code",
   "execution_count": 23,
   "id": "3a75156a-c3c3-4f72-9f0b-c89591d85f33",
   "metadata": {
    "execution": {
     "iopub.execute_input": "2024-08-17T20:50:04.698631Z",
     "iopub.status.busy": "2024-08-17T20:50:04.697857Z",
     "iopub.status.idle": "2024-08-17T20:50:04.723447Z",
     "shell.execute_reply": "2024-08-17T20:50:04.722324Z",
     "shell.execute_reply.started": "2024-08-17T20:50:04.698589Z"
    }
   },
   "outputs": [
    {
     "data": {
      "text/plain": [
       "Secret real estate purchases are a driving force behind the offshore economy.\n",
       "No longer content with Miami condos and London townhouses, investors are pouring money into properties in all corners of the world, fueling inequality and driving up prices, Pandora Papers investigation reveals."
      ]
     },
     "execution_count": 23,
     "metadata": {},
     "output_type": "execute_result"
    }
   ],
   "source": [
    "docs[0][:50]"
   ]
  },
  {
   "cell_type": "code",
   "execution_count": 27,
   "id": "ebbaa9ca-d029-4ede-b5e5-5119439168cf",
   "metadata": {
    "execution": {
     "iopub.execute_input": "2024-08-17T20:51:11.456144Z",
     "iopub.status.busy": "2024-08-17T20:51:11.454400Z",
     "iopub.status.idle": "2024-08-17T20:51:48.594744Z",
     "shell.execute_reply": "2024-08-17T20:51:48.594289Z",
     "shell.execute_reply.started": "2024-08-17T20:51:11.456080Z"
    }
   },
   "outputs": [],
   "source": [
    "doc = nlp_dbpedia(docs[0][:100].text)"
   ]
  },
  {
   "cell_type": "code",
   "execution_count": 28,
   "id": "24053d3e-6c41-4f19-a552-18769d977e40",
   "metadata": {
    "execution": {
     "iopub.execute_input": "2024-08-17T20:51:50.655324Z",
     "iopub.status.busy": "2024-08-17T20:51:50.653791Z",
     "iopub.status.idle": "2024-08-17T20:51:50.671711Z",
     "shell.execute_reply": "2024-08-17T20:51:50.670866Z",
     "shell.execute_reply.started": "2024-08-17T20:51:50.655264Z"
    },
    "scrolled": true
   },
   "outputs": [
    {
     "data": {
      "text/html": [
       "<span class=\"tex2jax_ignore\"><div class=\"entities\" style=\"line-height: 2.5; direction: ltr\">Secret real estate purchases are a driving force behind the offshore economy.<br>No longer content with \n",
       "<mark class=\"entity\" style=\"background: #ab8771; padding: 0.45em 0.6em; margin: 0 0.25em; line-height: 1; border-radius: 0.35em;\">\n",
       "    Miami\n",
       "    <span style=\"font-size: 0.8em; font-weight: bold; line-height: 1; border-radius: 0.35em; vertical-align: middle; margin-left: 0.5rem\">Miami</span>\n",
       "</mark>\n",
       " condos and \n",
       "<mark class=\"entity\" style=\"background: #d6b767; padding: 0.45em 0.6em; margin: 0 0.25em; line-height: 1; border-radius: 0.35em;\">\n",
       "    London\n",
       "    <span style=\"font-size: 0.8em; font-weight: bold; line-height: 1; border-radius: 0.35em; vertical-align: middle; margin-left: 0.5rem\">London</span>\n",
       "</mark>\n",
       " townhouses, investors are pouring money into properties in all corners of the world, fueling inequality and driving up prices, \n",
       "<mark class=\"entity\" style=\"background: #78a964; padding: 0.45em 0.6em; margin: 0 0.25em; line-height: 1; border-radius: 0.35em;\">\n",
       "    Pandora Papers\n",
       "    <span style=\"font-size: 0.8em; font-weight: bold; line-height: 1; border-radius: 0.35em; vertical-align: middle; margin-left: 0.5rem\">The Panama Papers</span>\n",
       "</mark>\n",
       " investigation reveals.<br>\n",
       "<mark class=\"entity\" style=\"background: #a3a86c; padding: 0.45em 0.6em; margin: 0 0.25em; line-height: 1; border-radius: 0.35em;\">\n",
       "    Leaked\n",
       "    <span style=\"font-size: 0.8em; font-weight: bold; line-height: 1; border-radius: 0.35em; vertical-align: middle; margin-left: 0.5rem\">WikiLeaks</span>\n",
       "</mark>\n",
       " documents show that \n",
       "<mark class=\"entity\" style=\"background: #f2a870; padding: 0.45em 0.6em; margin: 0 0.25em; line-height: 1; border-radius: 0.35em;\">\n",
       "    Spanish\n",
       "    <span style=\"font-size: 0.8em; font-weight: bold; line-height: 1; border-radius: 0.35em; vertical-align: middle; margin-left: 0.5rem\">Spain</span>\n",
       "</mark>\n",
       " singer \n",
       "<mark class=\"entity\" style=\"background: #d79f70; padding: 0.45em 0.6em; margin: 0 0.25em; line-height: 1; border-radius: 0.35em;\">\n",
       "    Julio Iglesias\n",
       "    <span style=\"font-size: 0.8em; font-weight: bold; line-height: 1; border-radius: 0.35em; vertical-align: middle; margin-left: 0.5rem\">Julio Iglesias</span>\n",
       "</mark>\n",
       " owned properties in greater \n",
       "<mark class=\"entity\" style=\"background: #ab8771; padding: 0.45em 0.6em; margin: 0 0.25em; line-height: 1; border-radius: 0.35em;\">\n",
       "    Miami\n",
       "    <span style=\"font-size: 0.8em; font-weight: bold; line-height: 1; border-radius: 0.35em; vertical-align: middle; margin-left: 0.5rem\">Miami</span>\n",
       "</mark>\n",
       "’s \n",
       "<mark class=\"entity\" style=\"background: #9fc073; padding: 0.45em 0.6em; margin: 0 0.25em; line-height: 1; border-radius: 0.35em;\">\n",
       "    Indian Creek Village\n",
       "    <span style=\"font-size: 0.8em; font-weight: bold; line-height: 1; border-radius: 0.35em; vertical-align: middle; margin-left: 0.5rem\">Indian Creek Village</span>\n",
       "</mark>\n",
       ", which has become known as \n",
       "<mark class=\"entity\" style=\"background: #9fc073; padding: 0.45em 0.6em; margin: 0 0.25em; line-height: 1; border-radius: 0.35em;\">\n",
       "    Billionaire’s Bunker\n",
       "    <span style=\"font-size: 0.8em; font-weight: bold; line-height: 1; border-radius: 0.35em; vertical-align: middle; margin-left: 0.5rem\">Indian Creek Village</span>\n",
       "</mark>\n",
       " or Billionaire’s \n",
       "<mark class=\"entity\" style=\"background: #6cce70; padding: 0.45em 0.6em; margin: 0 0.25em; line-height: 1; border-radius: 0.35em;\">\n",
       "    Island\n",
       "    <span style=\"font-size: 0.8em; font-weight: bold; line-height: 1; border-radius: 0.35em; vertical-align: middle; margin-left: 0.5rem\">Island</span>\n",
       "</mark>\n",
       ".<br>What do a \n",
       "<mark class=\"entity\" style=\"background: #84ac70; padding: 0.45em 0.6em; margin: 0 0.25em; line-height: 1; border-radius: 0.35em;\">\n",
       "    Beatle\n",
       "    <span style=\"font-size: 0.8em; font-weight: bold; line-height: 1; border-radius: 0.35em; vertical-align: middle; margin-left: 0.5rem\">The Beatles</span>\n",
       "</mark>\n",
       ", an autocrat’s daughter and a scandal-plagued \n",
       "<mark class=\"entity\" style=\"background: #a28a67; padding: 0.45em 0.6em; margin: 0 0.25em; line-height: 1; border-radius: 0.35em;\">\n",
       "    Catholic\n",
       "    <span style=\"font-size: 0.8em; font-weight: bold; line-height: 1; border-radius: 0.35em; vertical-align: middle; margin-left: 0.5rem\">Catholic Church</span>\n",
       "</mark>\n",
       " order have in</div></span>"
      ],
      "text/plain": [
       "<IPython.core.display.HTML object>"
      ]
     },
     "metadata": {},
     "output_type": "display_data"
    }
   ],
   "source": [
    "displacy.render(doc, style=\"ent\")"
   ]
  },
  {
   "cell_type": "code",
   "execution_count": null,
   "id": "1c8c2bef-d34f-49fe-9edc-0d22e650af60",
   "metadata": {},
   "outputs": [],
   "source": [
    "doc = nlp_dbpedia(docs[0])"
   ]
  },
  {
   "cell_type": "code",
   "execution_count": 32,
   "id": "2fce347d-50f7-4b61-be7c-01fd1248a241",
   "metadata": {
    "execution": {
     "iopub.execute_input": "2024-08-18T06:13:05.582499Z",
     "iopub.status.busy": "2024-08-18T06:13:05.582081Z",
     "iopub.status.idle": "2024-08-18T06:13:05.590402Z",
     "shell.execute_reply": "2024-08-18T06:13:05.587622Z",
     "shell.execute_reply.started": "2024-08-18T06:13:05.582467Z"
    }
   },
   "outputs": [],
   "source": [
    "e = doc.ents[0]"
   ]
  },
  {
   "cell_type": "code",
   "execution_count": 38,
   "id": "2659940c-9faa-4667-a300-3e4914a574b4",
   "metadata": {
    "execution": {
     "iopub.execute_input": "2024-08-18T06:13:44.046796Z",
     "iopub.status.busy": "2024-08-18T06:13:44.044223Z",
     "iopub.status.idle": "2024-08-18T06:13:44.059588Z",
     "shell.execute_reply": "2024-08-18T06:13:44.058802Z",
     "shell.execute_reply.started": "2024-08-18T06:13:44.046728Z"
    }
   },
   "outputs": [
    {
     "data": {
      "text/plain": [
       "'Miami'"
      ]
     },
     "execution_count": 38,
     "metadata": {},
     "output_type": "execute_result"
    }
   ],
   "source": [
    "e.label_"
   ]
  },
  {
   "cell_type": "markdown",
   "id": "a91cbebb-b8de-45dd-881f-c5dbb6ee6bd3",
   "metadata": {
    "jp-MarkdownHeadingCollapsed": true
   },
   "source": [
    "## Understanding dbpedia_map"
   ]
  },
  {
   "cell_type": "code",
   "execution_count": 40,
   "id": "327e8ab9-24dc-483b-a8fd-992e27ca666a",
   "metadata": {
    "execution": {
     "iopub.execute_input": "2024-08-18T06:18:10.475936Z",
     "iopub.status.busy": "2024-08-18T06:18:10.475721Z",
     "iopub.status.idle": "2024-08-18T06:18:10.478618Z",
     "shell.execute_reply": "2024-08-18T06:18:10.478115Z",
     "shell.execute_reply.started": "2024-08-18T06:18:10.475919Z"
    }
   },
   "outputs": [],
   "source": [
    "from huggingface_hub import hf_hub_download\n",
    "from zshot.config import MODELS_CACHE_PATH\n"
   ]
  },
  {
   "cell_type": "code",
   "execution_count": 77,
   "id": "f9cea2f2-332f-4a3c-a1cf-09e4ea364809",
   "metadata": {
    "execution": {
     "iopub.execute_input": "2024-09-01T11:28:53.325908Z",
     "iopub.status.busy": "2024-09-01T11:28:53.325064Z",
     "iopub.status.idle": "2024-09-01T11:28:53.834380Z",
     "shell.execute_reply": "2024-09-01T11:28:53.832605Z",
     "shell.execute_reply.started": "2024-09-01T11:28:53.325855Z"
    }
   },
   "outputs": [],
   "source": [
    "REPO_ID = \"ibm/regen-disambiguation\"\n",
    "WIKIPEDIA_MAP = \"wikipedia_map_id.json\"\n",
    "DBPEDIA_MAP = \"dbpedia_map_id.json\"\n",
    "\n",
    "dbpedia_map = hf_hub_download(repo_id=REPO_ID,\n",
    "                              repo_type='model',\n",
    "                              filename=DBPEDIA_MAP,\n",
    "                              cache_dir=MODELS_CACHE_PATH)"
   ]
  },
  {
   "cell_type": "code",
   "execution_count": 45,
   "id": "2e6012e3-2736-48e8-a9a5-1e0922defdca",
   "metadata": {
    "execution": {
     "iopub.execute_input": "2024-08-18T06:18:54.693886Z",
     "iopub.status.busy": "2024-08-18T06:18:54.693546Z",
     "iopub.status.idle": "2024-08-18T06:18:54.697249Z",
     "shell.execute_reply": "2024-08-18T06:18:54.696527Z",
     "shell.execute_reply.started": "2024-08-18T06:18:54.693865Z"
    }
   },
   "outputs": [],
   "source": [
    "import json"
   ]
  },
  {
   "cell_type": "code",
   "execution_count": 46,
   "id": "d659cf0a-ce70-4e20-b9ef-0f3588fc5e92",
   "metadata": {
    "execution": {
     "iopub.execute_input": "2024-08-18T06:18:55.234962Z",
     "iopub.status.busy": "2024-08-18T06:18:55.233886Z",
     "iopub.status.idle": "2024-08-18T06:19:08.062214Z",
     "shell.execute_reply": "2024-08-18T06:19:08.061607Z",
     "shell.execute_reply.started": "2024-08-18T06:18:55.234911Z"
    }
   },
   "outputs": [],
   "source": [
    "    with open(dbpedia_map, \"r\") as f:\n",
    "        dbpedia_map = json.load(f)"
   ]
  },
  {
   "cell_type": "code",
   "execution_count": 50,
   "id": "5fbee4e4-41f2-4354-9add-3017c0de4ff7",
   "metadata": {
    "execution": {
     "iopub.execute_input": "2024-08-18T06:20:58.291100Z",
     "iopub.status.busy": "2024-08-18T06:20:58.290348Z",
     "iopub.status.idle": "2024-08-18T06:20:58.306701Z",
     "shell.execute_reply": "2024-08-18T06:20:58.302100Z",
     "shell.execute_reply.started": "2024-08-18T06:20:58.291046Z"
    }
   },
   "outputs": [],
   "source": [
    "spans = doc._.spans"
   ]
  },
  {
   "cell_type": "code",
   "execution_count": 51,
   "id": "35006b7e-4e6e-4e9d-bc97-6d2caf5a4e02",
   "metadata": {
    "execution": {
     "iopub.execute_input": "2024-08-18T06:21:01.644312Z",
     "iopub.status.busy": "2024-08-18T06:21:01.643383Z",
     "iopub.status.idle": "2024-08-18T06:21:01.663550Z",
     "shell.execute_reply": "2024-08-18T06:21:01.661061Z",
     "shell.execute_reply.started": "2024-08-18T06:21:01.644261Z"
    }
   },
   "outputs": [],
   "source": [
    "links = [dbpedia_map[s.label] for s in spans if s.label in dbpedia_map]\n"
   ]
  },
  {
   "cell_type": "code",
   "execution_count": 54,
   "id": "e4757b5f-cfd9-4a61-8ca4-54ebc6ae7f1f",
   "metadata": {
    "execution": {
     "iopub.execute_input": "2024-08-18T06:23:02.156116Z",
     "iopub.status.busy": "2024-08-18T06:23:02.155039Z",
     "iopub.status.idle": "2024-08-18T06:23:09.441636Z",
     "shell.execute_reply": "2024-08-18T06:23:09.441068Z",
     "shell.execute_reply.started": "2024-08-18T06:23:02.156036Z"
    }
   },
   "outputs": [],
   "source": [
    "extract = {k: v for k,v in dbpedia_map.items() if k in [s.label for s in spans]}"
   ]
  },
  {
   "cell_type": "code",
   "execution_count": 55,
   "id": "7945cb0a-ef82-43d2-9b48-3b103f4534b7",
   "metadata": {
    "execution": {
     "iopub.execute_input": "2024-08-18T06:23:11.789323Z",
     "iopub.status.busy": "2024-08-18T06:23:11.786626Z",
     "iopub.status.idle": "2024-08-18T06:23:11.802253Z",
     "shell.execute_reply": "2024-08-18T06:23:11.801416Z",
     "shell.execute_reply.started": "2024-08-18T06:23:11.789244Z"
    }
   },
   "outputs": [
    {
     "data": {
      "text/plain": [
       "{'Island': 'http://dbpedia.org/resource/Island',\n",
       " 'London': 'http://dbpedia.org/resource/London',\n",
       " 'Spain': 'http://dbpedia.org/resource/Spain',\n",
       " 'The Beatles': 'http://dbpedia.org/resource/The_Beatles',\n",
       " 'Miami': 'http://dbpedia.org/resource/Miami',\n",
       " 'Catholic Church': 'http://dbpedia.org/resource/Catholic_Church',\n",
       " 'WikiLeaks': 'http://dbpedia.org/resource/WikiLeaks',\n",
       " 'Julio Iglesias': 'http://dbpedia.org/resource/Julio_Iglesias',\n",
       " 'Indian Creek Village': 'http://dbpedia.org/resource/Indian_Creek_Village',\n",
       " 'The Panama Papers': 'http://dbpedia.org/resource/The_Panama_Papers'}"
      ]
     },
     "execution_count": 55,
     "metadata": {},
     "output_type": "execute_result"
    }
   ],
   "source": [
    "extract"
   ]
  },
  {
   "cell_type": "code",
   "execution_count": 52,
   "id": "5b20c1aa-0198-4391-abd9-a8d1f8ec32db",
   "metadata": {
    "execution": {
     "iopub.execute_input": "2024-08-18T06:21:05.473450Z",
     "iopub.status.busy": "2024-08-18T06:21:05.473015Z",
     "iopub.status.idle": "2024-08-18T06:21:05.484483Z",
     "shell.execute_reply": "2024-08-18T06:21:05.483576Z",
     "shell.execute_reply.started": "2024-08-18T06:21:05.473418Z"
    }
   },
   "outputs": [
    {
     "data": {
      "text/plain": [
       "['http://dbpedia.org/resource/Miami',\n",
       " 'http://dbpedia.org/resource/London',\n",
       " 'http://dbpedia.org/resource/The_Panama_Papers',\n",
       " 'http://dbpedia.org/resource/WikiLeaks',\n",
       " 'http://dbpedia.org/resource/Spain',\n",
       " 'http://dbpedia.org/resource/Julio_Iglesias',\n",
       " 'http://dbpedia.org/resource/Miami',\n",
       " 'http://dbpedia.org/resource/Indian_Creek_Village',\n",
       " 'http://dbpedia.org/resource/Indian_Creek_Village',\n",
       " 'http://dbpedia.org/resource/Island',\n",
       " 'http://dbpedia.org/resource/The_Beatles',\n",
       " 'http://dbpedia.org/resource/Catholic_Church']"
      ]
     },
     "execution_count": 52,
     "metadata": {},
     "output_type": "execute_result"
    }
   ],
   "source": [
    "links"
   ]
  },
  {
   "cell_type": "code",
   "execution_count": 65,
   "id": "3591fe1b-c3ee-4029-b828-b54f3680bf06",
   "metadata": {
    "execution": {
     "iopub.execute_input": "2024-08-18T06:43:30.673630Z",
     "iopub.status.busy": "2024-08-18T06:43:30.669800Z",
     "iopub.status.idle": "2024-08-18T06:43:43.831071Z",
     "shell.execute_reply": "2024-08-18T06:43:43.830088Z",
     "shell.execute_reply.started": "2024-08-18T06:43:30.673548Z"
    },
    "scrolled": true
   },
   "outputs": [],
   "source": [
    "ents = list(zip(doc.ents, spans_to_dbpedia(doc._.spans)))"
   ]
  },
  {
   "cell_type": "code",
   "execution_count": 66,
   "id": "29bd3a11-ccb5-44c0-a794-4b3e18c46cc0",
   "metadata": {
    "execution": {
     "iopub.execute_input": "2024-08-18T06:43:51.173331Z",
     "iopub.status.busy": "2024-08-18T06:43:51.172586Z",
     "iopub.status.idle": "2024-08-18T06:43:51.191942Z",
     "shell.execute_reply": "2024-08-18T06:43:51.191495Z",
     "shell.execute_reply.started": "2024-08-18T06:43:51.173267Z"
    }
   },
   "outputs": [
    {
     "data": {
      "text/plain": [
       "[(Miami, 3790800195458886901, 'http://dbpedia.org/resource/Miami'),\n",
       " (London, 5392354317538386956, 'http://dbpedia.org/resource/London'),\n",
       " (Pandora Papers,\n",
       "  10110184371756829612,\n",
       "  'http://dbpedia.org/resource/The_Panama_Papers'),\n",
       " (Leaked, 2688538597917308737, 'http://dbpedia.org/resource/WikiLeaks'),\n",
       " (Spanish, 17549558730983322913, 'http://dbpedia.org/resource/Spain'),\n",
       " (Julio Iglesias,\n",
       "  9906224227672722029,\n",
       "  'http://dbpedia.org/resource/Julio_Iglesias'),\n",
       " (Miami, 3790800195458886901, 'http://dbpedia.org/resource/Miami'),\n",
       " (Indian Creek Village,\n",
       "  13920639356163037993,\n",
       "  'http://dbpedia.org/resource/Indian_Creek_Village'),\n",
       " (Billionaire’s Bunker,\n",
       "  13920639356163037993,\n",
       "  'http://dbpedia.org/resource/Indian_Creek_Village'),\n",
       " (Island, 13646871543569613410, 'http://dbpedia.org/resource/Island'),\n",
       " (Beatle, 16563320307198691821, 'http://dbpedia.org/resource/The_Beatles'),\n",
       " (Catholic,\n",
       "  1395476781778719295,\n",
       "  'http://dbpedia.org/resource/Catholic_Church')]"
      ]
     },
     "execution_count": 66,
     "metadata": {},
     "output_type": "execute_result"
    }
   ],
   "source": [
    "[(ent, ent.label, link) for ent,link in ents]"
   ]
  },
  {
   "cell_type": "code",
   "execution_count": 76,
   "id": "d71f530b-5853-41be-bc81-9caef438ef86",
   "metadata": {
    "execution": {
     "iopub.execute_input": "2024-09-01T11:28:49.922900Z",
     "iopub.status.busy": "2024-09-01T11:28:49.919632Z",
     "iopub.status.idle": "2024-09-01T11:28:50.105014Z",
     "shell.execute_reply": "2024-09-01T11:28:50.104570Z",
     "shell.execute_reply.started": "2024-09-01T11:28:49.922837Z"
    },
    "scrolled": true
   },
   "outputs": [
    {
     "data": {
      "text/plain": [
       "{'AccessibleComputing': 'http://dbpedia.org/resource/AccessibleComputing',\n",
       " 'AfghanistanHistory': 'http://dbpedia.org/resource/AfghanistanHistory',\n",
       " 'AfghanistanGeography': 'http://dbpedia.org/resource/AfghanistanGeography',\n",
       " 'AfghanistanPeople': 'http://dbpedia.org/resource/AfghanistanPeople',\n",
       " 'AfghanistanCommunications': 'http://dbpedia.org/resource/AfghanistanCommunications',\n",
       " 'AfghanistanTransportations': 'http://dbpedia.org/resource/AfghanistanTransportations',\n",
       " 'AfghanistanMilitary': 'http://dbpedia.org/resource/AfghanistanMilitary',\n",
       " 'AfghanistanTransnationalIssues': 'http://dbpedia.org/resource/AfghanistanTransnationalIssues',\n",
       " 'AssistiveTechnology': 'http://dbpedia.org/resource/AssistiveTechnology',\n",
       " 'AmoeboidTaxa': 'http://dbpedia.org/resource/AmoeboidTaxa',\n",
       " 'AlbaniaPeople': 'http://dbpedia.org/resource/AlbaniaPeople',\n",
       " 'AlbaniaHistory': 'http://dbpedia.org/resource/AlbaniaHistory',\n",
       " 'AsWeMayThink': 'http://dbpedia.org/resource/AsWeMayThink',\n",
       " 'AlbaniaEconomy': 'http://dbpedia.org/resource/AlbaniaEconomy',\n",
       " 'AlbaniaGovernment': 'http://dbpedia.org/resource/AlbaniaGovernment',\n",
       " 'AbacuS': 'http://dbpedia.org/resource/AbacuS',\n",
       " 'AbalonE': 'http://dbpedia.org/resource/AbalonE',\n",
       " 'AfroAsiaticLanguages': 'http://dbpedia.org/resource/AfroAsiaticLanguages',\n",
       " 'ArtificalLanguages': 'http://dbpedia.org/resource/ArtificalLanguages',\n",
       " 'AbbadideS': 'http://dbpedia.org/resource/AbbadideS',\n",
       " 'AbbesS': 'http://dbpedia.org/resource/AbbesS',\n",
       " 'AbbevilleFrance': 'http://dbpedia.org/resource/AbbevilleFrance',\n",
       " 'AbbeY': 'http://dbpedia.org/resource/AbbeY',\n",
       " 'AbboT': 'http://dbpedia.org/resource/AbboT',\n",
       " 'AtlasShrugged': 'http://dbpedia.org/resource/AtlasShrugged',\n",
       " 'Abbreviations': 'http://dbpedia.org/resource/Abbreviations',\n",
       " 'ArtificialLanguages': 'http://dbpedia.org/resource/ArtificialLanguages',\n",
       " 'AtlasShruggedCompanies': 'http://dbpedia.org/resource/AtlasShruggedCompanies',\n",
       " 'AtlasShruggedCharacters': 'http://dbpedia.org/resource/AtlasShruggedCharacters',\n",
       " 'AyersMusicPublishingCompany': 'http://dbpedia.org/resource/AyersMusicPublishingCompany',\n",
       " 'AfricanAmericanPeople': 'http://dbpedia.org/resource/AfricanAmericanPeople',\n",
       " 'AdolfHitler': 'http://dbpedia.org/resource/AdolfHitler',\n",
       " 'AbeceDarians': 'http://dbpedia.org/resource/AbeceDarians',\n",
       " 'AbeL': 'http://dbpedia.org/resource/AbeL',\n",
       " 'ArgumentsForTheExistenceOfGod': 'http://dbpedia.org/resource/ArgumentsForTheExistenceOfGod',\n",
       " 'AbensbergGermany': 'http://dbpedia.org/resource/AbensbergGermany',\n",
       " 'AberdeenSouthDakota': 'http://dbpedia.org/resource/AberdeenSouthDakota',\n",
       " 'ArthurKoestler': 'http://dbpedia.org/resource/ArthurKoestler',\n",
       " 'AcademyAwards': 'http://dbpedia.org/resource/AcademyAwards',\n",
       " 'AsciiArt': 'http://dbpedia.org/resource/AsciiArt',\n",
       " 'AlexanderTheGreat': 'http://dbpedia.org/resource/AlexanderTheGreat',\n",
       " 'AnchorageAlaska': 'http://dbpedia.org/resource/AnchorageAlaska',\n",
       " 'AnarchY': 'http://dbpedia.org/resource/AnarchY',\n",
       " 'ArgumentForms': 'http://dbpedia.org/resource/ArgumentForms',\n",
       " 'AynRand': 'http://dbpedia.org/resource/AynRand',\n",
       " 'AustriaLanguage': 'http://dbpedia.org/resource/AustriaLanguage',\n",
       " 'AcademyAwards/BestPicture': 'http://dbpedia.org/resource/AcademyAwards/BestPicture',\n",
       " 'AcademicElitism': 'http://dbpedia.org/resource/AcademicElitism',\n",
       " 'AxiomOfChoice': 'http://dbpedia.org/resource/AxiomOfChoice',\n",
       " 'AmericanFootball': 'http://dbpedia.org/resource/AmericanFootball',\n",
       " 'AnnaKournikova': 'http://dbpedia.org/resource/AnnaKournikova',\n",
       " 'AndorrA': 'http://dbpedia.org/resource/AndorrA',\n",
       " 'AnarchoCapitalism': 'http://dbpedia.org/resource/AnarchoCapitalism',\n",
       " 'ActresseS': 'http://dbpedia.org/resource/ActresseS',\n",
       " 'AnarchoCapitalists': 'http://dbpedia.org/resource/AnarchoCapitalists',\n",
       " 'ActressesS': 'http://dbpedia.org/resource/ActressesS',\n",
       " 'AutoMorphism': 'http://dbpedia.org/resource/AutoMorphism',\n",
       " 'AustroAsiaticLanguages': 'http://dbpedia.org/resource/AustroAsiaticLanguages',\n",
       " 'AnAmericanInParis': 'http://dbpedia.org/resource/AnAmericanInParis',\n",
       " 'ActionFilm': 'http://dbpedia.org/resource/ActionFilm',\n",
       " 'AfricA': 'http://dbpedia.org/resource/AfricA',\n",
       " 'AppliedStatistics': 'http://dbpedia.org/resource/AppliedStatistics',\n",
       " 'A': 'http://dbpedia.org/resource/A',\n",
       " 'Achilles': 'http://dbpedia.org/resource/Achilles',\n",
       " 'Action Film': 'http://dbpedia.org/resource/Action_Film',\n",
       " 'AutoRacing': 'http://dbpedia.org/resource/AutoRacing',\n",
       " 'Algeria/People': 'http://dbpedia.org/resource/Algeria/People',\n",
       " 'Algeria/Transnational Issues': 'http://dbpedia.org/resource/Algeria/Transnational_Issues',\n",
       " 'Topics of note in Atlas Shrugged': 'http://dbpedia.org/resource/Topics_of_note_in_Atlas_Shrugged',\n",
       " 'Actrius': 'http://dbpedia.org/resource/Actrius',\n",
       " 'Air Transport': 'http://dbpedia.org/resource/Air_Transport',\n",
       " 'International Atomic Time': 'http://dbpedia.org/resource/International_Atomic_Time',\n",
       " 'Agricultural science': 'http://dbpedia.org/resource/Agricultural_science',\n",
       " 'Animalia (book)': 'http://dbpedia.org/resource/Animalia_(book)',\n",
       " 'Ameboid stage': 'http://dbpedia.org/resource/Ameboid_stage',\n",
       " 'Alien': 'http://dbpedia.org/resource/Alien',\n",
       " 'List of Atlas Shrugged characters': 'http://dbpedia.org/resource/List_of_Atlas_Shrugged_characters',\n",
       " 'Alain Connes': 'http://dbpedia.org/resource/Alain_Connes',\n",
       " 'An American in Paris': 'http://dbpedia.org/resource/An_American_in_Paris',\n",
       " 'Albedo': 'http://dbpedia.org/resource/Albedo',\n",
       " 'Allan Dwan': 'http://dbpedia.org/resource/Allan_Dwan',\n",
       " 'Academy Award for Best Production Design': 'http://dbpedia.org/resource/Academy_Award_for_Best_Production_Design',\n",
       " 'Astronomer': 'http://dbpedia.org/resource/Astronomer',\n",
       " 'Ashmore And Cartier Islands': 'http://dbpedia.org/resource/Ashmore_And_Cartier_Islands',\n",
       " 'Austin (disambiguation)': 'http://dbpedia.org/resource/Austin_(disambiguation)',\n",
       " 'Artificial languages': 'http://dbpedia.org/resource/Artificial_languages',\n",
       " 'Afro-asiatic languages': 'http://dbpedia.org/resource/Afro-asiatic_languages',\n",
       " 'Andorra/Transnational issues': 'http://dbpedia.org/resource/Andorra/Transnational_issues',\n",
       " 'Albert Gore': 'http://dbpedia.org/resource/Albert_Gore',\n",
       " 'AnEnquiryConcerningHumanUnderstanding': 'http://dbpedia.org/resource/AnEnquiryConcerningHumanUnderstanding',\n",
       " 'Albert Arnold Gore/Criticisms': 'http://dbpedia.org/resource/Albert_Arnold_Gore/Criticisms',\n",
       " 'Arithmetic mean': 'http://dbpedia.org/resource/Arithmetic_mean',\n",
       " 'Auteur Theory Film': 'http://dbpedia.org/resource/Auteur_Theory_Film',\n",
       " 'Austroasiatic languages': 'http://dbpedia.org/resource/Austroasiatic_languages',\n",
       " 'American Football Conference': 'http://dbpedia.org/resource/American_Football_Conference',\n",
       " 'Aristotle': 'http://dbpedia.org/resource/Aristotle',\n",
       " 'Afroasiatic languages': 'http://dbpedia.org/resource/Afroasiatic_languages',\n",
       " 'Alchemy': 'http://dbpedia.org/resource/Alchemy',\n",
       " 'Altruism': 'http://dbpedia.org/resource/Altruism',\n",
       " 'Anthropology': 'http://dbpedia.org/resource/Anthropology',\n",
       " 'Abstract Algebra': 'http://dbpedia.org/resource/Abstract_Algebra',\n",
       " 'Ada': 'http://dbpedia.org/resource/Ada',\n",
       " 'Aberdeen (disambiguation)': 'http://dbpedia.org/resource/Aberdeen_(disambiguation)',\n",
       " 'ANOVA': 'http://dbpedia.org/resource/ANOVA',\n",
       " 'Arithmetic and logic unit': 'http://dbpedia.org/resource/Arithmetic_and_logic_unit',\n",
       " 'Actress': 'http://dbpedia.org/resource/Actress',\n",
       " 'Accessible computing': 'http://dbpedia.org/resource/Accessible_computing',\n",
       " 'Answer': 'http://dbpedia.org/resource/Answer',\n",
       " 'Apollo': 'http://dbpedia.org/resource/Apollo',\n",
       " 'Arraignment': 'http://dbpedia.org/resource/Arraignment',\n",
       " 'Appellate court': 'http://dbpedia.org/resource/Appellate_court',\n",
       " 'Argument (disambiguation)': 'http://dbpedia.org/resource/Argument_(disambiguation)',\n",
       " 'Academy Awards': 'http://dbpedia.org/resource/Academy_Awards',\n",
       " 'Anarchism': 'http://dbpedia.org/resource/Anarchism',\n",
       " 'Animation': 'http://dbpedia.org/resource/Animation',\n",
       " 'Aruba': 'http://dbpedia.org/resource/Aruba',\n",
       " 'Apollo 8': 'http://dbpedia.org/resource/Apollo_8',\n",
       " 'Andrei Tarkovsky': 'http://dbpedia.org/resource/Andrei_Tarkovsky',\n",
       " 'Astronaut': 'http://dbpedia.org/resource/Astronaut',\n",
       " 'Aardvark': 'http://dbpedia.org/resource/Aardvark',\n",
       " 'Aardwolf': 'http://dbpedia.org/resource/Aardwolf',\n",
       " 'Alphabet': 'http://dbpedia.org/resource/Alphabet',\n",
       " 'Andre Agassi': 'http://dbpedia.org/resource/Andre_Agassi',\n",
       " 'Astronomy/History': 'http://dbpedia.org/resource/Astronomy/History',\n",
       " 'List of anthropologists': 'http://dbpedia.org/resource/List_of_anthropologists',\n",
       " 'Animal Farm': 'http://dbpedia.org/resource/Animal_Farm',\n",
       " 'American National Standards Institute': 'http://dbpedia.org/resource/American_National_Standards_Institute',\n",
       " 'Appellate procedure in the United States': 'http://dbpedia.org/resource/Appellate_procedure_in_the_United_States',\n",
       " 'Acid': 'http://dbpedia.org/resource/Acid',\n",
       " 'Andorra': 'http://dbpedia.org/resource/Andorra',\n",
       " 'America the Beautiful': 'http://dbpedia.org/resource/America_the_Beautiful',\n",
       " 'Ayn Rand': 'http://dbpedia.org/resource/Ayn_Rand',\n",
       " 'A Modest Proposal': 'http://dbpedia.org/resource/A_Modest_Proposal',\n",
       " 'Analysis of variance': 'http://dbpedia.org/resource/Analysis_of_variance',\n",
       " 'Alkane': 'http://dbpedia.org/resource/Alkane',\n",
       " 'ASCII': 'http://dbpedia.org/resource/ASCII',\n",
       " 'Assistive technology': 'http://dbpedia.org/resource/Assistive_technology',\n",
       " 'Argument form': 'http://dbpedia.org/resource/Argument_form',\n",
       " 'Allotrope': 'http://dbpedia.org/resource/Allotrope',\n",
       " 'Aldous Huxley': 'http://dbpedia.org/resource/Aldous_Huxley',\n",
       " 'Alabama': 'http://dbpedia.org/resource/Alabama',\n",
       " 'Affirming the consequent': 'http://dbpedia.org/resource/Affirming_the_consequent',\n",
       " 'Abel': 'http://dbpedia.org/resource/Abel',\n",
       " 'Animal (disambiguation)': 'http://dbpedia.org/resource/Animal_(disambiguation)',\n",
       " 'Algeria': 'http://dbpedia.org/resource/Algeria',\n",
       " 'Amaltheia': 'http://dbpedia.org/resource/Amaltheia',\n",
       " 'Analysis of Variance': 'http://dbpedia.org/resource/Analysis_of_Variance',\n",
       " 'Abraham Lincoln': 'http://dbpedia.org/resource/Abraham_Lincoln',\n",
       " 'Ambiguity': 'http://dbpedia.org/resource/Ambiguity',\n",
       " 'Atomic number': 'http://dbpedia.org/resource/Atomic_number',\n",
       " 'Abacus': 'http://dbpedia.org/resource/Abacus',\n",
       " 'Adventure': 'http://dbpedia.org/resource/Adventure',\n",
       " 'Alaska': 'http://dbpedia.org/resource/Alaska',\n",
       " 'Asphalt': 'http://dbpedia.org/resource/Asphalt',\n",
       " 'Adobe': 'http://dbpedia.org/resource/Adobe',\n",
       " 'Algae': 'http://dbpedia.org/resource/Algae',\n",
       " 'Foreign relations of Angola': 'http://dbpedia.org/resource/Foreign_relations_of_Angola',\n",
       " 'Astronomy and Astrophysics/History': 'http://dbpedia.org/resource/Astronomy_and_Astrophysics/History',\n",
       " 'Al Gore/Criticisms': 'http://dbpedia.org/resource/Al_Gore/Criticisms',\n",
       " 'Anatomy': 'http://dbpedia.org/resource/Anatomy',\n",
       " 'Apollo 11': 'http://dbpedia.org/resource/Apollo_11',\n",
       " 'Agriculture': 'http://dbpedia.org/resource/Agriculture',\n",
       " 'Amphibian': 'http://dbpedia.org/resource/Amphibian',\n",
       " 'Asia': 'http://dbpedia.org/resource/Asia',\n",
       " 'Autism': 'http://dbpedia.org/resource/Autism',\n",
       " 'Politics of Angola': 'http://dbpedia.org/resource/Politics_of_Angola',\n",
       " 'Transport in Angola': 'http://dbpedia.org/resource/Transport_in_Angola',\n",
       " 'Aa River': 'http://dbpedia.org/resource/Aa_River',\n",
       " 'Archaeology/Broch': 'http://dbpedia.org/resource/Archaeology/Broch',\n",
       " 'Asia Minor (disambiguation)': 'http://dbpedia.org/resource/Asia_Minor_(disambiguation)',\n",
       " 'Demographics of Angola': 'http://dbpedia.org/resource/Demographics_of_Angola',\n",
       " 'Economy of Angola': 'http://dbpedia.org/resource/Economy_of_Angola',\n",
       " 'Arthur Schopenhauer': 'http://dbpedia.org/resource/Arthur_Schopenhauer',\n",
       " 'Articles of Confederation': 'http://dbpedia.org/resource/Articles_of_Confederation',\n",
       " 'Atlantic Ocean': 'http://dbpedia.org/resource/Atlantic_Ocean',\n",
       " 'Angola': 'http://dbpedia.org/resource/Angola',\n",
       " 'Alkali metal': 'http://dbpedia.org/resource/Alkali_metal',\n",
       " 'Albert Sidney Johnston': 'http://dbpedia.org/resource/Albert_Sidney_Johnston',\n",
       " 'Angolan Armed Forces': 'http://dbpedia.org/resource/Angolan_Armed_Forces',\n",
       " 'Android (robot)': 'http://dbpedia.org/resource/Android_(robot)',\n",
       " 'Actinopterygii': 'http://dbpedia.org/resource/Actinopterygii',\n",
       " 'Alberta': 'http://dbpedia.org/resource/Alberta',\n",
       " 'Algorithms (journal)': 'http://dbpedia.org/resource/Algorithms_(journal)',\n",
       " 'Antigua And Barbuda': 'http://dbpedia.org/resource/Antigua_And_Barbuda',\n",
       " 'Astronomers and Astrophysicists': 'http://dbpedia.org/resource/Astronomers_and_Astrophysicists',\n",
       " 'Albania/History': 'http://dbpedia.org/resource/Albania/History',\n",
       " 'Albania/People': 'http://dbpedia.org/resource/Albania/People',\n",
       " 'Albania/Transnational Issues': 'http://dbpedia.org/resource/Albania/Transnational_Issues',\n",
       " 'Albania/Foreign relations': 'http://dbpedia.org/resource/Albania/Foreign_relations',\n",
       " 'Agnostida': 'http://dbpedia.org/resource/Agnostida',\n",
       " 'Amateur astronomy': 'http://dbpedia.org/resource/Amateur_astronomy',\n",
       " 'Allah': 'http://dbpedia.org/resource/Allah',\n",
       " 'Art': 'http://dbpedia.org/resource/Art',\n",
       " 'Aikido': 'http://dbpedia.org/resource/Aikido',\n",
       " 'Albert Einstein': 'http://dbpedia.org/resource/Albert_Einstein',\n",
       " 'Afghanistan': 'http://dbpedia.org/resource/Afghanistan',\n",
       " 'A.E. van Vogt': 'http://dbpedia.org/resource/A.E._van_Vogt',\n",
       " 'AOLamer': 'http://dbpedia.org/resource/AOLamer',\n",
       " 'Abstract (law)': 'http://dbpedia.org/resource/Abstract_(law)',\n",
       " 'Atlas (disambiguation)': 'http://dbpedia.org/resource/Atlas_(disambiguation)',\n",
       " 'Anthophyta': 'http://dbpedia.org/resource/Anthophyta',\n",
       " 'Annual plant': 'http://dbpedia.org/resource/Annual_plant',\n",
       " 'Ampere': 'http://dbpedia.org/resource/Ampere',\n",
       " 'Albania': 'http://dbpedia.org/resource/Albania',\n",
       " 'Algorithm': 'http://dbpedia.org/resource/Algorithm',\n",
       " 'American Revolutionary War': 'http://dbpedia.org/resource/American_Revolutionary_War',\n",
       " 'Asterism': 'http://dbpedia.org/resource/Asterism',\n",
       " 'Aries (constellation)': 'http://dbpedia.org/resource/Aries_(constellation)',\n",
       " 'Asteroids (video game)': 'http://dbpedia.org/resource/Asteroids_(video_game)',\n",
       " 'Azerbaijan': 'http://dbpedia.org/resource/Azerbaijan',\n",
       " 'Alismatales': 'http://dbpedia.org/resource/Alismatales',\n",
       " 'Apiales': 'http://dbpedia.org/resource/Apiales',\n",
       " 'Asterales': 'http://dbpedia.org/resource/Asterales',\n",
       " 'Affidavit': 'http://dbpedia.org/resource/Affidavit',\n",
       " 'Alfred Korzybski': 'http://dbpedia.org/resource/Alfred_Korzybski',\n",
       " 'Allocution': 'http://dbpedia.org/resource/Allocution',\n",
       " 'Mouthwash': 'http://dbpedia.org/resource/Mouthwash',\n",
       " 'AlbaniaCommunications': 'http://dbpedia.org/resource/AlbaniaCommunications',\n",
       " 'Afghanistan/History': 'http://dbpedia.org/resource/Afghanistan/History',\n",
       " 'Afghanistan/Geography': 'http://dbpedia.org/resource/Afghanistan/Geography',\n",
       " 'Afghanistan/Government': 'http://dbpedia.org/resource/Afghanistan/Government',\n",
       " 'Afghanistan/People': 'http://dbpedia.org/resource/Afghanistan/People',\n",
       " 'Afghanistan/Economy': 'http://dbpedia.org/resource/Afghanistan/Economy',\n",
       " 'Afghanistan/Communications': 'http://dbpedia.org/resource/Afghanistan/Communications',\n",
       " 'Afghanistan/Military': 'http://dbpedia.org/resource/Afghanistan/Military',\n",
       " 'Asteroid': 'http://dbpedia.org/resource/Asteroid',\n",
       " 'Afghanistan/Transnational Issues': 'http://dbpedia.org/resource/Afghanistan/Transnational_Issues',\n",
       " 'Afghanistan (1911 Encyclopedia)': 'http://dbpedia.org/resource/Afghanistan_(1911_Encyclopedia)',\n",
       " 'Austrian German': 'http://dbpedia.org/resource/Austrian_German',\n",
       " 'Anaconda': 'http://dbpedia.org/resource/Anaconda',\n",
       " 'Museum of Work': 'http://dbpedia.org/resource/Museum_of_Work',\n",
       " 'Aegean Sea': 'http://dbpedia.org/resource/Aegean_Sea',\n",
       " 'Ancient civilization': 'http://dbpedia.org/resource/Ancient_civilization',\n",
       " 'American Film Institute': 'http://dbpedia.org/resource/American_Film_Institute',\n",
       " 'Aztlan Underground': 'http://dbpedia.org/resource/Aztlan_Underground',\n",
       " 'AU': 'http://dbpedia.org/resource/AU',\n",
       " 'Aland': 'http://dbpedia.org/resource/Aland',\n",
       " 'Abiotic factors': 'http://dbpedia.org/resource/Abiotic_factors',\n",
       " 'Austria/Transnational issues': 'http://dbpedia.org/resource/Austria/Transnational_issues',\n",
       " 'Anglican Church': 'http://dbpedia.org/resource/Anglican_Church',\n",
       " 'Aircraft': 'http://dbpedia.org/resource/Aircraft',\n",
       " 'Alfred Hitchcock': 'http://dbpedia.org/resource/Alfred_Hitchcock',\n",
       " 'Abortion': 'http://dbpedia.org/resource/Abortion',\n",
       " 'Asparagales': 'http://dbpedia.org/resource/Asparagales',\n",
       " 'Ankara': 'http://dbpedia.org/resource/Ankara',\n",
       " 'Arabic': 'http://dbpedia.org/resource/Arabic',\n",
       " 'Altaic languages': 'http://dbpedia.org/resource/Altaic_languages',\n",
       " 'Anime': 'http://dbpedia.org/resource/Anime',\n",
       " 'Alexander the Great': 'http://dbpedia.org/resource/Alexander_the_Great',\n",
       " 'Aberdeenshire': 'http://dbpedia.org/resource/Aberdeenshire',\n",
       " 'A Clockwork Orange (novel)': 'http://dbpedia.org/resource/A_Clockwork_Orange_(novel)',\n",
       " 'Aquarius (constellation)': 'http://dbpedia.org/resource/Aquarius_(constellation)',\n",
       " 'Alp Arslan': 'http://dbpedia.org/resource/Alp_Arslan',\n",
       " 'Alfred Nobel': 'http://dbpedia.org/resource/Alfred_Nobel',\n",
       " 'Axiom of choice': 'http://dbpedia.org/resource/Axiom_of_choice',\n",
       " 'Anatolia': 'http://dbpedia.org/resource/Anatolia',\n",
       " 'Attila': 'http://dbpedia.org/resource/Attila',\n",
       " 'Akira Kurosawa': 'http://dbpedia.org/resource/Akira_Kurosawa',\n",
       " 'Analog Brothers': 'http://dbpedia.org/resource/Analog_Brothers',\n",
       " 'Absolute majority': 'http://dbpedia.org/resource/Absolute_majority',\n",
       " 'Altenberg': 'http://dbpedia.org/resource/Altenberg',\n",
       " 'Accountancy': 'http://dbpedia.org/resource/Accountancy',\n",
       " 'Awk': 'http://dbpedia.org/resource/Awk',\n",
       " 'AgoraNomic': 'http://dbpedia.org/resource/AgoraNomic',\n",
       " 'Advanced Chemistry': 'http://dbpedia.org/resource/Advanced_Chemistry',\n",
       " 'Audi': 'http://dbpedia.org/resource/Audi',\n",
       " 'Apple Inc.': 'http://dbpedia.org/resource/Apple_Inc.',\n",
       " 'Aluminium': 'http://dbpedia.org/resource/Aluminium',\n",
       " 'Astatine': 'http://dbpedia.org/resource/Astatine',\n",
       " 'Andrey Markov': 'http://dbpedia.org/resource/Andrey_Markov',\n",
       " 'Angst': 'http://dbpedia.org/resource/Angst',\n",
       " 'Americium': 'http://dbpedia.org/resource/Americium',\n",
       " 'Anti-semitic': 'http://dbpedia.org/resource/Anti-semitic',\n",
       " 'Anti-semitism': 'http://dbpedia.org/resource/Anti-semitism',\n",
       " 'Anglican Communion': 'http://dbpedia.org/resource/Anglican_Communion',\n",
       " 'Arsenic': 'http://dbpedia.org/resource/Arsenic',\n",
       " 'Author': 'http://dbpedia.org/resource/Author',\n",
       " 'Archipelago': 'http://dbpedia.org/resource/Archipelago',\n",
       " 'Actinium': 'http://dbpedia.org/resource/Actinium',\n",
       " 'Andy Warhol': 'http://dbpedia.org/resource/Andy_Warhol',\n",
       " 'Alfons Maria Jakob': 'http://dbpedia.org/resource/Alfons_Maria_Jakob',\n",
       " 'Arne Kaijser': 'http://dbpedia.org/resource/Arne_Kaijser',\n",
       " 'Alexander Graham Bell': 'http://dbpedia.org/resource/Alexander_Graham_Bell',\n",
       " 'MessagePad': 'http://dbpedia.org/resource/MessagePad',\n",
       " 'Motor neuron disease': 'http://dbpedia.org/resource/Motor_neuron_disease',\n",
       " 'Amsterdam': 'http://dbpedia.org/resource/Amsterdam',\n",
       " 'A. E. van Vogt': 'http://dbpedia.org/resource/A._E._van_Vogt',\n",
       " 'Anna Kournikova': 'http://dbpedia.org/resource/Anna_Kournikova',\n",
       " 'ABBA': 'http://dbpedia.org/resource/ABBA',\n",
       " 'Argon': 'http://dbpedia.org/resource/Argon',\n",
       " 'Antimony': 'http://dbpedia.org/resource/Antimony',\n",
       " 'Ancient Egypt': 'http://dbpedia.org/resource/Ancient_Egypt',\n",
       " 'American Civil War': 'http://dbpedia.org/resource/American_Civil_War',\n",
       " 'Abugida': 'http://dbpedia.org/resource/Abugida',\n",
       " 'Allegiance': 'http://dbpedia.org/resource/Allegiance',\n",
       " 'Abjad': 'http://dbpedia.org/resource/Abjad',\n",
       " 'Arable land': 'http://dbpedia.org/resource/Arable_land',\n",
       " 'Agnosticism': 'http://dbpedia.org/resource/Agnosticism',\n",
       " 'A.A. Milne': 'http://dbpedia.org/resource/A.A._Milne',\n",
       " 'Automated Alice/IV': 'http://dbpedia.org/resource/Automated_Alice/IV',\n",
       " 'Automated Alice/V': 'http://dbpedia.org/resource/Automated_Alice/V',\n",
       " 'Automated Alice/VI': 'http://dbpedia.org/resource/Automated_Alice/VI',\n",
       " 'Automated Alice/VIII': 'http://dbpedia.org/resource/Automated_Alice/VIII',\n",
       " 'Automated Alice/IX': 'http://dbpedia.org/resource/Automated_Alice/IX',\n",
       " 'Automated Alice/VII': 'http://dbpedia.org/resource/Automated_Alice/VII',\n",
       " 'Atom': 'http://dbpedia.org/resource/Atom',\n",
       " 'Alpha': 'http://dbpedia.org/resource/Alpha',\n",
       " 'Alvin Toffler': 'http://dbpedia.org/resource/Alvin_Toffler',\n",
       " 'The Amazing Spider-Man': 'http://dbpedia.org/resource/The_Amazing_Spider-Man',\n",
       " 'Automated Alice/XII': 'http://dbpedia.org/resource/Automated_Alice/XII',\n",
       " 'Automated Alice/XI': 'http://dbpedia.org/resource/Automated_Alice/XI',\n",
       " 'Automated Alice/X': 'http://dbpedia.org/resource/Automated_Alice/X',\n",
       " 'Asteraceae': 'http://dbpedia.org/resource/Asteraceae',\n",
       " 'Aramaic alphabet': 'http://dbpedia.org/resource/Aramaic_alphabet',\n",
       " 'Albert Speer': 'http://dbpedia.org/resource/Albert_Speer',\n",
       " 'Apiaceae': 'http://dbpedia.org/resource/Apiaceae',\n",
       " 'American shot': 'http://dbpedia.org/resource/American_shot',\n",
       " 'Arguments for the existence of God': 'http://dbpedia.org/resource/Arguments_for_the_existence_of_God',\n",
       " 'Antigua and Barbuda': 'http://dbpedia.org/resource/Antigua_and_Barbuda',\n",
       " 'Agma': 'http://dbpedia.org/resource/Agma',\n",
       " 'Azincourt': 'http://dbpedia.org/resource/Azincourt',\n",
       " 'Automated Alice/I': 'http://dbpedia.org/resource/Automated_Alice/I',\n",
       " 'Automated Alice/III': 'http://dbpedia.org/resource/Automated_Alice/III',\n",
       " 'Automated Alice/II': 'http://dbpedia.org/resource/Automated_Alice/II',\n",
       " 'Anxiety': 'http://dbpedia.org/resource/Anxiety',\n",
       " 'Alumna': 'http://dbpedia.org/resource/Alumna',\n",
       " 'A. A. Milne': 'http://dbpedia.org/resource/A._A._Milne',\n",
       " 'Axiom': 'http://dbpedia.org/resource/Axiom',\n",
       " 'AM': 'http://dbpedia.org/resource/AM',\n",
       " 'Asociación Alumni': 'http://dbpedia.org/resource/Asociación_Alumni',\n",
       " 'Axon': 'http://dbpedia.org/resource/Axon',\n",
       " 'Acute disseminated encephalomyelitis': 'http://dbpedia.org/resource/Acute_disseminated_encephalomyelitis',\n",
       " 'AmbientCalculusOnline': 'http://dbpedia.org/resource/AmbientCalculusOnline',\n",
       " 'A priori and a posterior knowledge': 'http://dbpedia.org/resource/A_priori_and_a_posterior_knowledge',\n",
       " 'AmbientCalculiOnline': 'http://dbpedia.org/resource/AmbientCalculiOnline',\n",
       " 'A priori and a posteriori knowledge': 'http://dbpedia.org/resource/A_priori_and_a_posteriori_knowledge',\n",
       " 'Abdul Alhazred': 'http://dbpedia.org/resource/Abdul_Alhazred',\n",
       " 'August Derleth': 'http://dbpedia.org/resource/August_Derleth',\n",
       " 'Alps': 'http://dbpedia.org/resource/Alps',\n",
       " 'Ataxia': 'http://dbpedia.org/resource/Ataxia',\n",
       " 'Albert Camus': 'http://dbpedia.org/resource/Albert_Camus',\n",
       " 'Ada Lovelace': 'http://dbpedia.org/resource/Ada_Lovelace',\n",
       " 'Agatha Christie': 'http://dbpedia.org/resource/Agatha_Christie',\n",
       " 'Analog signal': 'http://dbpedia.org/resource/Analog_signal',\n",
       " 'Applied ethics': 'http://dbpedia.org/resource/Applied_ethics',\n",
       " 'The Plague': 'http://dbpedia.org/resource/The_Plague',\n",
       " 'Arecales': 'http://dbpedia.org/resource/Arecales',\n",
       " 'Absolute value': 'http://dbpedia.org/resource/Absolute_value',\n",
       " 'Miss Marple': 'http://dbpedia.org/resource/Miss_Marple',\n",
       " 'April': 'http://dbpedia.org/resource/April',\n",
       " 'August': 'http://dbpedia.org/resource/August',\n",
       " 'Hercule Poirot': 'http://dbpedia.org/resource/Hercule_Poirot',\n",
       " 'Aaron': 'http://dbpedia.org/resource/Aaron',\n",
       " 'April 6': 'http://dbpedia.org/resource/April_6',\n",
       " 'April 12': 'http://dbpedia.org/resource/April_12',\n",
       " 'Auto racing': 'http://dbpedia.org/resource/Auto_racing',\n",
       " 'Anarcho-capitalists': 'http://dbpedia.org/resource/Anarcho-capitalists',\n",
       " 'Aspect ratio': 'http://dbpedia.org/resource/Aspect_ratio',\n",
       " 'August 9': 'http://dbpedia.org/resource/August_9',\n",
       " 'Allen Ginsberg': 'http://dbpedia.org/resource/Allen_Ginsberg',\n",
       " 'Aalborg Municipality': 'http://dbpedia.org/resource/Aalborg_Municipality',\n",
       " 'Anarcho-capitalism': 'http://dbpedia.org/resource/Anarcho-capitalism',\n",
       " 'Albert Schweitzer': 'http://dbpedia.org/resource/Albert_Schweitzer',\n",
       " 'Aristophanes': 'http://dbpedia.org/resource/Aristophanes',\n",
       " 'April 15': 'http://dbpedia.org/resource/April_15',\n",
       " 'Aal': 'http://dbpedia.org/resource/Aal',\n",
       " 'August 22': 'http://dbpedia.org/resource/August_22',\n",
       " 'April 30': 'http://dbpedia.org/resource/April_30',\n",
       " 'August 27': 'http://dbpedia.org/resource/August_27',\n",
       " 'August 6': 'http://dbpedia.org/resource/August_6',\n",
       " 'Algebraically closed field': 'http://dbpedia.org/resource/Algebraically_closed_field',\n",
       " 'Achill Island': 'http://dbpedia.org/resource/Achill_Island',\n",
       " 'Anatoly Karpov': 'http://dbpedia.org/resource/Anatoly_Karpov',\n",
       " 'Alcohol': 'http://dbpedia.org/resource/Alcohol',\n",
       " 'Azerbaijan/Communications': 'http://dbpedia.org/resource/Azerbaijan/Communications',\n",
       " 'Azerbaijan/People': 'http://dbpedia.org/resource/Azerbaijan/People',\n",
       " 'Abscess': 'http://dbpedia.org/resource/Abscess',\n",
       " 'Analysis of variance/Degrees of freedom': 'http://dbpedia.org/resource/Analysis_of_variance/Degrees_of_freedom',\n",
       " 'Telecommunications in Antigua and Barbuda': 'http://dbpedia.org/resource/Telecommunications_in_Antigua_and_Barbuda',\n",
       " 'Algorithms for calculating variance': 'http://dbpedia.org/resource/Algorithms_for_calculating_variance',\n",
       " 'Analysis of variance/Random effects models': 'http://dbpedia.org/resource/Analysis_of_variance/Random_effects_models',\n",
       " 'Antigua and Barbuda/Transnational issues': 'http://dbpedia.org/resource/Antigua_and_Barbuda/Transnational_issues',\n",
       " \"All Souls' Day\": \"http://dbpedia.org/resource/All_Souls'_Day\",\n",
       " 'Alexis Carrel': 'http://dbpedia.org/resource/Alexis_Carrel',\n",
       " 'Anatole France': 'http://dbpedia.org/resource/Anatole_France',\n",
       " 'Applied statistics': 'http://dbpedia.org/resource/Applied_statistics',\n",
       " 'Northern cavefish': 'http://dbpedia.org/resource/Northern_cavefish',\n",
       " 'André Gide': 'http://dbpedia.org/resource/André_Gide',\n",
       " 'Amateur': 'http://dbpedia.org/resource/Amateur',\n",
       " 'Abatement': 'http://dbpedia.org/resource/Abatement',\n",
       " 'Austrian School': 'http://dbpedia.org/resource/Austrian_School',\n",
       " 'Demographics of Antigua and Barbuda': 'http://dbpedia.org/resource/Demographics_of_Antigua_and_Barbuda',\n",
       " 'Politics of Antigua and Barbuda': 'http://dbpedia.org/resource/Politics_of_Antigua_and_Barbuda',\n",
       " 'Geography of Azerbaijan': 'http://dbpedia.org/resource/Geography_of_Azerbaijan',\n",
       " 'Royal Antigua and Barbuda Defence Force': 'http://dbpedia.org/resource/Royal_Antigua_and_Barbuda_Defence_Force',\n",
       " 'Foreign relations of Azerbaijan': 'http://dbpedia.org/resource/Foreign_relations_of_Azerbaijan',\n",
       " 'Azerbaijani Armed Forces': 'http://dbpedia.org/resource/Azerbaijani_Armed_Forces',\n",
       " 'Economy of Azerbaijan': 'http://dbpedia.org/resource/Economy_of_Azerbaijan',\n",
       " 'Azerbaijan/Foreign relations': 'http://dbpedia.org/resource/Azerbaijan/Foreign_relations',\n",
       " 'Almond': 'http://dbpedia.org/resource/Almond',\n",
       " 'Politics of Armenia': 'http://dbpedia.org/resource/Politics_of_Armenia',\n",
       " 'Transport in Armenia': 'http://dbpedia.org/resource/Transport_in_Armenia',\n",
       " 'Argentina/Foreign relations': 'http://dbpedia.org/resource/Argentina/Foreign_relations',\n",
       " 'Argentina/Transnational issues': 'http://dbpedia.org/resource/Argentina/Transnational_issues',\n",
       " 'Geography of Armenia': 'http://dbpedia.org/resource/Geography_of_Armenia',\n",
       " 'Demographics of Armenia': 'http://dbpedia.org/resource/Demographics_of_Armenia',\n",
       " 'Transportation in American Samoa': 'http://dbpedia.org/resource/Transportation_in_American_Samoa',\n",
       " 'Australia/Transnational issues': 'http://dbpedia.org/resource/Australia/Transnational_issues',\n",
       " 'American Samoa/Military': 'http://dbpedia.org/resource/American_Samoa/Military',\n",
       " 'Politics of American Samoa': 'http://dbpedia.org/resource/Politics_of_American_Samoa',\n",
       " 'Economy of Armenia': 'http://dbpedia.org/resource/Economy_of_Armenia',\n",
       " 'August 13': 'http://dbpedia.org/resource/August_13',\n",
       " 'Algebraic number': 'http://dbpedia.org/resource/Algebraic_number',\n",
       " 'Amplitude modulation': 'http://dbpedia.org/resource/Amplitude_modulation',\n",
       " 'Abbot': 'http://dbpedia.org/resource/Abbot',\n",
       " 'Augustin-Jean Fresnel': 'http://dbpedia.org/resource/Augustin-Jean_Fresnel',\n",
       " 'Automorphism': 'http://dbpedia.org/resource/Automorphism',\n",
       " 'August 2': 'http://dbpedia.org/resource/August_2',\n",
       " \"America's National Game\": \"http://dbpedia.org/resource/America's_National_Game\",\n",
       " 'Atlantic (disambiguation)': 'http://dbpedia.org/resource/Atlantic_(disambiguation)',\n",
       " 'Aarhus': 'http://dbpedia.org/resource/Aarhus',\n",
       " 'Amhrann na bhFiann': 'http://dbpedia.org/resource/Amhrann_na_bhFiann',\n",
       " 'AK47': 'http://dbpedia.org/resource/AK47',\n",
       " 'The Ashes': 'http://dbpedia.org/resource/The_Ashes',\n",
       " 'Antisemitism': 'http://dbpedia.org/resource/Antisemitism',\n",
       " 'Foreign relations of Armenia': 'http://dbpedia.org/resource/Foreign_relations_of_Armenia',\n",
       " 'Abner Doubleday': 'http://dbpedia.org/resource/Abner_Doubleday',\n",
       " 'Analysis': 'http://dbpedia.org/resource/Analysis',\n",
       " 'Economy of American Samoa': 'http://dbpedia.org/resource/Economy_of_American_Samoa',\n",
       " 'Armed Forces of Armenia': 'http://dbpedia.org/resource/Armed_Forces_of_Armenia',\n",
       " 'Geography of American Samoa': 'http://dbpedia.org/resource/Geography_of_American_Samoa',\n",
       " 'Demographics of American Samoa': 'http://dbpedia.org/resource/Demographics_of_American_Samoa',\n",
       " 'Anguilla/Military': 'http://dbpedia.org/resource/Anguilla/Military',\n",
       " 'Anguilla/Transnational issues': 'http://dbpedia.org/resource/Anguilla/Transnational_issues',\n",
       " 'Atomic orbitals': 'http://dbpedia.org/resource/Atomic_orbitals',\n",
       " 'Applet': 'http://dbpedia.org/resource/Applet',\n",
       " 'Avicenna': 'http://dbpedia.org/resource/Avicenna',\n",
       " 'Alternative history': 'http://dbpedia.org/resource/Alternative_history',\n",
       " 'Allotropes': 'http://dbpedia.org/resource/Allotropes',\n",
       " 'Atomic': 'http://dbpedia.org/resource/Atomic',\n",
       " 'Artistic revolution': 'http://dbpedia.org/resource/Artistic_revolution',\n",
       " 'Asa': 'http://dbpedia.org/resource/Asa',\n",
       " 'Angle tribe': 'http://dbpedia.org/resource/Angle_tribe',\n",
       " 'Agrarianism': 'http://dbpedia.org/resource/Agrarianism',\n",
       " 'Afterlife': 'http://dbpedia.org/resource/Afterlife',\n",
       " 'Alloy': 'http://dbpedia.org/resource/Alloy',\n",
       " 'Amber Diceless Roleplaying Game': 'http://dbpedia.org/resource/Amber_Diceless_Roleplaying_Game',\n",
       " 'Athena': 'http://dbpedia.org/resource/Athena',\n",
       " 'Articles of Faith': 'http://dbpedia.org/resource/Articles_of_Faith',\n",
       " 'AphexTwin': 'http://dbpedia.org/resource/AphexTwin',\n",
       " 'Athene (disambiguation)': 'http://dbpedia.org/resource/Athene_(disambiguation)',\n",
       " 'Adelaide': 'http://dbpedia.org/resource/Adelaide',\n",
       " 'Astrometry': 'http://dbpedia.org/resource/Astrometry',\n",
       " 'Anaximander': 'http://dbpedia.org/resource/Anaximander',\n",
       " 'April 1': 'http://dbpedia.org/resource/April_1',\n",
       " 'Ardipithecus': 'http://dbpedia.org/resource/Ardipithecus',\n",
       " 'Architect': 'http://dbpedia.org/resource/Architect',\n",
       " 'Abbreviation': 'http://dbpedia.org/resource/Abbreviation',\n",
       " 'Aphrodite': 'http://dbpedia.org/resource/Aphrodite',\n",
       " 'Antisymmetric relation': 'http://dbpedia.org/resource/Antisymmetric_relation',\n",
       " 'Alan Garner': 'http://dbpedia.org/resource/Alan_Garner',\n",
       " 'Admiral Doenitz': 'http://dbpedia.org/resource/Admiral_Doenitz',\n",
       " 'Afro Celt Sound System': 'http://dbpedia.org/resource/Afro_Celt_Sound_System',\n",
       " 'Ancient philosophy': 'http://dbpedia.org/resource/Ancient_philosophy',\n",
       " 'APL': 'http://dbpedia.org/resource/APL',\n",
       " 'Anguilla': 'http://dbpedia.org/resource/Anguilla',\n",
       " 'Astronomical Units': 'http://dbpedia.org/resource/Astronomical_Units',\n",
       " 'Alfonso Aráu': 'http://dbpedia.org/resource/Alfonso_Aráu',\n",
       " 'Alpha ray': 'http://dbpedia.org/resource/Alpha_ray',\n",
       " 'Atomic bomb': 'http://dbpedia.org/resource/Atomic_bomb',\n",
       " 'Acoustic theory': 'http://dbpedia.org/resource/Acoustic_theory',\n",
       " 'Ashmore and Cartier Islands/Military': 'http://dbpedia.org/resource/Ashmore_and_Cartier_Islands/Military',\n",
       " 'Ashmore and Cartier Islands/Economy': 'http://dbpedia.org/resource/Ashmore_and_Cartier_Islands/Economy',\n",
       " 'Ashmore and Cartier Islands/Transportation': 'http://dbpedia.org/resource/Ashmore_and_Cartier_Islands/Transportation',\n",
       " 'Ashmore and Cartier Islands/Government': 'http://dbpedia.org/resource/Ashmore_and_Cartier_Islands/Government',\n",
       " 'Ashmore and Cartier Islands/People': 'http://dbpedia.org/resource/Ashmore_and_Cartier_Islands/People',\n",
       " 'Ashmore and Cartier Islands/Geography': 'http://dbpedia.org/resource/Ashmore_and_Cartier_Islands/Geography',\n",
       " 'Area': 'http://dbpedia.org/resource/Area',\n",
       " 'Telecommunications in Anguilla': 'http://dbpedia.org/resource/Telecommunications_in_Anguilla',\n",
       " 'Acoustics': 'http://dbpedia.org/resource/Acoustics',\n",
       " 'Actaeon': 'http://dbpedia.org/resource/Actaeon',\n",
       " 'Alternate history': 'http://dbpedia.org/resource/Alternate_history',\n",
       " 'Angle': 'http://dbpedia.org/resource/Angle',\n",
       " 'Artist': 'http://dbpedia.org/resource/Artist',\n",
       " 'Atomic physics': 'http://dbpedia.org/resource/Atomic_physics',\n",
       " 'Assembly line': 'http://dbpedia.org/resource/Assembly_line',\n",
       " 'Accordion': 'http://dbpedia.org/resource/Accordion',\n",
       " 'Extreme poverty': 'http://dbpedia.org/resource/Extreme_poverty',\n",
       " 'August 1': 'http://dbpedia.org/resource/August_1',\n",
       " 'Alpha decay': 'http://dbpedia.org/resource/Alpha_decay',\n",
       " 'Anisotropy': 'http://dbpedia.org/resource/Anisotropy',\n",
       " 'Aleister Crowley': 'http://dbpedia.org/resource/Aleister_Crowley',\n",
       " 'Amino acid': 'http://dbpedia.org/resource/Amino_acid',\n",
       " 'AI': 'http://dbpedia.org/resource/AI',\n",
       " 'August 3': 'http://dbpedia.org/resource/August_3',\n",
       " 'Argot': 'http://dbpedia.org/resource/Argot',\n",
       " 'April 26': 'http://dbpedia.org/resource/April_26',\n",
       " 'Athens': 'http://dbpedia.org/resource/Athens',\n",
       " 'Anglicanism': 'http://dbpedia.org/resource/Anglicanism',\n",
       " 'Antoninus Pius': 'http://dbpedia.org/resource/Antoninus_Pius',\n",
       " 'American (word)': 'http://dbpedia.org/resource/American_(word)',\n",
       " 'Ashoka': 'http://dbpedia.org/resource/Ashoka',\n",
       " 'Ada (programming language)': 'http://dbpedia.org/resource/Ada_(programming_language)',\n",
       " 'Arianism': 'http://dbpedia.org/resource/Arianism',\n",
       " 'Alfonso Cuarón': 'http://dbpedia.org/resource/Alfonso_Cuarón',\n",
       " 'Astronomical unit': 'http://dbpedia.org/resource/Astronomical_unit',\n",
       " 'Artificial intelligence': 'http://dbpedia.org/resource/Artificial_intelligence',\n",
       " 'Ashmore and Cartier Islands': 'http://dbpedia.org/resource/Ashmore_and_Cartier_Islands',\n",
       " 'Alexander Mackenzie (politician)': 'http://dbpedia.org/resource/Alexander_Mackenzie_(politician)',\n",
       " 'American Sign Language': 'http://dbpedia.org/resource/American_Sign_Language',\n",
       " 'Atomic orbital': 'http://dbpedia.org/resource/Atomic_orbital',\n",
       " 'List of Governors of Alabama': 'http://dbpedia.org/resource/List_of_Governors_of_Alabama',\n",
       " 'Geography of Alabama': 'http://dbpedia.org/resource/Geography_of_Alabama',\n",
       " 'Geography of Antarctica': 'http://dbpedia.org/resource/Geography_of_Antarctica',\n",
       " 'Economy of Antarctica': 'http://dbpedia.org/resource/Economy_of_Antarctica',\n",
       " 'Transport in Antarctica': 'http://dbpedia.org/resource/Transport_in_Antarctica',\n",
       " 'Government of Antarctica': 'http://dbpedia.org/resource/Government_of_Antarctica',\n",
       " 'Military of Antarctica': 'http://dbpedia.org/resource/Military_of_Antarctica',\n",
       " 'Augustus': 'http://dbpedia.org/resource/Augustus',\n",
       " 'Advanced Encryption Standard': 'http://dbpedia.org/resource/Advanced_Encryption_Standard',\n",
       " 'Analytical Engine': 'http://dbpedia.org/resource/Analytical_Engine',\n",
       " 'Alan Turing': 'http://dbpedia.org/resource/Alan_Turing',\n",
       " 'Antartic Treaty': 'http://dbpedia.org/resource/Antartic_Treaty',\n",
       " 'Algernon Swinburne': 'http://dbpedia.org/resource/Algernon_Swinburne',\n",
       " 'ALCS': 'http://dbpedia.org/resource/ALCS',\n",
       " 'Apocrypha/Tanakh': 'http://dbpedia.org/resource/Apocrypha/Tanakh',\n",
       " 'Abbadides': 'http://dbpedia.org/resource/Abbadides',\n",
       " 'Antarctic Treaty System': 'http://dbpedia.org/resource/Antarctic_Treaty_System',\n",
       " 'Alfred Lawson': 'http://dbpedia.org/resource/Alfred_Lawson',\n",
       " 'Apocrypha': 'http://dbpedia.org/resource/Apocrypha',\n",
       " 'Ames, Iowa': 'http://dbpedia.org/resource/Ames,_Iowa',\n",
       " 'Human abdomen': 'http://dbpedia.org/resource/Human_abdomen',\n",
       " 'Abduction': 'http://dbpedia.org/resource/Abduction',\n",
       " 'Abdominal surgery': 'http://dbpedia.org/resource/Abdominal_surgery',\n",
       " 'Abalone': 'http://dbpedia.org/resource/Abalone',\n",
       " \"Ada Byron's notes on the analytical engine\": \"http://dbpedia.org/resource/Ada_Byron's_notes_on_the_analytical_engine\",\n",
       " 'Augustine': 'http://dbpedia.org/resource/Augustine',\n",
       " 'The Alan Parsons Project': 'http://dbpedia.org/resource/The_Alan_Parsons_Project',\n",
       " 'Almost all': 'http://dbpedia.org/resource/Almost_all',\n",
       " 'Abensberg': 'http://dbpedia.org/resource/Abensberg',\n",
       " 'Abbess': 'http://dbpedia.org/resource/Abbess',\n",
       " 'Arminianism': 'http://dbpedia.org/resource/Arminianism',\n",
       " 'Antonio Gaudi/Sagrada Familia': 'http://dbpedia.org/resource/Antonio_Gaudi/Sagrada_Familia',\n",
       " 'Annales School': 'http://dbpedia.org/resource/Annales_School',\n",
       " 'A.D.': 'http://dbpedia.org/resource/A.D.',\n",
       " 'Americans with Disabilities Act of 1990/Findings and Purposes': 'http://dbpedia.org/resource/Americans_with_Disabilities_Act_of_1990/Findings_and_Purposes',\n",
       " 'Americans with Disabilities Act of 1990/Definitions': 'http://dbpedia.org/resource/Americans_with_Disabilities_Act_of_1990/Definitions',\n",
       " 'Americans with Disabilities Act of 1990/Title III': 'http://dbpedia.org/resource/Americans_with_Disabilities_Act_of_1990/Title_III',\n",
       " 'A.D': 'http://dbpedia.org/resource/A.D',\n",
       " 'Apache webserver': 'http://dbpedia.org/resource/Apache_webserver',\n",
       " 'Anderida': 'http://dbpedia.org/resource/Anderida',\n",
       " 'August 8': 'http://dbpedia.org/resource/August_8',\n",
       " 'April 16': 'http://dbpedia.org/resource/April_16',\n",
       " 'August 7': 'http://dbpedia.org/resource/August_7',\n",
       " 'Abbey': 'http://dbpedia.org/resource/Abbey',\n",
       " 'Park Güell': 'http://dbpedia.org/resource/Park_Güell',\n",
       " 'Aromatic hydrocarbon': 'http://dbpedia.org/resource/Aromatic_hydrocarbon',\n",
       " 'Arabian Prince': 'http://dbpedia.org/resource/Arabian_Prince',\n",
       " 'Casa Milà': 'http://dbpedia.org/resource/Casa_Milà',\n",
       " 'Casa Batlló': 'http://dbpedia.org/resource/Casa_Batlló',\n",
       " 'Antiparticle': 'http://dbpedia.org/resource/Antiparticle',\n",
       " 'Associative property': 'http://dbpedia.org/resource/Associative_property',\n",
       " 'Atanasoff–Berry computer': 'http://dbpedia.org/resource/Atanasoff–Berry_computer',\n",
       " 'Apache Software Foundation': 'http://dbpedia.org/resource/Apache_Software_Foundation',\n",
       " 'Americans with Disabilities Act of 1990': 'http://dbpedia.org/resource/Americans_with_Disabilities_Act_of_1990',\n",
       " 'Andes': 'http://dbpedia.org/resource/Andes',\n",
       " 'Amide': 'http://dbpedia.org/resource/Amide',\n",
       " 'Anno Domini': 'http://dbpedia.org/resource/Anno_Domini',\n",
       " 'Adiabatic process': 'http://dbpedia.org/resource/Adiabatic_process',\n",
       " 'Amine': 'http://dbpedia.org/resource/Amine',\n",
       " 'Amazing Grace': 'http://dbpedia.org/resource/Amazing_Grace',\n",
       " 'April 29': 'http://dbpedia.org/resource/April_29',\n",
       " 'August 14': 'http://dbpedia.org/resource/August_14',\n",
       " 'Alcuin': 'http://dbpedia.org/resource/Alcuin',\n",
       " 'Adrian I': 'http://dbpedia.org/resource/Adrian_I',\n",
       " 'Alabaster': 'http://dbpedia.org/resource/Alabaster',\n",
       " 'Ahab': 'http://dbpedia.org/resource/Ahab',\n",
       " 'Arachnophobia': 'http://dbpedia.org/resource/Arachnophobia',\n",
       " 'Ammonia': 'http://dbpedia.org/resource/Ammonia',\n",
       " 'Angilbert': 'http://dbpedia.org/resource/Angilbert',\n",
       " 'Dasyproctidae': 'http://dbpedia.org/resource/Dasyproctidae',\n",
       " 'Antony van Leeuwenhoek': 'http://dbpedia.org/resource/Antony_van_Leeuwenhoek',\n",
       " 'Antony van Leeuwenhook': 'http://dbpedia.org/resource/Antony_van_Leeuwenhook',\n",
       " 'AV': 'http://dbpedia.org/resource/AV',\n",
       " 'Amino group': 'http://dbpedia.org/resource/Amino_group',\n",
       " 'ADHD': 'http://dbpedia.org/resource/ADHD',\n",
       " 'ASIC (disambiguation)': 'http://dbpedia.org/resource/ASIC_(disambiguation)',\n",
       " 'Albertosaurus': 'http://dbpedia.org/resource/Albertosaurus',\n",
       " 'Amber': 'http://dbpedia.org/resource/Amber',\n",
       " 'Apple I': 'http://dbpedia.org/resource/Apple_I',\n",
       " 'Antimatter': 'http://dbpedia.org/resource/Antimatter',\n",
       " 'Apatosaurus': 'http://dbpedia.org/resource/Apatosaurus',\n",
       " 'Anagram': 'http://dbpedia.org/resource/Anagram',\n",
       " 'AK-47': 'http://dbpedia.org/resource/AK-47',\n",
       " 'Ancylopoda': 'http://dbpedia.org/resource/Ancylopoda',\n",
       " 'Anbar (town)': 'http://dbpedia.org/resource/Anbar_(town)',\n",
       " 'Anadyr River': 'http://dbpedia.org/resource/Anadyr_River',\n",
       " 'Anazarbus': 'http://dbpedia.org/resource/Anazarbus',\n",
       " 'Allosaurus': 'http://dbpedia.org/resource/Allosaurus',\n",
       " 'Anchor': 'http://dbpedia.org/resource/Anchor',\n",
       " 'Amalaric': 'http://dbpedia.org/resource/Amalaric',\n",
       " 'Alphorn': 'http://dbpedia.org/resource/Alphorn',\n",
       " 'Ambracia': 'http://dbpedia.org/resource/Ambracia',\n",
       " 'Alligatoridae': 'http://dbpedia.org/resource/Alligatoridae',\n",
       " 'Ambrosia': 'http://dbpedia.org/resource/Ambrosia',\n",
       " 'André-Marie Ampère': 'http://dbpedia.org/resource/André-Marie_Ampère',\n",
       " 'Army': 'http://dbpedia.org/resource/Army',\n",
       " 'Amethyst': 'http://dbpedia.org/resource/Amethyst',\n",
       " 'Alder': 'http://dbpedia.org/resource/Alder',\n",
       " 'Amos Bronson Alcott': 'http://dbpedia.org/resource/Amos_Bronson_Alcott',\n",
       " 'Assembly language': 'http://dbpedia.org/resource/Assembly_language',\n",
       " 'Ambrose': 'http://dbpedia.org/resource/Ambrose',\n",
       " 'Absolute zero': 'http://dbpedia.org/resource/Absolute_zero',\n",
       " 'Abraham': 'http://dbpedia.org/resource/Abraham',\n",
       " 'Abraxas': 'http://dbpedia.org/resource/Abraxas',\n",
       " 'Abydos, Egypt': 'http://dbpedia.org/resource/Abydos,_Egypt',\n",
       " 'Aare': 'http://dbpedia.org/resource/Aare',\n",
       " 'Abbotsford House': 'http://dbpedia.org/resource/Abbotsford_House',\n",
       " 'Absalom': 'http://dbpedia.org/resource/Absalom',\n",
       " 'Adrian': 'http://dbpedia.org/resource/Adrian',\n",
       " 'Abydos (Hellespont)': 'http://dbpedia.org/resource/Abydos_(Hellespont)',\n",
       " 'AOL': 'http://dbpedia.org/resource/AOL',\n",
       " 'Abydos': 'http://dbpedia.org/resource/Abydos',\n",
       " 'Abgar': 'http://dbpedia.org/resource/Abgar',\n",
       " 'Adrian VI': 'http://dbpedia.org/resource/Adrian_VI',\n",
       " 'August 15': 'http://dbpedia.org/resource/August_15',\n",
       " 'Assault': 'http://dbpedia.org/resource/Assault',\n",
       " 'APL (programming language)': 'http://dbpedia.org/resource/APL_(programming_language)',\n",
       " 'Acapulco': 'http://dbpedia.org/resource/Acapulco',\n",
       " 'Acacia sensu lato': 'http://dbpedia.org/resource/Acacia_sensu_lato',\n",
       " 'Alan Kay': 'http://dbpedia.org/resource/Alan_Kay',\n",
       " 'ALGOL': 'http://dbpedia.org/resource/ALGOL',\n",
       " 'AWK': 'http://dbpedia.org/resource/AWK',\n",
       " 'Asgard': 'http://dbpedia.org/resource/Asgard',\n",
       " 'August 16': 'http://dbpedia.org/resource/August_16',\n",
       " 'Ascorbic Acid': 'http://dbpedia.org/resource/Ascorbic_Acid',\n",
       " 'Alzheimers disease': 'http://dbpedia.org/resource/Alzheimers_disease',\n",
       " 'Algol': 'http://dbpedia.org/resource/Algol',\n",
       " 'Animism': 'http://dbpedia.org/resource/Animism',\n",
       " 'Antonio Vivaldi': 'http://dbpedia.org/resource/Antonio_Vivaldi',\n",
       " 'Adrian II': 'http://dbpedia.org/resource/Adrian_II',\n",
       " 'Adrian IV': 'http://dbpedia.org/resource/Adrian_IV',\n",
       " 'Australian Prime Ministers': 'http://dbpedia.org/resource/Australian_Prime_Ministers',\n",
       " 'Álfheimr': 'http://dbpedia.org/resource/Álfheimr',\n",
       " 'Apollo program': 'http://dbpedia.org/resource/Apollo_program',\n",
       " 'NYSE MKT': 'http://dbpedia.org/resource/NYSE_MKT',\n",
       " 'August 18': 'http://dbpedia.org/resource/August_18',\n",
       " 'August 17': 'http://dbpedia.org/resource/August_17',\n",
       " 'August 19': 'http://dbpedia.org/resource/August_19',\n",
       " 'August 21': 'http://dbpedia.org/resource/August_21',\n",
       " 'August 12': 'http://dbpedia.org/resource/August_12',\n",
       " 'Lory (disambiguation)': 'http://dbpedia.org/resource/Lory_(disambiguation)',\n",
       " 'Albert': 'http://dbpedia.org/resource/Albert',\n",
       " \"Eaglet (Alice's Adventures in Wonderland)\": \"http://dbpedia.org/resource/Eaglet_(Alice's_Adventures_in_Wonderland)\",\n",
       " 'Albert I': 'http://dbpedia.org/resource/Albert_I',\n",
       " 'Albert Alcibiades, Margrave of Brandenburg-Kulmbach': 'http://dbpedia.org/resource/Albert_Alcibiades,_Margrave_of_Brandenburg-Kulmbach',\n",
       " 'Alfred Russel Wallace': 'http://dbpedia.org/resource/Alfred_Russel_Wallace',\n",
       " 'Albert II': 'http://dbpedia.org/resource/Albert_II',\n",
       " 'Albert III': 'http://dbpedia.org/resource/Albert_III',\n",
       " 'Albert the Bear': 'http://dbpedia.org/resource/Albert_the_Bear',\n",
       " \"Dodo (Alice's Adventures in Wonderland)\": \"http://dbpedia.org/resource/Dodo_(Alice's_Adventures_in_Wonderland)\",\n",
       " 'Australian Labor Party': 'http://dbpedia.org/resource/Australian_Labor_Party',\n",
       " 'Alemanni': 'http://dbpedia.org/resource/Alemanni',\n",
       " 'Alexander Agassiz': 'http://dbpedia.org/resource/Alexander_Agassiz',\n",
       " 'Aeneas': 'http://dbpedia.org/resource/Aeneas',\n",
       " 'Aga Khan III': 'http://dbpedia.org/resource/Aga_Khan_III',\n",
       " 'Agamemnon': 'http://dbpedia.org/resource/Agamemnon',\n",
       " 'April 13': 'http://dbpedia.org/resource/April_13',\n",
       " 'Aga Khan I': 'http://dbpedia.org/resource/Aga_Khan_I',\n",
       " 'Agapanthus africanus': 'http://dbpedia.org/resource/Agapanthus_africanus',\n",
       " 'Agasias': 'http://dbpedia.org/resource/Agasias',\n",
       " 'Abner': 'http://dbpedia.org/resource/Abner',\n",
       " 'Ahmed III': 'http://dbpedia.org/resource/Ahmed_III',\n",
       " 'Ahmed I': 'http://dbpedia.org/resource/Ahmed_I',\n",
       " 'Adirondacks': 'http://dbpedia.org/resource/Adirondacks',\n",
       " 'Agate': 'http://dbpedia.org/resource/Agate',\n",
       " 'Acropolis': 'http://dbpedia.org/resource/Acropolis',\n",
       " 'Albert, Duke of Prussia': 'http://dbpedia.org/resource/Albert,_Duke_of_Prussia',\n",
       " 'Ahmed II': 'http://dbpedia.org/resource/Ahmed_II',\n",
       " 'Albert of Brandenburg': 'http://dbpedia.org/resource/Albert_of_Brandenburg',\n",
       " 'Adder': 'http://dbpedia.org/resource/Adder',\n",
       " 'Acorn (fruit of the oak tree)': 'http://dbpedia.org/resource/Acorn_(fruit_of_the_oak_tree)',\n",
       " 'August 25': 'http://dbpedia.org/resource/August_25',\n",
       " 'Aix-la-Chapelle': 'http://dbpedia.org/resource/Aix-la-Chapelle',\n",
       " 'Albert Of Aix': 'http://dbpedia.org/resource/Albert_Of_Aix',\n",
       " 'Albert the Degenerate': 'http://dbpedia.org/resource/Albert_the_Degenerate',\n",
       " 'Albert III, Elector of Saxony': 'http://dbpedia.org/resource/Albert_III,_Elector_of_Saxony',\n",
       " 'Albert I of Hapsburg': 'http://dbpedia.org/resource/Albert_I_of_Hapsburg',\n",
       " 'Ask and Embla': 'http://dbpedia.org/resource/Ask_and_Embla',\n",
       " 'Alabama River': 'http://dbpedia.org/resource/Alabama_River',\n",
       " 'Alain de Lille': 'http://dbpedia.org/resource/Alain_de_Lille',\n",
       " 'Amaranth': 'http://dbpedia.org/resource/Amaranth',\n",
       " 'Ainu people': 'http://dbpedia.org/resource/Ainu_people',\n",
       " 'Agis': 'http://dbpedia.org/resource/Agis',\n",
       " 'Aidan of Dalriada': 'http://dbpedia.org/resource/Aidan_of_Dalriada',\n",
       " 'Aimoin': 'http://dbpedia.org/resource/Aimoin',\n",
       " 'Ahenobarbus': 'http://dbpedia.org/resource/Ahenobarbus',\n",
       " 'Albategnius': 'http://dbpedia.org/resource/Albategnius',\n",
       " 'Ajax': 'http://dbpedia.org/resource/Ajax',\n",
       " 'Aachen': 'http://dbpedia.org/resource/Aachen',\n",
       " 'Ealdred (archbishop of York)': 'http://dbpedia.org/resource/Ealdred_(archbishop_of_York)',\n",
       " 'Afonso de Albuquerque': 'http://dbpedia.org/resource/Afonso_de_Albuquerque',\n",
       " 'Ahmad Shah Durrani': 'http://dbpedia.org/resource/Ahmad_Shah_Durrani',\n",
       " 'Akkadian Empire': 'http://dbpedia.org/resource/Akkadian_Empire',\n",
       " 'Albertus Magnus': 'http://dbpedia.org/resource/Albertus_Magnus',\n",
       " 'American Chinese cuisine': 'http://dbpedia.org/resource/American_Chinese_cuisine',\n",
       " 'Ailanthus': 'http://dbpedia.org/resource/Ailanthus',\n",
       " 'Alboin': 'http://dbpedia.org/resource/Alboin',\n",
       " 'Aldine Press': 'http://dbpedia.org/resource/Aldine_Press',\n",
       " 'Agnes of Merania': 'http://dbpedia.org/resource/Agnes_of_Merania',\n",
       " 'Alcmene': 'http://dbpedia.org/resource/Alcmene',\n",
       " 'Alcaeus of Mytilene': 'http://dbpedia.org/resource/Alcaeus_of_Mytilene',\n",
       " 'Alaric I': 'http://dbpedia.org/resource/Alaric_I',\n",
       " 'Alcamenes': 'http://dbpedia.org/resource/Alcamenes',\n",
       " 'Ajax the Lesser': 'http://dbpedia.org/resource/Ajax_the_Lesser',\n",
       " 'Ajax (mythology)': 'http://dbpedia.org/resource/Ajax_(mythology)',\n",
       " 'Alaric II': 'http://dbpedia.org/resource/Alaric_II',\n",
       " 'Agrippina the Elder': 'http://dbpedia.org/resource/Agrippina_the_Elder',\n",
       " 'Agrippina the Younger': 'http://dbpedia.org/resource/Agrippina_the_Younger',\n",
       " 'Agesilaus II': 'http://dbpedia.org/resource/Agesilaus_II',\n",
       " 'Arthur Aikin': 'http://dbpedia.org/resource/Arthur_Aikin',\n",
       " 'Agathon': 'http://dbpedia.org/resource/Agathon',\n",
       " 'Alcidamas': 'http://dbpedia.org/resource/Alcidamas',\n",
       " 'Alexander I of Epirus': 'http://dbpedia.org/resource/Alexander_I_of_Epirus',\n",
       " 'Antonio Agliardi': 'http://dbpedia.org/resource/Antonio_Agliardi',\n",
       " 'Alexander Balas': 'http://dbpedia.org/resource/Alexander_Balas',\n",
       " 'Alexander of Pherae': 'http://dbpedia.org/resource/Alexander_of_Pherae',\n",
       " 'Aspirin': 'http://dbpedia.org/resource/Aspirin',\n",
       " 'Alexander II of Epirus': 'http://dbpedia.org/resource/Alexander_II_of_Epirus',\n",
       " 'Alexander of Greece (disambiguation)': 'http://dbpedia.org/resource/Alexander_of_Greece_(disambiguation)',\n",
       " 'Alexander II': 'http://dbpedia.org/resource/Alexander_II',\n",
       " 'Alexander I': 'http://dbpedia.org/resource/Alexander_I',\n",
       " 'Alexander III': 'http://dbpedia.org/resource/Alexander_III',\n",
       " 'Alexander IV': 'http://dbpedia.org/resource/Alexander_IV',\n",
       " 'Alexander V': 'http://dbpedia.org/resource/Alexander_V',\n",
       " 'Alexander VI': 'http://dbpedia.org/resource/Alexander_VI',\n",
       " 'Alexander VII': 'http://dbpedia.org/resource/Alexander_VII',\n",
       " 'Alexander VIII': 'http://dbpedia.org/resource/Alexander_VIII',\n",
       " 'Alexandrists': 'http://dbpedia.org/resource/Alexandrists',\n",
       " 'Alexander Aetolus': 'http://dbpedia.org/resource/Alexander_Aetolus',\n",
       " 'Aleksandr Isaevich Solzhenitsyn': 'http://dbpedia.org/resource/Aleksandr_Isaevich_Solzhenitsyn',\n",
       " 'Antoine de Saint-Exupery': 'http://dbpedia.org/resource/Antoine_de_Saint-Exupery',\n",
       " 'The Triumph of Time': 'http://dbpedia.org/resource/The_Triumph_of_Time',\n",
       " 'Alexis (poet)': 'http://dbpedia.org/resource/Alexis_(poet)',\n",
       " 'Alfred Ernest Albert': 'http://dbpedia.org/resource/Alfred_Ernest_Albert',\n",
       " 'Alexander II of Scotland': 'http://dbpedia.org/resource/Alexander_II_of_Scotland',\n",
       " 'Alger of Liège': 'http://dbpedia.org/resource/Alger_of_Liège',\n",
       " 'Alexander Jagiellon': 'http://dbpedia.org/resource/Alexander_Jagiellon',\n",
       " 'Hymn to Proserpine': 'http://dbpedia.org/resource/Hymn_to_Proserpine',\n",
       " 'Alexander I of Scotland': 'http://dbpedia.org/resource/Alexander_I_of_Scotland',\n",
       " 'Alexander of Aphrodisias': 'http://dbpedia.org/resource/Alexander_of_Aphrodisias',\n",
       " 'Alured of Berkeley': 'http://dbpedia.org/resource/Alured_of_Berkeley',\n",
       " 'Alypius of Antioch': 'http://dbpedia.org/resource/Alypius_of_Antioch',\n",
       " 'Alexander I of Serbia': 'http://dbpedia.org/resource/Alexander_I_of_Serbia',\n",
       " 'Alyattes of Lydia': 'http://dbpedia.org/resource/Alyattes_of_Lydia',\n",
       " 'Alexander': 'http://dbpedia.org/resource/Alexander',\n",
       " 'Alexander III of Russia': 'http://dbpedia.org/resource/Alexander_III_of_Russia',\n",
       " 'April 28': 'http://dbpedia.org/resource/April_28',\n",
       " 'Alexios III Angelos': 'http://dbpedia.org/resource/Alexios_III_Angelos',\n",
       " 'August 24': 'http://dbpedia.org/resource/August_24',\n",
       " 'August 23': 'http://dbpedia.org/resource/August_23',\n",
       " 'Severus Alexander': 'http://dbpedia.org/resource/Severus_Alexander',\n",
       " 'Aberdeen': 'http://dbpedia.org/resource/Aberdeen',\n",
       " 'Acupuncture': 'http://dbpedia.org/resource/Acupuncture',\n",
       " 'Afonso VI of Portugal': 'http://dbpedia.org/resource/Afonso_VI_of_Portugal',\n",
       " 'Afonso IV of Portugal': 'http://dbpedia.org/resource/Afonso_IV_of_Portugal',\n",
       " 'Afonso V of Portugal': 'http://dbpedia.org/resource/Afonso_V_of_Portugal',\n",
       " 'Alfonso II of Asturias': 'http://dbpedia.org/resource/Alfonso_II_of_Asturias',\n",
       " 'Afonso III of Portugal': 'http://dbpedia.org/resource/Afonso_III_of_Portugal',\n",
       " 'Afonso II of Portugal': 'http://dbpedia.org/resource/Afonso_II_of_Portugal',\n",
       " 'Andrew Jackson': 'http://dbpedia.org/resource/Andrew_Jackson',\n",
       " 'Alfred the Great': 'http://dbpedia.org/resource/Alfred_the_Great',\n",
       " 'Alphonso I of Spain': 'http://dbpedia.org/resource/Alphonso_I_of_Spain',\n",
       " 'Aquaculture': 'http://dbpedia.org/resource/Aquaculture',\n",
       " 'Andrew Johnson': 'http://dbpedia.org/resource/Andrew_Johnson',\n",
       " 'Algiers': 'http://dbpedia.org/resource/Algiers',\n",
       " 'Age of consent': 'http://dbpedia.org/resource/Age_of_consent',\n",
       " 'Afonso I of Portugal': 'http://dbpedia.org/resource/Afonso_I_of_Portugal',\n",
       " 'Aloe': 'http://dbpedia.org/resource/Aloe',\n",
       " 'Almoravid dynasty': 'http://dbpedia.org/resource/Almoravid_dynasty',\n",
       " 'Kolmogorov complexity': 'http://dbpedia.org/resource/Kolmogorov_complexity',\n",
       " 'Alexios I Komnenos': 'http://dbpedia.org/resource/Alexios_I_Komnenos',\n",
       " 'Amalasuntha': 'http://dbpedia.org/resource/Amalasuntha',\n",
       " 'Alexander Jannaeus': 'http://dbpedia.org/resource/Alexander_Jannaeus',\n",
       " 'Alexios II Komnenos': 'http://dbpedia.org/resource/Alexios_II_Komnenos',\n",
       " 'Antipope': 'http://dbpedia.org/resource/Antipope',\n",
       " 'Alessandro Allori': 'http://dbpedia.org/resource/Alessandro_Allori',\n",
       " 'Alexios V Doukas': 'http://dbpedia.org/resource/Alexios_V_Doukas',\n",
       " 'Amalric of Bena': 'http://dbpedia.org/resource/Amalric_of_Bena',\n",
       " 'Alexei Petrovich, Tsarevich of Russia': 'http://dbpedia.org/resource/Alexei_Petrovich,_Tsarevich_of_Russia',\n",
       " 'Alessandro Algardi': 'http://dbpedia.org/resource/Alessandro_Algardi',\n",
       " 'Alexander III of Scotland': 'http://dbpedia.org/resource/Alexander_III_of_Scotland',\n",
       " 'Aleksandr Solzhenitsyn': 'http://dbpedia.org/resource/Aleksandr_Solzhenitsyn',\n",
       " 'Ibn al-Haytham': 'http://dbpedia.org/resource/Ibn_al-Haytham',\n",
       " 'Alphonso VIII of Spain': 'http://dbpedia.org/resource/Alphonso_VIII_of_Spain',\n",
       " 'Alfonso IX of Spain': 'http://dbpedia.org/resource/Alfonso_IX_of_Spain',\n",
       " 'Alphonsus a Sancta Maria': 'http://dbpedia.org/resource/Alphonsus_a_Sancta_Maria',\n",
       " 'Amasis I': 'http://dbpedia.org/resource/Amasis_I',\n",
       " 'Alfonso I': 'http://dbpedia.org/resource/Alfonso_I',\n",
       " 'Alfonso II': 'http://dbpedia.org/resource/Alfonso_II',\n",
       " 'Alfonso III': 'http://dbpedia.org/resource/Alfonso_III',\n",
       " 'Alfonso V': 'http://dbpedia.org/resource/Alfonso_V',\n",
       " 'Alfonso IV': 'http://dbpedia.org/resource/Alfonso_IV',\n",
       " 'Alfonso VI': 'http://dbpedia.org/resource/Alfonso_VI',\n",
       " 'Amati': 'http://dbpedia.org/resource/Amati',\n",
       " 'Alphons': 'http://dbpedia.org/resource/Alphons',\n",
       " 'Alphonso VII': 'http://dbpedia.org/resource/Alphonso_VII',\n",
       " 'Alphonso VIII': 'http://dbpedia.org/resource/Alphonso_VIII',\n",
       " 'Alphonso IX': 'http://dbpedia.org/resource/Alphonso_IX',\n",
       " 'Alphonso X': 'http://dbpedia.org/resource/Alphonso_X',\n",
       " 'Alphonso XI': 'http://dbpedia.org/resource/Alphonso_XI',\n",
       " 'Alphonso XII': 'http://dbpedia.org/resource/Alphonso_XII',\n",
       " 'Alfred of Beverley': 'http://dbpedia.org/resource/Alfred_of_Beverley',\n",
       " 'Alphonso XIII': 'http://dbpedia.org/resource/Alphonso_XIII',\n",
       " 'Amara Sinha': 'http://dbpedia.org/resource/Amara_Sinha',\n",
       " 'Ambiorix': 'http://dbpedia.org/resource/Ambiorix',\n",
       " 'Alfonso XII of Spain': 'http://dbpedia.org/resource/Alfonso_XII_of_Spain',\n",
       " 'August Wilhelm Ambros': 'http://dbpedia.org/resource/August_Wilhelm_Ambros',\n",
       " 'Amathus': 'http://dbpedia.org/resource/Amathus',\n",
       " 'Alfonso the Battler': 'http://dbpedia.org/resource/Alfonso_the_Battler',\n",
       " 'Alfonso IV of Aragon': 'http://dbpedia.org/resource/Alfonso_IV_of_Aragon',\n",
       " 'Amasis II': 'http://dbpedia.org/resource/Amasis_II',\n",
       " 'Amaryllis': 'http://dbpedia.org/resource/Amaryllis',\n",
       " 'Alfonso III of Aragon': 'http://dbpedia.org/resource/Alfonso_III_of_Aragon',\n",
       " 'Anastasius I': 'http://dbpedia.org/resource/Anastasius_I',\n",
       " 'Alfonso V of Aragon': 'http://dbpedia.org/resource/Alfonso_V_of_Aragon',\n",
       " 'Amram': 'http://dbpedia.org/resource/Amram',\n",
       " 'Book of Amos': 'http://dbpedia.org/resource/Book_of_Amos',\n",
       " 'Amyntas I of Macedon': 'http://dbpedia.org/resource/Amyntas_I_of_Macedon',\n",
       " 'Anacreon (poet)': 'http://dbpedia.org/resource/Anacreon_(poet)',\n",
       " 'Ammonius Saccas': 'http://dbpedia.org/resource/Ammonius_Saccas',\n",
       " 'Amazon River': 'http://dbpedia.org/resource/Amazon_River',\n",
       " 'Abu Bakr': 'http://dbpedia.org/resource/Abu_Bakr',\n",
       " 'Ammon': 'http://dbpedia.org/resource/Ammon',\n",
       " 'St. Ambrose Traversari': 'http://dbpedia.org/resource/St._Ambrose_Traversari',\n",
       " 'Ambrosians': 'http://dbpedia.org/resource/Ambrosians',\n",
       " 'Ambrosius Aurelianus': 'http://dbpedia.org/resource/Ambrosius_Aurelianus',\n",
       " 'Amazons': 'http://dbpedia.org/resource/Amazons',\n",
       " 'April 22': 'http://dbpedia.org/resource/April_22',\n",
       " 'August 31': 'http://dbpedia.org/resource/August_31',\n",
       " 'Alfonso XIII of Spain': 'http://dbpedia.org/resource/Alfonso_XIII_of_Spain',\n",
       " 'Anaxarchus': 'http://dbpedia.org/resource/Anaxarchus',\n",
       " 'Ancyra (genus)': 'http://dbpedia.org/resource/Ancyra_(genus)',\n",
       " 'Autpert Ambrose': 'http://dbpedia.org/resource/Autpert_Ambrose',\n",
       " 'Ambergris': 'http://dbpedia.org/resource/Ambergris',\n",
       " 'Ambrosiaster': 'http://dbpedia.org/resource/Ambrosiaster',\n",
       " 'Ammonius Hermiae': 'http://dbpedia.org/resource/Ammonius_Hermiae',\n",
       " 'Anastasius II': 'http://dbpedia.org/resource/Anastasius_II',\n",
       " 'Anacharsis': 'http://dbpedia.org/resource/Anacharsis',\n",
       " 'Amyntas III of Macedon': 'http://dbpedia.org/resource/Amyntas_III_of_Macedon',\n",
       " 'Ananda': 'http://dbpedia.org/resource/Ananda',\n",
       " 'Anah': 'http://dbpedia.org/resource/Anah',\n",
       " 'Amphipolis': 'http://dbpedia.org/resource/Amphipolis',\n",
       " 'Anaxagoras': 'http://dbpedia.org/resource/Anaxagoras',\n",
       " 'Anastasius III': 'http://dbpedia.org/resource/Anastasius_III',\n",
       " 'Anastasius IV': 'http://dbpedia.org/resource/Anastasius_IV',\n",
       " 'Anaximenes of Lampsacus': 'http://dbpedia.org/resource/Anaximenes_of_Lampsacus',\n",
       " 'Anastasius': 'http://dbpedia.org/resource/Anastasius',\n",
       " 'Andocides': 'http://dbpedia.org/resource/Andocides',\n",
       " 'Ancus Marcius': 'http://dbpedia.org/resource/Ancus_Marcius',\n",
       " 'Andronicus': 'http://dbpedia.org/resource/Andronicus',\n",
       " 'Alexander Anderson (mathematician)': 'http://dbpedia.org/resource/Alexander_Anderson_(mathematician)',\n",
       " 'Andronicus of Rhodes': 'http://dbpedia.org/resource/Andronicus_of_Rhodes',\n",
       " 'Anaximenes of Miletus': 'http://dbpedia.org/resource/Anaximenes_of_Miletus',\n",
       " 'Andrea Andreani': 'http://dbpedia.org/resource/Andrea_Andreani',\n",
       " 'André de Longjumeau': 'http://dbpedia.org/resource/André_de_Longjumeau',\n",
       " 'Andriscus': 'http://dbpedia.org/resource/Andriscus',\n",
       " 'Andronicus of Cyrrhus': 'http://dbpedia.org/resource/Andronicus_of_Cyrrhus',\n",
       " 'An Enquiry Concerning Human Understanding': 'http://dbpedia.org/resource/An_Enquiry_Concerning_Human_Understanding',\n",
       " 'Andaman Islands': 'http://dbpedia.org/resource/Andaman_Islands',\n",
       " 'Andronikos III Palaiologos': 'http://dbpedia.org/resource/Andronikos_III_Palaiologos',\n",
       " 'Andronikos II Palaiologos': 'http://dbpedia.org/resource/Andronikos_II_Palaiologos',\n",
       " 'Andronikos I Komnenos': 'http://dbpedia.org/resource/Andronikos_I_Komnenos',\n",
       " 'Andrew II of Hungary': 'http://dbpedia.org/resource/Andrew_II_of_Hungary',\n",
       " 'Asteroid Belt': 'http://dbpedia.org/resource/Asteroid_Belt',\n",
       " 'ALICE': 'http://dbpedia.org/resource/ALICE',\n",
       " 'An Enquiry Concerning Human Understanding/Text': 'http://dbpedia.org/resource/An_Enquiry_Concerning_Human_Understanding/Text',\n",
       " 'Apollo Program': 'http://dbpedia.org/resource/Apollo_Program',\n",
       " 'Arthritus': 'http://dbpedia.org/resource/Arthritus',\n",
       " 'Applied discrete math': 'http://dbpedia.org/resource/Applied_discrete_math',\n",
       " 'Alfred': 'http://dbpedia.org/resource/Alfred',\n",
       " 'ABM': 'http://dbpedia.org/resource/ABM',\n",
       " 'April 2': 'http://dbpedia.org/resource/April_2',\n",
       " 'ATP': 'http://dbpedia.org/resource/ATP',\n",
       " 'August 28': 'http://dbpedia.org/resource/August_28',\n",
       " 'Aquinas': 'http://dbpedia.org/resource/Aquinas',\n",
       " 'ASA': 'http://dbpedia.org/resource/ASA',\n",
       " 'April 9': 'http://dbpedia.org/resource/April_9',\n",
       " 'Anthemius of Tralles': 'http://dbpedia.org/resource/Anthemius_of_Tralles',\n",
       " 'Amalric of Jerusalem': 'http://dbpedia.org/resource/Amalric_of_Jerusalem',\n",
       " 'Augustin-Louis Cauchy': 'http://dbpedia.org/resource/Augustin-Louis_Cauchy',\n",
       " 'Archimedean solid': 'http://dbpedia.org/resource/Archimedean_solid',\n",
       " 'Alfred Jarry': 'http://dbpedia.org/resource/Alfred_Jarry',\n",
       " 'Absalon': 'http://dbpedia.org/resource/Absalon',\n",
       " 'Apuleius': 'http://dbpedia.org/resource/Apuleius',\n",
       " 'Ægir': 'http://dbpedia.org/resource/Ægir',\n",
       " 'Acre': 'http://dbpedia.org/resource/Acre',\n",
       " 'Apollo 9': 'http://dbpedia.org/resource/Apollo_9',\n",
       " 'Amide hydrolysis': 'http://dbpedia.org/resource/Amide_hydrolysis',\n",
       " 'Apollo 7': 'http://dbpedia.org/resource/Apollo_7',\n",
       " 'Antoine Laurent Lavoisier': 'http://dbpedia.org/resource/Antoine_Laurent_Lavoisier',\n",
       " 'Air Pollution': 'http://dbpedia.org/resource/Air_Pollution',\n",
       " 'A roll': 'http://dbpedia.org/resource/A_roll',\n",
       " 'Antarctic-Environmental Protocol': 'http://dbpedia.org/resource/Antarctic-Environmental_Protocol',\n",
       " 'Arabic numerals': 'http://dbpedia.org/resource/Arabic_numerals',\n",
       " 'April 18': 'http://dbpedia.org/resource/April_18',\n",
       " 'April 23': 'http://dbpedia.org/resource/April_23',\n",
       " 'Alexander Selkirk': 'http://dbpedia.org/resource/Alexander_Selkirk',\n",
       " 'Actium': 'http://dbpedia.org/resource/Actium',\n",
       " 'Anti-ballistic missile': 'http://dbpedia.org/resource/Anti-ballistic_missile',\n",
       " 'Hermann Kolbe': 'http://dbpedia.org/resource/Hermann_Kolbe',\n",
       " 'Arthritis': 'http://dbpedia.org/resource/Arthritis',\n",
       " 'Acetylene': 'http://dbpedia.org/resource/Acetylene',\n",
       " 'Apollo 13': 'http://dbpedia.org/resource/Apollo_13',\n",
       " 'Antoine Lavoisier': 'http://dbpedia.org/resource/Antoine_Lavoisier',\n",
       " 'American bias': 'http://dbpedia.org/resource/American_bias',\n",
       " 'Allomorph': 'http://dbpedia.org/resource/Allomorph',\n",
       " 'Adenosine triphosphate': 'http://dbpedia.org/resource/Adenosine_triphosphate',\n",
       " 'Affix': 'http://dbpedia.org/resource/Affix',\n",
       " 'Amazon river': 'http://dbpedia.org/resource/Amazon_river',\n",
       " 'Ancient Greeks': 'http://dbpedia.org/resource/Ancient_Greeks',\n",
       " 'Africa/History': 'http://dbpedia.org/resource/Africa/History',\n",
       " 'Amalric': 'http://dbpedia.org/resource/Amalric',\n",
       " 'Aromatic compound': 'http://dbpedia.org/resource/Aromatic_compound',\n",
       " 'Natural history of Africa': 'http://dbpedia.org/resource/Natural_history_of_Africa',\n",
       " 'Agathocles of Syracuse': 'http://dbpedia.org/resource/Agathocles_of_Syracuse',\n",
       " 'Alarums and Excursions': 'http://dbpedia.org/resource/Alarums_and_Excursions',\n",
       " 'April 14': 'http://dbpedia.org/resource/April_14',\n",
       " 'Allotropy': 'http://dbpedia.org/resource/Allotropy',\n",
       " 'Adam Smith': 'http://dbpedia.org/resource/Adam_Smith',\n",
       " 'Antiprism': 'http://dbpedia.org/resource/Antiprism',\n",
       " 'Geography of Africa': 'http://dbpedia.org/resource/Geography_of_Africa',\n",
       " 'Allophone': 'http://dbpedia.org/resource/Allophone',\n",
       " 'Allegory': 'http://dbpedia.org/resource/Allegory',\n",
       " 'August 29': 'http://dbpedia.org/resource/August_29',\n",
       " 'August 30': 'http://dbpedia.org/resource/August_30',\n",
       " 'Ambroise': 'http://dbpedia.org/resource/Ambroise',\n",
       " 'Alfonso Jordan': 'http://dbpedia.org/resource/Alfonso_Jordan',\n",
       " 'Autoerotic asphyxiation': 'http://dbpedia.org/resource/Autoerotic_asphyxiation',\n",
       " 'Alphonse, Count of Poitiers': 'http://dbpedia.org/resource/Alphonse,_Count_of_Poitiers',\n",
       " 'American Airlines flight 11': 'http://dbpedia.org/resource/American_Airlines_flight_11',\n",
       " 'Ban on assault rifles': 'http://dbpedia.org/resource/Ban_on_assault_rifles',\n",
       " 'Alexius': 'http://dbpedia.org/resource/Alexius',\n",
       " 'Africa Alphabet': 'http://dbpedia.org/resource/Africa_Alphabet',\n",
       " 'Ammianus Marcellinus': 'http://dbpedia.org/resource/Ammianus_Marcellinus',\n",
       " 'American Airlines flight 77': 'http://dbpedia.org/resource/American_Airlines_flight_77',\n",
       " 'Astoria, Oregon': 'http://dbpedia.org/resource/Astoria,_Oregon',\n",
       " 'Adhemar of Le Puy': 'http://dbpedia.org/resource/Adhemar_of_Le_Puy',\n",
       " 'Arnold Schwarzenegger': 'http://dbpedia.org/resource/Arnold_Schwarzenegger',\n",
       " 'Adhemar de Chabannes': 'http://dbpedia.org/resource/Adhemar_de_Chabannes',\n",
       " 'Albigenses': 'http://dbpedia.org/resource/Albigenses',\n",
       " 'Antibiotics': 'http://dbpedia.org/resource/Antibiotics',\n",
       " 'Archimedes': 'http://dbpedia.org/resource/Archimedes',\n",
       " 'Amitabh Bachchan': 'http://dbpedia.org/resource/Amitabh_Bachchan',\n",
       " 'Ambush': 'http://dbpedia.org/resource/Ambush',\n",
       " 'Aquila': 'http://dbpedia.org/resource/Aquila',\n",
       " 'Antwerp (disambiguation)': 'http://dbpedia.org/resource/Antwerp_(disambiguation)',\n",
       " 'Annealing': 'http://dbpedia.org/resource/Annealing',\n",
       " 'Astronomical aberration': 'http://dbpedia.org/resource/Astronomical_aberration',\n",
       " 'Abzyme': 'http://dbpedia.org/resource/Abzyme',\n",
       " 'American English': 'http://dbpedia.org/resource/American_English',\n",
       " 'Art Deco': 'http://dbpedia.org/resource/Art_Deco',\n",
       " 'Australian English': 'http://dbpedia.org/resource/Australian_English',\n",
       " 'Albert Spalding': 'http://dbpedia.org/resource/Albert_Spalding',\n",
       " 'ASCII art': 'http://dbpedia.org/resource/ASCII_art',\n",
       " 'Acquire': 'http://dbpedia.org/resource/Acquire',\n",
       " 'Arizona State University': 'http://dbpedia.org/resource/Arizona_State_University',\n",
       " 'Aimery of Cyprus': 'http://dbpedia.org/resource/Aimery_of_Cyprus',\n",
       " 'Economy of Alberta': 'http://dbpedia.org/resource/Economy_of_Alberta',\n",
       " 'Amway': 'http://dbpedia.org/resource/Amway',\n",
       " 'Approval voting': 'http://dbpedia.org/resource/Approval_voting',\n",
       " 'American Airlines Flight 77': 'http://dbpedia.org/resource/American_Airlines_Flight_77',\n",
       " 'Apus': 'http://dbpedia.org/resource/Apus',\n",
       " 'Australian Democrats': 'http://dbpedia.org/resource/Australian_Democrats',\n",
       " 'Alexander Fleming': 'http://dbpedia.org/resource/Alexander_Fleming',\n",
       " 'Australian Capital Territory': 'http://dbpedia.org/resource/Australian_Capital_Territory',\n",
       " 'Unit of alcohol': 'http://dbpedia.org/resource/Unit_of_alcohol',\n",
       " 'Ally McBeal': 'http://dbpedia.org/resource/Ally_McBeal',\n",
       " 'Atmosphere (disambiguation)': 'http://dbpedia.org/resource/Atmosphere_(disambiguation)',\n",
       " 'Approximant consonant': 'http://dbpedia.org/resource/Approximant_consonant',\n",
       " 'Astronomer Royal': 'http://dbpedia.org/resource/Astronomer_Royal',\n",
       " 'Ampicillin': 'http://dbpedia.org/resource/Ampicillin',\n",
       " 'Andromeda (mythology)': 'http://dbpedia.org/resource/Andromeda_(mythology)',\n",
       " 'Argo Navis': 'http://dbpedia.org/resource/Argo_Navis',\n",
       " 'Antigen': 'http://dbpedia.org/resource/Antigen',\n",
       " 'Allele': 'http://dbpedia.org/resource/Allele',\n",
       " 'Autosome': 'http://dbpedia.org/resource/Autosome',\n",
       " 'Adaptive radiation': 'http://dbpedia.org/resource/Adaptive_radiation',\n",
       " 'Alessandro Volta': 'http://dbpedia.org/resource/Alessandro_Volta',\n",
       " 'Agarose gel electrophoresis': 'http://dbpedia.org/resource/Agarose_gel_electrophoresis',\n",
       " 'Andrew Carnegie': 'http://dbpedia.org/resource/Andrew_Carnegie',\n",
       " 'Ara (constellation)': 'http://dbpedia.org/resource/Ara_(constellation)',\n",
       " 'Airline': 'http://dbpedia.org/resource/Airline',\n",
       " 'Abadan, Iran': 'http://dbpedia.org/resource/Abadan,_Iran',\n",
       " 'Alternative medicine': 'http://dbpedia.org/resource/Alternative_medicine',\n",
       " 'Antlia': 'http://dbpedia.org/resource/Antlia',\n",
       " 'Aeon': 'http://dbpedia.org/resource/Aeon',\n",
       " 'Auriga': 'http://dbpedia.org/resource/Auriga',\n",
       " 'Attorney': 'http://dbpedia.org/resource/Attorney',\n",
       " 'Astronomical Unit': 'http://dbpedia.org/resource/Astronomical_Unit',\n",
       " ...}"
      ]
     },
     "execution_count": 76,
     "metadata": {},
     "output_type": "execute_result"
    }
   ],
   "source": [
    "dbpedia_map"
   ]
  },
  {
   "cell_type": "code",
   "execution_count": 59,
   "id": "2a8d3246-fd98-4b8c-8412-c3fb9a76a840",
   "metadata": {
    "execution": {
     "iopub.execute_input": "2024-08-18T06:34:09.105906Z",
     "iopub.status.busy": "2024-08-18T06:34:09.105481Z",
     "iopub.status.idle": "2024-08-18T06:34:09.114572Z",
     "shell.execute_reply": "2024-08-18T06:34:09.113625Z",
     "shell.execute_reply.started": "2024-08-18T06:34:09.105873Z"
    }
   },
   "outputs": [
    {
     "data": {
      "text/plain": [
       "7156"
      ]
     },
     "execution_count": 59,
     "metadata": {},
     "output_type": "execute_result"
    }
   ],
   "source": [
    "len(dbpedia_trie.trie_dict)"
   ]
  },
  {
   "cell_type": "markdown",
   "id": "a0b76b4e-f951-4538-a3ae-d2478321748e",
   "metadata": {
    "jp-MarkdownHeadingCollapsed": true
   },
   "source": [
    "## Understanding dbpedia_trie_file"
   ]
  },
  {
   "cell_type": "code",
   "execution_count": 57,
   "id": "2cf189c8-c46c-4fac-99a9-dd4c403828a4",
   "metadata": {
    "execution": {
     "iopub.execute_input": "2024-08-18T06:32:48.207376Z",
     "iopub.status.busy": "2024-08-18T06:32:48.206987Z",
     "iopub.status.idle": "2024-08-18T06:32:48.497622Z",
     "shell.execute_reply": "2024-08-18T06:32:48.496741Z",
     "shell.execute_reply.started": "2024-08-18T06:32:48.207351Z"
    }
   },
   "outputs": [],
   "source": [
    "REPO_ID = \"ibm/regen-disambiguation\"\n",
    "WIKIPEDIA_TRIE_FILE_NAME = \"wikipedia_trie.pkl\"\n",
    "DBPEDIA_TRIE_FILE_NAME = \"dbpedia_trie.pkl\"\n",
    "dbpedia_trie_file = hf_hub_download(repo_id=REPO_ID,\n",
    "                                    repo_type='model',\n",
    "                                    filename=DBPEDIA_TRIE_FILE_NAME,\n",
    "                                    cache_dir=MODELS_CACHE_PATH)"
   ]
  },
  {
   "cell_type": "code",
   "execution_count": 58,
   "id": "7f106e7a-fa0d-40e3-802a-d6b20024c47b",
   "metadata": {
    "execution": {
     "iopub.execute_input": "2024-08-18T06:32:52.000982Z",
     "iopub.status.busy": "2024-08-18T06:32:52.000046Z",
     "iopub.status.idle": "2024-08-18T06:32:52.018967Z",
     "shell.execute_reply": "2024-08-18T06:32:52.018399Z",
     "shell.execute_reply.started": "2024-08-18T06:32:52.000935Z"
    }
   },
   "outputs": [
    {
     "data": {
      "text/plain": [
       "'/Users/louis.guitton/.cache/zshot/models--ibm--regen-disambiguation/snapshots/0cca8285d14ad119b842ba389948b36f6ada2786/dbpedia_trie.pkl'"
      ]
     },
     "execution_count": 58,
     "metadata": {},
     "output_type": "execute_result"
    }
   ],
   "source": [
    "dbpedia_trie_file"
   ]
  },
  {
   "cell_type": "code",
   "execution_count": 61,
   "id": "111ee2e2-6f1d-4416-ad89-533dc8809a34",
   "metadata": {
    "execution": {
     "iopub.execute_input": "2024-08-18T06:35:34.032080Z",
     "iopub.status.busy": "2024-08-18T06:35:34.028694Z",
     "iopub.status.idle": "2024-08-18T06:42:04.595551Z",
     "shell.execute_reply": "2024-08-18T06:42:04.594350Z",
     "shell.execute_reply.started": "2024-08-18T06:35:34.031994Z"
    }
   },
   "outputs": [],
   "source": [
    "import pickle\n",
    "\n",
    "with open(dbpedia_trie_file, \"rb\") as f:\n",
    "    dbpedia_trie = pickle.load(f)"
   ]
  },
  {
   "cell_type": "code",
   "execution_count": 68,
   "id": "acae67ff-0ff0-498c-a3b2-36b566c23456",
   "metadata": {
    "execution": {
     "iopub.execute_input": "2024-08-18T06:44:15.247095Z",
     "iopub.status.busy": "2024-08-18T06:44:15.246517Z",
     "iopub.status.idle": "2024-08-18T06:44:15.282567Z",
     "shell.execute_reply": "2024-08-18T06:44:15.282133Z",
     "shell.execute_reply.started": "2024-08-18T06:44:15.247046Z"
    },
    "scrolled": true
   },
   "outputs": [
    {
     "data": {
      "text/plain": [
       "dict_keys([5164, 13542, 282, 736, 29316, 891, 71, 1261, 21635, 24714, 3850, 1980, 26583, 28192, 13962, 4702, 10135, 25874, 389, 9652, 16682, 797, 7588, 275, 1983, 2040, 1957, 6776, 3, 14217, 30805, 18059, 1761, 1331, 10089, 5429, 6792, 901, 432, 15001, 7153, 8513, 11375, 17690, 30794, 20114, 11801, 24224, 25835, 1533, 19111, 12503, 18802, 1371, 10582, 6157, 13050, 18240, 20875, 20474, 12316, 12821, 30523, 11551, 11957, 16943, 3826, 27777, 14984, 7608, 9318, 10007, 22077, 7491, 9640, 3054, 19014, 4066, 4821, 21329, 7389, 5085, 19850, 13640, 5331, 3312, 22239, 12611, 19248, 4588, 11154, 486, 26819, 6288, 8590, 9835, 2184, 24064, 13131, 20606, 10236, 12838, 5083, 14305, 23672, 37, 5422, 28508, 1660, 1521, 5964, 1186, 1347, 14411, 10618, 21891, 8787, 332, 5104, 5961, 24547, 961, 3671, 17946, 14630, 2051, 18251, 13661, 26815, 621, 24462, 24272, 22635, 12453, 26519, 31614, 5690, 8559, 9152, 11993, 20355, 15345, 7833, 14407, 3141, 17190, 8761, 26461, 3892, 12923, 5452, 24263, 24632, 1061, 24293, 13849, 9882, 6206, 12879, 12399, 644, 27327, 6788, 4292, 16434, 3746, 8410, 10341, 531, 22928, 2334, 8366, 12090, 12677, 262, 28770, 4823, 7526, 10457, 5555, 679, 5954, 12561, 27, 3086, 13349, 2536, 15392, 472, 11813, 9141, 16475, 2648, 6869, 7124, 5185, 21958, 8977, 7601, 2276, 5579, 10154, 8043, 19148, 16622, 9217, 27560, 30760, 18630, 1392, 374, 13870, 1546, 12727, 22710, 23321, 7862, 9673, 18377, 11045, 14213, 5412, 25553, 28789, 19848, 26283, 23406, 18715, 925, 6349, 638, 5126, 30615, 20132, 8662, 2788, 29897, 15366, 22358, 9607, 21333, 24103, 8502, 11016, 16818, 6128, 25881, 13687, 1384, 18260, 20506, 27902, 25290, 6578, 8628, 30413, 22407, 5686, 3080, 4098, 23468, 11383, 27535, 8566, 13390, 21542, 6271, 13424, 18406, 17338, 18862, 7344, 10098, 21768, 5512, 9710, 26754, 31817, 21540, 10476, 3385, 2125, 23861, 1193, 13860, 22806, 11117, 25664, 8633, 10395, 11825, 30288, 29999, 10039, 391, 11511, 3387, 18286, 20592, 868, 28411, 1491, 29623, 4155, 3259, 10022, 12188, 2106, 16440, 15549, 1769, 26337, 14170, 7617, 3318, 272, 6387, 8145, 938, 2419, 2390, 2086, 1386, 16453, 21211, 4523, 12830, 20154, 1589, 9034, 2129, 15717, 14009, 6132, 5301, 13410, 9938, 7254, 5653, 10520, 493, 23711, 28133, 10846, 5214, 12737, 15575, 12520, 4308, 4027, 21465, 25304, 22341, 21906, 13384, 1813, 14343, 2474, 1839, 15049, 10731, 21009, 4152, 2798, 10091, 11038, 28996, 30441, 15536, 31271, 16399, 9992, 19039, 9278, 11538, 18073, 301, 31786, 31275, 28608, 3159, 10204, 2734, 29783, 29656, 16327, 8657, 4946, 5528, 18065, 6554, 5377, 11429, 10141, 14849, 20501, 11401, 6653, 8501, 15810, 6942, 26695, 2659, 17525, 12933, 5034, 4688, 7190, 29221, 5880, 8272, 11436, 8430, 14477, 8764, 4708, 461, 22050, 22398, 19883, 4011, 23772, 12896, 15961, 14918, 13800, 14735, 9236, 7499, 27615, 6069, 11909, 29017, 29232, 3528, 6100, 6806, 8055, 17563, 28808, 13328, 17733, 12433, 907, 3497, 10295, 21249, 4483, 2979, 957, 4402, 22965, 30946, 30153, 11805, 9580, 3004, 7798, 5762, 29411, 20612, 16098, 13456, 3899, 20241, 20841, 5703, 5053, 205, 25591, 29576, 18649, 5179, 10024, 10842, 23947, 20820, 17762, 18978, 8166, 7834, 21754, 13163, 7155, 11563, 1117, 10722, 14267, 21430, 7845, 21395, 5197, 18931, 9713, 8942, 28960, 13017, 20687, 25080, 3195, 17658, 18845, 18372, 8897, 14117, 15659, 20644, 23214, 16381, 19246, 11181, 17169, 17836, 27289, 12805, 27206, 12587, 19696, 28148, 11869, 1140, 6084, 23112, 17724, 21493, 15512, 1925, 18587, 17790, 21596, 6483, 9387, 20831, 17202, 21200, 27259, 19330, 10158, 12861, 13550, 17963, 7508, 4599, 10689, 1648, 20776, 5450, 17904, 29396, 8422, 3862, 28666, 30622, 20008, 23023, 14413, 2715, 10199, 23366, 11247, 9736, 8054, 1823, 3120, 15922, 299, 30763, 2826, 21748, 5491, 2570, 4603, 86, 5622, 27874, 26984, 31109, 17459, 17531, 20578, 12707, 25585, 7762, 5417, 25755, 10285, 4385, 13331, 1072, 29262, 896, 19286, 22425, 26846, 7435, 28552, 5469, 2808, 1972, 31295, 22636, 5826, 1894, 16926, 2556, 7112, 12788, 18555, 3431, 3636, 1064, 2571, 4559, 5458, 6400, 6993, 1184, 20087, 2243, 7707, 7291, 4239, 24239, 3043, 6744, 4955, 4300, 20255, 17795, 5097, 24426, 19013, 17843, 5811, 11378, 6285, 21299, 13495, 25274, 2144, 18898, 27591, 4330, 6176, 14335, 9520, 2830, 4151, 9919, 5257, 3643, 16870, 4737, 17277, 18783, 24589, 5184, 18881, 7781, 3953, 13432, 1336, 16028, 2487, 4409, 21723, 15576, 2695, 6144, 23208, 8192, 15589, 4501, 26171, 4000, 8183, 1826, 1473, 9702, 17399, 1619, 20014, 24891, 15428, 2575, 11229, 5750, 17841, 21060, 4961, 5895, 10400, 26663, 14702, 18565, 31383, 4071, 8265, 15477, 4589, 18751, 19789, 9916, 24734, 15838, 1888, 20732, 11588, 21212, 3104, 26334, 15562, 4116, 4004, 10096, 30655, 20826, 6868, 15175, 3092, 23291, 14183, 1290, 21288, 20083, 1484, 11673, 17006, 11583, 4420, 16923, 17655, 21722, 26508, 24661, 9084, 18354, 6502, 26071, 6320, 11847, 1334, 12870, 24404, 2847, 24536, 6150, 17706, 12336, 28045, 13054, 2063, 24927, 19640, 6088, 4779, 17544, 18808, 26911, 18104, 15772, 3715, 2345, 11020, 30851, 5150, 13160, 16505, 15221, 30393, 12961, 11540, 22922, 10099, 8932, 31074, 18409, 3190, 26636, 24333, 16371, 6767, 12526, 11347, 18627, 14024, 276, 21967, 21949, 21937, 2255, 9185, 8666, 15697, 7878, 2900, 19018, 9480, 25273, 31943, 9364, 18106, 4030, 2336, 3655, 4751, 18640, 27163, 12717, 14906, 4594, 22889, 28429, 28600, 18529, 12461, 18434, 15907, 16636, 5089, 9908, 17792, 25457, 7433, 27709, 23478, 6371, 25185, 5116, 21942, 15505, 1566, 9201, 11240, 22021, 6188, 13136, 30933, 11533, 26335, 20534, 23053, 4351, 8647, 21078, 20862, 12959, 21838, 15769, 12802, 8427, 25417, 11224, 3325, 9614, 17402, 10916, 3121, 11356, 21260, 11239, 3087, 17240, 30453, 26988, 16233, 27253, 22540, 12402, 13052, 1166, 9265, 19783, 26218, 24187, 15343, 15201, 23086, 8222, 29926, 13228, 14695, 7327, 10052, 16688, 3966, 10160, 18217, 16548, 19502, 9572, 1611, 3083, 7185, 11337, 19466, 22027, 22995, 1524, 30709, 24165, 25912, 16311, 11092, 20264, 10636, 30701, 2146, 31868, 6627, 29378, 20959, 23142, 18597, 22063, 31546, 11896, 28347, 6708, 4506, 1958, 11636, 26143, 24213, 21110, 27664, 14373, 8835, 10272, 3712, 22352, 20988, 28924, 3201, 27477, 8912, 5589, 12202, 13901, 10430, 17007, 7729, 2001, 2926, 29618, 29141, 10907, 7143, 3128, 20052, 2747, 1642, 23561, 878, 24348, 15476, 309, 1955, 2744, 8405, 2678, 1008, 6393, 707, 15125, 13936, 5267, 6751, 3963, 2973, 25720, 4190, 21519, 15714, 9438, 970, 13430, 9651, 2043, 28767, 31205, 7736, 14532, 19722, 11167, 5388, 26894, 23130, 28754, 10729, 23124, 20289, 21951, 6642, 28253, 30526, 15024, 8496, 7130, 7459, 1920, 13967, 14110, 19169, 10834, 12991, 8545, 14154, 1430, 14326, 21618, 4908, 22314, 9628, 1882, 26135, 18563, 4069, 13057, 23177, 29798, 19119, 18759, 29271, 3181, 4173, 12154, 6200, 15782, 14600, 7582, 12358, 11767, 28449, 17268, 12919, 21796, 24831, 28596, 31757, 2549, 14689, 12101, 15090, 22264, 27187, 6236, 10576, 6781, 13979, 25006, 6984, 7309, 23398, 2578, 13257, 25734, 27284, 14747, 8851, 2958, 15204, 19034, 18821, 20230, 19445, 10282, 9466, 316, 20001, 12169, 27678, 7597, 14112, 180, 21969, 19558, 3570, 11901, 2067, 14557, 7872, 10939, 7454, 18150, 11080, 27060, 1443, 4451, 25215, 27370, 18982, 17016, 23138, 445, 12225, 30075, 27676, 17159, 17447, 6022, 29039, 1775, 1244, 10021, 3039, 4829, 12738, 24121, 13143, 20281, 24823, 26004, 3396, 19998, 9509, 16111, 23469, 15511, 2671, 14150, 660, 8688, 5795, 7099, 6118, 695, 2430, 21263, 1122, 1932, 9071, 4857, 6964, 28031, 12741, 17061, 18419, 4491, 6628, 9885, 5578, 17213, 8200, 20444, 1740, 25577, 31818, 5623, 1754, 1881, 890, 26550, 19750, 18742, 2855, 17157, 24625, 12694, 20625, 8896, 28132, 29078, 25262, 848, 6409, 28415, 3720, 31972, 15334, 8526, 21625, 1289, 10438, 25101, 2789, 16341, 24692, 5209, 216, 9171, 22138, 12264, 29952, 1029, 8042, 10625, 29965, 1615, 6436, 7545, 31208, 3230, 26241, 5408, 19488, 3371, 19539, 23621, 27151, 3967, 8021, 1404, 19294, 7495, 21427, 4654, 9064, 10612, 18281, 8505, 9066, 8840, 16504, 9840, 7983, 20990, 16208, 10798, 21028, 22101, 4443, 9027, 13471, 2972, 10509, 12187, 8601, 18516, 22568, 18867, 21319, 11948, 15325, 27944, 1121, 30547, 18387, 22342, 25699, 15818, 25183, 8231, 26047, 6381, 26567, 19746, 7319, 10318, 28774, 6524, 15762, 16874, 31466, 21173, 5181, 6844, 1485, 11529, 8865, 11566, 11722, 9172, 4919, 19173, 27113, 21038, 29424, 1571, 26423, 23581, 8530, 24122, 10083, 30871, 6514, 7345, 14247, 19650, 25936, 2018, 11953, 18850, 1266, 26088, 15199, 14628, 480, 31176, 1923, 17135, 15364, 3417, 8177, 4163, 9779, 3188, 7430, 15213, 1674, 1051, 419, 2941, 377, 7547, 5532, 22785, 2379, 3139, 7257, 21839, 8561, 3025, 13786, 4937, 11065, 21378, 7036, 2589, 9507, 2911, 25489, 9528, 11543, 10747, 17916, 25633, 1699, 10929, 4043, 16458, 28124, 6222, 19202, 21867, 3705, 2083, 242, 5652, 20439, 22896, 8223, 21257, 30990, 24525, 16015, 10323, 13578, 17764, 21963, 7566, 6343, 13409, 29390, 7337, 4452, 5901, 27155, 28748, 23354, 6324, 23230, 27894, 18685, 9259, 5933, 25258, 5205, 9396, 18511, 1410, 17579, 31118, 4361, 12509, 13077, 7383, 22705, 5747, 11762, 16625, 26729, 16079, 11243, 7679, 5766, 8536, 8362, 23129, 6944, 3563, 4990, 14179, 21233, 7996, 19289, 12324, 5186, 17978, 13109, 21945, 11456, 8327, 8671, 6552, 22877, 5242, 15131, 22939, 2759, 25347, 17919, 21190, 6946, 20035, 21670, 209, 8495, 15734, 7914, 27144, 10759, 9497, 14560, 7542, 28989, 6805, 5222, 5421, 23485, 3111, 13530, 25147, 29169, 2415, 18726, 25518, 28391, 11256, 20942, 584, 3038, 29986, 21737, 350, 23705, 26092, 22657, 19563, 23176, 5744, 2968, 11922, 8554, 13031, 10107, 18893, 30171, 6435, 10771, 1263, 9679, 6939, 1804, 3434, 3699, 3796, 5945, 8455, 13566, 18117, 11946, 20475, 2846, 601, 4435, 5072, 20730, 25527, 1862, 3885, 9982, 21210, 1651, 15894, 5664, 19719, 20125, 11419, 7100, 12263, 18335, 10941, 26252, 11284, 14507, 28291, 19871, 17423, 13439, 20916, 636, 27969, 2698, 16297, 9826, 25431, 24378, 1150, 2776, 23427, 14626, 10987, 2540, 16709, 20777, 14240, 24686, 1531, 3156, 17223, 21849, 26588, 4873, 11997, 1163, 29083, 15079, 12109, 15654, 31326, 12798, 14643, 21462, 17644, 14493, 28431, 29678, 31560, 20278, 30751, 17969, 10595, 12254, 7642, 23644, 13372, 21303, 10510, 30033, 30531, 28683, 28479, 29345, 11859, 8465, 15703, 22866, 15210, 11118, 29405, 5959, 16211, 12630, 2384, 18588, 15146, 20338, 20402, 26398, 12102, 17435, 21689, 20500, 23858, 13375, 27142, 8300, 10188, 8470, 978, 6679, 13758, 3726, 8426, 26100, 7559, 29792, 454, 17885, 11560, 24205, 12249, 5648, 12715, 30843, 19573, 1626, 13816, 20198, 1210, 22640, 9108, 11995, 14066, 7780, 10706, 17239, 26250, 1592, 13538, 1685, 15889, 6766, 15139, 28925, 19676, 13394, 22768, 5845, 23025, 11772, 22179, 571, 16337, 21531, 30186, 20428, 7764, 10001, 17590, 5838, 947, 3642, 3504, 7330, 9149, 6632, 12527, 5090, 6219, 3455, 11006, 10498, 25144, 5481, 27279, 15014, 10118, 19924, 12410, 14953, 4598, 18528, 25763, 12833, 18809, 3588, 29763, 26692, 8929, 2263, 24221, 16808, 2501, 12886, 6424, 20429, 4498, 18812, 15957, 20971, 10261, 8774, 17846, 5070, 15280, 8018, 22113, 1915, 16816, 14828, 21335, 11428, 8567, 17944, 21238, 28528, 8817, 549, 31032, 20767, 12876, 19905, 25462, 26178, 5396, 23127, 3204, 16354, 10768, 9515, 21896, 6000, 23687, 13199, 5049, 19923, 5918, 22792, 26085, 22683, 5212, 11716, 19927, 13678, 14715, 2282, 25743, 13674, 13450, 27739, 14046, 9550, 18171, 7262, 2834, 94, 26822, 20876, 5869, 23385, 14092, 23842, 2557, 26789, 14542, 24420, 3388, 1547, 3037, 20910, 1284, 4338, 28953, 3057, 9036, 9934, 1318, 19546, 9995, 7449, 3352, 5308, 3526, 9351, 8162, 23570, 19723, 24418, 11742, 31995, 9046, 18524, 8161, 19773, 2784, 28521, 15923, 24385, 7880, 802, 16955, 17615, 11494, 8226, 18950, 30386, 3857, 156, 1542, 12034, 7659, 15498, 22615, 10963, 18502, 9199, 13507, 17116, 18882, 17054, 20110, 6298, 21035, 28405, 24123, 25483, 10172, 14472, 148, 2892, 5446, 10194, 16021, 11507, 11654, 4531, 2344, 29439, 21268, 9014, 31102, 2548, 17873, 9874, 25504, 18182, 3782, 27495, 3411, 3736, 4318, 446, 1027, 20080, 1079, 18398, 9383, 1850, 6308, 20169, 13197, 3049, 21145, 6187, 17321, 10745, 2854, 1762, 15598, 12313, 21450, 5092, 8480, 27496, 8178, 18869, 10854, 17829, 15597, 27121, 30517, 1718, 8158, 1515, 6006, 7714, 2215, 2194, 1138, 4967, 9637, 6692, 4496, 8507, 21520, 9846, 31931, 9983, 12434, 3559, 1022, 16637, 14807, 1142, 5891, 16754, 3467, 24308, 14988, 12446, 16908, 22943, 25551, 19004, 17858, 19666, 13560, 24322, 8531, 7802, 18393, 16761, 26868, 24457, 20655, 31711, 6923, 29231, 15028, 12330, 17355, 11340, 18618, 24570, 19806, 31568, 9373, 20950, 6193, 12877, 8329, 1793, 14450, 13070, 20803, 2209, 3695, 8333, 8900, 20759, 16141, 2974, 30450, 10976, 12345, 12672, 7054, 12605, 28819, 15031, 17422, 27072, 10585, 5704, 20993, 12232, 14599, 16531, 19549, 17839, 2566, 11478, 30035, 16469, 31329, 4556, 9677, 19454, 26087, 4320, 8595, 5740, 20716, 10756, 6777, 7356, 9510, 29784, 7482, 412, 30072, 26094, 13401, 3349, 11595, 10703, 26133, 13824, 12783, 16796, 16113, 17654, 13329, 25834, 20930, 22347, 28437, 10624, 4540, 30710, 16157, 23906, 16267, 2758, 749, 17017, 19630, 20842, 14168, 28687, 24685, 9058, 13913, 11845, 12969, 14873, 28311, 24066, 17191, 17566, 304, 31842, 14420, 15640, 31092, 30326, 26869, 16322, 16608, 7349, 18768, 31896, 6741, 17129, 622, 325, 5355, 8706, 14412, 1815, 2318, 7263, 30621, 14482, 29886, 13918, 16515, 14646, 5225, 12774, 9144, 10450, 2402, 15877, 3306, 13828, 312, 23888, 8100, 1414, 24533, 5531, 15763, 10371, 10591, 11281, 10908, 9765, 28487, 17546, 4593, 5292, 21866, 5586, 1844, 10511, 9836, 17687, 6550, 21871, 15625, 25024, 22798, 5258, 7505, 465, 26643, 3084, 17357, 26490, 23648, 27126, 25313, 16817, 27620, 9884, 12208, 21502, 7199, 17881, 14298, 18515, 19211, 2809, 10012, 2792, 24922, 19931, 2154, 5788, 13294, 18831, 11884, 15462, 3815, 19495, 2216, 31914, 1563, 9906, 6630, 18185, 15987, 17342, 16117, 28049, 15026, 11977, 22207, 19576, 19863, 12020, 15507, 28928, 11368, 23776, 10805, 7166, 7073, 3144, 17814, 19407, 14360, 8217, 25413, 24843, 2506, 25003, 15327, 23249, 28959, 7964, 14843, 2330, 30540, 26713, 13637, 7363, 18465, 30700, 21599, 17594, 18614, 23516, 14204, 4159, 9762, 18463, 22307, 5073, 3790, 29413, 4551, 17851, 6950, 5893, 8306, 1534, 2963, 3394, 4574, 1212, 13778, 17392, 3226, 15630, 18833, 1311, 5708, 23024, 9258, 9222, 283, 10094, 12021, 3611, 20650, 25148, 22619, 7899, 10271, 2143, 11856, 19155, 23955, 2185, 28834, 6362, 19237, 13789, 5199, 14767, 2803, 26076, 11019, 12136, 9777, 5847, 1363, 7717, 3137, 19729, 4039, 8146, 2148, 15118, 499, 14579, 6852, 29718, 28605, 6887, 19560, 23461, 31714, 19073, 23045, 30616, 15481, 24726, 26005, 8573, 15363, 16492, 2133, 16317, 6664, 4726, 17535, 9276, 4185, 23475, 22402, 15684, 28122, 5770, 19193, 31541, 5641, 10155, 932, 17410, 11705, 21384, 2457, 7758, 6650, 29841, 8880, 25182, 25559, 10162, 16938, 5617, 1332, 31927, 10149, 24210, 31246, 16902, 8833, 5370, 9023, 8477, 27257, 31057, 24730, 11808, 7374, 29648, 5154, 16256, 2636, 1377, 19012, 3271, 21475, 24483, 8555, 27274, 14354, 26276, 16158, 16821, 26353, 5140, 15192, 6698, 27563, 12401, 19159, 4533, 20064, 6538, 10148, 16601, 9745, 10176, 5479, 9541, 27753, 16689, 31908, 26805, 5220, 10290, 16232, 5879, 20137, 25787, 14082, 6611, 18389, 19926, 30945, 14465, 20809, 26741, 29062, 16212, 2786, 15497, 18668, 5428, 27526, 17830, 9771, 9411, 23186, 4765, 13927, 17219, 2159, 29941, 23153, 9947, 20821, 11816, 20268, 23222, 8007, 18334, 22603, 13905, 30327, 22839, 4794, 9145, 9950, 15510, 16751, 29122, 25665, 26328, 17154, 23065, 7382, 8667, 12077, 21140, 9107, 4800, 24884, 27209, 7109, 26226, 13743, 18000, 3721, 14827, 16932, 22673, 21614, 12394, 13280, 9233, 27167, 15666, 10388, 6598, 10598, 13528, 15711, 18873, 6465, 13552, 11147, 30822, 4564, 2262, 11093, 26886, 15924, 9429, 28565, 31875, 27951, 20062, 8208, 23840, 2011, 9749, 1908, 8336, 15236, 28466, 12325, 1174, 5570, 368, 2504, 22232, 1526, 3617, 16612, 18817, 10144, 20126, 10439, 13465, 17562, 2048, 25638, 20556, 19636, 12023, 14404, 17141, 27318, 11574, 13346, 13782, 17117, 7005, 18194, 5190, 24708, 17259, 29005, 10571, 19026, 16887, 17906, 16491, 22509, 10037, 14866, 23907, 21894, 30977, 17029, 7904, 29456, 1671, 24051, 22450, 20310, 31512, 15426, 3529, 7913, 28584, 9267, 933, 6540, 16525, 7720, 18063, 10662, 8012, 17421, 10455, 3426, 15206, 24384, 13615, 11046, 19074, 31195, 12776, 2142, 29442, 18050, 22313, 17822, 24207, 17584, 25622, 13065, 4980, 9810, 5823, 5098, 17659, 23695, 11143, 14512, 9187, 21351, 26187, 16663, 31663, 18740, 5693, 13046, 3525, 555, 9899, 411, 16494, 10999, 25667, 4395, 8687, 1129, 11548, 2035, 15045, 21606, 7087, 20373, 24260, 955, 2502, 6167, 4249, 6328, 22054, 9163, 1797, 6416, 7734, 6902, 19809, 15546, 20919, 19837, 12881, 6411, 18190, 29206, 29964, 15865, 11589, 10274, 14617, 21983, 5424, 7311, 9139, 18926, 29044, 7858, 6067, 4495, 7136, 16893, 8872, 2126, 12157, 13892, 22223, 13686, 22613, 14374, 22155, 20336, 10898, 16095, 13285, 3347, 19477, 1777, 11033, 24377, 3359, 26597, 17479, 8188, 18268, 7106, 2180, 1661, 12698, 19418, 11829, 5810, 16073, 24657, 5289, 13543, 11867, 1838, 26230, 4826, 3657, 26185, 17769, 19214, 13915, 19043, 4734, 2350, 7945, 7710, 18380, 25085, 29659, 2621, 8924, 4511, 10035, 26796, 12474, 12343, 22139, 21099, 14959, 12601, 29837, 3399, 12092, 13425, 25402, 2709, 5777, 18795, 12627, 17233, 28044, 10707, 5342, 3424, 7995, 12441, 5824, 17384, 1919, 17796, 10267, 20481, 12119, 6070, 18085, 12419, 8009, 3557, 19183, 14258, 14362, 17104, 29518, 4488, 27989, 12901, 2449, 14164, 19052, 2745, 8913, 30306, 21374, 2737, 15135, 6564, 12465, 2104, 20565, 5061, 16323, 5192, 10748, 6763, 28000, 23421, 10180, 23869, 20954, 9511, 6697, 20737, 16226, 22068, 3450, 5545, 8005, 14294, 17665, 27043, 5610, 4266, 25348, 3625, 31014, 8570, 16620, 25740, 2733, 1276, 14697, 29256, 14253, 12729, 15380, 8648, 21954, 12387, 17337, 21720, 12559, 8050, 5076, 11729, 290, 18451, 5923, 24324, 12308, 17379, 30237, 5004, 22672, 8704, 31647, 21825, 22343, 18266, 24582, 5077, 27196, 7333, 29601, 20005, 11790, 30863, 10131, 5520, 16536, 21762, 23535, 23564, 11128, 11114, 28778, 23525, 5306, 27076, 8643, 12530, 15920, 7086, 29436, 23846, 21076, 8356, 6041, 19763, 21895, 26122, 11000, 16063, 25917, 13995, 22970, 19523, 21632, 22826, 18773, 20918, 5636, 30017, 24252, 11794, 7477, 31696, 22559, 26674, 9731, 14892, 17075, 31490, 28248, 19412, 17823, 6593, 14779, 21149, 20093, 25072, 29698, 6783, 7488, 10360, 16202, 2977, 14226, 6110, 29061, 26042, 6156, 20761, 15394, 14457, 22057, 31213, 20109, 29369, 3669, 19786, 17786, 16023, 24923, 3373, 27864, 11358, 6246, 15615, 16084, 23996, 30837, 7888, 7769, 9915, 15365, 23416, 17708, 23091, 4935, 28747, 11591, 28530, 24271, 17865, 27344, 7652, 15449, 25266, 11012, 6045, 15278, 25630, 21834, 6907, 13886, 10683, 1593, 17950, 12716, 11274, 5286, 21936, 21111, 24906, 6590, 30062, 14673, 8302, 7227, 17610, 21989, 17903, 10983, 6455, 6495, 30876, 2200, 25942, 4425, 24895, 4263, 25029, 2158, 2922, 4117, 20710, 4623, 7332, 5088, 24565, 20142, 2403, 17929, 15875, 3871, 7127, 15641, 1624, 7144, 15052, 13875, 7777, 15374, 7963, 23250, 17565, 15612, 20731, 15874, 4965, 5376, 21616, 14501, 10949, 22405, 13466, 21171, 26365, 14010, 17269, 11198, 10825, 11768, 9099, 7113, 18025, 8994, 20744, 12583, 11631, 9609, 31519, 16574, 14441, 11066, 16191, 16869, 28898, 15232, 10971, 13836, 17806, 2409, 2740, 3750, 12197, 26208, 13079, 12306, 8799, 16060, 8279, 14317, 27412, 5068, 18134, 22176, 18490, 10297, 9616, 23144, 4181, 15623, 19359, 20504, 12574, 14059, 14136, 13509, 7870, 16082, 4083, 2770, 11392, 18680, 15039, 24688, 4047, 7826, 6342, 24083, 26606, 12749, 19410, 29088, 28967, 22183, 24360, 19957, 14729, 2473, 6233, 9405, 27138, 15868, 31448, 12250, 28817, 26773, 28088, 9778, 7643, 1013, 5844, 11315, 19401, 22023, 13644, 9394, 12873, 31396, 6394, 264, 2821, 7320, 7047, 886, 4712, 2730, 26664, 11418, 12198, 20698, 2042, 7135, 5716, 5224, 19258, 19089, 8927, 24486, 15718, 23964, 31035, 2526, 26387, 10792, 8627, 25969, 29549, 5876, 20419, 15696, 18562, 6458, 1323, 3068, 30908, 9078, 19268, 20775, 21085, 16655, 23418, 18331, 22366, 27700, 18781, 14451, 23375, 17700, 1856, 11888, 5550, 5438, 8951, 7933, 30382, 1015, 23518, 8642, 3319, 5093, 11469, 5659, 23575, 13038, 30629, 451, 14969, 8974, 25727, 15177, 10221, 9334, 22217, 30070, 23880, 4769, 15915, 14221, 25938, 9316, 2149, 5158, 3608, 8930, 4804, 18191, 19599, 16382, 19796, 8288, 16059, 15508, 11541, 14627, 5631, 21166, 8357, 31885, 1387, 9422, 11287, 4972, 11759, 3059, 11163, 10956, 26393, 5642, 29234, 22822, 26351, 25731, 19461, 18617, 18039, 11471, 5193, 26859, 4892, 22831, 17171, 6243, 26991, 24421, 27425, 21986, 5568, 17085, 16706, 5614, 1600, 7105, 292, 23381, 13759, 10801, 16724, 23513, 12928, 21972, 6619, 17617, 29250, 7871, 12974, 15985, 22627, 6365, 20843, 18884, 17420, 21627, 24552, 8854, 8077, 25715, 29554, 9415, 5175, 28099, 9579, 13380, 5440, 30174, 21668, 8271, 25243, 4872, 13190, 1880, 10289, 15494, 31054, 25566, 7476, 29949, 13171, 22130, 10449, 28276, 13769, 7745, 24984, 5985, 16366, 10445, 28706, 30535, 26743, 7120, 5643, 31072, 13879, 5735, 18043, 15642, 8051, 9913, 22438, 5500, 8821, 5774, 22175, 12580, 1610, 17909, 2003, 18981, 4646, 7110, 16778, 3931, 4625, 18761, 12165, 19854, 12558, 6508, 16040, 3926, 29895, 13218, 14215, 19063, 23499, 23511, 4328, 5929, 9010, 17564, 28935, 10711, 18070, 25721, 7409, 16947, 30482, 20450, 11168, 7819, 22198, 17807, 11263, 13200, 204, 14586, 29951, 17942, 3684, 29165, 23128, 17999, 19669, 17205, 16617, 18865, 28899, 30356, 24120, 8483, 28395, 12780, 11279, 5055, 22805, 19438, 24146, 21965, 25801, 17542, 3538, 28089, 10046, 19207, 28165, 24061, 28907, 29306, 10248, 5860, 12094, 6859, 22246, 29998, 3012, 22115, 9384, 23338, 22178, 31724, 8026, 21224, 18875, 23614, 3576, 13547, 4398, 2224, 27287, 2702, 15605, 2875, 23746, 9273, 14189, 10903, 7138, 18989, 13622, 7338, 17612, 5245, 13587, 22503, 5509, 20660, 16485, 5027, 21922, 3794, 17462, 7080, 16934, 14691, 18539, 22323, 2514, 16648, 16409, 5791, 4738, 28020, 7538, 15423, 8250, 11452, 31136, 8475, 16118, 23973, 28622, 23694, 5287, 16993, 30134, 8331, 4485, 16418, 6087, 18163, 10632, 21854, 12653, 10352, 8779, 7772, 11804, 25187, 24677, 10508, 31751, 9299, 9137, 22564, 4983, 25789, 21488, 22091, 9879, 25766, 27990, 11350, 30492, 2300, 16008, 1424, 8939, 21469, 2523, 13058, 22709, 4229, 11988, 6669, 22299, 12976, 7909, 18114, 19332, 24652, 3351, 22433, 12806, 20699, 30687, 25230, 14996, 28074, 21917, 30013, 21564, 30907, 10456, 586, 15059, 2271, 23818, 16168, 11640, 2321, 11712, 23211, 5263, 29260, 7552, 19098, 22285, 28408, 9794, 25008, 27695, 20713, 11466, 18939, 9627, 7953, 10592, 18855, 31871, 10728, 20350, 16451, 19939, 4582, 24116, 18925, 7030, 31220, 24005, 26488, 26396, 5313, 328, 11509, 23720, 11031, 26198, 10677, 9900, 10998, 10181, 8935, 11377, 19273, 21375, 506, 29352, 17495, 4691, 19544, 5324, 11009, 19553, 3284, 14049, 13594, 16127, 28920, 23382, 23454, 10150, 837, 4575, 5645, 30718, 12489, 12339, 597, 8618, 3234, 17913, 10127, 2432, 22093, 6674, 11897, 30758, 3545, 4417, 2312, 1270, 4916, 6952, 2203, 8541, 16147, 14883, 26668, 3941, 10060, 9104, 10893, 23545, 781, 29011, 2964, 3152, 12779, 4969, 25770, 7281, 10137, 3901, 8653, 12060, 30979, 22283, 19080, 11670, 11491, 22842, 3460, 19575, 15095, 16823, 4480, 10368, 24532, 9039, 8850, 21370, 14816, 22301, 11680, 5382, 14212, 19476, 3833, 13291, 12379, 12347, 8940, 24379, 9766, 21340, 26371, 18878, 31664, 27371, 26980, 28057, 24039, 8884, 15740, 30956, 15988, 28866, 29445, 20970, 31180, 19500, 8236, 16071, 4242, 26925, 1602, 9057, 14591, 26513, 4467, 3488, 363, 10265, 15609, 6551, 6560, 17284, 9426, 1945, 16700, 2985, 10237, 3129, 2386, 4272, 438, 2645, 1620, 15753, 16883, 25227, 27545, 16184, 22290, 10212, 4444, 15811, 18604, 21295, 3556, 30152, 16885, 14230, 13129, 366, 1548, 1185, 9020, 27484, 9091, 101, 18548, 14914, 30785, 8733, 5634, 29420, 16332, 8540, 22982, 6060, 19525, 3118, 24812, 25568, 20989, 9439, 23238, 20723, 13831, 14583, 16347, 2751, 5039, 26848, 25804, 8586, 12429, 25176, 4195, 30300, 26512, 4871, 22984, 12116, 26765, 26347, 3637, 1758, 7301, 17709, 22632, 31068, 20055, 24571, 11699, 29993, 8945, 17917, 15670, 2929, 6214, 5201, 12035, 16093, 4701, 6545, 14224, 26397, 9828, 26369, 23501, 2163, 1060, 7271, 6226, 23241, 4904, 17971, 1811, 3969, 28123, 28015, 9155, 16550, 22045, 16035, 24374, 5247, 2766, 2838, 13480, 16433, 8754, 18969, 6694, 460, 5541, 7434, 335, 2208, 898, 507, 1003, 21402, 8388, 23992, 10247, 25439, 15830, 968, 627, 23744, 19036, 29360, 21474, 26923, 13978, 15559, 17185, 24319, 24011, 220, 6622, 25684, 28623, 20613, 6260, 29696, 850, 6911, 24822, 314, 1179, 24466, 25021, 26436, 18315, 21930, 27827, 2899, 16583, 22951, 27598, 27521, 10414, 9047, 22471, 21018, 16164, 20658, 16506, 27332, 7273, 17184, 29004, 27456, 9957, 17737, 20236, 489, 431, 668, 505, 305, 16312, 15041, 12701, 14505, 14834, 17961, 18148, 15465, 19201, 17107, 15393, 2307, 2664, 1902, 6862, 8838, 10630, 8798, 604, 1283, 1640, 943, 2861, 2775, 910, 2777, 2382, 3147, 11190, 5864, 4837, 944, 5580, 1401, 11397, 9975, 23726, 26957, 23652, 28484, 9181, 28828, 27710, 4261, 22306, 4678, 997, 24046, 12283, 24970, 8640, 15011, 4306, 3594, 6374, 5400, 8537, 6154, 6654, 4475, 3097, 6352, 6426, 3479, 9455, 9668, 10635, 11696, 9065, 6897, 11526, 12210, 6687, 7123, 1630, 2059, 9526, 11989, 11923, 13736, 12185, 8003, 11321, 12778, 7366, 4407, 4406, 2628, 2464, 3105, 7670, 2735, 3581, 3888, 4101, 2722, 6503, 23939, 10239, 13063, 4442, 22729, 9548, 5986, 14556, 19830, 17607, 23637, 28712, 4675, 21581, 22850, 16693, 5316, 11671, 6760, 26792, 22067, 7730, 25464, 9302, 13706, 26690, 23967, 7186, 1960, 27859, 1701, 6798, 20383, 30118, 13825, 23456, 22435, 25651, 9375, 26992, 25255, 17845, 15738, 25579, 1821, 14639, 23890, 24934, 27900, 7520, 20074, 26660, 30976, 28483, 11635, 19856, 4455, 12824, 27087, 29909, 28685, 10619, 5354, 12455, 21742, 25996, 24128, 7242, 15194, 14436, 21225, 11472, 23859, 29849, 7351, 15333, 16140, 24193, 23277, 4674, 3521, 15106, 29743, 11597, 24936, 30699, 4379, 13683, 7676, 28741, 19690, 24366, 26983, 22505, 26813, 23963, 4504, 4957, 8923, 18973, 17600, 9802, 20643, 17464, 21236, 19474, 30185, 19463, 26069, 6807, 6827, 10639, 8067, 30347, 25199, 12949, 13395, 18347, 15557, 31732, 26238, 11103, 28196, 13621, 30894, 16064, 19380, 26839, 26696, 9218, 24328, 19977, 2969, 27564, 10504, 18961, 10715, 17080, 24972, 27435, 30543, 15993, 21338, 16452, 18584, 14262, 27035, 13246, 24920, 19895, 11155, 24655, 12528, 17557, 26885, 10078, 25306, 27127, 31879, 9747, 5620, 7678, 19436, 28965, 29064, 31624, 18652, 22203, 15143, 23003, 13027, 13908, 4637, 25064, 20825, 31474, 22959, 19607, 18192, 10840, 22697, 17113, 16229, 20834, 28964, 14445, 11029, 8233, 17857, 15055, 20492, 17777, 28464, 30869, 12714, 16532, 23966, 13048, 20469, 16361, 24560, 9937, 18136, 3273, 23715, 23942, 25378, 24739, 31417, 5021, 25795, 4493, 16836, 29556, 22181, 4197, 21361, 5527, 22296, 10300, 20733, 21269, 22390, 22097, 29203, 18263, 22887, 26876, 19108, 9053, 18501, 8059, 17491, 27401, 20708, 25983, 30520, 6656, 2372, 7622, 19378, 7807, 21753, 22017, 15312, 21272, 17970, 5312, 2739, 8571, 30355, 17820, 9130, 26855, 20570, 15153, 20067, 22482, 19499, 13234, 25810, 5713, 20495, 5825, 12983, 27706, 14111, 22948, 29803, 17980, 25020, 9436, 11664, 16205, 20335, 8859, 28769, 10129, 21539, 23442, 29612, 19959, 1537, 30757, 29652, 23263, 27513, 24885, 28281, 18162, 27349, 14948, 9825, 25870, 22338, 23610, 1949, 31880, 2840, 15276, 12070, 12791, 28204, 2507, 24037, 2181, 26596, 12762, 10969, 23549, 21630, 12678, 7680, 7040, 6824, 6529, 11090, 28728, 9605, 25045, 23940, 31555, 25026, 26244, 5363, 18932, 26239, 24995, 19384, 2466, 11710, 19143, 21317, 28324, 22577, 13268, 13095, 30349, 26469, 29715, 27306, 14698, 27099, 30833, 15978, 16695, 11561, 8816, 22849, 29210, 18041, 25904, 6248, 15730, 29485, 12080, 30584, 25108, 1441, 13270, 30184, 15331, 25672, 2038, 26945, 17606, 14815, 20758, 24076, 27223, 18718, 16209, 26560, 6920, 1673, 25508, 29839, 5939, 30000, 16154, 23709, 13364, 19344, 8622, 7575, 30279, 5725, 29668, 8668, 29373, 29331, 26062, 12148, 26849, 23816, 4746, 30425, 13517, 15161, 17247, 19261, 26816, 14433, 24627, 31489, 30411, 9724, 1412, 22715, 23435, 20460, 17972, 31457, 16639, 8767, 4218, 29989, 13890, 20499, 12412, 10071, 8608, 28816, 5882, 5797, 19759, 26651, 12170, 30500, 30948, 22102, 1230, 26378, 20669, 27214, 9473, 13579, 21522, 26031, 8510, 21284, 27830, 24259, 27389, 4463, 23285, 17743, 24191, 30462, 20976, 30449, 20387, 27119, 19726, 30166, 15882, 8663, 16046, 29980, 30214, 1887, 23783, 29894, 9101, 25599, 26956, 26706, 24527, 27238, 1421, 846, 1360, 1233, 24004, 19538, 10226, 3403, 25844, 28396, 17627, 14455, 29852, 27362, 28009, 16014, 21968, 16182, 14787, 28987, 27823, 31069, 7471, 31423, 19716, 30812, 24244, 9470, 21386, 13667, 16553, 12193, 21482, 18972, 30566, 7960, 852, 24341, 14067, 11004, 27648, 13522, 23356, 7849, 11715, 8960, 21847, 25800, 8881, 25051, 31556, 7936, 9083, 13672, 15570, 10213, 7486, 8210, 7305, 2114, 27124, 10709, 24682, 10730, 21751, 20790, 25943, 27581, 31288, 13016, 21554, 19564, 25223, 14706, 2089, 22150, 14274, 1771, 11690, 10465, 10299, 28876, 27233, 5677, 29247, 2818, 14028, 2721, 30736, 19756, 21743, 26751, 26323, 22649, 27789, 25530, 18996, 5753, 6341, 4366, 20252, 23889, 8905, 28869, 12118, 17832, 5894, 22570, 23797, 10659, 18826, 13521, 17461, 6163, 11874, 22712, 4457, 30618, 28806, 10757, 12826, 19663, 28544, 6185, 18428, 29287, 8011, 1796, 22220, 27266, 30943, 27899, 22465, 14587, 13648, 5581, 20301, 29218, 27796, 11835, 20510, 9783, 22042, 6213, 11565, 16572, 28226, 12612, 22730, 17031, 25860, 21131, 31238, 17099, 23944, 28206, 22988, 12551, 27414, 10403, 26119, 16634, 9235, 11280, 28384, 9151, 25829, 29278, 27393, 7672, 15962, 12318, 30647, 27235, 23865, 31005, 29086, 23126, 18838, 14904, 18122, 4329, 7205, 11860, 11380, 25248, 11626, 16135, 3021, 30148, 9459, 9807, 19027, 12183, 31821, 25745, 20330, 18305, 23836, 25966, 4848, 3001, 13334, 27194, 13524, 16126, 28932, 13823, 21812, 30368, 28481, 21409, 12296, 11677, 21368, 16736, 29943, 12607, 15751, 26717, 18675, 25253, 13087, 27029, 25803, 14448, 7116, 31441, 24250, 29388, 19602, 16575, 18786, 30548, 15048, 7711, 12892, 27600, 23878, 22714, 26376, 24464, 3948, 15275, 22172, 29148, 421, 13491, 23040, 21423, 20219, 15248, 30226, 9682, 16112, 16121, 17561, 24424, 25115, 30588, 16590, 16245, 25645, 24914, 20412, 30003, 10826, 15440, 41, 9664, 15036, 17571, 30568, 18001, 9198, 3568, 20516, 24586, 23763, 13262, 14565, 19737, 29034, 20748, 20648, 26861, 4224, 8400, 5266, 21903, 7896, 7934, 28024, 21836, 18102, 3006, 863, 12207, 14830, 3397, 30236, 17533, 7457, 16133, 31730, 9452, 22941, 22539, 29770, 25186, 31244, 31023, 6272, 9255, 13444, 18262, 27559, 13788, 12942, 18373, 23160, 31592, 28972, 31857, 18017, 28040, 20432, 7212, 17511, 30367, 30569, 8037, 30926, 10177, 3560, 12219, 20190, 9896, 21721, 13068, 20477, 12033, 9647, 24383, 23603, 10256, 6054, 24699, 28205, 22576, 2599, 29120, 31143, 15545, 16755, 27758, 26600, 14716, 3287, 24253, 30884, 7756, 28316, 24959, 12968, 21485, 22908, 11314, 23018, 18823, 17487, 16397, 29697, 18128, 9428, 29315, 19280, 5896, 14203, 22960, 27292, 26237, 30021, 26485, 13753, 30817, 5994, 20313, 29973, 29767, 19982, 22606, 25925, 5460, 15633, 12832, 22860, 3235, 21732, 28223, 27962, 13051, 24432, 25947, 25594, 29332, 15940, 27947, 20948, 22059, 17039, 21218, 17536, 24438, 10961, 7107, 28169, 29768, 15077, 26818, 31520, 16555, 8381, 29467, 23233, 10743, 5837, 8506, 10429, 15054, 23370, 28107, 10803, 21924, 10243, 31053, 27328, 1541, 4925, 8814, 25043, 24967, 14571, 10074, 16078, 100, 14001, 20559, 17203, 31651, 30146, 25111, 20711, 26290, 13323, 28517, 16717, 8740, 21063, 16134, 27626, 28597, 24977, 19889, 30451, 27264, 8889, 27677, 20381, 27919, 4886, 20273, 26073, 8729, 17693, 24449, 19569, 13713, 16517, 21678, 21902, 8822, 24388, 4783, 27534, 8144, 28980, 12408, 17138, 11497, 19224, 22743, 8472, 14976, 16791, 30318, 16146, 9864, 14572, 26029, 30472, 26551, 19935, 20887, 5736, 27110, 29461, 466, 7740, 23117, 22818, 12477, 11339, 16386, 14301, 31153, 15132, 19804, 17949, 25432, 9506, 30110, 2686, 19460, 17804, 28211, 15068, 27784, 23592, 5574, 19304, 24010, 16602, 16988, 19491, 14932, 15638, 30506, 9450, 26458, 25335, 26044, 18552, 23826, 28117, 19377, 10406, 25004, 22119, 1609, 24534, 12960, 15356, 9043, 13312, 22885, 15019, 19992, 25833, 14200, 7148, 23510, 27461, 20523, 17034, 27668, 18933, 11381, 28777, 26571, 22227, 20389, 7057, 22812, 25381, 28331, 8491, 31150, 25811, 13156, 25649, 24704, 31676, 21572, 24042, 26842, 16496, 4086, 24723, 23097, 18707, 21512, 23464, 27943, 31067, 30808, 22105, 29464, 11834, 7682, 3836, 27105, 5841, 22003, 29855, 27690, 24793, 27575, 5780, 14348, 20048, 24330, 7272, 27611, 17096, 16711, 21985, 23679, 26349, 26744, 15626, 16002, 22439, 13185, 20235, 24204, 21957, 27815, 16990, 18332, 28571, 14653, 13808, 28695, 21412, 22977, 31851, 14648, 26766, 17416, 15088, 19451, 458, 19933, 28779, 29042, 3900, 9661, 10605, 16522, 8941, 22272, 1662, 16632, 27364, 27800, 11523, 22242, 3238, 6357, 25885, 24231, 24951, 27221, 14890, 17726, 11779, 7823, 15934, 29300, 18100, 22087, 27889, 31928, 26070, 25813, 13893, 30498, 23691, 11668, 31528, 20898, 24467, 20936, 19954, 23732, 20446, 28673, 25450, 31578, 24852, 11826, 26534, 10480, 27042, 19816, 15739, 20189, 27159, 26204, 30666, 23302, 21808, 8528, 19191, 30358, 9430, 24463, 25218, 14383, 25388, 31344, 31154, 31237, 18602, 16922, 16581, 18763, 16120, 5279, 9819, 29092, 26906, 31260, 16344, 31771, 22593, 28315, 31070, 26827, 27828, 25906, 9493, 29913, 25478, 3802, 21932, 17740, 24493, 24086, 21885, 17887, 24828, 6925, 24454, 26020, 31403, 10277, 24583, 31337, 24751, 7063, 30426, 11450, 16290, 31378, 26594, 30811, 11121, 27451, 25219, 21376, 27014, 11756, 12422, 28337, 22058, 19238, 28757, 2588, 15004, 19980, 10809, 3779, 30197, 25963, 23587, 24095, 21802, 21429, 20798, 28573, 7038, 28844, 30656, 15747, 31419, 19586, 25353, 10484, 11688, 25107, 26739, 10527, 21297, 10855, 22194, 24484, 15158, 8220, 6557, 27890, 17455, 8268, 17176, 27064, 26099, 14255, 3520, 10373, 26615, 28814, 26057, 8083, 29961, 18378, 15930, 23832, 17060, 30377, 11519, 17651, 12930, 4001, 13675, 15452, 29935, 14093, 14265, 19269, 28474, 13405, 11959, 24717, 12769, 6834, 21309, 29632, 23686, 20045, 18199, 30415, 11309, 16819, 29662, 19212, 16675, 17878, 13991, 22160, 28797, 3789, 25408, 26035, 25491, 4789, 14868, 16036, 21589, 18585, 17660, 12665, 21861, 11386, 13651, 22254, 11170, 9070, 28796, 20280, 20333, 24499, 23479, 31681, 26039, 21127, 17619, 15372, 24364, 19542, 18125, 9165, 23551, 25692, 26499, 26049, 28432, 26966, 27228, 21100, 1985, 28868, 22132, 12532, 23324, 7912, 11412, 23745, 3333, 14222, 14717, 9246, 25839, 24470, 24106, 17244, 18566, 19767, 20709, 20077, 15702, 18436, 21739, 27239, 31593, 29930, 18868, 20024, 14216, 2351, 23194, 7766, 6516, 23043, 14794, 27623, 23619, 17778, 24321, 12222, 3527, 28499, 21230, 18667, 14734, 20502, 23831, 23497, 12156, 26912, 30680, 26633, 20002, 31909, 29291, 7462, 10887, 30198, 27930, 31239, 15180, 11648, 22656, 14654, 24599, 10372, 17305, 13923, 14012, 20414, 2867, 30213, 8383, 21203, 28086, 23002, 21162, 12439, 23367, 18847, 19887, 26497, 28941, 8589, 9372, 9959, 14845, 21702, 30055, 10507, 2349, 14269, 24542, 20661, 25323, 29344, 23863, 4017, 25391, 24296, 21621, 26790, 14119, 27422, 31297, 29031, 10310, 9654, 21457, 15773, 15604, 20059, 14022, 18142, 19911, 5968, 12043, 30473, 21829, 27046, 1682, 28630, 20958, 9565, 27654, 26607, 19693, 19857, 29992, 24255, 15921, 13992, 20413, 15661, 27814, 30848, 22834, 29298, 20493, 31183, 15995, 20385, 8979, 6434, 16829, 24725, 20378, 6231, 18045, 20610, 7726, 12995, 27945, 14102, 19531, 16799, 12899, 19047, 18688, 12822, 11643, 23506, 28644, 26420, 30154, 22789, 20085, 27478, 20684, 20082, 12743, 2750, 31188, 31440, 8252, 4699, 8709, 19231, 17716, 23077, 3430, 15584, 27171, 11180, 28416, 19078, 30727, 29125, 21056, 9293, 22009, 10886, 11628, 3103, 696, 31997, 2679, 11882, 13193, 16750, 20792, 20535, 31059, 31137, 21950, 11175, 15255, 10869, 27320, 20360, 28304, 11894, 28955, 17270, 24813, 2150, 27631, 24879, 21439, 18027, 8685, 16714, 22070, 21291, 2940, 13317, 8259, 16254, 24474, 20294, 14513, 17179, 9871, 25997, 19318, 23229, 17759, 18889, 30132, 25541, 15071, 15571, 22601, 16757, 18499, 31659, 7341, 12615, 31040, 31044, 12750, 9191, 16571, 16719, 14530, 16738, 21177, 11342, 11522, 12567, 23481, 17426, 10615, 20947, 27813, 31368, 23519, 31484, 5309, 17793, 18416, 23636, 20229, 30713, 26173, 7847, 14476, 6651, 17714, 10178, 24964, 12117, 11547, 20406, 29555, 13255, 31481, 28724, 26924, 30797, 31282, 25009, 26002, 16107, 9254, 29579, 18622, 21438, 11672, 31401, 11329, 13712, 13002, 10546, 16252, 17189, 10537, 20600, 13664, 27012, 26319, 14429, 28926, 28343, 3462, 9219, 10264, 24789, 13516, 15151, 29520, 23331, 8218, 26826, 23736, 2435, 19416, 11296, 28361, 24841, 12579, 23777, 29650, 6507, 19172, 9638, 8339, 11580, 21736, 14839, 9115, 3246, 16365, 22446, 30640, 17476, 31110, 27056, 23632, 15040, 18131, 20238, 26837, 9458, 31251, 13327, 20571, 30936, 19374, 17763, 14625, 25634, 19570, 21568, 25749, 7453, 14862, 30162, 13307, 3440, 4375, 16896, 30641, 15212, 27190, 7187, 22497, 9557, 10179, 17725, 26329, 24434, 29910, 7139, 24758, 25843, 12504, 24298, 27917, 19578, 3687, 8670, 19695, 9513, 12400, 25627, 18991, 27473, 24149, 22297, 17406, 17758, 11305, 26191, 19254, 24569, 27936, 27475, 818, 27684, 29494, 29449, 11242, 7615, 15871, 20443, 26284, 18791, 25921, 11789, 9918, 5523, 19888, 27275, 20498, 23187, 15715, 17501, 17167, 1914, 22698, 15971, 5066, 18854, 30674, 25279, 2513, 21800, 12941, 24027, 4780, 13877, 21508, 24815, 9006, 27718, 10345, 25671, 16793, 13235, 6404, 22100, 16230, 22536, 24797, 22452, 23919, 14525, 19979, 30775, 30298, 13088, 6689, 22365, 16806, 6828, 9435, 12471, 14595, 10315, 31189, 24969, 22553, 21489, 14490, 19369, 28633, 26149, 20418, 31134, 10231, 28927, 6429, 12371, 23200, 11087, 8401, 21845, 7343, 15506, 18420, 16243, 26535, 4486, 18202, 2477, 8731, 22871, 30175, 23495, 23893, 9445, 23081, 28310, 19296, 30927, 19764, 13581, 2858, 24900, 20133, 9537, 26012, 1697, 105, 3416, 395, 3996, 673, 30405, 1168, 13300, 18840, 19188, 19434, 29196, 30311, 1447, 29621, 29052, 22371, 31420, 7504, 11115, 19032, 31680, 27469, 31884, 7303, 15463, 31270, 20922, 30628, 19528, 28923, 17656, 30980, 29889, 9876, 10965, 16699, 11058, 14005, 18108, 13318, 23355, 30408, 9323, 27960, 15970, 23315, 31526, 1300, 17450, 19345, 13519, 24100, 24035, 31343, 21484, 29523, 11062, 13540, 25150, 31832, 19128, 10104, 26003, 1799, 19371, 16013, 6027, 17092, 14902, 30097, 27956, 9723, 18183, 1853, 23689, 25847, 5156, 26734, 13347, 29635, 20147, 22998, 27143, 21608, 7587, 12087, 24517, 9132, 21283, 25275, 23548, 14077, 26795, 23365, 26779, 26257, 16960, 21523, 18590, 18921, 19631, 23157, 26259, 31773, 20344, 1429, 25710, 1474, 13946, 30045, 26526, 28788, 6822, 16330, 13933, 19715, 29147, 7554, 25396, 13209, 28847, 25867, 23532, 17252, 20521, 27423, 19802, 23400, 21662, 31785, 30438, 30661, 23270, 24091, 26580, 22617, 28026, 13335, 19232, 25955, 16541, 17894, 25010, 29197, 20780, 23483, 29382, 10603, 14252, 4073, 31231, 28576, 26285, 25496, 15796, 15456, 5106, 3999, 30363, 11475, 25507, 14533, 20512, 22222, 23961, 31637, 20150, 29779, 28082, 28398, 2820, 1203, 30050, 12772, 20589, 28112, 4534, 25263, 17833, 29194, 30424, 29629, 27645, 18293, 25656, 16873, 6863, 16576, 29850, 29981, 27326, 7937, 11145, 14559, 8206, 23839, 7503, 30570, 27071, 23813, 16086, 24003, 5793, 27203, 24660, 24744, 11137, 28374, 12625, 1562, 6954, 20247, 13826, 17797, 29019, 16303, 13848, 15856, 12557, 7557, 27463, 20855, 6180, 14763, 8718, 22864, 6479, 1743, 27696, 19050, 8904, 11324, 26409, 27004, 20696, 6536, 5858, 27494, 15453, 14453, 6901, 21582, 31404, 30959, 8298, 25488, 18493, 7666, 4878, 24724, 30275, 29791, 14273, 20546, 19504, 31529, 18839, 17088, 23019, 19735, 6695, 16520, 22946, 25809, 25315, 11376, 21345, 30600, 15929, 21414, 31388, 7255, 24910, 6289, 5264, 22041, 26189, 25679, 23369, 17537, 26733, 25362, 29403, 25093, 14818, 26280, 27246, 17112, 8228, 29201, 8403, 12790, 22966, 16503, 22783, 31765, 26628, 22880, 19524, 25907, 31665, 25091, 12680, 5920, 17069, 19656, 9644, 28763, 29762, 12405, 7023, 25394, 19393, 5101, 17677, 23202, 4357, 23899, 22191, 24624, 12003, 11437, 17547, 15996, 25953, 23537, 21420, 18753, 28329, 16003, 27150, 2228, 20318, 25537, 16966, 16516, 24996, 23908, 20149, 18397, 31446, 15148, 25410, 26575, 24779, 30376, 10793, 9344, 21947, 9410, 18079, 20892, 17550, 28669, 24516, 15010, 30499, 2070, 28036, 16077, 28290, 15706, 19798, 13926, 13745, 11484, 4543, 23851, 3547, 8404, 30702, 19450, 10750, 20946, 10417, 6916, 11291, 16247, 23390, 21657, 27885, 24894, 17482, 4449, 6818, 26496, 22212, 12847, 14385, 28905, 21194, 10780, 26835, 16651, 19447, 7191, 13571, 12811, 17251, 21750, 27540, 29347, 16987, 20653, 11726, 25331, 16268, 31112, 19125, 7973, 8529, 29459, 28055, 21708, 9126, 23951, 9758, 11216, 17011, 18664, 1636, 1768, 22424, 28697, 8457, 30664, 22056, 30767, 8747, 22931, 15186, 22373, 29153, 26264, 30090, 9209, 24340, 19641, 3307, 5485, 4827, 6410, 26450, 3677, 18952, 9703, 30509, 19415, 14025, 22738, 26158, 22523, 30023, 27783, 21537, 18360, 22622, 8266, 8229, 18498, 31713, 22643, 21952, 11985, 22346, 29326, 17483, 31442, 16858, 6130, 12693, 1333, 24886, 9040, 29774, 27075, 15089, 18696, 7088, 27643, 13751, 31766, 23837, 28016, 30085, 16258, 21073, 16423, 15155, 15732, 27178, 24412, 12755, 30137, 15181, 15301, 24494, 18909, 26740, 26697, 30169, 3274, 15353, 17578, 29846, 12864, 1514, 28193, 20256, 24535, 26121, 30361, 2742, 6580, 21694, 17948, 13630, 25456, 31280, 29038, 7836, 30892, 25397, 4429, 18037, 30068, 10727, 22541, 18586, 22930, 13805, 25514, 19989, 28302, 7739, 23061, 12078, 13115, 13204, 30138, 16444, 28390, 26209, 12657, 21098, 21644, 18613, 13685, 27176, 4975, 26614, 23716, 17543, 31379, 5637, 6499, 10153, 4077, 16465, 19198, 2863, 4743, 27032, 16388, 11372, 24159, 22794, 14480, 18080, 16484, 8092, 24023, 25090, 11669, 13504, 18209, 29355, 25128, 2853, 24980, 11637, 27713, 25629, 19262, 16471, 24152, 23666, 13796, 20642, 14218, 31174, 5743, 22833, 22677, 5328, 26448, 15373, 20315, 28100, 27095, 29823, 31621, 30490, 19024, 23105, 21017, 3861, 23299, 24776, 4063, 27659, 5632, 29157, 14225, 13949, 7121, 30155, 19099, 23573, 18264, 22317, 19670, 9348, 3937, 30211, 9487, 3514, 18061, 9226, 27898, 16626, 13367, 27855, 21966, 19428, 24573, 7156, 13838, 14349, 29640, 7806, 5835, 21437, 27895, 19606, 2522, 30419, 24998, 17480, 10716, 17440, 10486, 12312, 23325, 18430, 20144, 23727, 13764, 26053, 28488, 26585, 23681, 21490, 30269, 2310, 24836, 23021, 18653, 26858, 24654, 16765, 25855, 12622, 20789, 31567, 26993, 23853, 24957, 12281, 31947, 30455, 16809, 2694, 14182, 14696, 3921, 31147, 31416, 26698, 4213, 21426, 26197, 21252, 13574, 28424, 29865, 25373, 16559, 20251, 22694, 18792, 25774, 17264, 30044, 29729, 25438, 29546, 11328, 13636, 29633, 10668, 17028, 5477, 16777, 28736, 14685, 14157, 27420, 16305, 23825, 20031, 9636, 16511, 27835, 14722, 14860, 20763, 23066, 23482, 24601, 31784, 11481, 21929, 19483, 28154, 27682, 19559, 23740, 9821, 7635, 25820, 30336, 29940, 23207, 15749, 28893, 16406, 20537, 17975, 28655, 19204, 25224, 14531, 14671, 13179, 10528, 18843, 31458, 13309, 16309, 27810, 3771, 18467, 22631, 8786, 23987, 29760, 22320, 7217, 25247, 22551, 1877, 8580, 16920, 13977, 24500, 12248, 16672, 7204, 30955, 20973, 15060, 6240, 15115, 3320, 26206, 31377, 15672, 7658, 10436, 31690, 12597, 25037, 28969, 31402, 30486, 28085, 24593, 27413, 28139, 14680, 4753, 12040, 15891, 31959, 18829, 12272, 6719, 26954, 11899, 17326, 22514, 11270, 26961, 29622, 21069, 4097, 17177, 28323, 22460, 25298, 20980, 7083, 12853, 1970, 7887, 22621, 20631, 15608, 31918, 12046, 29414, 22660, 20397, 25578, 6851, 14423, 25344, 4670, 19937, 18132, 11757, 25647, 29657, 28862, 27671, 22400, 29502, 24302, 8013, 20122, 10948, 16483, 25792, 30324, 28299, 27078, 23595, 17735, 26989, 5931, 28145, 13727, 13642, 30993, 27141, 6864, 29199, 361, 29732, 10002, 28699, 10232, 13152, 11013, 1376, 21495, 27242, 7510, 13146, 20878, 15746, 28283, 19399, 29324, 30567, 24241, 13869, 28227, 10697, 6078, 10072, 14146, 17302, 19520, 28115, 4428, 20668, 17209, 30711, 24278, 30632, 14647, 24668, 1698, 31398, 27722, 22692, 27790, 11704, 19936, 31287, 19684, 6918, 13649, 14156, 27528, 22971, 10016, 1713, 2490, 24305, 28029, 18894, 27530, 15533, 31756, 29483, 31736, 29737, 12233, 25505, 29357, 12242, 13004, 6140, 9902, 20010, 28338, 29171, 3207, 23225, 25498, 784, 29185, 16248, 27984, 15904, 8262, 14985, 30381, 11068, 15361, 31367, 11107, 24562, 18694, 16282, 6464, 7053, 9103, 6389, 12834, 27531, 28762, 5343, 4877, 23641, 22528, 4303, 17586, 8613, 29342, 29295, 6223, 21665, 20277, 7989, 22359, 29257, 23256, 27084, 836, 1207, 4244, 9147, 18258, 14854, 10930, 31215, 31620, 29438, 24539, 950, 30865, 23660, 20121, 18116, 6422, 20760, 24222, 23699, 22078, 28191, 13872, 10187, 25103, 10782, 23441, 23247, 17589, 14850, 20311, 5117, 12731, 20156, 8353, 29713, 21680, 11363, 16179, 15501, 26538, 12322, 8808, 9264, 10128, 11030, 12265, 8443, 21496, 9242, 4966, 23764, 22968, 20377, 25095, 15650, 9997, 26573, 15798, 28621, 14375, 28639, 29666, 29415, 28983, 31218, 1, 23359, 18646, 24585, 18394, 26104, 30639, 28242, 30663, 30069, 17005, 20627, 19219, 3910, 24275, 20539, 7940, 25441, 14229, 27226, 10568, 20403, 10440, 29401, 26008, 27049, 7182, 14392, 29533, 16596, 23638, 28001, 30651, 16016, 19233, 25264, 27322, 28756, 22431, 14887, 15681, 17036, 5433, 23339, 25209, 14753, 12669, 2167, 11627, 15833, 20628, 30555, 9996, 15066, 29788, 30342, 28218, 5453, 2446, 2280, 16, 29645, 22252, 31937, 14683, 21271, 8898, 24218, 15156, 13930, 26358, 28855, 25717, 29161, 8588, 11568, 19137, 22218, 12689, 26823, 20168, 14306, 10738, 30076, 17134, 16419, 16814, 13155, 12058, 30447, 25886, 9971, 20199, 26131, 29796, 10725, 5321, 23804, 18468, 31348, 23239, 25222, 28035, 13894, 27612, 29358, 30431, 11510, 19616, 12857, 11140, 24689, 29356, 11951, 29270, 27929, 10746, 3046, 27195, 14190, 11979, 16011, 17173, 27002, 23347, 21046, 31182, 27680, 7974, 12214, 29008, 23978, 15023, 29505, 96, 29129, 10670, 15379, 25593, 25363, 5583, 29571, 20813, 10469, 1875, 8014, 19146, 11524, 16662, 22351, 17228, 19961, 24859, 25206, 21831, 26722, 27792, 20575, 14011, 29476, 21552, 20148, 20012, 29869, 16119, 7911, 18026, 1197, 19932, 21823, 24595, 22605, 12074, 7077, 9967, 15388, 29116, 31279, 29488, 25825, 5728, 12483, 20848, 17908, 20019, 25305, 29914, 25436, 23986, 25400, 23111, 17874, 26016, 23542, 26132, 31284, 30874, 16144, 31476, 31131, 26009, 19102, 31865, 20870, 27634, 25899, 29184, 22890, 23584, 11301, 14524, 12889, 9478, 13053, 25756, 24667, 30938, 17605, 14320, 8801, 611, 1820, 16933, 11024, 27051, 24658, 29080, 20324, 29489, 2364, 30042, 23850, 15801, 13597, 13775, 18582, 15479, 29540, 31130, 15287, 22066, 28860, 28023, 25869, 27824, 25484, 21112, 20337, 27149, 17411, 27585, 19503, 22585, 31168, 14719, 22486, 26778, 28546, 20858, 28176, 22623, 20297, 30212, 29402, 13719, 31999, 9310, 27993, 26120, 31619, 19106, 22925, 7514, 24129, 29028, 19777, 31335, 31848, 16271, 20647, 23571, 13750, 8933, 23096, 12125, 25959, 14649, 15973, 4601, 24082, 7580, 14236, 29687, 6866, 30247, 22548, 28509, 25368, 14167, 12476, 20467, 18525, 27935, 23362, 8127, 19228, 20794, 25783, 16264, 11695, 25868, 27487, 18801, 29399, 16047, 25270, 26148, 19358, 23371, 13352, 12992, 12875, 11360, 17038, 14894, 13657, 28090, 13857, 23860, 18211, 19507, 21040, 30245, 26584, 31863, 11490, 30464, 7466, 24648, 16849, 27037, 28516, 31547, 15591, 5389, 12721, 20242, 14141, 26802, 25891, 19851, 28750, 6973, 13271, 20166, 31079, 6906, 28934, 20939, 9591, 29847, 17787, 26709, 11142, 28087, 18318, 28019, 11940])"
      ]
     },
     "execution_count": 68,
     "metadata": {},
     "output_type": "execute_result"
    }
   ],
   "source": [
    "dbpedia_trie.trie_dict.keys()"
   ]
  },
  {
   "cell_type": "code",
   "execution_count": 83,
   "id": "12b6e447-45c3-4d8a-a274-eeb7b8ab3592",
   "metadata": {
    "execution": {
     "iopub.execute_input": "2024-09-01T11:34:59.706443Z",
     "iopub.status.busy": "2024-09-01T11:34:59.702797Z",
     "iopub.status.idle": "2024-09-01T11:34:59.734110Z",
     "shell.execute_reply": "2024-09-01T11:34:59.733282Z",
     "shell.execute_reply.started": "2024-09-01T11:34:59.706353Z"
    },
    "scrolled": true
   },
   "outputs": [
    {
     "data": {
      "text/plain": [
       "{3608: {21230: {1531: {1: {}}}},\n",
       " 1: {},\n",
       " 180: {8834: {1: {}}, 29: {23: {2462: {1: {}}}}},\n",
       " 3: {20317: {53: {1: {}}},\n",
       "  13658: {1: {}},\n",
       "  10917: {1: {}},\n",
       "  11039: {1: {}},\n",
       "  12734: {1: {}},\n",
       "  19814: {1: {}, 7: {1: {}}},\n",
       "  14489: {1: {}, 1768: {262: {3913: {1: {}}}}},\n",
       "  15021: {1: {}},\n",
       "  208: {15021: {1: {}},\n",
       "   14489: {1220: {2326: {448: {1: {}}}}, 1: {}},\n",
       "   19765: {1: {}}},\n",
       "  4212: {8241: {1: {}}},\n",
       "  19708: {1: {}},\n",
       "  19765: {1: {}}},\n",
       " 17202: {21720: {1: {}}},\n",
       " 209: {115: {1: {}}, 279: {1: {}}, 1: {}},\n",
       " 204: {1: {}},\n",
       " 6864: {1: {}, 1220: {2326: {448: {1: {}}}}, 1768: {262: {3913: {1: {}}}}},\n",
       " 30438: {1: {}},\n",
       " 7344: {8231: {1: {}}},\n",
       " 9013: {1: {}, 7: {1: {}}},\n",
       " 2305: {1: {}},\n",
       " 3554: {1: {}},\n",
       " 2931: {1: {}},\n",
       " 10015: {1: {}, 9013: {1: {}}},\n",
       " 21720: {1: {}, 7: {1: {}}},\n",
       " 10958: {1: {}},\n",
       " 4432: {1: {}, 7: {1: {}}},\n",
       " 9679: {1: {}},\n",
       " 28992: {1: {}},\n",
       " 16726: {1: {}},\n",
       " 3662: {1: {}},\n",
       " 3669: {1: {}},\n",
       " 1070: {1: {}},\n",
       " 412: {6892: {1: {}}},\n",
       " 748: {1: {}},\n",
       " 731: {827: {1: {}, 27834: {1: {}, 7: {1: {}}}}},\n",
       " 22545: {1: {}},\n",
       " 1877: {632: {1: {}}},\n",
       " 5586: {4654: {1: {}}},\n",
       " 364: {1: {}},\n",
       " 314: {1: {}},\n",
       " 5419: {22545: {7: {1: {}}}},\n",
       " 8680: {1: {}},\n",
       " 9132: {1: {}},\n",
       " 3062: {6043: {1: {}}},\n",
       " 3278: {1: {}},\n",
       " 18870: {1: {}},\n",
       " 5363: {1: {}},\n",
       " 9607: {1: {}},\n",
       " 27834: {1: {}}}"
      ]
     },
     "execution_count": 83,
     "metadata": {},
     "output_type": "execute_result"
    }
   ],
   "source": [
    "dbpedia_trie.trie_dict[11401]"
   ]
  },
  {
   "cell_type": "markdown",
   "id": "e0ecbe9b-507d-42f9-8e36-bf33432664a3",
   "metadata": {},
   "source": [
    "the Trie is built with this code\n",
    "```python\n",
    "self.trie = Trie(\n",
    "    [\n",
    "        self.tokenizer(e.name, return_tensors=\"pt\")['input_ids'][0].tolist()\n",
    "        for e in entities\n",
    "    ]\n",
    ")\n",
    "```"
   ]
  },
  {
   "cell_type": "markdown",
   "id": "f5cf6488-be04-4ee5-aeb4-1aae306cda8d",
   "metadata": {},
   "source": [
    "## making microsoft ann_linker work on demo data\n",
    "I can't install the package, and the package was last updated 4 years ago. I skip."
   ]
  },
  {
   "cell_type": "markdown",
   "id": "0ed1da0d-3ce1-43d5-ad2f-ff7f58b0999c",
   "metadata": {
    "jp-MarkdownHeadingCollapsed": true
   },
   "source": [
    "## Spacy entity linker\n",
    "ref: https://github.com/explosion/projects/blob/v3/tutorials/nel_emerson/notebooks/notebook_video.ipynb"
   ]
  },
  {
   "cell_type": "code",
   "execution_count": 3,
   "id": "7a0ab1a8-4740-480b-bb39-5927616187b1",
   "metadata": {
    "execution": {
     "iopub.execute_input": "2024-09-01T14:43:23.319119Z",
     "iopub.status.busy": "2024-09-01T14:43:23.318515Z",
     "iopub.status.idle": "2024-09-01T14:43:40.957655Z",
     "shell.execute_reply": "2024-09-01T14:43:40.957305Z",
     "shell.execute_reply.started": "2024-09-01T14:43:23.319084Z"
    }
   },
   "outputs": [
    {
     "name": "stderr",
     "output_type": "stream",
     "text": [
      "/Users/louis.guitton/.pyenv/versions/3.11.4/lib/python3.11/site-packages/tqdm/auto.py:21: TqdmWarning: IProgress not found. Please update jupyter and ipywidgets. See https://ipywidgets.readthedocs.io/en/stable/user_install.html\n",
      "  from .autonotebook import tqdm as notebook_tqdm\n"
     ]
    },
    {
     "name": "stdout",
     "output_type": "stream",
     "text": [
      "Named Entity 'Emerson' with label 'PERSON'\n",
      "Named Entity 'Wimbledon' with label 'DATE'\n"
     ]
    }
   ],
   "source": [
    "import spacy\n",
    "nlp = spacy.load(\"en_core_web_md\")\n",
    "text = \"Tennis champion Emerson was expected to win Wimbledon.\"\n",
    "doc = nlp(text)\n",
    "for ent in doc.ents:\n",
    "    print(f\"Named Entity '{ent.text}' with label '{ent.label_}'\")"
   ]
  },
  {
   "cell_type": "code",
   "execution_count": 4,
   "id": "acaf4531-ce99-4d3f-b91d-b44b0d150658",
   "metadata": {
    "execution": {
     "iopub.execute_input": "2024-09-01T14:44:06.976917Z",
     "iopub.status.busy": "2024-09-01T14:44:06.972990Z",
     "iopub.status.idle": "2024-09-01T14:44:06.992893Z",
     "shell.execute_reply": "2024-09-01T14:44:06.991221Z",
     "shell.execute_reply.started": "2024-09-01T14:44:06.974732Z"
    }
   },
   "outputs": [],
   "source": [
    "import csv\n",
    "from pathlib import Path\n",
    "\n",
    "def load_entities():\n",
    "    entities_loc = Path.cwd().parent / \"data\" / \"test-spacy\" / \"entities.csv\"  # distributed alongside this notebook\n",
    "\n",
    "    names = dict()\n",
    "    descriptions = dict()\n",
    "    with entities_loc.open(\"r\", encoding=\"utf8\") as csvfile:\n",
    "        csvreader = csv.reader(csvfile, delimiter=\",\")\n",
    "        for row in csvreader:\n",
    "            qid = row[0]\n",
    "            name = row[1]\n",
    "            desc = row[2]\n",
    "            names[qid] = name\n",
    "            descriptions[qid] = desc\n",
    "    return names, descriptions"
   ]
  },
  {
   "cell_type": "code",
   "execution_count": 6,
   "id": "24e5127e-8c8d-4c04-8064-4fdd4060eb04",
   "metadata": {
    "execution": {
     "iopub.execute_input": "2024-09-01T14:44:31.865204Z",
     "iopub.status.busy": "2024-09-01T14:44:31.864292Z",
     "iopub.status.idle": "2024-09-01T14:44:31.878110Z",
     "shell.execute_reply": "2024-09-01T14:44:31.877336Z",
     "shell.execute_reply.started": "2024-09-01T14:44:31.865147Z"
    }
   },
   "outputs": [
    {
     "name": "stdout",
     "output_type": "stream",
     "text": [
      "Q312545, name=Roy Stanley Emerson, desc=Australian tennis player\n",
      "Q48226, name=Ralph Waldo Emerson, desc=American philosopher, essayist, and poet\n",
      "Q215952, name=Emerson Ferreira da Rosa, desc=Brazilian footballer\n"
     ]
    }
   ],
   "source": [
    "name_dict, desc_dict = load_entities()\n",
    "for QID in name_dict.keys():\n",
    "    print(f\"{QID}, name={name_dict[QID]}, desc={desc_dict[QID]}\")"
   ]
  },
  {
   "cell_type": "code",
   "execution_count": 8,
   "id": "c5db2f0d-f6fa-4565-9738-1873d25b9993",
   "metadata": {
    "execution": {
     "iopub.execute_input": "2024-09-01T14:46:59.016544Z",
     "iopub.status.busy": "2024-09-01T14:46:59.014921Z",
     "iopub.status.idle": "2024-09-01T14:46:59.028887Z",
     "shell.execute_reply": "2024-09-01T14:46:59.025897Z",
     "shell.execute_reply.started": "2024-09-01T14:46:59.016498Z"
    }
   },
   "outputs": [],
   "source": [
    "from spacy.kb import InMemoryLookupKB\n",
    "kb = InMemoryLookupKB(vocab=nlp.vocab, entity_vector_length=300)"
   ]
  },
  {
   "cell_type": "code",
   "execution_count": null,
   "id": "14f7d006-9cdb-4874-bd85-7d00b9780f96",
   "metadata": {},
   "outputs": [],
   "source": [
    "# entities.jsonl\n",
    "# entity_id, optional:entity_name, entity_description, corpus_frequency, optional:label\n",
    "# {\"id\":\"a6\",\"name\":\"Statistics\",\"description\":\"Statistics deals with all aspects of data collection, organization, analysis, interpretation, and presentation.\",\"label\":\"SKILL\"}\n",
    "\n",
    "# aliases.jsonl\n",
    "# name, entities, probabilities\n",
    "# {\"alias\": \"ML\", \"entities\": [\"a1\", \"a2\"], \"probabilities\": [0.5, 0.5]}"
   ]
  },
  {
   "cell_type": "code",
   "execution_count": 10,
   "id": "0e508d5a-742b-410e-8300-a646e380d001",
   "metadata": {
    "execution": {
     "iopub.execute_input": "2024-09-01T14:48:52.950544Z",
     "iopub.status.busy": "2024-09-01T14:48:52.949652Z",
     "iopub.status.idle": "2024-09-01T14:48:52.980817Z",
     "shell.execute_reply": "2024-09-01T14:48:52.980370Z",
     "shell.execute_reply.started": "2024-09-01T14:48:52.950497Z"
    }
   },
   "outputs": [],
   "source": [
    "for qid, desc in desc_dict.items():\n",
    "    desc_doc = nlp(desc)\n",
    "    desc_enc = desc_doc.vector\n",
    "    kb.add_entity(entity=qid, entity_vector=desc_enc, freq=342)   # 342 is an arbitrary value here"
   ]
  },
  {
   "cell_type": "code",
   "execution_count": 11,
   "id": "c8296593-2b34-42b3-8fd3-6eee15480fad",
   "metadata": {
    "execution": {
     "iopub.execute_input": "2024-09-01T14:51:13.177845Z",
     "iopub.status.busy": "2024-09-01T14:51:13.177109Z",
     "iopub.status.idle": "2024-09-01T14:51:13.188334Z",
     "shell.execute_reply": "2024-09-01T14:51:13.187300Z",
     "shell.execute_reply.started": "2024-09-01T14:51:13.177792Z"
    }
   },
   "outputs": [],
   "source": [
    "for qid, name in name_dict.items():\n",
    "    kb.add_alias(alias=name, entities=[qid], probabilities=[1])   # 100% prior probability P(entity|alias)"
   ]
  },
  {
   "cell_type": "code",
   "execution_count": 12,
   "id": "ffbf03d3-b192-4531-917d-2a4c2e36c9a3",
   "metadata": {
    "execution": {
     "iopub.execute_input": "2024-09-01T14:51:58.413246Z",
     "iopub.status.busy": "2024-09-01T14:51:58.412575Z",
     "iopub.status.idle": "2024-09-01T14:51:58.425129Z",
     "shell.execute_reply": "2024-09-01T14:51:58.424127Z",
     "shell.execute_reply.started": "2024-09-01T14:51:58.413211Z"
    }
   },
   "outputs": [
    {
     "data": {
      "text/plain": [
       "4831166512461469197"
      ]
     },
     "execution_count": 12,
     "metadata": {},
     "output_type": "execute_result"
    }
   ],
   "source": [
    "kb.add_alias(alias=\"Emerson\", entities=name_dict.keys(), probabilities=[0.3, 0.3, 0.3])  # sum([probs]) should be <= 1 !"
   ]
  },
  {
   "cell_type": "code",
   "execution_count": 13,
   "id": "fae41866-484f-4964-9494-97010071acfa",
   "metadata": {
    "execution": {
     "iopub.execute_input": "2024-09-01T14:52:08.788140Z",
     "iopub.status.busy": "2024-09-01T14:52:08.787799Z",
     "iopub.status.idle": "2024-09-01T14:52:08.793902Z",
     "shell.execute_reply": "2024-09-01T14:52:08.792961Z",
     "shell.execute_reply.started": "2024-09-01T14:52:08.788118Z"
    }
   },
   "outputs": [
    {
     "name": "stdout",
     "output_type": "stream",
     "text": [
      "Entities in the KB: ['Q215952', 'Q312545', 'Q48226']\n",
      "Aliases in the KB: ['Roy Stanley Emerson', 'Emerson Ferreira da Rosa', 'Ralph Waldo Emerson', 'Emerson']\n"
     ]
    }
   ],
   "source": [
    "print(f\"Entities in the KB: {kb.get_entity_strings()}\")\n",
    "print(f\"Aliases in the KB: {kb.get_alias_strings()}\")"
   ]
  },
  {
   "cell_type": "code",
   "execution_count": 14,
   "id": "70a6b5ee-932a-43f8-870c-c9de79e26bdc",
   "metadata": {
    "execution": {
     "iopub.execute_input": "2024-09-01T14:52:27.552992Z",
     "iopub.status.busy": "2024-09-01T14:52:27.552649Z",
     "iopub.status.idle": "2024-09-01T14:52:27.562686Z",
     "shell.execute_reply": "2024-09-01T14:52:27.560182Z",
     "shell.execute_reply.started": "2024-09-01T14:52:27.552969Z"
    }
   },
   "outputs": [
    {
     "name": "stdout",
     "output_type": "stream",
     "text": [
      "Candidates for 'Roy Stanley Emerson': ['Q312545']\n",
      "Candidates for 'Emerson': ['Q312545', 'Q48226', 'Q215952']\n",
      "Candidates for 'Sofie': []\n"
     ]
    }
   ],
   "source": [
    "print(f\"Candidates for 'Roy Stanley Emerson': {[c.entity_ for c in kb.get_alias_candidates('Roy Stanley Emerson')]}\")\n",
    "print(f\"Candidates for 'Emerson': {[c.entity_ for c in kb.get_alias_candidates('Emerson')]}\")\n",
    "print(f\"Candidates for 'Sofie': {[c.entity_ for c in kb.get_alias_candidates('Sofie')]}\")"
   ]
  },
  {
   "cell_type": "code",
   "execution_count": 15,
   "id": "176846b2-b722-4711-8b73-3547affb30b6",
   "metadata": {
    "execution": {
     "iopub.execute_input": "2024-09-01T14:53:04.727982Z",
     "iopub.status.busy": "2024-09-01T14:53:04.727118Z",
     "iopub.status.idle": "2024-09-01T14:53:04.985090Z",
     "shell.execute_reply": "2024-09-01T14:53:04.984706Z",
     "shell.execute_reply.started": "2024-09-01T14:53:04.727949Z"
    }
   },
   "outputs": [],
   "source": [
    "# change the directory and file names to whatever you like\n",
    "import os\n",
    "output_dir = Path.cwd().parent / \"data\" / \"spacy_el_output\"\n",
    "if not os.path.exists(output_dir):\n",
    "    os.mkdir(output_dir) \n",
    "kb.to_disk(output_dir / \"my_kb\")"
   ]
  },
  {
   "cell_type": "code",
   "execution_count": 16,
   "id": "e8e846f8-bc72-4878-bb2d-547e3736791f",
   "metadata": {
    "execution": {
     "iopub.execute_input": "2024-09-01T14:53:13.850712Z",
     "iopub.status.busy": "2024-09-01T14:53:13.849889Z",
     "iopub.status.idle": "2024-09-01T14:53:14.228457Z",
     "shell.execute_reply": "2024-09-01T14:53:14.227979Z",
     "shell.execute_reply.started": "2024-09-01T14:53:13.850672Z"
    }
   },
   "outputs": [],
   "source": [
    "nlp.to_disk(output_dir / \"my_nlp\")"
   ]
  },
  {
   "cell_type": "code",
   "execution_count": 17,
   "id": "1818ebcc-3eeb-44eb-b50b-81bfde7cdf7f",
   "metadata": {
    "execution": {
     "iopub.execute_input": "2024-09-01T14:59:46.606324Z",
     "iopub.status.busy": "2024-09-01T14:59:46.605712Z",
     "iopub.status.idle": "2024-09-01T14:59:46.617744Z",
     "shell.execute_reply": "2024-09-01T14:59:46.611061Z",
     "shell.execute_reply.started": "2024-09-01T14:59:46.606291Z"
    }
   },
   "outputs": [],
   "source": [
    "from spacy.pipeline.entity_linker import DEFAULT_NEL_MODEL\n"
   ]
  },
  {
   "cell_type": "code",
   "execution_count": null,
   "id": "fe2974d2-103a-40c2-9ce0-0c9a08e1998e",
   "metadata": {},
   "outputs": [],
   "source": [
    "def create_kb(vocab):\n",
    "    kb = InMemoryLookupKB(vocab, entity_vector_length=128)\n",
    "    kb.add_entity(...)\n",
    "    kb.add_alias(...)\n",
    "    return kb"
   ]
  },
  {
   "cell_type": "code",
   "execution_count": 18,
   "id": "8945469e-96a5-4ec6-999e-0e47d48c0024",
   "metadata": {
    "execution": {
     "iopub.execute_input": "2024-09-01T15:06:17.521182Z",
     "iopub.status.busy": "2024-09-01T15:06:17.520045Z",
     "iopub.status.idle": "2024-09-01T15:06:17.553302Z",
     "shell.execute_reply": "2024-09-01T15:06:17.552629Z",
     "shell.execute_reply.started": "2024-09-01T15:06:17.521141Z"
    }
   },
   "outputs": [],
   "source": [
    "from spacy.pipeline.entity_linker import DEFAULT_NEL_MODEL\n",
    "config = {\n",
    "   \"labels_discard\": [],\n",
    "   \"n_sents\": 1,\n",
    "   \"incl_prior\": True,\n",
    "   \"incl_context\": True,\n",
    "   \"model\": DEFAULT_NEL_MODEL,\n",
    "   \"entity_vector_length\": 300,\n",
    "   \"get_candidates\": {'@misc': 'spacy.CandidateGenerator.v1'},\n",
    "   \"threshold\": None,\n",
    "}\n",
    "entity_linker = nlp.add_pipe(\"entity_linker\", config=config)"
   ]
  },
  {
   "cell_type": "code",
   "execution_count": 20,
   "id": "9ee697db-1e7d-4bab-8355-562c464bf205",
   "metadata": {
    "execution": {
     "iopub.execute_input": "2024-09-01T15:09:39.956852Z",
     "iopub.status.busy": "2024-09-01T15:09:39.956140Z",
     "iopub.status.idle": "2024-09-01T15:09:39.962874Z",
     "shell.execute_reply": "2024-09-01T15:09:39.961982Z",
     "shell.execute_reply.started": "2024-09-01T15:09:39.956816Z"
    }
   },
   "outputs": [],
   "source": [
    "from spacy.ml.models import load_kb\n",
    "\n",
    "entity_linker.set_kb(lambda vocab: load_kb(output_dir / \"my_kb\"))\n",
    "# entity_linker.initialize(lambda: examples, nlp=nlp, kb_loader=my_kb)"
   ]
  },
  {
   "cell_type": "code",
   "execution_count": null,
   "id": "abb223fe-ce83-43bd-ba0f-4fbb2b8ba1a2",
   "metadata": {},
   "outputs": [],
   "source": [
    "from spacy.pipeline import EntityLinker\n",
    "entity_linker = EntityLinker(nlp.vocab, DEFAULT_NEL_MODEL, name=\"entity_linker\", cds)"
   ]
  },
  {
   "cell_type": "code",
   "execution_count": 27,
   "id": "686ad63c-2d82-4524-bc24-3b788174ceb2",
   "metadata": {
    "execution": {
     "iopub.execute_input": "2024-09-01T15:20:48.334081Z",
     "iopub.status.busy": "2024-09-01T15:20:48.332857Z",
     "iopub.status.idle": "2024-09-01T15:20:48.366176Z",
     "shell.execute_reply": "2024-09-01T15:20:48.365674Z",
     "shell.execute_reply.started": "2024-09-01T15:20:48.334048Z"
    }
   },
   "outputs": [
    {
     "ename": "TypeError",
     "evalue": "EntityLinker.__init__() missing 8 required keyword-only arguments: 'labels_discard', 'n_sents', 'incl_prior', 'incl_context', 'get_candidates_batch', 'generate_empty_kb', 'use_gold_ents', and 'candidates_batch_size'",
     "output_type": "error",
     "traceback": [
      "\u001b[0;31m---------------------------------------------------------------------------\u001b[0m",
      "\u001b[0;31mTypeError\u001b[0m                                 Traceback (most recent call last)",
      "Cell \u001b[0;32mIn[27], line 6\u001b[0m\n\u001b[1;32m      2\u001b[0m \u001b[38;5;28;01mfrom\u001b[39;00m \u001b[38;5;21;01mspacy\u001b[39;00m\u001b[38;5;21;01m.\u001b[39;00m\u001b[38;5;21;01mkb\u001b[39;00m \u001b[38;5;28;01mimport\u001b[39;00m Candidate\n\u001b[1;32m      4\u001b[0m \u001b[38;5;66;03m# candidate = Candidate(kb, entity_hash, entity_freq, entity_vector, alias_hash, prior_prob)\u001b[39;00m\n\u001b[0;32m----> 6\u001b[0m entity_linker \u001b[38;5;241m=\u001b[39m \u001b[43mEntityLinker\u001b[49m\u001b[43m(\u001b[49m\n\u001b[1;32m      7\u001b[0m \u001b[43m    \u001b[49m\u001b[43mnlp\u001b[49m\u001b[38;5;241;43m.\u001b[39;49m\u001b[43mvocab\u001b[49m\u001b[43m,\u001b[49m\n\u001b[1;32m      8\u001b[0m \u001b[43m    \u001b[49m\u001b[43mDEFAULT_NEL_MODEL\u001b[49m\u001b[43m,\u001b[49m\n\u001b[1;32m      9\u001b[0m \u001b[43m    \u001b[49m\u001b[43mentity_vector_length\u001b[49m\u001b[38;5;241;43m=\u001b[39;49m\u001b[38;5;241;43m300\u001b[39;49m\u001b[43m,\u001b[49m\n\u001b[1;32m     10\u001b[0m \u001b[43m    \u001b[49m\u001b[43mget_candidates\u001b[49m\u001b[38;5;241;43m=\u001b[39;49m\u001b[38;5;28;43;01mlambda\u001b[39;49;00m\u001b[43m \u001b[49m\u001b[43mkb\u001b[49m\u001b[43m,\u001b[49m\u001b[43m \u001b[49m\u001b[43mspan\u001b[49m\u001b[43m:\u001b[49m\u001b[43m \u001b[49m\u001b[38;5;28;43;01mNone\u001b[39;49;00m\u001b[43m,\u001b[49m\n\u001b[1;32m     11\u001b[0m \u001b[43m)\u001b[49m\n",
      "\u001b[0;31mTypeError\u001b[0m: EntityLinker.__init__() missing 8 required keyword-only arguments: 'labels_discard', 'n_sents', 'incl_prior', 'incl_context', 'get_candidates_batch', 'generate_empty_kb', 'use_gold_ents', and 'candidates_batch_size'"
     ]
    }
   ],
   "source": [
    "from spacy.pipeline import EntityLinker\n",
    "from spacy.kb import Candidate\n",
    "\n",
    "# candidate = Candidate(kb, entity_hash, entity_freq, entity_vector, alias_hash, prior_prob)\n",
    "\n",
    "entity_linker = EntityLinker(\n",
    "    nlp.vocab,\n",
    "    DEFAULT_NEL_MODEL,\n",
    "    entity_vector_length=300,\n",
    "    get_candidates=lambda kb, span: None,\n",
    ")"
   ]
  },
  {
   "cell_type": "code",
   "execution_count": 26,
   "id": "ae05ff36-88d1-4652-a78d-abc478e0437c",
   "metadata": {
    "execution": {
     "iopub.execute_input": "2024-09-01T15:15:13.829059Z",
     "iopub.status.busy": "2024-09-01T15:15:13.828177Z",
     "iopub.status.idle": "2024-09-01T15:15:14.720877Z",
     "shell.execute_reply": "2024-09-01T15:15:14.720384Z",
     "shell.execute_reply.started": "2024-09-01T15:15:13.829009Z"
    },
    "scrolled": true
   },
   "outputs": [
    {
     "ename": "AttributeError",
     "evalue": "'function' object has no attribute 'get_candidates'",
     "output_type": "error",
     "traceback": [
      "\u001b[0;31m---------------------------------------------------------------------------\u001b[0m",
      "\u001b[0;31mAttributeError\u001b[0m                            Traceback (most recent call last)",
      "Cell \u001b[0;32mIn[26], line 6\u001b[0m\n\u001b[1;32m      4\u001b[0m entity_linker\u001b[38;5;241m.\u001b[39mset_kb(\u001b[38;5;28;01mlambda\u001b[39;00m vocab: load_kb(output_dir \u001b[38;5;241m/\u001b[39m \u001b[38;5;124m\"\u001b[39m\u001b[38;5;124mmy_kb\u001b[39m\u001b[38;5;124m\"\u001b[39m))\n\u001b[1;32m      5\u001b[0m \u001b[38;5;66;03m# This usually happens under the hood\u001b[39;00m\n\u001b[0;32m----> 6\u001b[0m processed \u001b[38;5;241m=\u001b[39m \u001b[43mentity_linker\u001b[49m\u001b[43m(\u001b[49m\u001b[43mdoc\u001b[49m\u001b[43m)\u001b[49m\n",
      "File \u001b[0;32m~/.pyenv/versions/3.11.4/lib/python3.11/site-packages/spacy/pipeline/trainable_pipe.pyx:56\u001b[0m, in \u001b[0;36mspacy.pipeline.trainable_pipe.TrainablePipe.__call__\u001b[0;34m()\u001b[0m\n",
      "File \u001b[0;32m~/.pyenv/versions/3.11.4/lib/python3.11/site-packages/spacy/util.py:1722\u001b[0m, in \u001b[0;36mraise_error\u001b[0;34m(proc_name, proc, docs, e)\u001b[0m\n\u001b[1;32m   1721\u001b[0m \u001b[38;5;28;01mdef\u001b[39;00m \u001b[38;5;21mraise_error\u001b[39m(proc_name, proc, docs, e):\n\u001b[0;32m-> 1722\u001b[0m     \u001b[38;5;28;01mraise\u001b[39;00m e\n",
      "File \u001b[0;32m~/.pyenv/versions/3.11.4/lib/python3.11/site-packages/spacy/pipeline/trainable_pipe.pyx:52\u001b[0m, in \u001b[0;36mspacy.pipeline.trainable_pipe.TrainablePipe.__call__\u001b[0;34m()\u001b[0m\n",
      "File \u001b[0;32m~/.pyenv/versions/3.11.4/lib/python3.11/site-packages/spacy/pipeline/entity_linker.py:484\u001b[0m, in \u001b[0;36mEntityLinker.predict\u001b[0;34m(self, docs)\u001b[0m\n\u001b[1;32m    472\u001b[0m \u001b[38;5;66;03m# Look up candidate entities.\u001b[39;00m\n\u001b[1;32m    473\u001b[0m valid_ent_idx \u001b[38;5;241m=\u001b[39m [\n\u001b[1;32m    474\u001b[0m     idx\n\u001b[1;32m    475\u001b[0m     \u001b[38;5;28;01mfor\u001b[39;00m idx \u001b[38;5;129;01min\u001b[39;00m \u001b[38;5;28mrange\u001b[39m(\u001b[38;5;28mlen\u001b[39m(ent_batch))\n\u001b[1;32m    476\u001b[0m     \u001b[38;5;28;01mif\u001b[39;00m ent_batch[idx]\u001b[38;5;241m.\u001b[39mlabel_ \u001b[38;5;129;01mnot\u001b[39;00m \u001b[38;5;129;01min\u001b[39;00m \u001b[38;5;28mself\u001b[39m\u001b[38;5;241m.\u001b[39mlabels_discard\n\u001b[1;32m    477\u001b[0m ]\n\u001b[1;32m    479\u001b[0m batch_candidates \u001b[38;5;241m=\u001b[39m \u001b[38;5;28mlist\u001b[39m(\n\u001b[1;32m    480\u001b[0m     \u001b[38;5;28mself\u001b[39m\u001b[38;5;241m.\u001b[39mget_candidates_batch(\n\u001b[1;32m    481\u001b[0m         \u001b[38;5;28mself\u001b[39m\u001b[38;5;241m.\u001b[39mkb, [ent_batch[idx] \u001b[38;5;28;01mfor\u001b[39;00m idx \u001b[38;5;129;01min\u001b[39;00m valid_ent_idx]\n\u001b[1;32m    482\u001b[0m     )\n\u001b[1;32m    483\u001b[0m     \u001b[38;5;28;01mif\u001b[39;00m \u001b[38;5;28mself\u001b[39m\u001b[38;5;241m.\u001b[39mcandidates_batch_size \u001b[38;5;241m>\u001b[39m \u001b[38;5;241m1\u001b[39m\n\u001b[0;32m--> 484\u001b[0m     \u001b[38;5;28;01melse\u001b[39;00m \u001b[43m[\u001b[49m\n\u001b[1;32m    485\u001b[0m \u001b[43m        \u001b[49m\u001b[38;5;28;43mself\u001b[39;49m\u001b[38;5;241;43m.\u001b[39;49m\u001b[43mget_candidates\u001b[49m\u001b[43m(\u001b[49m\u001b[38;5;28;43mself\u001b[39;49m\u001b[38;5;241;43m.\u001b[39;49m\u001b[43mkb\u001b[49m\u001b[43m,\u001b[49m\u001b[43m \u001b[49m\u001b[43ment_batch\u001b[49m\u001b[43m[\u001b[49m\u001b[43midx\u001b[49m\u001b[43m]\u001b[49m\u001b[43m)\u001b[49m\n\u001b[1;32m    486\u001b[0m \u001b[43m        \u001b[49m\u001b[38;5;28;43;01mfor\u001b[39;49;00m\u001b[43m \u001b[49m\u001b[43midx\u001b[49m\u001b[43m \u001b[49m\u001b[38;5;129;43;01min\u001b[39;49;00m\u001b[43m \u001b[49m\u001b[43mvalid_ent_idx\u001b[49m\n\u001b[1;32m    487\u001b[0m \u001b[43m    \u001b[49m\u001b[43m]\u001b[49m\n\u001b[1;32m    488\u001b[0m )\n\u001b[1;32m    490\u001b[0m \u001b[38;5;66;03m# Looping through each entity in batch (TODO: rewrite)\u001b[39;00m\n\u001b[1;32m    491\u001b[0m \u001b[38;5;28;01mfor\u001b[39;00m j, ent \u001b[38;5;129;01min\u001b[39;00m \u001b[38;5;28menumerate\u001b[39m(ent_batch):\n",
      "File \u001b[0;32m~/.pyenv/versions/3.11.4/lib/python3.11/site-packages/spacy/pipeline/entity_linker.py:485\u001b[0m, in \u001b[0;36m<listcomp>\u001b[0;34m(.0)\u001b[0m\n\u001b[1;32m    472\u001b[0m \u001b[38;5;66;03m# Look up candidate entities.\u001b[39;00m\n\u001b[1;32m    473\u001b[0m valid_ent_idx \u001b[38;5;241m=\u001b[39m [\n\u001b[1;32m    474\u001b[0m     idx\n\u001b[1;32m    475\u001b[0m     \u001b[38;5;28;01mfor\u001b[39;00m idx \u001b[38;5;129;01min\u001b[39;00m \u001b[38;5;28mrange\u001b[39m(\u001b[38;5;28mlen\u001b[39m(ent_batch))\n\u001b[1;32m    476\u001b[0m     \u001b[38;5;28;01mif\u001b[39;00m ent_batch[idx]\u001b[38;5;241m.\u001b[39mlabel_ \u001b[38;5;129;01mnot\u001b[39;00m \u001b[38;5;129;01min\u001b[39;00m \u001b[38;5;28mself\u001b[39m\u001b[38;5;241m.\u001b[39mlabels_discard\n\u001b[1;32m    477\u001b[0m ]\n\u001b[1;32m    479\u001b[0m batch_candidates \u001b[38;5;241m=\u001b[39m \u001b[38;5;28mlist\u001b[39m(\n\u001b[1;32m    480\u001b[0m     \u001b[38;5;28mself\u001b[39m\u001b[38;5;241m.\u001b[39mget_candidates_batch(\n\u001b[1;32m    481\u001b[0m         \u001b[38;5;28mself\u001b[39m\u001b[38;5;241m.\u001b[39mkb, [ent_batch[idx] \u001b[38;5;28;01mfor\u001b[39;00m idx \u001b[38;5;129;01min\u001b[39;00m valid_ent_idx]\n\u001b[1;32m    482\u001b[0m     )\n\u001b[1;32m    483\u001b[0m     \u001b[38;5;28;01mif\u001b[39;00m \u001b[38;5;28mself\u001b[39m\u001b[38;5;241m.\u001b[39mcandidates_batch_size \u001b[38;5;241m>\u001b[39m \u001b[38;5;241m1\u001b[39m\n\u001b[1;32m    484\u001b[0m     \u001b[38;5;28;01melse\u001b[39;00m [\n\u001b[0;32m--> 485\u001b[0m         \u001b[38;5;28;43mself\u001b[39;49m\u001b[38;5;241;43m.\u001b[39;49m\u001b[43mget_candidates\u001b[49m\u001b[43m(\u001b[49m\u001b[38;5;28;43mself\u001b[39;49m\u001b[38;5;241;43m.\u001b[39;49m\u001b[43mkb\u001b[49m\u001b[43m,\u001b[49m\u001b[43m \u001b[49m\u001b[43ment_batch\u001b[49m\u001b[43m[\u001b[49m\u001b[43midx\u001b[49m\u001b[43m]\u001b[49m\u001b[43m)\u001b[49m\n\u001b[1;32m    486\u001b[0m         \u001b[38;5;28;01mfor\u001b[39;00m idx \u001b[38;5;129;01min\u001b[39;00m valid_ent_idx\n\u001b[1;32m    487\u001b[0m     ]\n\u001b[1;32m    488\u001b[0m )\n\u001b[1;32m    490\u001b[0m \u001b[38;5;66;03m# Looping through each entity in batch (TODO: rewrite)\u001b[39;00m\n\u001b[1;32m    491\u001b[0m \u001b[38;5;28;01mfor\u001b[39;00m j, ent \u001b[38;5;129;01min\u001b[39;00m \u001b[38;5;28menumerate\u001b[39m(ent_batch):\n",
      "File \u001b[0;32m~/.pyenv/versions/3.11.4/lib/python3.11/site-packages/spacy/kb/candidate.pyx:77\u001b[0m, in \u001b[0;36mspacy.kb.candidate.get_candidates\u001b[0;34m()\u001b[0m\n",
      "\u001b[0;31mAttributeError\u001b[0m: 'function' object has no attribute 'get_candidates'"
     ]
    }
   ],
   "source": [
    "\n",
    "\n",
    "nlp = spacy.load(\"en_core_web_md\")\n",
    "doc = nlp(\"Tennis champion Emerson was expected to win Wimbledon.\")\n",
    "entity_linker = nlp.add_pipe(\"entity_linker\")\n",
    "entity_linker.set_kb(lambda vocab: load_kb(output_dir / \"my_kb\"))\n",
    "# This usually happens under the hood\n",
    "processed = entity_linker(doc)\n"
   ]
  },
  {
   "cell_type": "code",
   "execution_count": 25,
   "id": "8ae2e22e-fd0b-439d-afbb-a496660399e9",
   "metadata": {
    "execution": {
     "iopub.execute_input": "2024-09-01T15:13:57.937761Z",
     "iopub.status.busy": "2024-09-01T15:13:57.936787Z",
     "iopub.status.idle": "2024-09-01T15:13:57.951405Z",
     "shell.execute_reply": "2024-09-01T15:13:57.950744Z",
     "shell.execute_reply.started": "2024-09-01T15:13:57.937732Z"
    }
   },
   "outputs": [
    {
     "data": {
      "text/plain": [
       "This is a sentence."
      ]
     },
     "execution_count": 25,
     "metadata": {},
     "output_type": "execute_result"
    }
   ],
   "source": [
    "processed"
   ]
  },
  {
   "cell_type": "code",
   "execution_count": 21,
   "id": "b61fecaf-52ae-47bb-8c37-db9dd4ee9768",
   "metadata": {
    "execution": {
     "iopub.execute_input": "2024-09-01T15:10:14.613565Z",
     "iopub.status.busy": "2024-09-01T15:10:14.612970Z",
     "iopub.status.idle": "2024-09-01T15:10:14.761905Z",
     "shell.execute_reply": "2024-09-01T15:10:14.761370Z",
     "shell.execute_reply.started": "2024-09-01T15:10:14.613542Z"
    },
    "scrolled": true
   },
   "outputs": [
    {
     "ename": "AttributeError",
     "evalue": "'function' object has no attribute 'get_candidates'",
     "output_type": "error",
     "traceback": [
      "\u001b[0;31m---------------------------------------------------------------------------\u001b[0m",
      "\u001b[0;31mAttributeError\u001b[0m                            Traceback (most recent call last)",
      "Cell \u001b[0;32mIn[21], line 2\u001b[0m\n\u001b[1;32m      1\u001b[0m text \u001b[38;5;241m=\u001b[39m \u001b[38;5;124m\"\u001b[39m\u001b[38;5;124mTennis champion Emerson was expected to win Wimbledon.\u001b[39m\u001b[38;5;124m\"\u001b[39m\n\u001b[0;32m----> 2\u001b[0m doc \u001b[38;5;241m=\u001b[39m \u001b[43mnlp\u001b[49m\u001b[43m(\u001b[49m\u001b[43mtext\u001b[49m\u001b[43m)\u001b[49m\n\u001b[1;32m      3\u001b[0m \u001b[38;5;28;01mfor\u001b[39;00m ent \u001b[38;5;129;01min\u001b[39;00m doc\u001b[38;5;241m.\u001b[39ments:\n\u001b[1;32m      4\u001b[0m     \u001b[38;5;28mprint\u001b[39m(ent\u001b[38;5;241m.\u001b[39mtext, ent\u001b[38;5;241m.\u001b[39mlabel_, ent\u001b[38;5;241m.\u001b[39mkb_id_)\n",
      "File \u001b[0;32m~/.pyenv/versions/3.11.4/lib/python3.11/site-packages/spacy/language.py:1054\u001b[0m, in \u001b[0;36mLanguage.__call__\u001b[0;34m(self, text, disable, component_cfg)\u001b[0m\n\u001b[1;32m   1052\u001b[0m     \u001b[38;5;28;01mraise\u001b[39;00m \u001b[38;5;167;01mValueError\u001b[39;00m(Errors\u001b[38;5;241m.\u001b[39mE109\u001b[38;5;241m.\u001b[39mformat(name\u001b[38;5;241m=\u001b[39mname)) \u001b[38;5;28;01mfrom\u001b[39;00m \u001b[38;5;21;01me\u001b[39;00m\n\u001b[1;32m   1053\u001b[0m \u001b[38;5;28;01mexcept\u001b[39;00m \u001b[38;5;167;01mException\u001b[39;00m \u001b[38;5;28;01mas\u001b[39;00m e:\n\u001b[0;32m-> 1054\u001b[0m     \u001b[43merror_handler\u001b[49m\u001b[43m(\u001b[49m\u001b[43mname\u001b[49m\u001b[43m,\u001b[49m\u001b[43m \u001b[49m\u001b[43mproc\u001b[49m\u001b[43m,\u001b[49m\u001b[43m \u001b[49m\u001b[43m[\u001b[49m\u001b[43mdoc\u001b[49m\u001b[43m]\u001b[49m\u001b[43m,\u001b[49m\u001b[43m \u001b[49m\u001b[43me\u001b[49m\u001b[43m)\u001b[49m\n\u001b[1;32m   1055\u001b[0m \u001b[38;5;28;01mif\u001b[39;00m \u001b[38;5;129;01mnot\u001b[39;00m \u001b[38;5;28misinstance\u001b[39m(doc, Doc):\n\u001b[1;32m   1056\u001b[0m     \u001b[38;5;28;01mraise\u001b[39;00m \u001b[38;5;167;01mValueError\u001b[39;00m(Errors\u001b[38;5;241m.\u001b[39mE005\u001b[38;5;241m.\u001b[39mformat(name\u001b[38;5;241m=\u001b[39mname, returned_type\u001b[38;5;241m=\u001b[39m\u001b[38;5;28mtype\u001b[39m(doc)))\n",
      "File \u001b[0;32m~/.pyenv/versions/3.11.4/lib/python3.11/site-packages/spacy/util.py:1722\u001b[0m, in \u001b[0;36mraise_error\u001b[0;34m(proc_name, proc, docs, e)\u001b[0m\n\u001b[1;32m   1721\u001b[0m \u001b[38;5;28;01mdef\u001b[39;00m \u001b[38;5;21mraise_error\u001b[39m(proc_name, proc, docs, e):\n\u001b[0;32m-> 1722\u001b[0m     \u001b[38;5;28;01mraise\u001b[39;00m e\n",
      "File \u001b[0;32m~/.pyenv/versions/3.11.4/lib/python3.11/site-packages/spacy/language.py:1049\u001b[0m, in \u001b[0;36mLanguage.__call__\u001b[0;34m(self, text, disable, component_cfg)\u001b[0m\n\u001b[1;32m   1047\u001b[0m     error_handler \u001b[38;5;241m=\u001b[39m proc\u001b[38;5;241m.\u001b[39mget_error_handler()\n\u001b[1;32m   1048\u001b[0m \u001b[38;5;28;01mtry\u001b[39;00m:\n\u001b[0;32m-> 1049\u001b[0m     doc \u001b[38;5;241m=\u001b[39m \u001b[43mproc\u001b[49m\u001b[43m(\u001b[49m\u001b[43mdoc\u001b[49m\u001b[43m,\u001b[49m\u001b[43m \u001b[49m\u001b[38;5;241;43m*\u001b[39;49m\u001b[38;5;241;43m*\u001b[39;49m\u001b[43mcomponent_cfg\u001b[49m\u001b[38;5;241;43m.\u001b[39;49m\u001b[43mget\u001b[49m\u001b[43m(\u001b[49m\u001b[43mname\u001b[49m\u001b[43m,\u001b[49m\u001b[43m \u001b[49m\u001b[43m{\u001b[49m\u001b[43m}\u001b[49m\u001b[43m)\u001b[49m\u001b[43m)\u001b[49m  \u001b[38;5;66;03m# type: ignore[call-arg]\u001b[39;00m\n\u001b[1;32m   1050\u001b[0m \u001b[38;5;28;01mexcept\u001b[39;00m \u001b[38;5;167;01mKeyError\u001b[39;00m \u001b[38;5;28;01mas\u001b[39;00m e:\n\u001b[1;32m   1051\u001b[0m     \u001b[38;5;66;03m# This typically happens if a component is not initialized\u001b[39;00m\n\u001b[1;32m   1052\u001b[0m     \u001b[38;5;28;01mraise\u001b[39;00m \u001b[38;5;167;01mValueError\u001b[39;00m(Errors\u001b[38;5;241m.\u001b[39mE109\u001b[38;5;241m.\u001b[39mformat(name\u001b[38;5;241m=\u001b[39mname)) \u001b[38;5;28;01mfrom\u001b[39;00m \u001b[38;5;21;01me\u001b[39;00m\n",
      "File \u001b[0;32m~/.pyenv/versions/3.11.4/lib/python3.11/site-packages/spacy/pipeline/trainable_pipe.pyx:56\u001b[0m, in \u001b[0;36mspacy.pipeline.trainable_pipe.TrainablePipe.__call__\u001b[0;34m()\u001b[0m\n",
      "File \u001b[0;32m~/.pyenv/versions/3.11.4/lib/python3.11/site-packages/spacy/util.py:1722\u001b[0m, in \u001b[0;36mraise_error\u001b[0;34m(proc_name, proc, docs, e)\u001b[0m\n\u001b[1;32m   1721\u001b[0m \u001b[38;5;28;01mdef\u001b[39;00m \u001b[38;5;21mraise_error\u001b[39m(proc_name, proc, docs, e):\n\u001b[0;32m-> 1722\u001b[0m     \u001b[38;5;28;01mraise\u001b[39;00m e\n",
      "File \u001b[0;32m~/.pyenv/versions/3.11.4/lib/python3.11/site-packages/spacy/pipeline/trainable_pipe.pyx:52\u001b[0m, in \u001b[0;36mspacy.pipeline.trainable_pipe.TrainablePipe.__call__\u001b[0;34m()\u001b[0m\n",
      "File \u001b[0;32m~/.pyenv/versions/3.11.4/lib/python3.11/site-packages/spacy/pipeline/entity_linker.py:484\u001b[0m, in \u001b[0;36mEntityLinker.predict\u001b[0;34m(self, docs)\u001b[0m\n\u001b[1;32m    472\u001b[0m \u001b[38;5;66;03m# Look up candidate entities.\u001b[39;00m\n\u001b[1;32m    473\u001b[0m valid_ent_idx \u001b[38;5;241m=\u001b[39m [\n\u001b[1;32m    474\u001b[0m     idx\n\u001b[1;32m    475\u001b[0m     \u001b[38;5;28;01mfor\u001b[39;00m idx \u001b[38;5;129;01min\u001b[39;00m \u001b[38;5;28mrange\u001b[39m(\u001b[38;5;28mlen\u001b[39m(ent_batch))\n\u001b[1;32m    476\u001b[0m     \u001b[38;5;28;01mif\u001b[39;00m ent_batch[idx]\u001b[38;5;241m.\u001b[39mlabel_ \u001b[38;5;129;01mnot\u001b[39;00m \u001b[38;5;129;01min\u001b[39;00m \u001b[38;5;28mself\u001b[39m\u001b[38;5;241m.\u001b[39mlabels_discard\n\u001b[1;32m    477\u001b[0m ]\n\u001b[1;32m    479\u001b[0m batch_candidates \u001b[38;5;241m=\u001b[39m \u001b[38;5;28mlist\u001b[39m(\n\u001b[1;32m    480\u001b[0m     \u001b[38;5;28mself\u001b[39m\u001b[38;5;241m.\u001b[39mget_candidates_batch(\n\u001b[1;32m    481\u001b[0m         \u001b[38;5;28mself\u001b[39m\u001b[38;5;241m.\u001b[39mkb, [ent_batch[idx] \u001b[38;5;28;01mfor\u001b[39;00m idx \u001b[38;5;129;01min\u001b[39;00m valid_ent_idx]\n\u001b[1;32m    482\u001b[0m     )\n\u001b[1;32m    483\u001b[0m     \u001b[38;5;28;01mif\u001b[39;00m \u001b[38;5;28mself\u001b[39m\u001b[38;5;241m.\u001b[39mcandidates_batch_size \u001b[38;5;241m>\u001b[39m \u001b[38;5;241m1\u001b[39m\n\u001b[0;32m--> 484\u001b[0m     \u001b[38;5;28;01melse\u001b[39;00m \u001b[43m[\u001b[49m\n\u001b[1;32m    485\u001b[0m \u001b[43m        \u001b[49m\u001b[38;5;28;43mself\u001b[39;49m\u001b[38;5;241;43m.\u001b[39;49m\u001b[43mget_candidates\u001b[49m\u001b[43m(\u001b[49m\u001b[38;5;28;43mself\u001b[39;49m\u001b[38;5;241;43m.\u001b[39;49m\u001b[43mkb\u001b[49m\u001b[43m,\u001b[49m\u001b[43m \u001b[49m\u001b[43ment_batch\u001b[49m\u001b[43m[\u001b[49m\u001b[43midx\u001b[49m\u001b[43m]\u001b[49m\u001b[43m)\u001b[49m\n\u001b[1;32m    486\u001b[0m \u001b[43m        \u001b[49m\u001b[38;5;28;43;01mfor\u001b[39;49;00m\u001b[43m \u001b[49m\u001b[43midx\u001b[49m\u001b[43m \u001b[49m\u001b[38;5;129;43;01min\u001b[39;49;00m\u001b[43m \u001b[49m\u001b[43mvalid_ent_idx\u001b[49m\n\u001b[1;32m    487\u001b[0m \u001b[43m    \u001b[49m\u001b[43m]\u001b[49m\n\u001b[1;32m    488\u001b[0m )\n\u001b[1;32m    490\u001b[0m \u001b[38;5;66;03m# Looping through each entity in batch (TODO: rewrite)\u001b[39;00m\n\u001b[1;32m    491\u001b[0m \u001b[38;5;28;01mfor\u001b[39;00m j, ent \u001b[38;5;129;01min\u001b[39;00m \u001b[38;5;28menumerate\u001b[39m(ent_batch):\n",
      "File \u001b[0;32m~/.pyenv/versions/3.11.4/lib/python3.11/site-packages/spacy/pipeline/entity_linker.py:485\u001b[0m, in \u001b[0;36m<listcomp>\u001b[0;34m(.0)\u001b[0m\n\u001b[1;32m    472\u001b[0m \u001b[38;5;66;03m# Look up candidate entities.\u001b[39;00m\n\u001b[1;32m    473\u001b[0m valid_ent_idx \u001b[38;5;241m=\u001b[39m [\n\u001b[1;32m    474\u001b[0m     idx\n\u001b[1;32m    475\u001b[0m     \u001b[38;5;28;01mfor\u001b[39;00m idx \u001b[38;5;129;01min\u001b[39;00m \u001b[38;5;28mrange\u001b[39m(\u001b[38;5;28mlen\u001b[39m(ent_batch))\n\u001b[1;32m    476\u001b[0m     \u001b[38;5;28;01mif\u001b[39;00m ent_batch[idx]\u001b[38;5;241m.\u001b[39mlabel_ \u001b[38;5;129;01mnot\u001b[39;00m \u001b[38;5;129;01min\u001b[39;00m \u001b[38;5;28mself\u001b[39m\u001b[38;5;241m.\u001b[39mlabels_discard\n\u001b[1;32m    477\u001b[0m ]\n\u001b[1;32m    479\u001b[0m batch_candidates \u001b[38;5;241m=\u001b[39m \u001b[38;5;28mlist\u001b[39m(\n\u001b[1;32m    480\u001b[0m     \u001b[38;5;28mself\u001b[39m\u001b[38;5;241m.\u001b[39mget_candidates_batch(\n\u001b[1;32m    481\u001b[0m         \u001b[38;5;28mself\u001b[39m\u001b[38;5;241m.\u001b[39mkb, [ent_batch[idx] \u001b[38;5;28;01mfor\u001b[39;00m idx \u001b[38;5;129;01min\u001b[39;00m valid_ent_idx]\n\u001b[1;32m    482\u001b[0m     )\n\u001b[1;32m    483\u001b[0m     \u001b[38;5;28;01mif\u001b[39;00m \u001b[38;5;28mself\u001b[39m\u001b[38;5;241m.\u001b[39mcandidates_batch_size \u001b[38;5;241m>\u001b[39m \u001b[38;5;241m1\u001b[39m\n\u001b[1;32m    484\u001b[0m     \u001b[38;5;28;01melse\u001b[39;00m [\n\u001b[0;32m--> 485\u001b[0m         \u001b[38;5;28;43mself\u001b[39;49m\u001b[38;5;241;43m.\u001b[39;49m\u001b[43mget_candidates\u001b[49m\u001b[43m(\u001b[49m\u001b[38;5;28;43mself\u001b[39;49m\u001b[38;5;241;43m.\u001b[39;49m\u001b[43mkb\u001b[49m\u001b[43m,\u001b[49m\u001b[43m \u001b[49m\u001b[43ment_batch\u001b[49m\u001b[43m[\u001b[49m\u001b[43midx\u001b[49m\u001b[43m]\u001b[49m\u001b[43m)\u001b[49m\n\u001b[1;32m    486\u001b[0m         \u001b[38;5;28;01mfor\u001b[39;00m idx \u001b[38;5;129;01min\u001b[39;00m valid_ent_idx\n\u001b[1;32m    487\u001b[0m     ]\n\u001b[1;32m    488\u001b[0m )\n\u001b[1;32m    490\u001b[0m \u001b[38;5;66;03m# Looping through each entity in batch (TODO: rewrite)\u001b[39;00m\n\u001b[1;32m    491\u001b[0m \u001b[38;5;28;01mfor\u001b[39;00m j, ent \u001b[38;5;129;01min\u001b[39;00m \u001b[38;5;28menumerate\u001b[39m(ent_batch):\n",
      "File \u001b[0;32m~/.pyenv/versions/3.11.4/lib/python3.11/site-packages/spacy/kb/candidate.pyx:77\u001b[0m, in \u001b[0;36mspacy.kb.candidate.get_candidates\u001b[0;34m()\u001b[0m\n",
      "\u001b[0;31mAttributeError\u001b[0m: 'function' object has no attribute 'get_candidates'"
     ]
    }
   ],
   "source": [
    "text = \"Tennis champion Emerson was expected to win Wimbledon.\"\n",
    "doc = nlp(text)\n",
    "for ent in doc.ents:\n",
    "    print(ent.text, ent.label_, ent.kb_id_)"
   ]
  },
  {
   "cell_type": "markdown",
   "id": "913fd5ad-d5d1-469f-b936-02d83b01c410",
   "metadata": {},
   "source": [
    "## implementing my own entity linker based on microsoft/spacy_ann_linker"
   ]
  },
  {
   "cell_type": "code",
   "execution_count": 1,
   "id": "46ab03d7-d290-4e74-a04a-48395a3785f9",
   "metadata": {
    "execution": {
     "iopub.execute_input": "2024-09-08T19:31:47.919683Z",
     "iopub.status.busy": "2024-09-08T19:31:47.919488Z",
     "iopub.status.idle": "2024-09-08T19:31:50.243461Z",
     "shell.execute_reply": "2024-09-08T19:31:50.243127Z",
     "shell.execute_reply.started": "2024-09-08T19:31:47.919663Z"
    }
   },
   "outputs": [
    {
     "name": "stderr",
     "output_type": "stream",
     "text": [
      "/Users/louis.guitton/.pyenv/versions/3.11.4/lib/python3.11/site-packages/tqdm/auto.py:21: TqdmWarning: IProgress not found. Please update jupyter and ipywidgets. See https://ipywidgets.readthedocs.io/en/stable/user_install.html\n",
      "  from .autonotebook import tqdm as notebook_tqdm\n"
     ]
    }
   ],
   "source": [
    "from src.ann_linker.dag import entities, aliases, nlp, kb"
   ]
  },
  {
   "cell_type": "code",
   "execution_count": 2,
   "id": "0ed52a95-b87c-4caf-aac5-a0da9fd0ecdc",
   "metadata": {
    "execution": {
     "iopub.execute_input": "2024-09-08T19:31:50.244140Z",
     "iopub.status.busy": "2024-09-08T19:31:50.243969Z",
     "iopub.status.idle": "2024-09-08T19:31:50.250310Z",
     "shell.execute_reply": "2024-09-08T19:31:50.249986Z",
     "shell.execute_reply.started": "2024-09-08T19:31:50.244129Z"
    }
   },
   "outputs": [],
   "source": [
    "from src.ann_linker.linker import AnnLinker"
   ]
  },
  {
   "cell_type": "code",
   "execution_count": 3,
   "id": "4761b968-9d6d-4924-9eb9-d62ce34646fd",
   "metadata": {
    "execution": {
     "iopub.execute_input": "2024-09-08T19:31:50.251896Z",
     "iopub.status.busy": "2024-09-08T19:31:50.251780Z",
     "iopub.status.idle": "2024-09-08T19:31:52.142035Z",
     "shell.execute_reply": "2024-09-08T19:31:52.141730Z",
     "shell.execute_reply.started": "2024-09-08T19:31:50.251886Z"
    }
   },
   "outputs": [],
   "source": [
    "entities = entities()\n",
    "aliases = aliases()\n",
    "nlp = nlp()"
   ]
  },
  {
   "cell_type": "code",
   "execution_count": 4,
   "id": "ecd7cd8b-f7f6-4261-ade0-881e95cdd2b5",
   "metadata": {
    "execution": {
     "iopub.execute_input": "2024-09-08T19:31:52.142789Z",
     "iopub.status.busy": "2024-09-08T19:31:52.142491Z",
     "iopub.status.idle": "2024-09-08T19:31:56.102319Z",
     "shell.execute_reply": "2024-09-08T19:31:56.101881Z",
     "shell.execute_reply.started": "2024-09-08T19:31:52.142779Z"
    }
   },
   "outputs": [
    {
     "name": "stderr",
     "output_type": "stream",
     "text": [
      "/Users/louis.guitton/.pyenv/versions/3.11.4/lib/python3.11/site-packages/transformers/tokenization_utils_base.py:1601: FutureWarning: `clean_up_tokenization_spaces` was not set. It will be set to `True` by default. This behavior will be depracted in transformers v4.45, and will be then set to `False` by default. For more details check this issue: https://github.com/huggingface/transformers/issues/31884\n",
      "  warnings.warn(\n"
     ]
    }
   ],
   "source": [
    "kb = kb(entities, aliases)"
   ]
  },
  {
   "cell_type": "code",
   "execution_count": 5,
   "id": "8dbc8f0e-b488-40d0-af24-63186d0c4347",
   "metadata": {
    "execution": {
     "iopub.execute_input": "2024-09-08T19:31:56.103409Z",
     "iopub.status.busy": "2024-09-08T19:31:56.103069Z",
     "iopub.status.idle": "2024-09-08T19:31:56.122679Z",
     "shell.execute_reply": "2024-09-08T19:31:56.122304Z",
     "shell.execute_reply.started": "2024-09-08T19:31:56.103397Z"
    }
   },
   "outputs": [
    {
     "data": {
      "text/plain": [
       "[Alias(alias='ML', entities=['a1', 'a2'], probabilities=[0.5, 0.5])]"
      ]
     },
     "execution_count": 5,
     "metadata": {},
     "output_type": "execute_result"
    }
   ],
   "source": [
    "kb.get_alias_candidates(\"ML\")"
   ]
  },
  {
   "cell_type": "code",
   "execution_count": 6,
   "id": "983cfa17-79ea-464a-92d3-f007fcd40622",
   "metadata": {
    "execution": {
     "iopub.execute_input": "2024-09-08T19:31:56.123566Z",
     "iopub.status.busy": "2024-09-08T19:31:56.123394Z",
     "iopub.status.idle": "2024-09-08T19:31:56.142320Z",
     "shell.execute_reply": "2024-09-08T19:31:56.141959Z",
     "shell.execute_reply.started": "2024-09-08T19:31:56.123554Z"
    }
   },
   "outputs": [
    {
     "data": {
      "text/plain": [
       "['a2', 'a1']"
      ]
     },
     "execution_count": 6,
     "metadata": {},
     "output_type": "execute_result"
    }
   ],
   "source": [
    "candidate_entities = kb.get_entity_candidates(\"ML\")\n",
    "candidate_entities"
   ]
  },
  {
   "cell_type": "code",
   "execution_count": 7,
   "id": "048d9aa1-e2e7-4756-af1d-6014b97f59cf",
   "metadata": {
    "execution": {
     "iopub.execute_input": "2024-09-08T19:31:56.142947Z",
     "iopub.status.busy": "2024-09-08T19:31:56.142859Z",
     "iopub.status.idle": "2024-09-08T19:31:56.146628Z",
     "shell.execute_reply": "2024-09-08T19:31:56.146223Z",
     "shell.execute_reply.started": "2024-09-08T19:31:56.142938Z"
    }
   },
   "outputs": [
    {
     "data": {
      "text/plain": [
       "[Entity(entity_id='a1', name='Machine learning (ML)', description='Machine learning (ML) is the scientific study of algorithms and statistical models...', label=None),\n",
       " Entity(entity_id='a2', name='ML (\"Meta Language\")', description='ML (\"Meta Language\") is a general-purpose functional programming language. It has roots in Lisp, and has been characterized as \"Lisp with types\".', label=None)]"
      ]
     },
     "execution_count": 7,
     "metadata": {},
     "output_type": "execute_result"
    }
   ],
   "source": [
    "[e for e in entities if e.entity_id in candidate_entities]"
   ]
  },
  {
   "cell_type": "code",
   "execution_count": 8,
   "id": "2484ab85-b8a6-4698-b294-cc42ab601f4e",
   "metadata": {
    "execution": {
     "iopub.execute_input": "2024-09-08T19:31:56.147493Z",
     "iopub.status.busy": "2024-09-08T19:31:56.147273Z",
     "iopub.status.idle": "2024-09-08T19:31:56.166227Z",
     "shell.execute_reply": "2024-09-08T19:31:56.165787Z",
     "shell.execute_reply.started": "2024-09-08T19:31:56.147441Z"
    }
   },
   "outputs": [],
   "source": [
    "doc_embedding = kb._embed(\"Linear regression is one of the first statistical models used by students of ML\")"
   ]
  },
  {
   "cell_type": "code",
   "execution_count": 9,
   "id": "feb90a23-d861-440a-9b31-928e9e1d0155",
   "metadata": {
    "execution": {
     "iopub.execute_input": "2024-09-08T19:31:56.167291Z",
     "iopub.status.busy": "2024-09-08T19:31:56.167087Z",
     "iopub.status.idle": "2024-09-08T19:31:56.178838Z",
     "shell.execute_reply": "2024-09-08T19:31:56.177916Z",
     "shell.execute_reply.started": "2024-09-08T19:31:56.167279Z"
    }
   },
   "outputs": [
    {
     "data": {
      "text/plain": [
       "[(Entity(entity_id='a1', name='Machine learning (ML)', description='Machine learning (ML) is the scientific study of algorithms and statistical models...', label=None),\n",
       "  0.4473797082901001),\n",
       " (Entity(entity_id='a2', name='ML (\"Meta Language\")', description='ML (\"Meta Language\") is a general-purpose functional programming language. It has roots in Lisp, and has been characterized as \"Lisp with types\".', label=None),\n",
       "  0.6272382736206055)]"
      ]
     },
     "execution_count": 9,
     "metadata": {},
     "output_type": "execute_result"
    }
   ],
   "source": [
    "kb.disambiguate(candidate_entities, doc_embedding)"
   ]
  },
  {
   "cell_type": "code",
   "execution_count": 10,
   "id": "871f7883-32ef-4eac-9eff-18fb5385e2c3",
   "metadata": {
    "execution": {
     "iopub.execute_input": "2024-09-08T19:31:56.210498Z",
     "iopub.status.busy": "2024-09-08T19:31:56.210247Z",
     "iopub.status.idle": "2024-09-08T19:31:56.231737Z",
     "shell.execute_reply": "2024-09-08T19:31:56.231290Z",
     "shell.execute_reply.started": "2024-09-08T19:31:56.210484Z"
    }
   },
   "outputs": [
    {
     "data": {
      "text/plain": [
       "[Alias(alias='Machine learning', entities=['a1'], probabilities=[1.0])]"
      ]
     },
     "execution_count": 10,
     "metadata": {},
     "output_type": "execute_result"
    }
   ],
   "source": [
    "kb.get_alias_candidates(\"learning\")"
   ]
  },
  {
   "cell_type": "code",
   "execution_count": 11,
   "id": "fa7a8c95-b36a-450e-90e8-e42dffc071e5",
   "metadata": {
    "execution": {
     "iopub.execute_input": "2024-09-08T19:31:57.560492Z",
     "iopub.status.busy": "2024-09-08T19:31:57.559957Z",
     "iopub.status.idle": "2024-09-08T19:31:57.596980Z",
     "shell.execute_reply": "2024-09-08T19:31:57.596640Z",
     "shell.execute_reply.started": "2024-09-08T19:31:57.560466Z"
    }
   },
   "outputs": [],
   "source": [
    "ruler = nlp.add_pipe('entity_ruler')\n",
    "patterns = [\n",
    "    {\"label\": \"SKILL\", \"pattern\": alias}\n",
    "    for alias in [a.alias for a in aliases] + ['machine learn']\n",
    "]\n",
    "ruler.add_patterns(patterns)"
   ]
  },
  {
   "cell_type": "code",
   "execution_count": 12,
   "id": "c1e45c85-3b68-4dbb-b8a7-4cdcdab5820a",
   "metadata": {
    "execution": {
     "iopub.execute_input": "2024-09-08T19:31:58.789780Z",
     "iopub.status.busy": "2024-09-08T19:31:58.789204Z",
     "iopub.status.idle": "2024-09-08T19:31:58.805613Z",
     "shell.execute_reply": "2024-09-08T19:31:58.804864Z",
     "shell.execute_reply.started": "2024-09-08T19:31:58.789751Z"
    }
   },
   "outputs": [],
   "source": [
    "ann_linker = nlp.add_pipe(\"ann_linker\", last=True)\n",
    "ann_linker.set_kb(kb)"
   ]
  },
  {
   "cell_type": "code",
   "execution_count": 13,
   "id": "ea90b89d-5d19-4d38-9eb3-3e08f056349b",
   "metadata": {
    "execution": {
     "iopub.execute_input": "2024-09-08T19:31:59.438789Z",
     "iopub.status.busy": "2024-09-08T19:31:59.438022Z",
     "iopub.status.idle": "2024-09-08T19:31:59.512043Z",
     "shell.execute_reply": "2024-09-08T19:31:59.511635Z",
     "shell.execute_reply.started": "2024-09-08T19:31:59.438755Z"
    }
   },
   "outputs": [],
   "source": [
    "doc = nlp(\"NLP is a subset of machine learn.\")"
   ]
  },
  {
   "cell_type": "code",
   "execution_count": 14,
   "id": "c5f06984-5174-48bd-af74-c290cc0b4cf5",
   "metadata": {
    "execution": {
     "iopub.execute_input": "2024-09-08T19:32:00.690335Z",
     "iopub.status.busy": "2024-09-08T19:32:00.689587Z",
     "iopub.status.idle": "2024-09-08T19:32:00.707693Z",
     "shell.execute_reply": "2024-09-08T19:32:00.706636Z",
     "shell.execute_reply.started": "2024-09-08T19:32:00.690297Z"
    }
   },
   "outputs": [
    {
     "data": {
      "text/plain": [
       "(NLP, machine learn)"
      ]
     },
     "execution_count": 14,
     "metadata": {},
     "output_type": "execute_result"
    }
   ],
   "source": [
    "doc.ents"
   ]
  },
  {
   "cell_type": "code",
   "execution_count": 15,
   "id": "e2fa5e32-3007-4023-b76b-7223790dc308",
   "metadata": {
    "execution": {
     "iopub.execute_input": "2024-09-08T19:32:01.725166Z",
     "iopub.status.busy": "2024-09-08T19:32:01.724047Z",
     "iopub.status.idle": "2024-09-08T19:32:01.885990Z",
     "shell.execute_reply": "2024-09-08T19:32:01.885592Z",
     "shell.execute_reply.started": "2024-09-08T19:32:01.725122Z"
    }
   },
   "outputs": [
    {
     "data": {
      "text/plain": [
       "[[Alias(alias='NLP', entities=['a3', 'a4'], probabilities=[0.5, 0.5]),\n",
       "  Alias(alias='Natural language processing', entities=['a3'], probabilities=[1.0])],\n",
       " [Alias(alias='Machine learning', entities=['a1'], probabilities=[1.0])]]"
      ]
     },
     "execution_count": 15,
     "metadata": {},
     "output_type": "execute_result"
    }
   ],
   "source": [
    "kb.get_candidates_batch(doc.ents)"
   ]
  },
  {
   "cell_type": "code",
   "execution_count": 16,
   "id": "d8b7df66-d31c-42f7-aa2f-d455b8b0fbfc",
   "metadata": {
    "execution": {
     "iopub.execute_input": "2024-09-08T19:32:03.858960Z",
     "iopub.status.busy": "2024-09-08T19:32:03.857944Z",
     "iopub.status.idle": "2024-09-08T19:32:03.870894Z",
     "shell.execute_reply": "2024-09-08T19:32:03.869821Z",
     "shell.execute_reply.started": "2024-09-08T19:32:03.858904Z"
    }
   },
   "outputs": [
    {
     "name": "stdout",
     "output_type": "stream",
     "text": [
      "a3\n",
      "\n"
     ]
    }
   ],
   "source": [
    "for ent in doc.ents:\n",
    "    print(ent.kb_id_)"
   ]
  },
  {
   "cell_type": "code",
   "execution_count": 17,
   "id": "96887397-48d9-4e7d-a16d-c36ab5111e28",
   "metadata": {
    "execution": {
     "iopub.execute_input": "2024-09-08T19:32:05.600718Z",
     "iopub.status.busy": "2024-09-08T19:32:05.597263Z",
     "iopub.status.idle": "2024-09-08T19:32:05.636338Z",
     "shell.execute_reply": "2024-09-08T19:32:05.635826Z",
     "shell.execute_reply.started": "2024-09-08T19:32:05.600662Z"
    }
   },
   "outputs": [
    {
     "data": {
      "text/plain": [
       "[Alias(alias='Machine learning', entities=['a1'], probabilities=[1.0])]"
      ]
     },
     "execution_count": 17,
     "metadata": {},
     "output_type": "execute_result"
    }
   ],
   "source": [
    "kb.get_alias_candidates(\"machine learn\")"
   ]
  },
  {
   "cell_type": "code",
   "execution_count": 18,
   "id": "fa077cd2-953f-4e1c-8f9a-960314593f51",
   "metadata": {
    "execution": {
     "iopub.execute_input": "2024-09-08T19:32:07.669448Z",
     "iopub.status.busy": "2024-09-08T19:32:07.669138Z",
     "iopub.status.idle": "2024-09-08T19:32:07.692476Z",
     "shell.execute_reply": "2024-09-08T19:32:07.691873Z",
     "shell.execute_reply.started": "2024-09-08T19:32:07.669431Z"
    }
   },
   "outputs": [
    {
     "data": {
      "text/plain": [
       "['a1']"
      ]
     },
     "execution_count": 18,
     "metadata": {},
     "output_type": "execute_result"
    }
   ],
   "source": [
    "kb.get_entity_candidates(\"machine learn\")"
   ]
  },
  {
   "cell_type": "code",
   "execution_count": 19,
   "id": "5d822cdf-255b-44c2-92da-75d7cfbe53f7",
   "metadata": {
    "execution": {
     "iopub.execute_input": "2024-09-08T19:32:08.896537Z",
     "iopub.status.busy": "2024-09-08T19:32:08.896202Z",
     "iopub.status.idle": "2024-09-08T19:32:08.945452Z",
     "shell.execute_reply": "2024-09-08T19:32:08.945090Z",
     "shell.execute_reply.started": "2024-09-08T19:32:08.896515Z"
    }
   },
   "outputs": [
    {
     "data": {
      "text/plain": [
       "[(Entity(entity_id='a1', name='Machine learning (ML)', description='Machine learning (ML) is the scientific study of algorithms and statistical models...', label=None),\n",
       "  0.5660956501960754)]"
      ]
     },
     "execution_count": 19,
     "metadata": {},
     "output_type": "execute_result"
    }
   ],
   "source": [
    "doc_embedding = kb._embed(doc.text)\n",
    "kb.disambiguate(kb.get_entity_candidates(\"machine learn\"), doc_embedding)"
   ]
  },
  {
   "cell_type": "code",
   "execution_count": 20,
   "id": "0a0b4030-0ab3-4487-8a5f-c2424b8686a7",
   "metadata": {
    "execution": {
     "iopub.execute_input": "2024-09-08T19:32:18.910539Z",
     "iopub.status.busy": "2024-09-08T19:32:18.909977Z",
     "iopub.status.idle": "2024-09-08T19:32:18.920208Z",
     "shell.execute_reply": "2024-09-08T19:32:18.919396Z",
     "shell.execute_reply.started": "2024-09-08T19:32:18.910508Z"
    }
   },
   "outputs": [
    {
     "data": {
      "text/plain": [
       "[Alias(alias='NLP', entities=['a3', 'a4'], probabilities=[0.5, 0.5]),\n",
       " Alias(alias='Natural language processing', entities=['a3'], probabilities=[1.0])]"
      ]
     },
     "execution_count": 20,
     "metadata": {},
     "output_type": "execute_result"
    }
   ],
   "source": [
    "doc.ents[0]._.alias_candidates"
   ]
  },
  {
   "cell_type": "code",
   "execution_count": 21,
   "id": "166c4872-95d7-4c2a-90b0-fc41a7ecf6d7",
   "metadata": {
    "execution": {
     "iopub.execute_input": "2024-09-08T19:32:19.313544Z",
     "iopub.status.busy": "2024-09-08T19:32:19.312977Z",
     "iopub.status.idle": "2024-09-08T19:32:19.329075Z",
     "shell.execute_reply": "2024-09-08T19:32:19.328216Z",
     "shell.execute_reply.started": "2024-09-08T19:32:19.313499Z"
    }
   },
   "outputs": [
    {
     "data": {
      "text/plain": [
       "[(Entity(entity_id='a3', name='Natural language processing (NLP)', description='Natural language processing (NLP) is a subfield of linguistics, computer science, information engineering, and artificial intelligence concerned with the interactions between computers and human (natural) languages, in particular how to program computers to process and analyze large amounts of natural language data.', label=None),\n",
       "  0.2833211421966553),\n",
       " (Entity(entity_id='a4', name='Neuro-linguistic programming (NLP)', description='Neuro-linguistic programming (NLP) is a pseudoscientific approach to communication, personal development, and psychotherapy created by Richard Bandler and John Grinder in California, United States in the 1970s.', label=None),\n",
       "  0.3160281181335449)]"
      ]
     },
     "execution_count": 21,
     "metadata": {},
     "output_type": "execute_result"
    }
   ],
   "source": [
    "doc.ents[0]._.kb_candidates"
   ]
  },
  {
   "cell_type": "code",
   "execution_count": 22,
   "id": "23544572-c7c3-4982-97d8-da17c51d67f1",
   "metadata": {
    "execution": {
     "iopub.execute_input": "2024-09-08T19:32:19.839774Z",
     "iopub.status.busy": "2024-09-08T19:32:19.838969Z",
     "iopub.status.idle": "2024-09-08T19:32:19.861335Z",
     "shell.execute_reply": "2024-09-08T19:32:19.857819Z",
     "shell.execute_reply.started": "2024-09-08T19:32:19.839731Z"
    }
   },
   "outputs": [
    {
     "data": {
      "text/plain": [
       "[Alias(alias='Machine learning', entities=['a1'], probabilities=[1.0])]"
      ]
     },
     "execution_count": 22,
     "metadata": {},
     "output_type": "execute_result"
    }
   ],
   "source": [
    "doc.ents[1]._.alias_candidates"
   ]
  },
  {
   "cell_type": "code",
   "execution_count": 23,
   "id": "423306af-3475-44fb-be40-2c7b5bdecafe",
   "metadata": {
    "execution": {
     "iopub.execute_input": "2024-09-08T19:32:20.306874Z",
     "iopub.status.busy": "2024-09-08T19:32:20.306341Z",
     "iopub.status.idle": "2024-09-08T19:32:20.320781Z",
     "shell.execute_reply": "2024-09-08T19:32:20.320113Z",
     "shell.execute_reply.started": "2024-09-08T19:32:20.306846Z"
    }
   },
   "outputs": [
    {
     "data": {
      "text/plain": [
       "[(Entity(entity_id='a1', name='Machine learning (ML)', description='Machine learning (ML) is the scientific study of algorithms and statistical models...', label=None),\n",
       "  0.5660956501960754)]"
      ]
     },
     "execution_count": 23,
     "metadata": {},
     "output_type": "execute_result"
    }
   ],
   "source": [
    "doc.ents[1]._.kb_candidates"
   ]
  },
  {
   "cell_type": "code",
   "execution_count": null,
   "id": "ffd69d8b-b416-4010-a772-6b3bea2e789a",
   "metadata": {},
   "outputs": [],
   "source": []
  },
  {
   "cell_type": "code",
   "execution_count": null,
   "id": "e912787c-bb32-4a2c-94d1-54a41d2743a2",
   "metadata": {},
   "outputs": [],
   "source": []
  },
  {
   "cell_type": "code",
   "execution_count": 32,
   "id": "0fe3f8f4-2cd6-4677-9275-7ad469056e16",
   "metadata": {
    "execution": {
     "iopub.execute_input": "2024-09-08T18:34:23.154568Z",
     "iopub.status.busy": "2024-09-08T18:34:23.153391Z",
     "iopub.status.idle": "2024-09-08T18:34:23.169401Z",
     "shell.execute_reply": "2024-09-08T18:34:23.163296Z",
     "shell.execute_reply.started": "2024-09-08T18:34:23.154509Z"
    }
   },
   "outputs": [],
   "source": [
    "scanner = tbl._dataset.scanner(columns=[\"alias.alias\"])"
   ]
  },
  {
   "cell_type": "code",
   "execution_count": 34,
   "id": "d52fa865-8723-446e-b3d5-34b817de395d",
   "metadata": {
    "execution": {
     "iopub.execute_input": "2024-09-08T18:35:17.715408Z",
     "iopub.status.busy": "2024-09-08T18:35:17.714990Z",
     "iopub.status.idle": "2024-09-08T18:35:17.728666Z",
     "shell.execute_reply": "2024-09-08T18:35:17.726850Z",
     "shell.execute_reply.started": "2024-09-08T18:35:17.715383Z"
    }
   },
   "outputs": [],
   "source": [
    "unique_labels = set()\n",
    "for batch in scanner.to_batches():\n",
    "    unique_labels.update(batch.column(\"alias.alias\").to_pylist())"
   ]
  },
  {
   "cell_type": "markdown",
   "id": "91e16035-4213-43a5-b707-32993c03b922",
   "metadata": {
    "execution": {
     "iopub.execute_input": "2024-09-08T18:35:33.991161Z",
     "iopub.status.busy": "2024-09-08T18:35:33.990466Z",
     "iopub.status.idle": "2024-09-08T18:35:34.004831Z",
     "shell.execute_reply": "2024-09-08T18:35:34.004255Z",
     "shell.execute_reply.started": "2024-09-08T18:35:33.991122Z"
    }
   },
   "source": [
    "len(unique_labels)"
   ]
  },
  {
   "cell_type": "code",
   "execution_count": 11,
   "id": "6ed37e3d-5dfb-40c6-9db9-a248b80dc311",
   "metadata": {
    "execution": {
     "iopub.execute_input": "2024-09-29T15:57:49.216131Z",
     "iopub.status.busy": "2024-09-29T15:57:49.215185Z",
     "iopub.status.idle": "2024-09-29T15:57:49.229869Z",
     "shell.execute_reply": "2024-09-29T15:57:49.229300Z",
     "shell.execute_reply.started": "2024-09-29T15:57:49.216093Z"
    }
   },
   "outputs": [
    {
     "data": {
      "text/plain": [
       "[{'alias': 'Ivan Davydzenka', 'entities': 1, 'probabilities': 1},\n",
       " {'alias': 'Yauheni Vaitovich', 'entities': 2, 'probabilities': 1},\n",
       " {'alias': 'Matvey Datskevich', 'entities': 3, 'probabilities': 1},\n",
       " {'alias': 'Aliaksandr Harbunou', 'entities': 4, 'probabilities': 1},\n",
       " {'alias': 'Yeufrasiniya Dankova', 'entities': 5, 'probabilities': 1},\n",
       " {'alias': 'Mikalai Adzintsou', 'entities': 6, 'probabilities': 1},\n",
       " {'alias': 'Maryia Skvarcheuskaya', 'entities': 7, 'probabilities': 1},\n",
       " {'alias': 'Katsiaryna Fralova', 'entities': 8, 'probabilities': 1},\n",
       " {'alias': 'Alexander Medved', 'entities': 9, 'probabilities': 1},\n",
       " {'alias': 'Alexander Medved', 'entities': 9, 'probabilities': 1},\n",
       " {'alias': 'Ozgur Yalcinkaya', 'entities': 10, 'probabilities': 1}]"
      ]
     },
     "execution_count": 11,
     "metadata": {},
     "output_type": "execute_result"
    }
   ],
   "source": [
    "alias_records"
   ]
  },
  {
   "cell_type": "code",
   "execution_count": 14,
   "id": "300eaeca-e0b8-48f8-934e-2e94181be5f9",
   "metadata": {
    "execution": {
     "iopub.execute_input": "2024-09-29T15:59:05.053384Z",
     "iopub.status.busy": "2024-09-29T15:59:05.053039Z",
     "iopub.status.idle": "2024-09-29T15:59:05.057451Z",
     "shell.execute_reply": "2024-09-29T15:59:05.056605Z",
     "shell.execute_reply.started": "2024-09-29T15:59:05.053360Z"
    }
   },
   "outputs": [],
   "source": [
    "import json"
   ]
  },
  {
   "cell_type": "code",
   "execution_count": 29,
   "id": "a6be7266-eb20-4a31-8138-7b1a2ca3cf11",
   "metadata": {
    "execution": {
     "iopub.execute_input": "2024-09-29T16:08:35.886861Z",
     "iopub.status.busy": "2024-09-29T16:08:35.886667Z",
     "iopub.status.idle": "2024-09-29T16:08:35.889349Z",
     "shell.execute_reply": "2024-09-29T16:08:35.889034Z",
     "shell.execute_reply.started": "2024-09-29T16:08:35.886845Z"
    }
   },
   "outputs": [],
   "source": [
    "import pandas as pd"
   ]
  },
  {
   "cell_type": "code",
   "execution_count": 32,
   "id": "195e4f48-d799-4ea9-baff-1cdb45171957",
   "metadata": {
    "execution": {
     "iopub.execute_input": "2024-09-29T16:08:36.823163Z",
     "iopub.status.busy": "2024-09-29T16:08:36.823032Z",
     "iopub.status.idle": "2024-09-29T16:08:36.825457Z",
     "shell.execute_reply": "2024-09-29T16:08:36.825050Z",
     "shell.execute_reply.started": "2024-09-29T16:08:36.823152Z"
    }
   },
   "outputs": [],
   "source": [
    "import numpy as np"
   ]
  },
  {
   "cell_type": "code",
   "execution_count": 29,
   "id": "fcec0ff6-453a-4a59-a18b-ff9e2599648f",
   "metadata": {
    "execution": {
     "iopub.execute_input": "2024-09-29T16:51:11.708596Z",
     "iopub.status.busy": "2024-09-29T16:51:11.707485Z",
     "iopub.status.idle": "2024-09-29T16:51:11.729836Z",
     "shell.execute_reply": "2024-09-29T16:51:11.729032Z",
     "shell.execute_reply.started": "2024-09-29T16:51:11.708536Z"
    }
   },
   "outputs": [],
   "source": [
    "class AliasRawData(TypedDict):\n",
    "    alias: str\n",
    "    entity: int\n",
    "\n",
    "\n",
    "def load_aliases(\n",
    "    icij_path: str | pathlib.Path = \"data/ICIJ-entity-report-2024-06-21_12-04-57-std.json\",\n",
    ") -> list[AliasRawData]:\n",
    "    alias_records: list[AliasRawData] = []\n",
    "\n",
    "    with open(icij_path, \"r\", encoding=\"utf-8\") as fp:\n",
    "        while line := fp.readline():\n",
    "            dat = json.loads(line.strip())\n",
    "\n",
    "            # add aliases from resolved entities\n",
    "            entity: dict = dat[\"RESOLVED_ENTITY\"]\n",
    "            if not entity[\"ENTITY_NAME\"]:\n",
    "                continue\n",
    "            for record in entity[\"RECORDS\"]:\n",
    "                alias_records.append(\n",
    "                    {\"alias\": entity[\"ENTITY_NAME\"], \"entity\": record[\"INTERNAL_ID\"]}\n",
    "                )\n",
    "\n",
    "            # add aliases from related entities\n",
    "            related_entities: dict = dat[\"RELATED_ENTITIES\"]\n",
    "            for record in related_entities:\n",
    "                # MATCH_LEVEL_CODE is either POSSIBLY_SAME or POSSIBLY_RELATED or RESOLVED or DISCLOSED\n",
    "                # we choose to add an alias record if POSSIBLY_SAME\n",
    "                if record[\"MATCH_LEVEL_CODE\"] in [\"POSSIBLY_SAME\", \"RESOLVED\", \"DISCLOSED\"]:\n",
    "                    alias_records.append(\n",
    "                        {\"alias\": entity[\"ENTITY_NAME\"], \"entity\": record[\"ENTITY_ID\"]}\n",
    "                    )\n",
    "                # and discard if POSSIBLY_RELATED\n",
    "                elif record[\"MATCH_LEVEL_CODE\"] == \"POSSIBLY_RELATED\":\n",
    "                    continue\n",
    "\n",
    "    return alias_records\n",
    "\n",
    "def generate_aliases(raw_aliases: list[AliasRawData]) -> pd.DataFrame:\n",
    "    df = (\n",
    "        pd.DataFrame.from_records(raw_aliases)\n",
    "        .groupby(\"alias\")\n",
    "        .agg(counts=(\"entity\", Counter))\n",
    "        .assign(entities=lambda d: d.counts.apply(list))\n",
    "        .assign(\n",
    "            probabilites=lambda d: d.counts.apply(\n",
    "                lambda x: [count / x.total() for k, count in x.items()]\n",
    "            )\n",
    "        )\n",
    "        .drop(columns=\"counts\")\n",
    "        .reset_index()\n",
    "    )\n",
    "    return df\n",
    "\n",
    "\n",
    "def write_aliases(\n",
    "    aliases: pd.DataFrame, filepath: str | pathlib.Path = \"data/senzing/aliases.jsonl\"\n",
    "):\n",
    "    aliases.to_json(filepath, orient=\"records\", lines=True)"
   ]
  },
  {
   "cell_type": "code",
   "execution_count": 30,
   "id": "d343a3b9-2062-4ffd-85bf-8b57c63b19bc",
   "metadata": {
    "execution": {
     "iopub.execute_input": "2024-09-29T16:51:13.622091Z",
     "iopub.status.busy": "2024-09-29T16:51:13.621900Z",
     "iopub.status.idle": "2024-09-29T16:51:39.395605Z",
     "shell.execute_reply": "2024-09-29T16:51:39.394900Z",
     "shell.execute_reply.started": "2024-09-29T16:51:13.622079Z"
    }
   },
   "outputs": [],
   "source": [
    "raw_aliases = load_aliases()"
   ]
  },
  {
   "cell_type": "code",
   "execution_count": 31,
   "id": "a9b084ee-87f4-49fa-9e6a-b6010fd7f5f2",
   "metadata": {
    "execution": {
     "iopub.execute_input": "2024-09-29T16:51:39.397150Z",
     "iopub.status.busy": "2024-09-29T16:51:39.396967Z",
     "iopub.status.idle": "2024-09-29T16:52:42.519010Z",
     "shell.execute_reply": "2024-09-29T16:52:42.518465Z",
     "shell.execute_reply.started": "2024-09-29T16:51:39.397136Z"
    }
   },
   "outputs": [],
   "source": [
    "aliases = generate_aliases(raw_aliases)"
   ]
  },
  {
   "cell_type": "code",
   "execution_count": 32,
   "id": "1563c114-12b8-4281-a0a9-20636c130a07",
   "metadata": {
    "execution": {
     "iopub.execute_input": "2024-09-29T16:52:42.519827Z",
     "iopub.status.busy": "2024-09-29T16:52:42.519702Z",
     "iopub.status.idle": "2024-09-29T16:52:42.525536Z",
     "shell.execute_reply": "2024-09-29T16:52:42.525209Z",
     "shell.execute_reply.started": "2024-09-29T16:52:42.519817Z"
    }
   },
   "outputs": [
    {
     "data": {
      "text/html": [
       "<div>\n",
       "<style scoped>\n",
       "    .dataframe tbody tr th:only-of-type {\n",
       "        vertical-align: middle;\n",
       "    }\n",
       "\n",
       "    .dataframe tbody tr th {\n",
       "        vertical-align: top;\n",
       "    }\n",
       "\n",
       "    .dataframe thead th {\n",
       "        text-align: right;\n",
       "    }\n",
       "</style>\n",
       "<table border=\"1\" class=\"dataframe\">\n",
       "  <thead>\n",
       "    <tr style=\"text-align: right;\">\n",
       "      <th></th>\n",
       "      <th>alias</th>\n",
       "      <th>entities</th>\n",
       "      <th>probabilites</th>\n",
       "    </tr>\n",
       "  </thead>\n",
       "  <tbody>\n",
       "    <tr>\n",
       "      <th>0</th>\n",
       "      <td>\"A T L I \" ARUBAS TRAINING AND LANGUAGE INSTITUTE</td>\n",
       "      <td>[227026, 505055, 1038409, 1186466, 1391404]</td>\n",
       "      <td>[0.2857142857142857, 0.14285714285714285, 0.28...</td>\n",
       "    </tr>\n",
       "    <tr>\n",
       "      <th>1</th>\n",
       "      <td>\"A\" COMPANY INTERNATIONAL EXPORT INC</td>\n",
       "      <td>[745555, 498873, 1041481, 1185934, 1321928, 14...</td>\n",
       "      <td>[0.16666666666666666, 0.16666666666666666, 0.1...</td>\n",
       "    </tr>\n",
       "    <tr>\n",
       "      <th>2</th>\n",
       "      <td>\"ACRYLIC PRODUCTS LIMITED\"</td>\n",
       "      <td>[1050403]</td>\n",
       "      <td>[1.0]</td>\n",
       "    </tr>\n",
       "    <tr>\n",
       "      <th>3</th>\n",
       "      <td>\"AEROCOSTA\" EXPRESS</td>\n",
       "      <td>[646300, 504170, 1311910, 1585724]</td>\n",
       "      <td>[0.25, 0.25, 0.25, 0.25]</td>\n",
       "    </tr>\n",
       "    <tr>\n",
       "      <th>4</th>\n",
       "      <td>\"AHI\"AIRPORT HOSPITALITY INDUSTRY N V</td>\n",
       "      <td>[223104, 1279980]</td>\n",
       "      <td>[0.5, 0.5]</td>\n",
       "    </tr>\n",
       "  </tbody>\n",
       "</table>\n",
       "</div>"
      ],
      "text/plain": [
       "                                               alias  \\\n",
       "0  \"A T L I \" ARUBAS TRAINING AND LANGUAGE INSTITUTE   \n",
       "1               \"A\" COMPANY INTERNATIONAL EXPORT INC   \n",
       "2                         \"ACRYLIC PRODUCTS LIMITED\"   \n",
       "3                                \"AEROCOSTA\" EXPRESS   \n",
       "4              \"AHI\"AIRPORT HOSPITALITY INDUSTRY N V   \n",
       "\n",
       "                                            entities  \\\n",
       "0        [227026, 505055, 1038409, 1186466, 1391404]   \n",
       "1  [745555, 498873, 1041481, 1185934, 1321928, 14...   \n",
       "2                                          [1050403]   \n",
       "3                 [646300, 504170, 1311910, 1585724]   \n",
       "4                                  [223104, 1279980]   \n",
       "\n",
       "                                        probabilites  \n",
       "0  [0.2857142857142857, 0.14285714285714285, 0.28...  \n",
       "1  [0.16666666666666666, 0.16666666666666666, 0.1...  \n",
       "2                                              [1.0]  \n",
       "3                           [0.25, 0.25, 0.25, 0.25]  \n",
       "4                                         [0.5, 0.5]  "
      ]
     },
     "execution_count": 32,
     "metadata": {},
     "output_type": "execute_result"
    }
   ],
   "source": [
    "aliases.head()"
   ]
  },
  {
   "cell_type": "code",
   "execution_count": 12,
   "id": "1c37626c-144b-4aee-9965-3b54387832a4",
   "metadata": {
    "execution": {
     "iopub.execute_input": "2024-09-29T16:34:39.418728Z",
     "iopub.status.busy": "2024-09-29T16:34:39.418631Z",
     "iopub.status.idle": "2024-09-29T16:34:39.422867Z",
     "shell.execute_reply": "2024-09-29T16:34:39.422578Z",
     "shell.execute_reply.started": "2024-09-29T16:34:39.418718Z"
    }
   },
   "outputs": [
    {
     "data": {
      "text/html": [
       "<div>\n",
       "<style scoped>\n",
       "    .dataframe tbody tr th:only-of-type {\n",
       "        vertical-align: middle;\n",
       "    }\n",
       "\n",
       "    .dataframe tbody tr th {\n",
       "        vertical-align: top;\n",
       "    }\n",
       "\n",
       "    .dataframe thead th {\n",
       "        text-align: right;\n",
       "    }\n",
       "</style>\n",
       "<table border=\"1\" class=\"dataframe\">\n",
       "  <thead>\n",
       "    <tr style=\"text-align: right;\">\n",
       "      <th></th>\n",
       "      <th>alias</th>\n",
       "      <th>entities</th>\n",
       "      <th>probabilites</th>\n",
       "    </tr>\n",
       "  </thead>\n",
       "  <tbody>\n",
       "    <tr>\n",
       "      <th>0</th>\n",
       "      <td>\"A T L I \" ARUBAS TRAINING AND LANGUAGE INSTITUTE</td>\n",
       "      <td>[227026, 1038409]</td>\n",
       "      <td>[0.5, 0.5]</td>\n",
       "    </tr>\n",
       "    <tr>\n",
       "      <th>1</th>\n",
       "      <td>\"A\" COMPANY INTERNATIONAL EXPORT INC</td>\n",
       "      <td>[745555]</td>\n",
       "      <td>[1.0]</td>\n",
       "    </tr>\n",
       "    <tr>\n",
       "      <th>2</th>\n",
       "      <td>\"ACRYLIC PRODUCTS LIMITED\"</td>\n",
       "      <td>[1050403]</td>\n",
       "      <td>[1.0]</td>\n",
       "    </tr>\n",
       "    <tr>\n",
       "      <th>3</th>\n",
       "      <td>\"AEROCOSTA\" EXPRESS</td>\n",
       "      <td>[646300]</td>\n",
       "      <td>[1.0]</td>\n",
       "    </tr>\n",
       "    <tr>\n",
       "      <th>4</th>\n",
       "      <td>\"AHI\"AIRPORT HOSPITALITY INDUSTRY N V</td>\n",
       "      <td>[223104]</td>\n",
       "      <td>[1.0]</td>\n",
       "    </tr>\n",
       "  </tbody>\n",
       "</table>\n",
       "</div>"
      ],
      "text/plain": [
       "                                               alias           entities  \\\n",
       "0  \"A T L I \" ARUBAS TRAINING AND LANGUAGE INSTITUTE  [227026, 1038409]   \n",
       "1               \"A\" COMPANY INTERNATIONAL EXPORT INC           [745555]   \n",
       "2                         \"ACRYLIC PRODUCTS LIMITED\"          [1050403]   \n",
       "3                                \"AEROCOSTA\" EXPRESS           [646300]   \n",
       "4              \"AHI\"AIRPORT HOSPITALITY INDUSTRY N V           [223104]   \n",
       "\n",
       "  probabilites  \n",
       "0   [0.5, 0.5]  \n",
       "1        [1.0]  \n",
       "2        [1.0]  \n",
       "3        [1.0]  \n",
       "4        [1.0]  "
      ]
     },
     "execution_count": 12,
     "metadata": {},
     "output_type": "execute_result"
    }
   ],
   "source": [
    "aliases.head()"
   ]
  },
  {
   "cell_type": "code",
   "execution_count": 33,
   "id": "878d32f0-fc86-4131-8c31-e638d0bf66ef",
   "metadata": {
    "execution": {
     "iopub.execute_input": "2024-09-29T16:52:48.789749Z",
     "iopub.status.busy": "2024-09-29T16:52:48.787744Z",
     "iopub.status.idle": "2024-09-29T16:52:51.147558Z",
     "shell.execute_reply": "2024-09-29T16:52:51.147201Z",
     "shell.execute_reply.started": "2024-09-29T16:52:48.789691Z"
    }
   },
   "outputs": [],
   "source": [
    "write_aliases(aliases)"
   ]
  },
  {
   "cell_type": "markdown",
   "id": "a1a8f309-bf00-4e92-baf3-c8b753002aab",
   "metadata": {},
   "source": [
    "## Cherry pick the entities "
   ]
  },
  {
   "cell_type": "code",
   "execution_count": 1,
   "id": "e3890cf5-2261-4253-9fb2-e08440a4fdf3",
   "metadata": {
    "execution": {
     "iopub.execute_input": "2024-10-13T10:27:05.005760Z",
     "iopub.status.busy": "2024-10-13T10:27:05.005098Z",
     "iopub.status.idle": "2024-10-13T10:27:05.049713Z",
     "shell.execute_reply": "2024-10-13T10:27:05.049220Z",
     "shell.execute_reply.started": "2024-10-13T10:27:05.005714Z"
    }
   },
   "outputs": [],
   "source": [
    "%load_ext autoreload\n",
    "%autoreload 2"
   ]
  },
  {
   "cell_type": "code",
   "execution_count": 2,
   "id": "2629789b-7f6b-402d-827c-2f5d3b196f98",
   "metadata": {
    "execution": {
     "iopub.execute_input": "2024-10-13T10:27:05.050965Z",
     "iopub.status.busy": "2024-10-13T10:27:05.050770Z",
     "iopub.status.idle": "2024-10-13T10:27:08.285299Z",
     "shell.execute_reply": "2024-10-13T10:27:08.284948Z",
     "shell.execute_reply.started": "2024-10-13T10:27:05.050944Z"
    }
   },
   "outputs": [],
   "source": [
    "import spacy\n",
    "from spacy.tokens import DocBin\n",
    "from spacy import displacy\n",
    "import srsly\n",
    "\n",
    "from spacy_lancedb_linker.kb import AnnKnowledgeBase\n",
    "from spacy_lancedb_linker.linker import AnnLinker  # noqa\n",
    "from spacy_lancedb_linker.types import Alias, Entity\n",
    "from src.scraper import SPACY_MODEL"
   ]
  },
  {
   "cell_type": "code",
   "execution_count": 3,
   "id": "844c1e4f-2274-47e7-aa7c-5aab6300ea76",
   "metadata": {
    "execution": {
     "iopub.execute_input": "2024-10-13T10:27:08.289954Z",
     "iopub.status.busy": "2024-10-13T10:27:08.289856Z",
     "iopub.status.idle": "2024-10-13T10:27:08.331008Z",
     "shell.execute_reply": "2024-10-13T10:27:08.330686Z",
     "shell.execute_reply.started": "2024-10-13T10:27:08.289943Z"
    }
   },
   "outputs": [],
   "source": [
    "from src.senzing_pipeline import load_aliases, load_countries, load_entities"
   ]
  },
  {
   "cell_type": "markdown",
   "id": "14f56e07-d48c-4674-a4f1-2f5a69bcaefa",
   "metadata": {},
   "source": [
    "Pipeline is:\n",
    "- take docbin of articles\n",
    "- collect NER and noun chunks\n",
    "- pre-filter senzing results for that\n",
    "- build entity summaries and aliases for that pre-filtered set\n",
    "- load the spacy model for EL and do EL"
   ]
  },
  {
   "cell_type": "code",
   "execution_count": 4,
   "id": "5656fc51-631d-4059-b520-6e4c68bd86d5",
   "metadata": {
    "execution": {
     "iopub.execute_input": "2024-10-13T10:27:08.331681Z",
     "iopub.status.busy": "2024-10-13T10:27:08.331536Z",
     "iopub.status.idle": "2024-10-13T10:27:45.944598Z",
     "shell.execute_reply": "2024-10-13T10:27:45.944136Z",
     "shell.execute_reply.started": "2024-10-13T10:27:08.331670Z"
    }
   },
   "outputs": [
    {
     "name": "stderr",
     "output_type": "stream",
     "text": [
      "\u001b[32m2024-10-13 12:27:08.346\u001b[0m | \u001b[1mINFO    \u001b[0m | \u001b[36msrc.senzing_pipeline\u001b[0m:\u001b[36mload_countries\u001b[0m:\u001b[36m24\u001b[0m - \u001b[1mLoading country codes from data/senzing/country.tsv\u001b[0m\n",
      "\u001b[32m2024-10-13 12:27:08.348\u001b[0m | \u001b[1mINFO    \u001b[0m | \u001b[36msrc.senzing_pipeline\u001b[0m:\u001b[36mload_entities\u001b[0m:\u001b[36m59\u001b[0m - \u001b[1mParsing Senzing results: data/ICIJ-entity-report-2024-06-21_12-04-57-std.json\u001b[0m\n",
      "100%|█████████████████████████████████████████████████████████████████████████████████████████████████████████████████████████| 1547418/1547418 [00:34<00:00, 45043.62it/s]\n"
     ]
    }
   ],
   "source": [
    "countries = load_countries()\n",
    "raw_entities = load_entities()"
   ]
  },
  {
   "cell_type": "code",
   "execution_count": 7,
   "id": "4e707c67-8949-43b2-b20f-78e36636182b",
   "metadata": {
    "execution": {
     "iopub.execute_input": "2024-10-13T10:29:57.383667Z",
     "iopub.status.busy": "2024-10-13T10:29:57.383168Z",
     "iopub.status.idle": "2024-10-13T10:30:33.297453Z",
     "shell.execute_reply": "2024-10-13T10:30:33.297170Z",
     "shell.execute_reply.started": "2024-10-13T10:29:57.383633Z"
    }
   },
   "outputs": [
    {
     "name": "stderr",
     "output_type": "stream",
     "text": [
      "\u001b[32m2024-10-13 12:29:58.771\u001b[0m | \u001b[1mINFO    \u001b[0m | \u001b[36msrc.senzing_pipeline\u001b[0m:\u001b[36mload_aliases\u001b[0m:\u001b[36m223\u001b[0m - \u001b[1mParsing Senzing results: data/ICIJ-entity-report-2024-06-21_12-04-57-std.json\u001b[0m\n",
      "100%|████████████████████████████████████████████████████████████████████████████████████████████████████████████████████████▉| 1547265/1547418 [00:31<00:00, 49192.01it/s]\n"
     ]
    }
   ],
   "source": [
    "raw_aliases = load_aliases()"
   ]
  },
  {
   "cell_type": "code",
   "execution_count": 8,
   "id": "0aba3309-7c60-4605-853b-49373b9a618c",
   "metadata": {
    "execution": {
     "iopub.execute_input": "2024-10-13T10:31:38.525711Z",
     "iopub.status.busy": "2024-10-13T10:31:38.525183Z",
     "iopub.status.idle": "2024-10-13T10:31:38.900947Z",
     "shell.execute_reply": "2024-10-13T10:31:38.900654Z",
     "shell.execute_reply.started": "2024-10-13T10:31:38.525677Z"
    }
   },
   "outputs": [
    {
     "data": {
      "text/plain": [
       "{'ORG', 'PER'}"
      ]
     },
     "execution_count": 8,
     "metadata": {},
     "output_type": "execute_result"
    }
   ],
   "source": [
    "set(a[\"type\"] for a in raw_aliases)"
   ]
  },
  {
   "cell_type": "code",
   "execution_count": 9,
   "id": "dc80037e-a2a4-424e-a913-b0c5e678bed8",
   "metadata": {
    "execution": {
     "iopub.execute_input": "2024-10-13T10:31:43.155975Z",
     "iopub.status.busy": "2024-10-13T10:31:43.155352Z",
     "iopub.status.idle": "2024-10-13T10:31:43.193330Z",
     "shell.execute_reply": "2024-10-13T10:31:43.192825Z",
     "shell.execute_reply.started": "2024-10-13T10:31:43.155943Z"
    }
   },
   "outputs": [],
   "source": [
    "from src.senzing_pipeline import generate_patterns"
   ]
  },
  {
   "cell_type": "code",
   "execution_count": 10,
   "id": "e744dc4f-e30e-4caf-8600-9819835fa53b",
   "metadata": {
    "execution": {
     "iopub.execute_input": "2024-10-13T10:31:43.429896Z",
     "iopub.status.busy": "2024-10-13T10:31:43.428353Z",
     "iopub.status.idle": "2024-10-13T10:31:44.552822Z",
     "shell.execute_reply": "2024-10-13T10:31:44.552479Z",
     "shell.execute_reply.started": "2024-10-13T10:31:43.429849Z"
    }
   },
   "outputs": [],
   "source": [
    "patterns = generate_patterns(raw_aliases)"
   ]
  },
  {
   "cell_type": "code",
   "execution_count": 11,
   "id": "68f75a7f-35e3-45b3-a07d-802a814b6928",
   "metadata": {
    "execution": {
     "iopub.execute_input": "2024-10-13T10:31:45.570960Z",
     "iopub.status.busy": "2024-10-13T10:31:45.570185Z",
     "iopub.status.idle": "2024-10-13T10:31:46.582919Z",
     "shell.execute_reply": "2024-10-13T10:31:46.582492Z",
     "shell.execute_reply.started": "2024-10-13T10:31:45.570923Z"
    }
   },
   "outputs": [],
   "source": [
    "nlp = spacy.load(SPACY_MODEL, exclude=[\"ner\"])"
   ]
  },
  {
   "cell_type": "code",
   "execution_count": 9,
   "id": "7475e907-65ef-41ab-a600-2e8501f37de3",
   "metadata": {
    "execution": {
     "iopub.execute_input": "2024-10-13T09:47:44.707649Z",
     "iopub.status.busy": "2024-10-13T09:47:44.706990Z",
     "iopub.status.idle": "2024-10-13T09:47:44.749984Z",
     "shell.execute_reply": "2024-10-13T09:47:44.749609Z",
     "shell.execute_reply.started": "2024-10-13T09:47:44.707618Z"
    }
   },
   "outputs": [],
   "source": [
    "# disabled = nlp.select_pipes(disable=\"ner\")\n",
    "# doc = nlp(\"I won't have named entities\")\n",
    "# disabled.restore()"
   ]
  },
  {
   "cell_type": "code",
   "execution_count": 13,
   "id": "c5b81387-3a1c-46b8-806d-9b048036c742",
   "metadata": {
    "execution": {
     "iopub.execute_input": "2024-10-13T10:32:08.236418Z",
     "iopub.status.busy": "2024-10-13T10:32:08.235864Z",
     "iopub.status.idle": "2024-10-13T10:35:20.774655Z",
     "shell.execute_reply": "2024-10-13T10:35:20.773670Z",
     "shell.execute_reply.started": "2024-10-13T10:32:08.236389Z"
    }
   },
   "outputs": [],
   "source": [
    "ruler = nlp.add_pipe(\"entity_ruler\")\n",
    "with nlp.select_pipes(enable=\"tagger\"):\n",
    "    ruler.add_patterns(patterns)"
   ]
  },
  {
   "cell_type": "code",
   "execution_count": 14,
   "id": "c2f3b310-9614-4a40-86c3-ed27070dbf50",
   "metadata": {
    "execution": {
     "iopub.execute_input": "2024-10-13T10:35:20.776261Z",
     "iopub.status.busy": "2024-10-13T10:35:20.776012Z",
     "iopub.status.idle": "2024-10-13T10:35:20.849168Z",
     "shell.execute_reply": "2024-10-13T10:35:20.848261Z",
     "shell.execute_reply.started": "2024-10-13T10:35:20.776244Z"
    }
   },
   "outputs": [
    {
     "data": {
      "text/plain": [
       "['tok2vec',\n",
       " 'tagger',\n",
       " 'parser',\n",
       " 'attribute_ruler',\n",
       " 'lemmatizer',\n",
       " 'entity_ruler']"
      ]
     },
     "execution_count": 14,
     "metadata": {},
     "output_type": "execute_result"
    }
   ],
   "source": [
    "nlp.pipe_names"
   ]
  },
  {
   "cell_type": "code",
   "execution_count": 15,
   "id": "27d9747f-6eb6-4b52-a0aa-a8a295ae91e5",
   "metadata": {
    "execution": {
     "iopub.execute_input": "2024-10-13T10:35:20.855134Z",
     "iopub.status.busy": "2024-10-13T10:35:20.853166Z",
     "iopub.status.idle": "2024-10-13T10:35:20.956310Z",
     "shell.execute_reply": "2024-10-13T10:35:20.955957Z",
     "shell.execute_reply.started": "2024-10-13T10:35:20.855110Z"
    }
   },
   "outputs": [],
   "source": [
    "doc_bin = DocBin().from_disk(path=\"data/dataset.spacy\")\n",
    "docs = list(doc_bin.get_docs(nlp.vocab))"
   ]
  },
  {
   "cell_type": "code",
   "execution_count": 25,
   "id": "dffeab9e-17d1-4973-9707-544357513b4a",
   "metadata": {
    "execution": {
     "iopub.execute_input": "2024-10-13T10:46:50.585874Z",
     "iopub.status.busy": "2024-10-13T10:46:50.584088Z",
     "iopub.status.idle": "2024-10-13T10:46:51.272366Z",
     "shell.execute_reply": "2024-10-13T10:46:51.271970Z",
     "shell.execute_reply.started": "2024-10-13T10:46:50.585780Z"
    }
   },
   "outputs": [],
   "source": [
    "matched = set(ent.text for doc in nlp.pipe(docs) for ent in doc.ents)"
   ]
  },
  {
   "cell_type": "markdown",
   "id": "d68c22b6-6c28-4ed9-8711-27a0a55cf204",
   "metadata": {},
   "source": [
    "- use aliases.jsonl to define initial group\n",
    "- filter aliases.jsonl for entities in group\n",
    "- filter entities.jsonl for entities in this group and friend of and friend of friend"
   ]
  },
  {
   "cell_type": "code",
   "execution_count": 18,
   "id": "25c98d27-db35-4a52-b1f8-194ac1d7feda",
   "metadata": {
    "execution": {
     "iopub.execute_input": "2024-10-13T10:35:30.666736Z",
     "iopub.status.busy": "2024-10-13T10:35:30.666268Z",
     "iopub.status.idle": "2024-10-13T10:35:30.728713Z",
     "shell.execute_reply": "2024-10-13T10:35:30.727593Z",
     "shell.execute_reply.started": "2024-10-13T10:35:30.666710Z"
    }
   },
   "outputs": [
    {
     "data": {
      "text/html": [
       "<span class=\"tex2jax_ignore\"><div class=\"entities\" style=\"line-height: 2.5; direction: ltr\">Former Czech leader’s secret French estate, revealed in Pandora Papers, listed for sale.<br>The luxury Riviera property featured in ICIJ’s investigation into then-Prime Minister \n",
       "<mark class=\"entity\" style=\"background: #ddd; padding: 0.45em 0.6em; margin: 0 0.25em; line-height: 1; border-radius: 0.35em;\">\n",
       "    Andrej Babis\n",
       "    <span style=\"font-size: 0.8em; font-weight: bold; line-height: 1; border-radius: 0.35em; vertical-align: middle; margin-left: 0.5rem\">PER</span>\n",
       "</mark>\n",
       "’ secret offshore dealings, and is now part of a money laundering probe by French authorities.<br>Former Czech prime minister \n",
       "<mark class=\"entity\" style=\"background: #ddd; padding: 0.45em 0.6em; margin: 0 0.25em; line-height: 1; border-radius: 0.35em;\">\n",
       "    Andrej Babis\n",
       "    <span style=\"font-size: 0.8em; font-weight: bold; line-height: 1; border-radius: 0.35em; vertical-align: middle; margin-left: 0.5rem\">PER</span>\n",
       "</mark>\n",
       ".<br>High-end real estate agency Sotheby’s International Realty has listed for sale the sprawling French property of former Czech prime minister \n",
       "<mark class=\"entity\" style=\"background: #ddd; padding: 0.45em 0.6em; margin: 0 0.25em; line-height: 1; border-radius: 0.35em;\">\n",
       "    Andrej Babis\n",
       "    <span style=\"font-size: 0.8em; font-weight: bold; line-height: 1; border-radius: 0.35em; vertical-align: middle; margin-left: 0.5rem\">PER</span>\n",
       "</mark>\n",
       " which was first revealed in the Pandora Papers by the International Consortium of Investigative Journalists.<br>The $24.7 million villa, located in the town of Mougins, near Cannes, was at the center of the 2021 investigation into the secret offshore dealings of the Czech billionaire-turned-politician, who was one of dozens of politicians and public officials from around the world who used shell companies in secrecy jurisdictions to shield their assets from public scrutiny.<br>ICIJ and its media partners found that, in 2009, Babis used a Panama-based financial service provider to set up shell companies in the British Virgin Islands, Washington, D.C. and Monaco, and move $22 million through the firms to secretly buy the lavish estate named Chateau Bigaud.<br>Following the revelations, French authorities launched an investigation into Babis’ acquisition of the property, as part of a probe into allegations of money laundering, Le Monde reported. The investigation is ongoing.<br>Babis, a businessman who made his fortune running the Agrofert conglomerate, bought the property before he founded a centrist political movement called ANO, Czech for “Yes” and an acronym that translates as “Action of Dissatisfied Citizens.”<br>However, asset declaration forms obtained by Investigace.cz, ICIJ’s Czech media partner, showed that, at the time he was Czech Republic’s prime minister, neither the chateau property nor the companies involved in its ownership appeared in documents that he had filed, as required by Czech law, since his entry into politics.<br>Babis, who didn’t respond to ICIJ’s questions on the property deal, has publicly denied wrongdoing and said he did “nothing illegal or wrong.”<br>A screenshot of the Sothebys website, that describes Chateau Bigaud as “magnificent and exclusive.”<br>The website of Sotheby’s International Realty for the first time shows detailed photos of the property which was built in 2008 and comprises two pools, a tennis court, a wine cellar and a grotto.<br>A spokeswoman for the agency’s Cannes office declined to provide details on the seller, citing client confidentiality reasons. She told ICIJ that the property has belonged to the same owner for more than 10 years and was used as a “secondary home.” Some potential buyers have visited it but “nothing serious for the moment,” it’s still on sale, the spokeswoman said.<br>Babis’ ownership and purchase of the property in Southern France was in sharp contrast to his cultivated image as the politician who vowed to fight unemployment and corruption and increase government transparency and tax revenues.<br>Experts interviewed by ICIJ in 2021 said the offshore arrangement used by Babis to buy the chateau could have reduced his tax bill while hiding his ownership of the property from the public.<br>Days after ICIJ revealed Babis’ secret offshore deals in October 2021, his ANO party lost the country’s parliamentary election. Last year, he unsuccessfully ran for president.<br>Babis recently co-founded the far-right Patriots for Europe group in the European Parliament alongside Hungarian Prime Minister Victor Orbán and Austria’s Freedom Party leader Herbert Kickl.</div></span>"
      ],
      "text/plain": [
       "<IPython.core.display.HTML object>"
      ]
     },
     "metadata": {},
     "output_type": "display_data"
    }
   ],
   "source": [
    "displacy.render(docs[1], style=\"ent\")"
   ]
  },
  {
   "cell_type": "code",
   "execution_count": 19,
   "id": "b25aec70-cca2-4dc2-96b4-7eb3ca1db9c9",
   "metadata": {
    "execution": {
     "iopub.execute_input": "2024-10-13T09:53:00.698643Z",
     "iopub.status.busy": "2024-10-13T09:53:00.697843Z",
     "iopub.status.idle": "2024-10-13T10:08:05.708506Z",
     "shell.execute_reply": "2024-10-13T10:08:05.707442Z",
     "shell.execute_reply.started": "2024-10-13T09:53:00.698601Z"
    },
    "scrolled": true
   },
   "outputs": [
    {
     "ename": "KeyboardInterrupt",
     "evalue": "",
     "output_type": "error",
     "traceback": [
      "\u001b[0;31m---------------------------------------------------------------------------\u001b[0m",
      "\u001b[0;31mKeyboardInterrupt\u001b[0m                         Traceback (most recent call last)",
      "Cell \u001b[0;32mIn[19], line 1\u001b[0m\n\u001b[0;32m----> 1\u001b[0m [p \u001b[38;5;28;01mfor\u001b[39;00m p \u001b[38;5;129;01min\u001b[39;00m patterns \u001b[38;5;28;01mif\u001b[39;00m p[\u001b[38;5;124m'\u001b[39m\u001b[38;5;124mid\u001b[39m\u001b[38;5;124m'\u001b[39m] \u001b[38;5;129;01min\u001b[39;00m \u001b[38;5;28;43mset\u001b[39;49m\u001b[43m(\u001b[49m\u001b[43ment\u001b[49m\u001b[38;5;241;43m.\u001b[39;49m\u001b[43ment_id_\u001b[49m\u001b[43m \u001b[49m\u001b[38;5;28;43;01mfor\u001b[39;49;00m\u001b[43m \u001b[49m\u001b[43mdoc\u001b[49m\u001b[43m \u001b[49m\u001b[38;5;129;43;01min\u001b[39;49;00m\u001b[43m \u001b[49m\u001b[43mnlp\u001b[49m\u001b[38;5;241;43m.\u001b[39;49m\u001b[43mpipe\u001b[49m\u001b[43m(\u001b[49m\u001b[43mdocs\u001b[49m\u001b[43m)\u001b[49m\u001b[43m \u001b[49m\u001b[38;5;28;43;01mfor\u001b[39;49;00m\u001b[43m \u001b[49m\u001b[43ment\u001b[49m\u001b[43m \u001b[49m\u001b[38;5;129;43;01min\u001b[39;49;00m\u001b[43m \u001b[49m\u001b[43mdoc\u001b[49m\u001b[38;5;241;43m.\u001b[39;49m\u001b[43ments\u001b[49m\u001b[43m)\u001b[49m]\n",
      "Cell \u001b[0;32mIn[19], line 1\u001b[0m, in \u001b[0;36m<genexpr>\u001b[0;34m(.0)\u001b[0m\n\u001b[0;32m----> 1\u001b[0m [p \u001b[38;5;28;01mfor\u001b[39;00m p \u001b[38;5;129;01min\u001b[39;00m patterns \u001b[38;5;28;01mif\u001b[39;00m p[\u001b[38;5;124m'\u001b[39m\u001b[38;5;124mid\u001b[39m\u001b[38;5;124m'\u001b[39m] \u001b[38;5;129;01min\u001b[39;00m \u001b[38;5;28mset\u001b[39m\u001b[43m(\u001b[49m\u001b[43ment\u001b[49m\u001b[38;5;241;43m.\u001b[39;49m\u001b[43ment_id_\u001b[49m\u001b[43m \u001b[49m\u001b[38;5;28;43;01mfor\u001b[39;49;00m\u001b[43m \u001b[49m\u001b[43mdoc\u001b[49m\u001b[43m \u001b[49m\u001b[38;5;129;43;01min\u001b[39;49;00m\u001b[43m \u001b[49m\u001b[43mnlp\u001b[49m\u001b[38;5;241;43m.\u001b[39;49m\u001b[43mpipe\u001b[49m\u001b[43m(\u001b[49m\u001b[43mdocs\u001b[49m\u001b[43m)\u001b[49m\u001b[43m \u001b[49m\u001b[38;5;28;43;01mfor\u001b[39;49;00m\u001b[43m \u001b[49m\u001b[43ment\u001b[49m\u001b[43m \u001b[49m\u001b[38;5;129;43;01min\u001b[39;49;00m\u001b[43m \u001b[49m\u001b[43mdoc\u001b[49m\u001b[38;5;241;43m.\u001b[39;49m\u001b[43ments\u001b[49m\u001b[43m)\u001b[49m]\n",
      "File \u001b[0;32m~/Library/Caches/pypoetry/virtualenvs/erkg-tutorials-graphgeeks-4I9UJMJy-py3.12/lib/python3.12/site-packages/spacy/language.py:1618\u001b[0m, in \u001b[0;36mLanguage.pipe\u001b[0;34m(self, texts, as_tuples, batch_size, disable, component_cfg, n_process)\u001b[0m\n\u001b[1;32m   1616\u001b[0m     \u001b[38;5;28;01mfor\u001b[39;00m pipe \u001b[38;5;129;01min\u001b[39;00m pipes:\n\u001b[1;32m   1617\u001b[0m         docs \u001b[38;5;241m=\u001b[39m pipe(docs)\n\u001b[0;32m-> 1618\u001b[0m \u001b[43m\u001b[49m\u001b[38;5;28;43;01mfor\u001b[39;49;00m\u001b[43m \u001b[49m\u001b[43mdoc\u001b[49m\u001b[43m \u001b[49m\u001b[38;5;129;43;01min\u001b[39;49;00m\u001b[43m \u001b[49m\u001b[43mdocs\u001b[49m\u001b[43m:\u001b[49m\n\u001b[1;32m   1619\u001b[0m \u001b[43m    \u001b[49m\u001b[38;5;28;43;01myield\u001b[39;49;00m\u001b[43m \u001b[49m\u001b[43mdoc\u001b[49m\n",
      "File \u001b[0;32m~/Library/Caches/pypoetry/virtualenvs/erkg-tutorials-graphgeeks-4I9UJMJy-py3.12/lib/python3.12/site-packages/spacy/util.py:1703\u001b[0m, in \u001b[0;36m_pipe\u001b[0;34m(docs, proc, name, default_error_handler, kwargs)\u001b[0m\n\u001b[1;32m   1693\u001b[0m \u001b[38;5;28;01mdef\u001b[39;00m \u001b[38;5;21m_pipe\u001b[39m(\n\u001b[1;32m   1694\u001b[0m     docs: Iterable[\u001b[38;5;124m\"\u001b[39m\u001b[38;5;124mDoc\u001b[39m\u001b[38;5;124m\"\u001b[39m],\n\u001b[1;32m   1695\u001b[0m     proc: \u001b[38;5;124m\"\u001b[39m\u001b[38;5;124mPipeCallable\u001b[39m\u001b[38;5;124m\"\u001b[39m,\n\u001b[0;32m   (...)\u001b[0m\n\u001b[1;32m   1700\u001b[0m     kwargs: Mapping[\u001b[38;5;28mstr\u001b[39m, Any],\n\u001b[1;32m   1701\u001b[0m ) \u001b[38;5;241m-\u001b[39m\u001b[38;5;241m>\u001b[39m Iterator[\u001b[38;5;124m\"\u001b[39m\u001b[38;5;124mDoc\u001b[39m\u001b[38;5;124m\"\u001b[39m]:\n\u001b[1;32m   1702\u001b[0m     \u001b[38;5;28;01mif\u001b[39;00m \u001b[38;5;28mhasattr\u001b[39m(proc, \u001b[38;5;124m\"\u001b[39m\u001b[38;5;124mpipe\u001b[39m\u001b[38;5;124m\"\u001b[39m):\n\u001b[0;32m-> 1703\u001b[0m         \u001b[38;5;28;01myield from\u001b[39;00m proc\u001b[38;5;241m.\u001b[39mpipe(docs, \u001b[38;5;241m*\u001b[39m\u001b[38;5;241m*\u001b[39mkwargs)\n\u001b[1;32m   1704\u001b[0m     \u001b[38;5;28;01melse\u001b[39;00m:\n\u001b[1;32m   1705\u001b[0m         \u001b[38;5;66;03m# We added some args for pipe that __call__ doesn't expect.\u001b[39;00m\n\u001b[1;32m   1706\u001b[0m         kwargs \u001b[38;5;241m=\u001b[39m \u001b[38;5;28mdict\u001b[39m(kwargs)\n",
      "File \u001b[0;32m~/Library/Caches/pypoetry/virtualenvs/erkg-tutorials-graphgeeks-4I9UJMJy-py3.12/lib/python3.12/site-packages/spacy/pipeline/pipe.pyx:57\u001b[0m, in \u001b[0;36mpipe\u001b[0;34m()\u001b[0m\n",
      "File \u001b[0;32m~/Library/Caches/pypoetry/virtualenvs/erkg-tutorials-graphgeeks-4I9UJMJy-py3.12/lib/python3.12/site-packages/spacy/pipeline/entityruler.py:162\u001b[0m, in \u001b[0;36mEntityRuler.__call__\u001b[0;34m(self, doc)\u001b[0m\n\u001b[1;32m    160\u001b[0m error_handler \u001b[38;5;241m=\u001b[39m \u001b[38;5;28mself\u001b[39m\u001b[38;5;241m.\u001b[39mget_error_handler()\n\u001b[1;32m    161\u001b[0m \u001b[38;5;28;01mtry\u001b[39;00m:\n\u001b[0;32m--> 162\u001b[0m     matches \u001b[38;5;241m=\u001b[39m \u001b[38;5;28;43mself\u001b[39;49m\u001b[38;5;241;43m.\u001b[39;49m\u001b[43mmatch\u001b[49m\u001b[43m(\u001b[49m\u001b[43mdoc\u001b[49m\u001b[43m)\u001b[49m\n\u001b[1;32m    163\u001b[0m     \u001b[38;5;28mself\u001b[39m\u001b[38;5;241m.\u001b[39mset_annotations(doc, matches)\n\u001b[1;32m    164\u001b[0m     \u001b[38;5;28;01mreturn\u001b[39;00m doc\n",
      "File \u001b[0;32m~/Library/Caches/pypoetry/virtualenvs/erkg-tutorials-graphgeeks-4I9UJMJy-py3.12/lib/python3.12/site-packages/spacy/pipeline/entityruler.py:169\u001b[0m, in \u001b[0;36mEntityRuler.match\u001b[0;34m(self, doc)\u001b[0m\n\u001b[1;32m    168\u001b[0m \u001b[38;5;28;01mdef\u001b[39;00m \u001b[38;5;21mmatch\u001b[39m(\u001b[38;5;28mself\u001b[39m, doc: Doc):\n\u001b[0;32m--> 169\u001b[0m     \u001b[38;5;28;43mself\u001b[39;49m\u001b[38;5;241;43m.\u001b[39;49m\u001b[43m_require_patterns\u001b[49m\u001b[43m(\u001b[49m\u001b[43m)\u001b[49m\n\u001b[1;32m    170\u001b[0m     \u001b[38;5;28;01mwith\u001b[39;00m warnings\u001b[38;5;241m.\u001b[39mcatch_warnings():\n\u001b[1;32m    171\u001b[0m         warnings\u001b[38;5;241m.\u001b[39mfilterwarnings(\u001b[38;5;124m\"\u001b[39m\u001b[38;5;124mignore\u001b[39m\u001b[38;5;124m\"\u001b[39m, message\u001b[38;5;241m=\u001b[39m\u001b[38;5;124m\"\u001b[39m\u001b[38;5;130;01m\\\\\u001b[39;00m\u001b[38;5;124m[W036\u001b[39m\u001b[38;5;124m\"\u001b[39m)\n",
      "File \u001b[0;32m~/Library/Caches/pypoetry/virtualenvs/erkg-tutorials-graphgeeks-4I9UJMJy-py3.12/lib/python3.12/site-packages/spacy/pipeline/entityruler.py:404\u001b[0m, in \u001b[0;36mEntityRuler._require_patterns\u001b[0;34m(self)\u001b[0m\n\u001b[1;32m    402\u001b[0m \u001b[38;5;28;01mdef\u001b[39;00m \u001b[38;5;21m_require_patterns\u001b[39m(\u001b[38;5;28mself\u001b[39m) \u001b[38;5;241m-\u001b[39m\u001b[38;5;241m>\u001b[39m \u001b[38;5;28;01mNone\u001b[39;00m:\n\u001b[1;32m    403\u001b[0m \u001b[38;5;250m    \u001b[39m\u001b[38;5;124;03m\"\"\"Raise a warning if this component has no patterns defined.\"\"\"\u001b[39;00m\n\u001b[0;32m--> 404\u001b[0m     \u001b[38;5;28;01mif\u001b[39;00m \u001b[38;5;28;43mlen\u001b[39;49m\u001b[43m(\u001b[49m\u001b[38;5;28;43mself\u001b[39;49m\u001b[43m)\u001b[49m \u001b[38;5;241m==\u001b[39m \u001b[38;5;241m0\u001b[39m:\n\u001b[1;32m    405\u001b[0m         warnings\u001b[38;5;241m.\u001b[39mwarn(Warnings\u001b[38;5;241m.\u001b[39mW036\u001b[38;5;241m.\u001b[39mformat(name\u001b[38;5;241m=\u001b[39m\u001b[38;5;28mself\u001b[39m\u001b[38;5;241m.\u001b[39mname))\n",
      "File \u001b[0;32m~/Library/Caches/pypoetry/virtualenvs/erkg-tutorials-graphgeeks-4I9UJMJy-py3.12/lib/python3.12/site-packages/spacy/pipeline/entityruler.py:145\u001b[0m, in \u001b[0;36mEntityRuler.__len__\u001b[0;34m(self)\u001b[0m\n\u001b[1;32m    143\u001b[0m \u001b[38;5;250m\u001b[39m\u001b[38;5;124;03m\"\"\"The number of all patterns added to the entity ruler.\"\"\"\u001b[39;00m\n\u001b[1;32m    144\u001b[0m n_token_patterns \u001b[38;5;241m=\u001b[39m \u001b[38;5;28msum\u001b[39m(\u001b[38;5;28mlen\u001b[39m(p) \u001b[38;5;28;01mfor\u001b[39;00m p \u001b[38;5;129;01min\u001b[39;00m \u001b[38;5;28mself\u001b[39m\u001b[38;5;241m.\u001b[39mtoken_patterns\u001b[38;5;241m.\u001b[39mvalues())\n\u001b[0;32m--> 145\u001b[0m n_phrase_patterns \u001b[38;5;241m=\u001b[39m \u001b[38;5;28;43msum\u001b[39;49m\u001b[43m(\u001b[49m\u001b[38;5;28;43mlen\u001b[39;49m\u001b[43m(\u001b[49m\u001b[43mp\u001b[49m\u001b[43m)\u001b[49m\u001b[43m \u001b[49m\u001b[38;5;28;43;01mfor\u001b[39;49;00m\u001b[43m \u001b[49m\u001b[43mp\u001b[49m\u001b[43m \u001b[49m\u001b[38;5;129;43;01min\u001b[39;49;00m\u001b[43m \u001b[49m\u001b[38;5;28;43mself\u001b[39;49m\u001b[38;5;241;43m.\u001b[39;49m\u001b[43mphrase_patterns\u001b[49m\u001b[38;5;241;43m.\u001b[39;49m\u001b[43mvalues\u001b[49m\u001b[43m(\u001b[49m\u001b[43m)\u001b[49m\u001b[43m)\u001b[49m\n\u001b[1;32m    146\u001b[0m \u001b[38;5;28;01mreturn\u001b[39;00m n_token_patterns \u001b[38;5;241m+\u001b[39m n_phrase_patterns\n",
      "File \u001b[0;32m~/Library/Caches/pypoetry/virtualenvs/erkg-tutorials-graphgeeks-4I9UJMJy-py3.12/lib/python3.12/site-packages/spacy/pipeline/entityruler.py:145\u001b[0m, in \u001b[0;36m<genexpr>\u001b[0;34m(.0)\u001b[0m\n\u001b[1;32m    143\u001b[0m \u001b[38;5;250m\u001b[39m\u001b[38;5;124;03m\"\"\"The number of all patterns added to the entity ruler.\"\"\"\u001b[39;00m\n\u001b[1;32m    144\u001b[0m n_token_patterns \u001b[38;5;241m=\u001b[39m \u001b[38;5;28msum\u001b[39m(\u001b[38;5;28mlen\u001b[39m(p) \u001b[38;5;28;01mfor\u001b[39;00m p \u001b[38;5;129;01min\u001b[39;00m \u001b[38;5;28mself\u001b[39m\u001b[38;5;241m.\u001b[39mtoken_patterns\u001b[38;5;241m.\u001b[39mvalues())\n\u001b[0;32m--> 145\u001b[0m n_phrase_patterns \u001b[38;5;241m=\u001b[39m \u001b[38;5;28msum\u001b[39m(\u001b[38;5;28mlen\u001b[39m(p) \u001b[38;5;28;01mfor\u001b[39;00m p \u001b[38;5;129;01min\u001b[39;00m \u001b[38;5;28mself\u001b[39m\u001b[38;5;241m.\u001b[39mphrase_patterns\u001b[38;5;241m.\u001b[39mvalues())\n\u001b[1;32m    146\u001b[0m \u001b[38;5;28;01mreturn\u001b[39;00m n_token_patterns \u001b[38;5;241m+\u001b[39m n_phrase_patterns\n",
      "\u001b[0;31mKeyboardInterrupt\u001b[0m: "
     ]
    }
   ],
   "source": [
    "[p for p in patterns if p['id'] in set(ent.ent_id_ for doc in nlp.pipe(docs) for ent in doc.ents)]"
   ]
  },
  {
   "cell_type": "code",
   "execution_count": 29,
   "id": "da1c8336-6e38-42b9-b0b4-ee65d8999816",
   "metadata": {
    "execution": {
     "iopub.execute_input": "2024-10-13T10:48:31.283553Z",
     "iopub.status.busy": "2024-10-13T10:48:31.281009Z",
     "iopub.status.idle": "2024-10-13T10:48:32.069009Z",
     "shell.execute_reply": "2024-10-13T10:48:32.068330Z",
     "shell.execute_reply.started": "2024-10-13T10:48:31.283461Z"
    }
   },
   "outputs": [],
   "source": [
    "matched_ids = set(p['id'] for p in patterns if p['pattern'] in matched)"
   ]
  },
  {
   "cell_type": "code",
   "execution_count": 33,
   "id": "8b5b3daa-11ec-457a-b59b-d5d0cd09a551",
   "metadata": {
    "execution": {
     "iopub.execute_input": "2024-10-13T10:48:59.121675Z",
     "iopub.status.busy": "2024-10-13T10:48:59.120576Z",
     "iopub.status.idle": "2024-10-13T10:48:59.377965Z",
     "shell.execute_reply": "2024-10-13T10:48:59.377550Z",
     "shell.execute_reply.started": "2024-10-13T10:48:59.121626Z"
    }
   },
   "outputs": [],
   "source": [
    "filtered_entities = {k: v for k, v in raw_entities.items() if str(k) in matched_ids}"
   ]
  },
  {
   "cell_type": "code",
   "execution_count": 37,
   "id": "4142a5b5-c481-48df-991e-8f607d774b38",
   "metadata": {
    "execution": {
     "iopub.execute_input": "2024-10-13T10:49:57.160692Z",
     "iopub.status.busy": "2024-10-13T10:49:57.160510Z",
     "iopub.status.idle": "2024-10-13T10:49:57.925411Z",
     "shell.execute_reply": "2024-10-13T10:49:57.925076Z",
     "shell.execute_reply.started": "2024-10-13T10:49:57.160678Z"
    }
   },
   "outputs": [],
   "source": [
    "filtered_aliases = [alias for alias in raw_aliases if str(alias[\"entity\"]) in matched_ids]"
   ]
  },
  {
   "cell_type": "code",
   "execution_count": 38,
   "id": "1d075792-b068-4789-9f65-51fb82f76a75",
   "metadata": {
    "execution": {
     "iopub.execute_input": "2024-10-13T10:49:58.325003Z",
     "iopub.status.busy": "2024-10-13T10:49:58.324806Z",
     "iopub.status.idle": "2024-10-13T10:49:58.344494Z",
     "shell.execute_reply": "2024-10-13T10:49:58.344061Z",
     "shell.execute_reply.started": "2024-10-13T10:49:58.324991Z"
    }
   },
   "outputs": [
    {
     "data": {
      "text/plain": [
       "[{'alias': 'Circle Trust Limited as Trustee of the Intrepid Settlement',\n",
       "  'entity': 1470056,\n",
       "  'type': 'ORG'},\n",
       " {'alias': 'Heydar Aliyev', 'entity': 918573, 'type': 'PER'},\n",
       " {'alias': 'LEYLA ILHAM QIZI ALIYEVA', 'entity': 1722271, 'type': 'PER'},\n",
       " {'alias': 'Arzu Aliyeva', 'entity': 281073, 'type': 'PER'},\n",
       " {'alias': 'Arzu Aliyeva', 'entity': 918573, 'type': 'PER'},\n",
       " {'alias': 'Arzu Aliyeva', 'entity': 1470056, 'type': 'PER'},\n",
       " {'alias': 'Arzu Aliyeva', 'entity': 1722271, 'type': 'PER'},\n",
       " {'alias': 'MOSSACK FONSECA & CO U K LIMITED',\n",
       "  'entity': 918573,\n",
       "  'type': 'ORG'},\n",
       " {'alias': 'Mehriban Aliyeva', 'entity': 918573, 'type': 'PER'},\n",
       " {'alias': 'Andrej Babis', 'entity': 565180, 'type': 'PER'},\n",
       " {'alias': 'Andrej Babis', 'entity': 609907, 'type': 'PER'},\n",
       " {'alias': 'Andrej Babis', 'entity': 960146, 'type': 'PER'},\n",
       " {'alias': 'Andrej Babis', 'entity': 1644643, 'type': 'PER'},\n",
       " {'alias': 'Leyla Aliyeva', 'entity': 918573, 'type': 'PER'},\n",
       " {'alias': 'Leyla Aliyeva', 'entity': 1470056, 'type': 'PER'},\n",
       " {'alias': 'Leyla Aliyeva', 'entity': 1722271, 'type': 'PER'},\n",
       " {'alias': 'Blakey Finance Ltd', 'entity': 609907, 'type': 'ORG'},\n",
       " {'alias': 'Blakey Finance Ltd', 'entity': 565180, 'type': 'ORG'},\n",
       " {'alias': 'Boyne Holding LLC', 'entity': 767041, 'type': 'ORG'},\n",
       " {'alias': 'Boyne Holding LLC', 'entity': 960146, 'type': 'ORG'},\n",
       " {'alias': 'ARZU ILHAM QIZI ALIYEVA', 'entity': 1722271, 'type': 'PER'},\n",
       " {'alias': 'UF UNIVERSE FOUNDATION', 'entity': 918573, 'type': 'ORG'},\n",
       " {'alias': 'UF UNIVERSE FOUNDATION', 'entity': 281073, 'type': 'ORG'},\n",
       " {'alias': 'Andrej Babis', 'entity': 960146, 'type': 'PER'},\n",
       " {'alias': 'Andrej Babis', 'entity': 565180, 'type': 'PER'},\n",
       " {'alias': 'Andrej Babis', 'entity': 767041, 'type': 'PER'},\n",
       " {'alias': 'CHILD & CHILD', 'entity': 1722271, 'type': 'ORG'},\n",
       " {'alias': 'Naqiz & Partners', 'entity': 1380470, 'type': 'ORG'},\n",
       " {'alias': 'Hassan Gozal', 'entity': 1380470, 'type': 'PER'},\n",
       " {'alias': 'Arbor Investments Limited', 'entity': 1380470, 'type': 'ORG'},\n",
       " {'alias': 'Arbor Investments Limited', 'entity': 1697384, 'type': 'ORG'},\n",
       " {'alias': 'KINGSVIEW DEVELOPMENTS LIMITED', 'entity': 1470056, 'type': 'ORG'},\n",
       " {'alias': 'KINGSVIEW DEVELOPMENTS LIMITED', 'entity': 281073, 'type': 'ORG'},\n",
       " {'alias': 'Andrej Babis', 'entity': 1644643, 'type': 'PER'},\n",
       " {'alias': 'Andrej Babis', 'entity': 565180, 'type': 'PER'},\n",
       " {'alias': 'Andrej Babis', 'entity': 1713032, 'type': 'PER'},\n",
       " {'alias': 'Ridzuan Salleh', 'entity': 1380470, 'type': 'PER'},\n",
       " {'alias': 'Arzu Aliyeva', 'entity': 1697384, 'type': 'PER'},\n",
       " {'alias': 'Arzu Aliyeva', 'entity': 1380470, 'type': 'PER'},\n",
       " {'alias': 'SCP Bigaud', 'entity': 1713032, 'type': 'ORG'},\n",
       " {'alias': 'SCP Bigaud', 'entity': 1644643, 'type': 'ORG'},\n",
       " {'alias': 'Exaltation Limited', 'entity': 1722271, 'type': 'ORG'},\n",
       " {'alias': 'Exaltation Limited', 'entity': 281073, 'type': 'ORG'}]"
      ]
     },
     "execution_count": 38,
     "metadata": {},
     "output_type": "execute_result"
    }
   ],
   "source": [
    "filtered_aliases"
   ]
  },
  {
   "cell_type": "code",
   "execution_count": 22,
   "id": "2b810ad8-71b8-49e0-bcb1-61ec85c36a67",
   "metadata": {
    "execution": {
     "iopub.execute_input": "2024-10-13T10:37:10.676246Z",
     "iopub.status.busy": "2024-10-13T10:37:10.675589Z",
     "iopub.status.idle": "2024-10-13T10:37:10.717659Z",
     "shell.execute_reply": "2024-10-13T10:37:10.717223Z",
     "shell.execute_reply.started": "2024-10-13T10:37:10.676214Z"
    }
   },
   "outputs": [
    {
     "data": {
      "text/plain": [
       "{<EntityFeature.ADDRESS: 'ADDRESS'>: 'MOSSACK FONSECA & CO. (U.K.) LIMITED INVISION HOUSE WILBURY WAY, HITCHIN HERTFORDSHIRE SG4 OTW UNITED KINGDOM',\n",
       " <EntityFeature.COUNTRY_OF_ASSOCIATION: 'COUNTRY_OF_ASSOCIATION'>: 'GBR',\n",
       " <EntityFeature.NAME: 'NAME'>: 'UF UNIVERSE FOUNDATION',\n",
       " <EntityFeature.RECORD_TYPE: 'RECORD_TYPE'>: 'ORGANIZATION',\n",
       " <EntityFeature.REL_ANCHOR: 'REL_ANCHOR'>: 'ICIJ_ID 10162180'}"
      ]
     },
     "execution_count": 22,
     "metadata": {},
     "output_type": "execute_result"
    }
   ],
   "source": [
    "raw_entities[918573]"
   ]
  },
  {
   "cell_type": "code",
   "execution_count": 20,
   "id": "a562a44a-2e43-4843-8d5c-66053b11d01d",
   "metadata": {
    "execution": {
     "iopub.execute_input": "2024-10-13T10:08:09.005187Z",
     "iopub.status.busy": "2024-10-13T10:08:09.003861Z",
     "iopub.status.idle": "2024-10-13T10:08:09.052877Z",
     "shell.execute_reply": "2024-10-13T10:08:09.052566Z",
     "shell.execute_reply.started": "2024-10-13T10:08:09.005127Z"
    }
   },
   "outputs": [
    {
     "data": {
      "text/plain": [
       "4949263"
      ]
     },
     "execution_count": 20,
     "metadata": {},
     "output_type": "execute_result"
    }
   ],
   "source": [
    "len(patterns)"
   ]
  },
  {
   "cell_type": "code",
   "execution_count": null,
   "id": "e5a59ef4-aebe-49ff-a993-e4b7925206d4",
   "metadata": {},
   "outputs": [],
   "source": []
  }
 ],
 "metadata": {
  "kernelspec": {
   "display_name": "Python 3 (ipykernel)",
   "language": "python",
   "name": "python3"
  },
  "language_info": {
   "codemirror_mode": {
    "name": "ipython",
    "version": 3
   },
   "file_extension": ".py",
   "mimetype": "text/x-python",
   "name": "python",
   "nbconvert_exporter": "python",
   "pygments_lexer": "ipython3",
   "version": "3.12.5"
  }
 },
 "nbformat": 4,
 "nbformat_minor": 5
}
