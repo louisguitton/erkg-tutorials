{
 "cells": [
  {
   "cell_type": "markdown",
   "id": "7c19b3ab-3c1c-4eaf-b1b3-0c42876480e7",
   "metadata": {},
   "source": [
    "## Generate summary text descriptions for each Senzing entity"
   ]
  },
  {
   "cell_type": "markdown",
   "id": "acca0b7a-694f-4ace-bf7c-a601004bb93f",
   "metadata": {},
   "source": [
    "load the dependencies"
   ]
  },
  {
   "cell_type": "code",
   "execution_count": 1,
   "id": "f162dcc0-eb0e-46b2-9cce-c09be83c6c00",
   "metadata": {
    "execution": {
     "iopub.execute_input": "2024-09-29T13:53:38.323378Z",
     "iopub.status.busy": "2024-09-29T13:53:38.323061Z",
     "iopub.status.idle": "2024-09-29T13:53:38.373076Z",
     "shell.execute_reply": "2024-09-29T13:53:38.372724Z",
     "shell.execute_reply.started": "2024-09-29T13:53:38.323352Z"
    }
   },
   "outputs": [],
   "source": [
    "import csv\n",
    "import json\n",
    "import pathlib\n",
    "import re\n",
    "import typing\n",
    "\n",
    "from icecream import ic\n",
    "import watermark\n",
    "\n",
    "%load_ext watermark"
   ]
  },
  {
   "cell_type": "code",
   "execution_count": 2,
   "id": "7c096cd0-a915-4987-9861-0f6d7e90abaa",
   "metadata": {
    "execution": {
     "iopub.execute_input": "2024-09-29T13:53:38.373649Z",
     "iopub.status.busy": "2024-09-29T13:53:38.373548Z",
     "iopub.status.idle": "2024-09-29T13:53:38.388566Z",
     "shell.execute_reply": "2024-09-29T13:53:38.387935Z",
     "shell.execute_reply.started": "2024-09-29T13:53:38.373638Z"
    }
   },
   "outputs": [
    {
     "name": "stdout",
     "output_type": "stream",
     "text": [
      "Last updated: 2024-09-29T15:53:38.374449+02:00\n",
      "\n",
      "Python implementation: CPython\n",
      "Python version       : 3.12.5\n",
      "IPython version      : 8.27.0\n",
      "\n",
      "Compiler    : Clang 16.0.0 (clang-1600.0.26.3)\n",
      "OS          : Darwin\n",
      "Release     : 23.5.0\n",
      "Machine     : arm64\n",
      "Processor   : arm\n",
      "CPU cores   : 10\n",
      "Architecture: 64bit\n",
      "\n",
      "json     : 2.0.9\n",
      "csv      : 1.0\n",
      "re       : 2.2.1\n",
      "watermark: 2.5.0\n",
      "\n"
     ]
    }
   ],
   "source": [
    "%watermark\n",
    "%watermark --iversions"
   ]
  },
  {
   "cell_type": "markdown",
   "id": "5e2721cf-6741-4ad2-b431-961019b36cb4",
   "metadata": {},
   "source": [
    "load the Senzing export JSON"
   ]
  },
  {
   "cell_type": "code",
   "execution_count": 3,
   "id": "fbe0b8b9-4fe2-4abe-b658-1b431825f64c",
   "metadata": {
    "execution": {
     "iopub.execute_input": "2024-09-29T13:53:38.392479Z",
     "iopub.status.busy": "2024-09-29T13:53:38.391689Z",
     "iopub.status.idle": "2024-09-29T13:53:38.399007Z",
     "shell.execute_reply": "2024-09-29T13:53:38.398434Z",
     "shell.execute_reply.started": "2024-09-29T13:53:38.392452Z"
    }
   },
   "outputs": [],
   "source": [
    "icij_path: pathlib.Path = pathlib.Path(\"data/ICIJ-entity-report-2024-06-21_12-04-57-std.json\")"
   ]
  },
  {
   "cell_type": "code",
   "execution_count": 4,
   "id": "93fba71c-055d-4f36-878c-01027467ec8a",
   "metadata": {
    "execution": {
     "iopub.execute_input": "2024-09-29T13:53:38.399938Z",
     "iopub.status.busy": "2024-09-29T13:53:38.399772Z",
     "iopub.status.idle": "2024-09-29T13:54:07.612464Z",
     "shell.execute_reply": "2024-09-29T13:54:07.612039Z",
     "shell.execute_reply.started": "2024-09-29T13:53:38.399927Z"
    }
   },
   "outputs": [],
   "source": [
    "ents: dict = {}\n",
    "\n",
    "with icij_path.open(encoding = \"utf-8\") as fp:\n",
    "    while line := fp.readline():\n",
    "        dat = json.loads(line.strip())\n",
    "        ent: dict = dat[\"RESOLVED_ENTITY\"]\n",
    "\n",
    "        ent_id: str = ent[\"ENTITY_ID\"]\n",
    "\n",
    "        features: dict = {\n",
    "            key: feature[0][\"FEAT_DESC\"]\n",
    "            for key, feature in ent[\"FEATURES\"].items()\n",
    "        }\n",
    "\n",
    "        ents[ent_id] = features"
   ]
  },
  {
   "cell_type": "markdown",
   "id": "715ddc56-ae73-4c4d-a3ca-8f690b4a701b",
   "metadata": {},
   "source": [
    "enumerate the features available on entities"
   ]
  },
  {
   "cell_type": "code",
   "execution_count": 5,
   "id": "2cf1e93c-f021-4eb2-94b9-cf75118db29e",
   "metadata": {
    "execution": {
     "iopub.execute_input": "2024-09-29T13:54:07.614884Z",
     "iopub.status.busy": "2024-09-29T13:54:07.614773Z",
     "iopub.status.idle": "2024-09-29T13:54:08.404368Z",
     "shell.execute_reply": "2024-09-29T13:54:08.403897Z",
     "shell.execute_reply.started": "2024-09-29T13:54:07.614874Z"
    }
   },
   "outputs": [
    {
     "data": {
      "text/plain": [
       "{'ADDRESS',\n",
       " 'COUNTRY_OF_ASSOCIATION',\n",
       " 'DOB',\n",
       " 'DUNS_NUMBER',\n",
       " 'GROUP_ASSOCIATION',\n",
       " 'NAME',\n",
       " 'PHONE',\n",
       " 'RECORD_TYPE',\n",
       " 'REL_ANCHOR',\n",
       " 'REL_POINTER',\n",
       " 'WEBSITE'}"
      ]
     },
     "execution_count": 5,
     "metadata": {},
     "output_type": "execute_result"
    }
   ],
   "source": [
    "feats: set = set()\n",
    "\n",
    "for ent_feat in ents.values():\n",
    "    feats |= ent_feat.keys()\n",
    "\n",
    "feats"
   ]
  },
  {
   "cell_type": "markdown",
   "id": "9f713360-8bd5-4d18-a40a-1768c0133a6e",
   "metadata": {},
   "source": [
    "load the country codes used within the ICIJ Offshore Leaks dataset"
   ]
  },
  {
   "cell_type": "code",
   "execution_count": 6,
   "id": "f82b8a10-975a-4805-8008-64a94830e70b",
   "metadata": {
    "execution": {
     "iopub.execute_input": "2024-09-29T13:54:08.405085Z",
     "iopub.status.busy": "2024-09-29T13:54:08.404979Z",
     "iopub.status.idle": "2024-09-29T13:54:08.409166Z",
     "shell.execute_reply": "2024-09-29T13:54:08.408647Z",
     "shell.execute_reply.started": "2024-09-29T13:54:08.405075Z"
    },
    "scrolled": true
   },
   "outputs": [],
   "source": [
    "COUNTRIES: dict = {}\n",
    "\n",
    "cc_file = \"data/senzing/country.tsv\"\n",
    "\n",
    "with open(cc_file, \"r\", encoding = \"utf-8\") as fp:\n",
    "    tsv_reader = csv.reader(fp, delimiter = \"\\t\")\n",
    "    next(tsv_reader, None)  # skip the header row\n",
    "    \n",
    "    COUNTRIES = {\n",
    "        row[0]: row[1]\n",
    "        for row in tsv_reader\n",
    "    }\n",
    "\n",
    "\n",
    "def get_country (\n",
    "    code: typing.Optional[ str ],\n",
    "    ) -> typing.Optional[ str ]:\n",
    "    \"\"\"\n",
    "Map from a country code to a full name.\n",
    "    \"\"\"\n",
    "    if code is None:\n",
    "        return None\n",
    "\n",
    "    return COUNTRIES.get(code.strip())"
   ]
  },
  {
   "cell_type": "markdown",
   "id": "66ced55c-5e98-42a4-8381-b8d588151d84",
   "metadata": {},
   "source": [
    "prepare to filter out anonymized names on bearer shares, e.g., \"The Bearer\""
   ]
  },
  {
   "cell_type": "code",
   "execution_count": 7,
   "id": "5984b5ea-30fb-4318-a7f1-fdce7321ef4f",
   "metadata": {
    "execution": {
     "iopub.execute_input": "2024-09-29T13:54:08.409984Z",
     "iopub.status.busy": "2024-09-29T13:54:08.409858Z",
     "iopub.status.idle": "2024-09-29T13:54:08.412966Z",
     "shell.execute_reply": "2024-09-29T13:54:08.412410Z",
     "shell.execute_reply.started": "2024-09-29T13:54:08.409973Z"
    }
   },
   "outputs": [],
   "source": [
    "PAT_LIST: typing.List[ str ] = [\n",
    "    r\"^\\-?(to\\s+)?([the]+\\s+)?bearer\\.?\\s?(\\d+)?(\\w)?$\",\n",
    "    r\"^.*bearer.*shares?$\",\n",
    "    r\"^the\\s+bearer\\s+\\([\\d\\,]+\\)$\",\n",
    "    r\"^[ae]l\\s+portador$\",\n",
    "    r\"^the\\s?bearer$\",\n",
    "    r\"^bearer\\s?warrant$\",\n",
    "    r\"^bearer\\s?shareholder$\",\n",
    "    r\"^the\\,\\s+bearer$\",\n",
    "    r\"^bearer\\s+\\(reedeem\\s+shares\\)$\",\n",
    "    r\"^the\\s+bearer\\s+\\(lost\\)$\",\n",
    "    r\"^bearer\\s+\\-\\s+[\\w]$\",\n",
    "    r\"^bearer\\s+\\\"\\w\\\"$\",\n",
    "    r\"^bearer\\s+[\\d\\-]+$\",\n",
    "    r\"^bearer\\s+no\\.\\s+\\d+$\",\n",
    "    r\"^the\\s+bearer\\s+at\\s+[\\d\\,]+$\",\n",
    "    r\"^nan$\",\n",
    "    r\"^[\\?]+$\",\n",
    "]\n",
    "\n",
    "\n",
    "def filter_bearer (\n",
    "    name: str,\n",
    "    ) -> bool:\n",
    "    \"\"\"\n",
    "These names are used to hide the identity of a company shareholder.\n",
    "    \"\"\"\n",
    "    name = str(name).lower()\n",
    "\n",
    "    for pat in PAT_LIST:\n",
    "        if re.search(pat, name) is not None:\n",
    "            return False\n",
    "\n",
    "    return True"
   ]
  },
  {
   "cell_type": "markdown",
   "id": "f9dfe63c-0b2a-4b89-8356-a20547e92b5f",
   "metadata": {},
   "source": [
    "generate a summary description for each entity in the Senzing export"
   ]
  },
  {
   "cell_type": "code",
   "execution_count": 9,
   "id": "ef733f92-e86f-450b-b4ba-da506b4df8e7",
   "metadata": {
    "execution": {
     "iopub.execute_input": "2024-09-29T13:54:47.411449Z",
     "iopub.status.busy": "2024-09-29T13:54:47.410701Z",
     "iopub.status.idle": "2024-09-29T13:54:58.228699Z",
     "shell.execute_reply": "2024-09-29T13:54:58.228348Z",
     "shell.execute_reply.started": "2024-09-29T13:54:47.411405Z"
    },
    "scrolled": true
   },
   "outputs": [],
   "source": [
    "summaries: dict = {}\n",
    "\n",
    "for ent_id, ent_feat in ents.items():\n",
    "    if \"NAME\" in ent_feat:\n",
    "        text: str = ent_feat.get(\"NAME\")\n",
    "        \n",
    "        if filter_bearer(text.strip()):\n",
    "            kind: str = ent_feat.get(\"RECORD_TYPE\")\n",
    "\n",
    "            if not kind:\n",
    "                continue\n",
    "\n",
    "            elif kind == \"ORGANIZATION\":\n",
    "                if \"ADDRESS\" in ent_feat:\n",
    "                    text += \", located at \" + ent_feat.get(\"ADDRESS\")\n",
    "\n",
    "                if \"DUNS_NUMBER\" in ent_feat:\n",
    "                    text += \", DUNS \" + ent_feat.get(\"DUNS_NUMBER\")\n",
    "\n",
    "                if \"PHONE\" in ent_feat:\n",
    "                    text += \", phone \" + ent_feat.get(\"PHONE\")\n",
    "\n",
    "                if \"COUNTRY_OF_ASSOCIATION\" in ent_feat:\n",
    "                    country: typing.Optional[ str ] = get_country(ent_feat.get(\"COUNTRY_OF_ASSOCIATION\"))\n",
    "\n",
    "                    if country is not None:\n",
    "                        text += \", in \" + country\n",
    "\n",
    "                if \"WEBSITE\" in ent_feat:\n",
    "                    text += \", website \" + ent_feat.get(\"WEBSITE\")\n",
    "\n",
    "                summaries[ent_id] = text\n",
    "\n",
    "            elif kind == \"PERSON\":\n",
    "                if \"DOB\" in ent_feat:\n",
    "                    text += \", born \" + ent_feat.get(\"DOB\")\n",
    "\n",
    "                if \"PHONE\" in ent_feat:\n",
    "                    text += \", phone \" + ent_feat.get(\"PHONE\")\n",
    "\n",
    "                if \"ADDRESS\" in ent_feat:\n",
    "                    text += \", located at \" + ent_feat.get(\"ADDRESS\")\n",
    "\n",
    "                if \"GROUP_ASSOCIATION\" in ent_feat:\n",
    "                    text += \", associated with \" + ent_feat.get(\"GROUP_ASSOCIATION\")\n",
    "\n",
    "                if \"COUNTRY_OF_ASSOCIATION\" in ent_feat:\n",
    "                    country: typing.Optional[ str ] = get_country(ent_feat.get(\"COUNTRY_OF_ASSOCIATION\"))\n",
    "\n",
    "                    if country is not None:\n",
    "                        text += \" in \" + country\n",
    "\n",
    "                summaries[ent_id] = text\n",
    "\n",
    "            else:\n",
    "                print(f\"New entity type: {kind}\")"
   ]
  },
  {
   "cell_type": "code",
   "execution_count": 10,
   "id": "e57c8aed-192a-4792-a0cf-1cb12dbbf7b8",
   "metadata": {
    "execution": {
     "iopub.execute_input": "2024-09-29T13:55:21.740950Z",
     "iopub.status.busy": "2024-09-29T13:55:21.740264Z",
     "iopub.status.idle": "2024-09-29T13:55:24.382808Z",
     "shell.execute_reply": "2024-09-29T13:55:24.382473Z",
     "shell.execute_reply.started": "2024-09-29T13:55:21.740916Z"
    },
    "scrolled": true
   },
   "outputs": [],
   "source": [
    "summ_path: pathlib.Path = pathlib.Path(\"data/senzing/summaries.tsv\")\n",
    "\n",
    "with open(summ_path, \"w\", encoding = \"utf-8\") as fp:\n",
    "    writer = csv.writer(fp, delimiter = \"\\t\", lineterminator = \"\\n\")\n",
    "    writer.writerow([ \"sz_ent_id\", \"summary\" ])\n",
    "    \n",
    "    for ent_id, summary in summaries.items():\n",
    "        writer.writerow([ ent_id, summary ])"
   ]
  },
  {
   "cell_type": "code",
   "execution_count": null,
   "id": "5680a409-792e-4a68-a50b-d264c8cc02c1",
   "metadata": {},
   "outputs": [],
   "source": []
  }
 ],
 "metadata": {
  "kernelspec": {
   "display_name": "Python 3 (ipykernel)",
   "language": "python",
   "name": "python3"
  },
  "language_info": {
   "codemirror_mode": {
    "name": "ipython",
    "version": 3
   },
   "file_extension": ".py",
   "mimetype": "text/x-python",
   "name": "python",
   "nbconvert_exporter": "python",
   "pygments_lexer": "ipython3",
   "version": "3.12.5"
  }
 },
 "nbformat": 4,
 "nbformat_minor": 5
}
